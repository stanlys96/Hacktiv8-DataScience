{
 "cells": [
  {
   "cell_type": "code",
   "execution_count": 2,
   "metadata": {},
   "outputs": [
    {
     "data": {
      "text/html": [
       "<div>\n",
       "<style scoped>\n",
       "    .dataframe tbody tr th:only-of-type {\n",
       "        vertical-align: middle;\n",
       "    }\n",
       "\n",
       "    .dataframe tbody tr th {\n",
       "        vertical-align: top;\n",
       "    }\n",
       "\n",
       "    .dataframe thead th {\n",
       "        text-align: right;\n",
       "    }\n",
       "</style>\n",
       "<table border=\"1\" class=\"dataframe\">\n",
       "  <thead>\n",
       "    <tr style=\"text-align: right;\">\n",
       "      <th></th>\n",
       "      <th>Order_ID</th>\n",
       "      <th>Customer_Name</th>\n",
       "      <th>Product</th>\n",
       "      <th>Quantity</th>\n",
       "      <th>Price</th>\n",
       "    </tr>\n",
       "  </thead>\n",
       "  <tbody>\n",
       "    <tr>\n",
       "      <th>0</th>\n",
       "      <td>101</td>\n",
       "      <td>Alice</td>\n",
       "      <td>Laptop</td>\n",
       "      <td>1.0</td>\n",
       "      <td>1000.0</td>\n",
       "    </tr>\n",
       "    <tr>\n",
       "      <th>1</th>\n",
       "      <td>102</td>\n",
       "      <td>Bob</td>\n",
       "      <td>Keyboard</td>\n",
       "      <td>2.0</td>\n",
       "      <td>500.0</td>\n",
       "    </tr>\n",
       "    <tr>\n",
       "      <th>2</th>\n",
       "      <td>103</td>\n",
       "      <td>Charlie</td>\n",
       "      <td>Monitor</td>\n",
       "      <td>NaN</td>\n",
       "      <td>NaN</td>\n",
       "    </tr>\n",
       "    <tr>\n",
       "      <th>3</th>\n",
       "      <td>104</td>\n",
       "      <td>None</td>\n",
       "      <td>Mouse</td>\n",
       "      <td>4.0</td>\n",
       "      <td>200.0</td>\n",
       "    </tr>\n",
       "    <tr>\n",
       "      <th>4</th>\n",
       "      <td>105</td>\n",
       "      <td>Eve</td>\n",
       "      <td>None</td>\n",
       "      <td>5.0</td>\n",
       "      <td>300.0</td>\n",
       "    </tr>\n",
       "  </tbody>\n",
       "</table>\n",
       "</div>"
      ],
      "text/plain": [
       "   Order_ID Customer_Name   Product  Quantity   Price\n",
       "0       101         Alice    Laptop       1.0  1000.0\n",
       "1       102           Bob  Keyboard       2.0   500.0\n",
       "2       103       Charlie   Monitor       NaN     NaN\n",
       "3       104          None     Mouse       4.0   200.0\n",
       "4       105           Eve      None       5.0   300.0"
      ]
     },
     "execution_count": 2,
     "metadata": {},
     "output_type": "execute_result"
    }
   ],
   "source": [
    "import pandas as pd\n",
    "import numpy as np\n",
    "df = pd.DataFrame({\n",
    "                  'Order_ID': [101, 102, 103, 104, 105],\n",
    "                  'Customer_Name': ['Alice', 'Bob', 'Charlie', None, 'Eve'],\n",
    "                  'Product': ['Laptop', 'Keyboard', 'Monitor', 'Mouse', None],\n",
    "                  'Quantity': [1, 2, np.nan, 4, 5],\n",
    "                  'Price': [1000, 500, np.nan, 200, 300]\n",
    "              })\n",
    "\n",
    "df"
   ]
  },
  {
   "cell_type": "code",
   "execution_count": 4,
   "metadata": {},
   "outputs": [
    {
     "data": {
      "text/plain": [
       "Order_ID         0\n",
       "Customer_Name    1\n",
       "Product          1\n",
       "Quantity         1\n",
       "Price            1\n",
       "dtype: int64"
      ]
     },
     "execution_count": 4,
     "metadata": {},
     "output_type": "execute_result"
    }
   ],
   "source": [
    "df.isnull()\n",
    "df.isnull().sum()"
   ]
  },
  {
   "cell_type": "code",
   "execution_count": 9,
   "metadata": {},
   "outputs": [
    {
     "data": {
      "text/html": [
       "<div>\n",
       "<style scoped>\n",
       "    .dataframe tbody tr th:only-of-type {\n",
       "        vertical-align: middle;\n",
       "    }\n",
       "\n",
       "    .dataframe tbody tr th {\n",
       "        vertical-align: top;\n",
       "    }\n",
       "\n",
       "    .dataframe thead th {\n",
       "        text-align: right;\n",
       "    }\n",
       "</style>\n",
       "<table border=\"1\" class=\"dataframe\">\n",
       "  <thead>\n",
       "    <tr style=\"text-align: right;\">\n",
       "      <th></th>\n",
       "      <th>Order_ID</th>\n",
       "      <th>Product</th>\n",
       "      <th>Quantity</th>\n",
       "      <th>Price</th>\n",
       "    </tr>\n",
       "  </thead>\n",
       "  <tbody>\n",
       "    <tr>\n",
       "      <th>0</th>\n",
       "      <td>101</td>\n",
       "      <td>Laptop</td>\n",
       "      <td>1.0</td>\n",
       "      <td>1000.0</td>\n",
       "    </tr>\n",
       "    <tr>\n",
       "      <th>1</th>\n",
       "      <td>102</td>\n",
       "      <td>Keyboard</td>\n",
       "      <td>2.0</td>\n",
       "      <td>500.0</td>\n",
       "    </tr>\n",
       "    <tr>\n",
       "      <th>2</th>\n",
       "      <td>103</td>\n",
       "      <td>Monitor</td>\n",
       "      <td>NaN</td>\n",
       "      <td>NaN</td>\n",
       "    </tr>\n",
       "    <tr>\n",
       "      <th>3</th>\n",
       "      <td>104</td>\n",
       "      <td>Mouse</td>\n",
       "      <td>4.0</td>\n",
       "      <td>200.0</td>\n",
       "    </tr>\n",
       "    <tr>\n",
       "      <th>4</th>\n",
       "      <td>105</td>\n",
       "      <td>None</td>\n",
       "      <td>5.0</td>\n",
       "      <td>300.0</td>\n",
       "    </tr>\n",
       "  </tbody>\n",
       "</table>\n",
       "</div>"
      ],
      "text/plain": [
       "   Order_ID   Product  Quantity   Price\n",
       "0       101    Laptop       1.0  1000.0\n",
       "1       102  Keyboard       2.0   500.0\n",
       "2       103   Monitor       NaN     NaN\n",
       "3       104     Mouse       4.0   200.0\n",
       "4       105      None       5.0   300.0"
      ]
     },
     "execution_count": 9,
     "metadata": {},
     "output_type": "execute_result"
    }
   ],
   "source": [
    "df.dropna()\n",
    "df.dropna(axis=1)\n",
    "df.drop(columns=\"Customer_Name\")"
   ]
  },
  {
   "cell_type": "code",
   "execution_count": 13,
   "metadata": {},
   "outputs": [
    {
     "data": {
      "text/plain": [
       "0    1.0\n",
       "1    2.0\n",
       "2    4.0\n",
       "3    4.0\n",
       "4    5.0\n",
       "Name: Quantity, dtype: float64"
      ]
     },
     "execution_count": 13,
     "metadata": {},
     "output_type": "execute_result"
    }
   ],
   "source": [
    "df.fillna(5)\n",
    "df[\"Quantity\"].fillna(df[\"Quantity\"].mean())\n",
    "df[\"Quantity\"].ffill()\n",
    "df[\"Quantity\"].bfill()"
   ]
  },
  {
   "cell_type": "code",
   "execution_count": 14,
   "metadata": {},
   "outputs": [
    {
     "data": {
      "text/plain": [
       "0    1.0\n",
       "1    2.0\n",
       "2    3.0\n",
       "3    4.0\n",
       "4    5.0\n",
       "Name: Quantity, dtype: float64"
      ]
     },
     "execution_count": 14,
     "metadata": {},
     "output_type": "execute_result"
    }
   ],
   "source": [
    "df[\"Quantity\"].interpolate()"
   ]
  },
  {
   "cell_type": "code",
   "execution_count": 16,
   "metadata": {},
   "outputs": [
    {
     "data": {
      "text/html": [
       "<div>\n",
       "<style scoped>\n",
       "    .dataframe tbody tr th:only-of-type {\n",
       "        vertical-align: middle;\n",
       "    }\n",
       "\n",
       "    .dataframe tbody tr th {\n",
       "        vertical-align: top;\n",
       "    }\n",
       "\n",
       "    .dataframe thead th {\n",
       "        text-align: right;\n",
       "    }\n",
       "</style>\n",
       "<table border=\"1\" class=\"dataframe\">\n",
       "  <thead>\n",
       "    <tr style=\"text-align: right;\">\n",
       "      <th></th>\n",
       "      <th>Order_ID</th>\n",
       "      <th>Customer_Name</th>\n",
       "      <th>Product</th>\n",
       "      <th>Quantity</th>\n",
       "      <th>Price</th>\n",
       "    </tr>\n",
       "  </thead>\n",
       "  <tbody>\n",
       "    <tr>\n",
       "      <th>0</th>\n",
       "      <td>101</td>\n",
       "      <td>Alice</td>\n",
       "      <td>Laptop</td>\n",
       "      <td>1.0</td>\n",
       "      <td>1000.0</td>\n",
       "    </tr>\n",
       "    <tr>\n",
       "      <th>1</th>\n",
       "      <td>102</td>\n",
       "      <td>Bob</td>\n",
       "      <td>Keyboard</td>\n",
       "      <td>2.0</td>\n",
       "      <td>500.0</td>\n",
       "    </tr>\n",
       "    <tr>\n",
       "      <th>2</th>\n",
       "      <td>103</td>\n",
       "      <td>Charlie</td>\n",
       "      <td>Monitor</td>\n",
       "      <td>NaN</td>\n",
       "      <td>NaN</td>\n",
       "    </tr>\n",
       "    <tr>\n",
       "      <th>3</th>\n",
       "      <td>104</td>\n",
       "      <td>None</td>\n",
       "      <td>Mouse</td>\n",
       "      <td>4.0</td>\n",
       "      <td>200.0</td>\n",
       "    </tr>\n",
       "    <tr>\n",
       "      <th>4</th>\n",
       "      <td>105</td>\n",
       "      <td>Eve</td>\n",
       "      <td>None</td>\n",
       "      <td>5.0</td>\n",
       "      <td>300.0</td>\n",
       "    </tr>\n",
       "  </tbody>\n",
       "</table>\n",
       "</div>"
      ],
      "text/plain": [
       "   Order_ID Customer_Name   Product  Quantity   Price\n",
       "0       101         Alice    Laptop       1.0  1000.0\n",
       "1       102           Bob  Keyboard       2.0   500.0\n",
       "2       103       Charlie   Monitor       NaN     NaN\n",
       "3       104          None     Mouse       4.0   200.0\n",
       "4       105           Eve      None       5.0   300.0"
      ]
     },
     "execution_count": 16,
     "metadata": {},
     "output_type": "execute_result"
    }
   ],
   "source": [
    "df"
   ]
  },
  {
   "cell_type": "code",
   "execution_count": 19,
   "metadata": {},
   "outputs": [
    {
     "data": {
      "text/html": [
       "<div>\n",
       "<style scoped>\n",
       "    .dataframe tbody tr th:only-of-type {\n",
       "        vertical-align: middle;\n",
       "    }\n",
       "\n",
       "    .dataframe tbody tr th {\n",
       "        vertical-align: top;\n",
       "    }\n",
       "\n",
       "    .dataframe thead th {\n",
       "        text-align: right;\n",
       "    }\n",
       "</style>\n",
       "<table border=\"1\" class=\"dataframe\">\n",
       "  <thead>\n",
       "    <tr style=\"text-align: right;\">\n",
       "      <th></th>\n",
       "      <th>Order_ID</th>\n",
       "      <th>Customer_Name</th>\n",
       "      <th>Product</th>\n",
       "      <th>Quantity</th>\n",
       "      <th>Price</th>\n",
       "    </tr>\n",
       "  </thead>\n",
       "  <tbody>\n",
       "    <tr>\n",
       "      <th>0</th>\n",
       "      <td>101</td>\n",
       "      <td>Alice</td>\n",
       "      <td>Laptop</td>\n",
       "      <td>1.0</td>\n",
       "      <td>1000.0</td>\n",
       "    </tr>\n",
       "    <tr>\n",
       "      <th>1</th>\n",
       "      <td>102</td>\n",
       "      <td>Bob</td>\n",
       "      <td>Keyboard</td>\n",
       "      <td>2.0</td>\n",
       "      <td>500.0</td>\n",
       "    </tr>\n",
       "    <tr>\n",
       "      <th>2</th>\n",
       "      <td>103</td>\n",
       "      <td>Charlie</td>\n",
       "      <td>Monitor</td>\n",
       "      <td>NaN</td>\n",
       "      <td>NaN</td>\n",
       "    </tr>\n",
       "    <tr>\n",
       "      <th>3</th>\n",
       "      <td>104</td>\n",
       "      <td>None</td>\n",
       "      <td>Mouse</td>\n",
       "      <td>4.0</td>\n",
       "      <td>200.0</td>\n",
       "    </tr>\n",
       "    <tr>\n",
       "      <th>4</th>\n",
       "      <td>105</td>\n",
       "      <td>Eve</td>\n",
       "      <td>None</td>\n",
       "      <td>5.0</td>\n",
       "      <td>300.0</td>\n",
       "    </tr>\n",
       "  </tbody>\n",
       "</table>\n",
       "</div>"
      ],
      "text/plain": [
       "   Order_ID Customer_Name   Product  Quantity   Price\n",
       "0       101         Alice    Laptop       1.0  1000.0\n",
       "1       102           Bob  Keyboard       2.0   500.0\n",
       "2       103       Charlie   Monitor       NaN     NaN\n",
       "3       104          None     Mouse       4.0   200.0\n",
       "4       105           Eve      None       5.0   300.0"
      ]
     },
     "execution_count": 19,
     "metadata": {},
     "output_type": "execute_result"
    }
   ],
   "source": [
    "df2 = pd.read_csv(\"https://raw.githubusercontent.com/FTDS-learning-materials/phase-0/main/src/teams.csv\")\n",
    "df2.duplicated().sum()\n",
    "df"
   ]
  },
  {
   "cell_type": "code",
   "execution_count": 29,
   "metadata": {},
   "outputs": [
    {
     "data": {
      "text/html": [
       "<div>\n",
       "<style scoped>\n",
       "    .dataframe tbody tr th:only-of-type {\n",
       "        vertical-align: middle;\n",
       "    }\n",
       "\n",
       "    .dataframe tbody tr th {\n",
       "        vertical-align: top;\n",
       "    }\n",
       "\n",
       "    .dataframe thead th {\n",
       "        text-align: right;\n",
       "    }\n",
       "</style>\n",
       "<table border=\"1\" class=\"dataframe\">\n",
       "  <thead>\n",
       "    <tr style=\"text-align: right;\">\n",
       "      <th></th>\n",
       "      <th>Order_ID</th>\n",
       "      <th>Customer_Name</th>\n",
       "      <th>Product</th>\n",
       "      <th>Quantity</th>\n",
       "      <th>Price</th>\n",
       "    </tr>\n",
       "  </thead>\n",
       "  <tbody>\n",
       "    <tr>\n",
       "      <th>0</th>\n",
       "      <td>101</td>\n",
       "      <td>Alice</td>\n",
       "      <td>Laptop</td>\n",
       "      <td>1</td>\n",
       "      <td>1000</td>\n",
       "    </tr>\n",
       "    <tr>\n",
       "      <th>1</th>\n",
       "      <td>102</td>\n",
       "      <td>Bob</td>\n",
       "      <td>Keyboard</td>\n",
       "      <td>2</td>\n",
       "      <td>500</td>\n",
       "    </tr>\n",
       "  </tbody>\n",
       "</table>\n",
       "</div>"
      ],
      "text/plain": [
       "   Order_ID Customer_Name   Product  Quantity  Price\n",
       "0       101         Alice    Laptop         1   1000\n",
       "1       102           Bob  Keyboard         2    500"
      ]
     },
     "execution_count": 29,
     "metadata": {},
     "output_type": "execute_result"
    }
   ],
   "source": [
    "df3 = pd.DataFrame({\n",
    "    'Order_ID': [101, 102, 103, 103, 105],\n",
    "    'Customer_Name': ['Alice', 'Bob', 'Charlie', 'Charlie', 'Eve'],\n",
    "    'Product': ['Laptop', 'Keyboard', 'Monitor', 'Monitor', 'Mouse'],\n",
    "    'Quantity': [1, 2, 4, 4, 5],\n",
    "    'Price': [1000, 500, 200, 200, 300]\n",
    "})\n",
    "df3.duplicated()\n",
    "df3.drop_duplicates(keep=\"first\")\n",
    "df3.drop_duplicates(keep=\"last\")\n",
    "df3.drop_duplicates(keep=False)\n",
    "df3.drop_duplicates(keep=False, ignore_index=True)\n",
    "df4 = pd.DataFrame({\n",
    "    'Order_ID': [101, 102, 103, 103, 105],\n",
    "    'Customer_Name': ['Alice', 'Bob', 'Charlie', 'Charlie', 'Eve'],\n",
    "    'Product': ['Laptop', 'Keyboard', 'Monitor', 'Monitor', 'Mouse'],\n",
    "    'Quantity': [1, 2, 1, 1, 1],\n",
    "    'Price': [1000, 500, 200, 200, 300]\n",
    "})\n",
    "\n",
    "df4.drop_duplicates(subset=\"Quantity\")"
   ]
  },
  {
   "cell_type": "code",
   "execution_count": 36,
   "metadata": {},
   "outputs": [
    {
     "data": {
      "text/plain": [
       "Order_ID          int64\n",
       "Customer_Name    object\n",
       "Product          object\n",
       "Quantity          int64\n",
       "Price             int64\n",
       "dtype: object"
      ]
     },
     "execution_count": 36,
     "metadata": {},
     "output_type": "execute_result"
    }
   ],
   "source": [
    "df5 = pd.DataFrame({\n",
    "    'Order_ID': [101, 102, 103, 103, 105],\n",
    "    'Customer_Name': ['Alice', 'Bob', 'Charlie', 'Charlie', 'Eve'],\n",
    "    'Product': ['Laptop', 'Keyboard', 'Monitor', 'Monitor', 'Mouse'],\n",
    "    'Quantity': [1, 2, 4, 4, 5],\n",
    "    'Price': [\"$1000\", \"$500-\", \"$200+\", \"$200\", \"$300\"]\n",
    "})\n",
    "\n",
    "df5[\"Price\"] = df5[\"Price\"].str.replace(\"$\", \"\")\n",
    "df5[\"Price\"] = df5[\"Price\"].str.replace(\"+\", \"\")\n",
    "df5[\"Price\"] = df5[\"Price\"].str.replace(\"-\", \"\")\n",
    "df5[\"Price\"] = df5[\"Price\"].astype(int)\n",
    "df5.dtypes"
   ]
  },
  {
   "cell_type": "code",
   "execution_count": 52,
   "metadata": {},
   "outputs": [
    {
     "name": "stdout",
     "output_type": "stream",
     "text": [
      "   Order_ID Customer_Name              Product  Quantity  Price\n",
      "0       101         Alice           Laptop             1  $1000\n",
      "1       102           Bob     Keyboard                 2  $500-\n",
      "2       103       Charlie           Monitor            4  $200+\n",
      "3       103       Charlie            Monitor           4   $200\n",
      "4       105           Eve           Mouse              5   $300\n"
     ]
    },
    {
     "data": {
      "text/plain": [
       "0             Laptop    \n",
       "1       Keyboard        \n",
       "2             Monitor   \n",
       "3              Monitor  \n",
       "4             Mouse     \n",
       "Name: Product, dtype: object"
      ]
     },
     "execution_count": 52,
     "metadata": {},
     "output_type": "execute_result"
    }
   ],
   "source": [
    "df6 = pd.DataFrame({\n",
    "    'Order_ID': [101, 102, 103, 103, 105],\n",
    "    'Customer_Name': ['Alice', 'Bob', 'Charlie', 'Charlie', 'Eve'],\n",
    "    'Product': ['     Laptop    ', '   Keyboard        ', '   Monitor   ', '  Monitor  ', '      Mouse     '],\n",
    "    'Quantity': [1, 2, 4, 4, 5],\n",
    "    'Price': [\"$1000\", \"$500-\", \"$200+\", \"$200\", \"$300\"]\n",
    "})\n",
    "\n",
    "print(df6)\n",
    "df6[\"Product\"].str.strip()\n",
    "df6[\"Product\"].str.title()\n",
    "df6[\"Product\"].str.lower()\n",
    "df6[\"Product\"].str.upper()"
   ]
  },
  {
   "cell_type": "code",
   "execution_count": 63,
   "metadata": {},
   "outputs": [
    {
     "data": {
      "text/plain": [
       "'Laptop'"
      ]
     },
     "execution_count": 63,
     "metadata": {},
     "output_type": "execute_result"
    }
   ],
   "source": [
    "df7 = pd.DataFrame({\n",
    "    'Order_ID': [101, 102, 103, 103, 105],\n",
    "    'Customer_Name': ['Alice', 'Bob', 'Charlie', 'Charlie', 'Eve'],\n",
    "    'Product': ['Laptop,Mousepad', 'Keyboard', 'Monitor', 'Monitor', ' Mouse'],\n",
    "    'Quantity': [1, 2, 4, 4, 5],\n",
    "    'Price': [\"$1000\", \"$500-\", \"$200+\", \"$200\", \"$300\"]\n",
    "})\n",
    "\n",
    "df8 = df7.copy()\n",
    "\n",
    "df8[\"Product\"] = df7[\"Product\"].str.split(\",\")\n",
    "df8.iloc[0][\"Product\"]"
   ]
  },
  {
   "cell_type": "code",
   "execution_count": 66,
   "metadata": {},
   "outputs": [
    {
     "name": "stdout",
     "output_type": "stream",
     "text": [
      "<class 'pandas.core.frame.DataFrame'>\n",
      "RangeIndex: 5 entries, 0 to 4\n",
      "Data columns (total 6 columns):\n",
      " #   Column         Non-Null Count  Dtype         \n",
      "---  ------         --------------  -----         \n",
      " 0   Order_ID       5 non-null      int64         \n",
      " 1   Customer_Name  5 non-null      object        \n",
      " 2   Product        5 non-null      object        \n",
      " 3   Quantity       5 non-null      int64         \n",
      " 4   Price          5 non-null      object        \n",
      " 5   Order_date     5 non-null      datetime64[ns]\n",
      "dtypes: datetime64[ns](1), int64(2), object(3)\n",
      "memory usage: 372.0+ bytes\n"
     ]
    },
    {
     "data": {
      "text/plain": [
       "0    2024\n",
       "1    2024\n",
       "2    2024\n",
       "3    2024\n",
       "4    2024\n",
       "Name: Order_date, dtype: int32"
      ]
     },
     "execution_count": 66,
     "metadata": {},
     "output_type": "execute_result"
    }
   ],
   "source": [
    "df9 = pd.DataFrame({\n",
    "    'Order_ID': [101, 102, 103, 103, 105],\n",
    "    'Customer_Name': ['Alice', 'Bob', 'Charlie', 'Charlie', 'Eve'],\n",
    "    'Product': ['Laptop,Mousepad', 'Keyboard', 'Monitor', 'Monitor', ' Mouse'],\n",
    "    'Quantity': [1, 2, 4, 4, 5],\n",
    "    'Price': [\"$1000\", \"$500-\", \"$200+\", \"$200\", \"$300\"],\n",
    "    'Order_date': ['2024-01-01', '2024-02-20', '2024-02-15', '2024-01-16', '2024-03-30']\n",
    "})\n",
    "\n",
    "df9[\"Order_date\"] = pd.to_datetime(df9[\"Order_date\"])\n",
    "df9.info()\n",
    "df9[\"Order_date\"].dt.year"
   ]
  }
 ],
 "metadata": {
  "kernelspec": {
   "display_name": "base",
   "language": "python",
   "name": "python3"
  },
  "language_info": {
   "codemirror_mode": {
    "name": "ipython",
    "version": 3
   },
   "file_extension": ".py",
   "mimetype": "text/x-python",
   "name": "python",
   "nbconvert_exporter": "python",
   "pygments_lexer": "ipython3",
   "version": "3.12.2"
  }
 },
 "nbformat": 4,
 "nbformat_minor": 2
}
