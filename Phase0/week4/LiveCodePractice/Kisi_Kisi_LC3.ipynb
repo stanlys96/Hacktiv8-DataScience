{
  "nbformat": 4,
  "nbformat_minor": 0,
  "metadata": {
    "colab": {
      "provenance": []
    },
    "kernelspec": {
      "name": "python3",
      "display_name": "Python 3"
    },
    "language_info": {
      "name": "python"
    }
  },
  "cells": [
    {
      "cell_type": "markdown",
      "source": [
        "Perusahaan peminjaman sepeda di San Fransisco memintamu untuk menganalisa durasi perjalanan customer mereka. Untuk memudahkan analisa, lakukan hal-hal berikut ini:\n",
        "\n",
        "## **STATISTIK DESKRIPTIF**\n",
        "\n",
        "1. Lakukan perhitungan central tendency (mean, median, dan modus).\n",
        "2. Lakukan pengecekan dispersi (standar deviasi, variance, dan range).\n",
        "3. Lakukan pengecekan skewness dan kurtosis.\n",
        "3. Analisa apakah ada data outlier berdasarkan sebaran datanya.\n",
        "4. Cari tahu berapa persentase outlier terhadap data keseluruhan.\n",
        "5. Bagaimana perubahan pemusatan data sebelum dan sesudah penghapusan outlier?\n",
        "\n",
        "## **API**\n",
        "\n",
        "Buatlah API untuk:\n",
        "- `Menampilkan` seluruh entry data setelah dilakukan handling outlier.\n",
        "- `Menghapus` entry data, dari data yang telah dihandling outlier.\n",
        "\n",
        "clue:\n",
        "- Load data csv yang sudah diolah dengan pandas, kemudian konversi data ke dictionary `df.to_dict()` atau json `df.to_json()` untuk dapat diolah lebih lanjut dengan API menggunakan FastAPI.\n",
        "- Pembuatan API dilakukan pada script `.py`\n",
        "- Endpoint dan penamaan function pada API dibebaskan.\n",
        "\n",
        "\n",
        "---\n",
        "\n",
        "\n",
        "\n",
        "Data dapat diakses dari BigQuery dengan ketentuan:\n",
        "\n",
        "- Project_id: `bigquery-public-data`\n",
        "- Dataset: `san_francisco_bikeshare`\n",
        "- Table: `bikeshare_trips`\n",
        "- Ambil hanya kolom `duration_sec` saja\n",
        "- Berikan LIMIT pada data yang diambil sebesar 3000 entry data\n",
        "\n",
        "Koneksikan data di atas menggunakan `BigQuery` ke Google Colab dengan code berikut:\n",
        "```py\n",
        "from google.colab import auth\n",
        "from google.cloud import bigquery\n",
        "auth.authenticate_user()\n",
        "print('Authenticated')\n",
        "\n",
        "  project_id = \"rock-wonder-317907\" #GUNAKAN GCP PROJECT-ID KALIAN MASING-MASING\n",
        "client = bigquery.Client(project=project_id)\n",
        "```\n",
        "\n",
        "Untuk melakukan Query menggunakan cara ini, kamu dapat menggunakan method `client.query('Masukkan Querynya').to_dataframe()`. Outputnya akan berupa Pandas dataframe, sehingga harus import Pandas.\n",
        "\n",
        "Contoh:\n",
        "\n",
        "```py\n",
        "df = client.query('''\n",
        "SELECT *\n",
        "FROM `bigquery-public-data.thelook_ecommerce.orders`\n",
        "WHERE created_at < \"2022-07-01\"\n",
        "ORDER BY year,month ASC\n",
        "''').to_dataframe()\n",
        "```\n",
        "\n"
      ],
      "metadata": {
        "id": "e0E_A5aDbO7r"
      }
    },
    {
      "cell_type": "code",
      "source": [
        "# Working area"
      ],
      "metadata": {
        "id": "stLFk77dk8Ek"
      },
      "execution_count": null,
      "outputs": []
    }
  ]
}