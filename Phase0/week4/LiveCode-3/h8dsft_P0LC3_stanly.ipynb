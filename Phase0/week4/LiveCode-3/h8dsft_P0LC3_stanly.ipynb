{
  "nbformat": 4,
  "nbformat_minor": 0,
  "metadata": {
    "colab": {
      "provenance": []
    },
    "kernelspec": {
      "name": "python3",
      "display_name": "Python 3"
    },
    "language_info": {
      "name": "python"
    }
  },
  "cells": [
    {
      "cell_type": "markdown",
      "source": [
        "### Nama: Stanly Sukmajaya\n",
        "### Batch: RMT-036\n",
        "### Tujuan dari pembuatan notebook ini adalah untuk menganalisa data properties_rent_201501 yang diambil dari Google Big Query, yang kemudian hasil analisa tersebut di export ke dalam file .csv dan di buatkan API menggunakan FastAPI berdasarkan data yang dianalisa."
      ],
      "metadata": {
        "id": "NUtOEEjq6vqF"
      }
    },
    {
      "cell_type": "markdown",
      "source": [
        "#### Melakukan koneksi dengan Google Big Query, menggunakan project_id pribadi"
      ],
      "metadata": {
        "id": "wVhEzo4X65f5"
      }
    },
    {
      "cell_type": "code",
      "execution_count": null,
      "metadata": {
        "colab": {
          "base_uri": "https://localhost:8080/"
        },
        "id": "Ss6WWwd4uOZy",
        "outputId": "4eb6e590-252e-4023-ecec-7e2caed2c28c"
      },
      "outputs": [
        {
          "output_type": "stream",
          "name": "stdout",
          "text": [
            "Authenticated\n"
          ]
        }
      ],
      "source": [
        "from google.colab import auth\n",
        "from google.cloud import bigquery\n",
        "auth.authenticate_user()\n",
        "print('Authenticated')\n",
        "\n",
        "project_id = \"pc-api-5133159006662443041-958\" #GUNAKAN GCP PROJECT-ID KALIAN MASING-MASING\n",
        "client = bigquery.Client(project=project_id)"
      ]
    },
    {
      "cell_type": "markdown",
      "source": [
        "#### Membuat SQL query untuk memilih kolom `price` dari table `bigquery-public-data.properati_properties_ar.properties_rent_201501` yang di mana `operation` adalah **\"rent\"** dan `property_type` adalah **\"apartment\"**"
      ],
      "metadata": {
        "id": "8MyiK38C6y-_"
      }
    },
    {
      "cell_type": "code",
      "source": [
        "df = client.query('''\n",
        "SELECT price\n",
        "FROM `bigquery-public-data.properati_properties_ar.properties_rent_201501`\n",
        "WHERE operation = 'rent'AND property_type = 'apartment'\n",
        "LIMIT 5000\n",
        "''').to_dataframe()\n",
        "df.head()"
      ],
      "metadata": {
        "colab": {
          "base_uri": "https://localhost:8080/",
          "height": 206
        },
        "id": "C2zsb_couYuu",
        "outputId": "d058ec3a-5b08-401c-8def-420ab21bc6ee"
      },
      "execution_count": 47,
      "outputs": [
        {
          "output_type": "execute_result",
          "data": {
            "text/plain": [
              "    price\n",
              "0  2500.0\n",
              "1  3500.0\n",
              "2  2850.0\n",
              "3  1850.0\n",
              "4  1000.0"
            ],
            "text/html": [
              "\n",
              "  <div id=\"df-b8132157-4253-4251-b6bf-4fc49ab2305d\" class=\"colab-df-container\">\n",
              "    <div>\n",
              "<style scoped>\n",
              "    .dataframe tbody tr th:only-of-type {\n",
              "        vertical-align: middle;\n",
              "    }\n",
              "\n",
              "    .dataframe tbody tr th {\n",
              "        vertical-align: top;\n",
              "    }\n",
              "\n",
              "    .dataframe thead th {\n",
              "        text-align: right;\n",
              "    }\n",
              "</style>\n",
              "<table border=\"1\" class=\"dataframe\">\n",
              "  <thead>\n",
              "    <tr style=\"text-align: right;\">\n",
              "      <th></th>\n",
              "      <th>price</th>\n",
              "    </tr>\n",
              "  </thead>\n",
              "  <tbody>\n",
              "    <tr>\n",
              "      <th>0</th>\n",
              "      <td>2500.0</td>\n",
              "    </tr>\n",
              "    <tr>\n",
              "      <th>1</th>\n",
              "      <td>3500.0</td>\n",
              "    </tr>\n",
              "    <tr>\n",
              "      <th>2</th>\n",
              "      <td>2850.0</td>\n",
              "    </tr>\n",
              "    <tr>\n",
              "      <th>3</th>\n",
              "      <td>1850.0</td>\n",
              "    </tr>\n",
              "    <tr>\n",
              "      <th>4</th>\n",
              "      <td>1000.0</td>\n",
              "    </tr>\n",
              "  </tbody>\n",
              "</table>\n",
              "</div>\n",
              "    <div class=\"colab-df-buttons\">\n",
              "\n",
              "  <div class=\"colab-df-container\">\n",
              "    <button class=\"colab-df-convert\" onclick=\"convertToInteractive('df-b8132157-4253-4251-b6bf-4fc49ab2305d')\"\n",
              "            title=\"Convert this dataframe to an interactive table.\"\n",
              "            style=\"display:none;\">\n",
              "\n",
              "  <svg xmlns=\"http://www.w3.org/2000/svg\" height=\"24px\" viewBox=\"0 -960 960 960\">\n",
              "    <path d=\"M120-120v-720h720v720H120Zm60-500h600v-160H180v160Zm220 220h160v-160H400v160Zm0 220h160v-160H400v160ZM180-400h160v-160H180v160Zm440 0h160v-160H620v160ZM180-180h160v-160H180v160Zm440 0h160v-160H620v160Z\"/>\n",
              "  </svg>\n",
              "    </button>\n",
              "\n",
              "  <style>\n",
              "    .colab-df-container {\n",
              "      display:flex;\n",
              "      gap: 12px;\n",
              "    }\n",
              "\n",
              "    .colab-df-convert {\n",
              "      background-color: #E8F0FE;\n",
              "      border: none;\n",
              "      border-radius: 50%;\n",
              "      cursor: pointer;\n",
              "      display: none;\n",
              "      fill: #1967D2;\n",
              "      height: 32px;\n",
              "      padding: 0 0 0 0;\n",
              "      width: 32px;\n",
              "    }\n",
              "\n",
              "    .colab-df-convert:hover {\n",
              "      background-color: #E2EBFA;\n",
              "      box-shadow: 0px 1px 2px rgba(60, 64, 67, 0.3), 0px 1px 3px 1px rgba(60, 64, 67, 0.15);\n",
              "      fill: #174EA6;\n",
              "    }\n",
              "\n",
              "    .colab-df-buttons div {\n",
              "      margin-bottom: 4px;\n",
              "    }\n",
              "\n",
              "    [theme=dark] .colab-df-convert {\n",
              "      background-color: #3B4455;\n",
              "      fill: #D2E3FC;\n",
              "    }\n",
              "\n",
              "    [theme=dark] .colab-df-convert:hover {\n",
              "      background-color: #434B5C;\n",
              "      box-shadow: 0px 1px 3px 1px rgba(0, 0, 0, 0.15);\n",
              "      filter: drop-shadow(0px 1px 2px rgba(0, 0, 0, 0.3));\n",
              "      fill: #FFFFFF;\n",
              "    }\n",
              "  </style>\n",
              "\n",
              "    <script>\n",
              "      const buttonEl =\n",
              "        document.querySelector('#df-b8132157-4253-4251-b6bf-4fc49ab2305d button.colab-df-convert');\n",
              "      buttonEl.style.display =\n",
              "        google.colab.kernel.accessAllowed ? 'block' : 'none';\n",
              "\n",
              "      async function convertToInteractive(key) {\n",
              "        const element = document.querySelector('#df-b8132157-4253-4251-b6bf-4fc49ab2305d');\n",
              "        const dataTable =\n",
              "          await google.colab.kernel.invokeFunction('convertToInteractive',\n",
              "                                                    [key], {});\n",
              "        if (!dataTable) return;\n",
              "\n",
              "        const docLinkHtml = 'Like what you see? Visit the ' +\n",
              "          '<a target=\"_blank\" href=https://colab.research.google.com/notebooks/data_table.ipynb>data table notebook</a>'\n",
              "          + ' to learn more about interactive tables.';\n",
              "        element.innerHTML = '';\n",
              "        dataTable['output_type'] = 'display_data';\n",
              "        await google.colab.output.renderOutput(dataTable, element);\n",
              "        const docLink = document.createElement('div');\n",
              "        docLink.innerHTML = docLinkHtml;\n",
              "        element.appendChild(docLink);\n",
              "      }\n",
              "    </script>\n",
              "  </div>\n",
              "\n",
              "\n",
              "<div id=\"df-53300ba8-275a-4c66-84a3-ec56eb47127e\">\n",
              "  <button class=\"colab-df-quickchart\" onclick=\"quickchart('df-53300ba8-275a-4c66-84a3-ec56eb47127e')\"\n",
              "            title=\"Suggest charts\"\n",
              "            style=\"display:none;\">\n",
              "\n",
              "<svg xmlns=\"http://www.w3.org/2000/svg\" height=\"24px\"viewBox=\"0 0 24 24\"\n",
              "     width=\"24px\">\n",
              "    <g>\n",
              "        <path d=\"M19 3H5c-1.1 0-2 .9-2 2v14c0 1.1.9 2 2 2h14c1.1 0 2-.9 2-2V5c0-1.1-.9-2-2-2zM9 17H7v-7h2v7zm4 0h-2V7h2v10zm4 0h-2v-4h2v4z\"/>\n",
              "    </g>\n",
              "</svg>\n",
              "  </button>\n",
              "\n",
              "<style>\n",
              "  .colab-df-quickchart {\n",
              "      --bg-color: #E8F0FE;\n",
              "      --fill-color: #1967D2;\n",
              "      --hover-bg-color: #E2EBFA;\n",
              "      --hover-fill-color: #174EA6;\n",
              "      --disabled-fill-color: #AAA;\n",
              "      --disabled-bg-color: #DDD;\n",
              "  }\n",
              "\n",
              "  [theme=dark] .colab-df-quickchart {\n",
              "      --bg-color: #3B4455;\n",
              "      --fill-color: #D2E3FC;\n",
              "      --hover-bg-color: #434B5C;\n",
              "      --hover-fill-color: #FFFFFF;\n",
              "      --disabled-bg-color: #3B4455;\n",
              "      --disabled-fill-color: #666;\n",
              "  }\n",
              "\n",
              "  .colab-df-quickchart {\n",
              "    background-color: var(--bg-color);\n",
              "    border: none;\n",
              "    border-radius: 50%;\n",
              "    cursor: pointer;\n",
              "    display: none;\n",
              "    fill: var(--fill-color);\n",
              "    height: 32px;\n",
              "    padding: 0;\n",
              "    width: 32px;\n",
              "  }\n",
              "\n",
              "  .colab-df-quickchart:hover {\n",
              "    background-color: var(--hover-bg-color);\n",
              "    box-shadow: 0 1px 2px rgba(60, 64, 67, 0.3), 0 1px 3px 1px rgba(60, 64, 67, 0.15);\n",
              "    fill: var(--button-hover-fill-color);\n",
              "  }\n",
              "\n",
              "  .colab-df-quickchart-complete:disabled,\n",
              "  .colab-df-quickchart-complete:disabled:hover {\n",
              "    background-color: var(--disabled-bg-color);\n",
              "    fill: var(--disabled-fill-color);\n",
              "    box-shadow: none;\n",
              "  }\n",
              "\n",
              "  .colab-df-spinner {\n",
              "    border: 2px solid var(--fill-color);\n",
              "    border-color: transparent;\n",
              "    border-bottom-color: var(--fill-color);\n",
              "    animation:\n",
              "      spin 1s steps(1) infinite;\n",
              "  }\n",
              "\n",
              "  @keyframes spin {\n",
              "    0% {\n",
              "      border-color: transparent;\n",
              "      border-bottom-color: var(--fill-color);\n",
              "      border-left-color: var(--fill-color);\n",
              "    }\n",
              "    20% {\n",
              "      border-color: transparent;\n",
              "      border-left-color: var(--fill-color);\n",
              "      border-top-color: var(--fill-color);\n",
              "    }\n",
              "    30% {\n",
              "      border-color: transparent;\n",
              "      border-left-color: var(--fill-color);\n",
              "      border-top-color: var(--fill-color);\n",
              "      border-right-color: var(--fill-color);\n",
              "    }\n",
              "    40% {\n",
              "      border-color: transparent;\n",
              "      border-right-color: var(--fill-color);\n",
              "      border-top-color: var(--fill-color);\n",
              "    }\n",
              "    60% {\n",
              "      border-color: transparent;\n",
              "      border-right-color: var(--fill-color);\n",
              "    }\n",
              "    80% {\n",
              "      border-color: transparent;\n",
              "      border-right-color: var(--fill-color);\n",
              "      border-bottom-color: var(--fill-color);\n",
              "    }\n",
              "    90% {\n",
              "      border-color: transparent;\n",
              "      border-bottom-color: var(--fill-color);\n",
              "    }\n",
              "  }\n",
              "</style>\n",
              "\n",
              "  <script>\n",
              "    async function quickchart(key) {\n",
              "      const quickchartButtonEl =\n",
              "        document.querySelector('#' + key + ' button');\n",
              "      quickchartButtonEl.disabled = true;  // To prevent multiple clicks.\n",
              "      quickchartButtonEl.classList.add('colab-df-spinner');\n",
              "      try {\n",
              "        const charts = await google.colab.kernel.invokeFunction(\n",
              "            'suggestCharts', [key], {});\n",
              "      } catch (error) {\n",
              "        console.error('Error during call to suggestCharts:', error);\n",
              "      }\n",
              "      quickchartButtonEl.classList.remove('colab-df-spinner');\n",
              "      quickchartButtonEl.classList.add('colab-df-quickchart-complete');\n",
              "    }\n",
              "    (() => {\n",
              "      let quickchartButtonEl =\n",
              "        document.querySelector('#df-53300ba8-275a-4c66-84a3-ec56eb47127e button');\n",
              "      quickchartButtonEl.style.display =\n",
              "        google.colab.kernel.accessAllowed ? 'block' : 'none';\n",
              "    })();\n",
              "  </script>\n",
              "</div>\n",
              "\n",
              "    </div>\n",
              "  </div>\n"
            ],
            "application/vnd.google.colaboratory.intrinsic+json": {
              "type": "dataframe",
              "variable_name": "df",
              "summary": "{\n  \"name\": \"df\",\n  \"rows\": 1772,\n  \"fields\": [\n    {\n      \"column\": \"price\",\n      \"properties\": {\n        \"dtype\": \"number\",\n        \"std\": 8995.996301237372,\n        \"min\": 0.0,\n        \"max\": 100000.0,\n        \"num_unique_values\": 172,\n        \"samples\": [\n          8500.0,\n          501.0,\n          15500.0\n        ],\n        \"semantic_type\": \"\",\n        \"description\": \"\"\n      }\n    }\n  ]\n}"
            }
          },
          "metadata": {},
          "execution_count": 47
        }
      ]
    },
    {
      "cell_type": "markdown",
      "source": [
        "## Mencoba mendeteksi anomali di data tersebut"
      ],
      "metadata": {
        "id": "EdAbgcKtwFJN"
      }
    },
    {
      "cell_type": "code",
      "source": [
        "print(\"Mean:\", df['price'].mean())\n",
        "print(\"Median:\", df['price'].median())\n",
        "print(\"Mode:\", df['price'].mode().values[0])\n",
        "print(f\"Skewness: {df['price'].skew()}\")\n",
        "print(f\"Kurtosis: {df['price'].kurtosis()}\")\n",
        "print(\"\")\n",
        "print(\"Max:\", df['price'].max())\n",
        "print(\"Min:\", df['price'].min())\n",
        "print(\"Range:\", df['price'].max() - df['price'].min())"
      ],
      "metadata": {
        "colab": {
          "base_uri": "https://localhost:8080/"
        },
        "id": "yJc9Vci4wHwH",
        "outputId": "e5755313-4884-416b-8eb2-a33e81db19c4"
      },
      "execution_count": 56,
      "outputs": [
        {
          "output_type": "stream",
          "name": "stdout",
          "text": [
            "Mean: 5166.355247285886\n",
            "Median: 2700.0\n",
            "Mode: 0.0\n",
            "Skewness: 4.2401362864090695\n",
            "Kurtosis: 25.47761685447876\n",
            "\n",
            "Max: 100000.0\n",
            "Min: 0.0\n",
            "Range: 100000.0\n"
          ]
        }
      ]
    },
    {
      "cell_type": "markdown",
      "source": [
        "### Setelah di cek, ternyata nilai skewness nya adalah 4.24, yang berarti data ini skewness nya sangat tinggi, berarti seharusnya ada banyak anomali"
      ],
      "metadata": {
        "id": "ioy5Hgcp7GYZ"
      }
    },
    {
      "cell_type": "code",
      "source": [
        "q1 = df['price'].quantile(0.25)\n",
        "q3 = df['price'].quantile(0.75)\n",
        "iqr = q3-q1\n",
        "\n",
        "up_bound = q3 + 1.5 * iqr\n",
        "low_bound = q1 - 1.5 * iqr\n",
        "\n",
        "print(f'Upper Boundary: {up_bound:.2f}' )\n",
        "print(f'Lower Boundary: {low_bound:.2f}')\n",
        "\n",
        "outlier = df['price'][(df['price'] < low_bound) | (df['price'] > up_bound)]\n",
        "print(len(outlier))\n",
        "print(f'Percentage of outliers: {len(outlier)*100/len(df[\"price\"]):.2f}%')"
      ],
      "metadata": {
        "colab": {
          "base_uri": "https://localhost:8080/"
        },
        "id": "fLD_8RUzx1CJ",
        "outputId": "a7d6f502-826d-40c6-aede-f93c7df06d94"
      },
      "execution_count": 50,
      "outputs": [
        {
          "output_type": "stream",
          "name": "stdout",
          "text": [
            "Upper Boundary: 13750.00\n",
            "Lower Boundary: -8250.00\n",
            "158\n",
            "Percentage of outliers: 8.92%\n"
          ]
        }
      ]
    },
    {
      "cell_type": "markdown",
      "source": [
        "### Karena nilai skewnessnya lebih dari 1, maka teknik yang digunakan untuk mendeteksi outliers adalah Tukey's rule. Berdasarkan analisa, presentase outliersnya adalah 8.92%"
      ],
      "metadata": {
        "id": "oO8vBzvh7D6h"
      }
    },
    {
      "cell_type": "code",
      "source": [
        "no_outliers = df[(df['price'] >= low_bound) & (df['price'] <= up_bound)]\n",
        "print(\"Mean:\", no_outliers['price'].mean())\n",
        "print(\"Median:\", no_outliers['price'].median())\n",
        "print(\"Mode:\", no_outliers['price'].mode().values[0])\n",
        "print(f\"Skewness: {no_outliers['price'].skew()}\")\n",
        "print(f\"Kurtosis: {no_outliers['price'].kurtosis()}\")\n",
        "print(\"Max:\", no_outliers['price'].max())\n",
        "print(\"Min:\", no_outliers['price'].min())\n",
        "print(\"Range:\", no_outliers['price'].max() - no_outliers['price'].min())\n",
        "no_outliers.to_csv(\"properties_rent.csv\", index=False)"
      ],
      "metadata": {
        "colab": {
          "base_uri": "https://localhost:8080/"
        },
        "id": "hl3nDI-501gl",
        "outputId": "8d50d725-4648-43a9-ffc4-f8ba85c13659"
      },
      "execution_count": 55,
      "outputs": [
        {
          "output_type": "stream",
          "name": "stdout",
          "text": [
            "Mean: 2875.078\n",
            "Median: 2500.0\n",
            "Mode: 0.0\n",
            "Skewness: 1.3384880750664294\n",
            "Kurtosis: 1.3918315638550864\n",
            "Max: 13500.0\n",
            "Min: 0.0\n",
            "Range: 13500.0\n"
          ]
        }
      ]
    },
    {
      "cell_type": "markdown",
      "source": [
        "### Setelah data nya dibersihkan data anomali nya (data yang anomali dibuang) terdapat perubahan yang cukup drastis di mean, yaitu menjadi 2875.078 dari 5166.355. Median berubah dari 2700 menjadi 2500, dan modus tetap sama, yaitu 0. Terjadi perubahan yang sangat drastis pada skewness dan kurtosis, yaitu skewness berubah menjadi 1.34 dari 4.24, dan kurtosis berubah menjadi 1.39 dari 25.48. Sebagai tambahan, jarak antara nilai maksimum dan minimum berubah drastis menjadi 13500, dari 100000. Bisa disimpulkan bahwa meskipun nilai skew dan nilai persebaran data nya masih cukup tinggi, namun sudah jauh lebih baik dari data awal."
      ],
      "metadata": {
        "id": "uURZ6Ik47s1g"
      }
    },
    {
      "cell_type": "markdown",
      "source": [
        "### 1. Berapa rata-rata, median, dan modus dari data tersebut sebelum dihilangkan outliernya? Bagaimana kecerendungan pemusatan datanya? jelaskan jawabanmu!"
      ],
      "metadata": {
        "id": "NhnUVMwG88z2"
      }
    },
    {
      "cell_type": "code",
      "source": [
        "print(\"Mean:\", df['price'].mean())\n",
        "print(\"Median:\", df['price'].median())\n",
        "print(\"Mode:\", df['price'].mode().values[0])\n",
        "print(\"\")\n",
        "print(\"Max:\", df['price'].max())\n",
        "print(\"Min:\", df['price'].min())\n",
        "print(\"Range:\", df['price'].max() - df['price'].min())"
      ],
      "metadata": {
        "colab": {
          "base_uri": "https://localhost:8080/"
        },
        "id": "JE0KbAMU9Alx",
        "outputId": "f9c30f16-c8bc-4b64-a041-8ab15bf6bb6d"
      },
      "execution_count": 54,
      "outputs": [
        {
          "output_type": "stream",
          "name": "stdout",
          "text": [
            "Mean: 5166.355247285886\n",
            "Median: 2700.0\n",
            "Mode: 0.0\n",
            "\n",
            "Max: 100000.0\n",
            "Min: 0.0\n",
            "Range: 100000.0\n"
          ]
        }
      ]
    },
    {
      "cell_type": "markdown",
      "source": [
        "### Dari data yang di dapat di atas, bisa dilihat bahwa nilai mean, median dan mode nya sangat jauh antara satu sama lain, yang bisa diartikan bahwa ada perbedaan jauh antar 1 data dengan data yang lainnya (data nya tersebar). Karena nilai mean dan median nya sangat jauh, maka untuk nilai central tendency, lebih baik menggunakan nilai median, karena tidak terlalu terpengaruh oleh outlier. Median juga lebih baik digunakan jika data nya memiliki nilai skew yang tinggi. Sebagai tambahan, jarak antara nilai minimum dan maksimumnya adalah 100000, yang bisa di bilang bahwa itu cukup jauh, sehingga memperkuat argumen bahwa dataset ini sangat tersebar."
      ],
      "metadata": {
        "id": "JRCvvHAd9Ghf"
      }
    },
    {
      "cell_type": "markdown",
      "source": [
        "### 2. Sebelum melakukan extreme value analysis, kamu harus melakukan pengecekan skewness dari distribusi datanya. Apakah datanya skew atau normal? jelaskan jawabanmu!"
      ],
      "metadata": {
        "id": "ByNPh93S-IYX"
      }
    },
    {
      "cell_type": "code",
      "source": [
        "print(f\"Skewness: {df['price'].skew()}\")\n",
        "print(f\"Kurtosis: {df['price'].kurtosis()}\")"
      ],
      "metadata": {
        "colab": {
          "base_uri": "https://localhost:8080/"
        },
        "id": "21ndqw8s-JnC",
        "outputId": "fa8261f9-cc0d-4853-b61d-f199816d7de5"
      },
      "execution_count": 53,
      "outputs": [
        {
          "output_type": "stream",
          "name": "stdout",
          "text": [
            "Skewness: 4.2401362864090695\n",
            "Kurtosis: 25.47761685447876\n"
          ]
        }
      ]
    },
    {
      "cell_type": "markdown",
      "source": [
        "### Berdasarkan data skewness di atas, bisa dilihat bahwa nilai skewness nya sangat tinggi, yaitu 4.24. Secara standard, nilai skewness yang dibawah -1 atau di atas 1 mengartikan bahwa nilai skewness nya sangat tinggi. Jika nilainya 4.24, bisa disimpulkan bahwa data tersebut adalah highly skewed, dan untuk mengambil nilai central tendency, lebih baik menggunakan median, karena tidak terlalu terpengaruh oleh outlier dan lebih baik digunakan dengan data yang nilai skew nya tinggi."
      ],
      "metadata": {
        "id": "8UzK07J1-R8z"
      }
    },
    {
      "cell_type": "markdown",
      "source": [
        "### 3. Ada dua teknik untuk melakukan extreme value analysis, teknik yang mana yang kamu pakai? berikan alasanmu berdasarkan data!"
      ],
      "metadata": {
        "id": "lsyMqDD_-1vD"
      }
    },
    {
      "cell_type": "markdown",
      "source": [
        "#### Saya menggunakan teknik Tukey's rule, karena Tukey's rule lebih baik digunakan untuk data yang skewed, dan nilai skew nya kurang atau lebih dari 0.5."
      ],
      "metadata": {
        "id": "xy4xymr4-6N6"
      }
    }
  ]
}