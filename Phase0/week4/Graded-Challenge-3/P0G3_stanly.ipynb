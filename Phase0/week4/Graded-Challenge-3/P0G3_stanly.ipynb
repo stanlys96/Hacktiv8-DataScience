{
 "cells": [
  {
   "cell_type": "markdown",
   "metadata": {},
   "source": [
    "### Graded Challenge 3\n",
    "\n",
    "### Nama: Stanly Sukmajaya\n",
    "\n",
    "### Batch: RMT-036\n",
    "\n",
    "### Program ini dibuat untuk menganalisa produk-produk seblak yang dijual di Tokopedia. Data-data akan di scraping secara mandiri, dan akan diambil datanya minimal 50 data. Akhirnya, data akan dianalisa dan diberi kesimpulan.\n"
   ]
  },
  {
   "cell_type": "code",
   "execution_count": 1,
   "metadata": {},
   "outputs": [],
   "source": [
    "# Import selenium\n",
    "from selenium import webdriver"
   ]
  },
  {
   "cell_type": "code",
   "execution_count": 27,
   "metadata": {},
   "outputs": [
    {
     "name": "stdout",
     "output_type": "stream",
     "text": [
      "['KRUPUK SEBLAK RAFAEL | SEBRING | KERUPUK MAWAR PEDAS DAUN JERUK 250 GR', 'Seblak Rafael/Seblak Coet Instan Halal', 'Seblak Sultan instant', 'Kerupuk Seblak Rafael / Seblak Pedas 250 Gram - Tam Snack', 'KRUPUK STIK RASA UDANG CAP PADI KAPAS KHAS INDRAMAYU BISA BUAT SEBLAK', 'Kerupuk Mentah 250gr Seblak Mentah', 'Kylafood Seblak Rempah Authentik', 'seblak krupuk 5000 ,pedas dan gurih', 'Kerupuk Seblak Beton As Kering Cikruh 500 Gr Bumbu Organik Pedas Gurih', 'KERUPUK MENTAH SERBA 5000 BAHAN SEBLAK', 'Gelifood Combo 3pcs Seblak Ceker Tanpa Tulang Super Pedas', 'Kylafood Seblak Cup', 'pangsit segitiga kering atau cipet isi 100 toping seblak baso aci', 'Seblak Instan Premium Bangsatria', 'siomay mini kering 1kg toping seblak baso aci', 'KERUPUK JABLAY BANTET SEBLAK PELANGI', 'seblak mercon pedas galak', 'seblak instant sajodo snak', 'Kylafood Paket Seblak Cup isi 4 pcs', 'SEBLAK INSTAN MOMMY', 'Kylafood Paket Seblak Cup isi 4 pcs', 'Seblak Rafael Seblak Beton', 'Kylafood Seblak Mie Baso Sapi Play', 'Pasar Keripik Kerupuk Seblak Mawar Mini Pedas size Kecil', 'Kylafood Seblak Mie Baso', 'Kylafood Seblak Original 158 gram', 'KRUPUK / KERUPUK MENTAH / KERUPUK SEBLAK JENGKOL SISIR 1KG', 'Gelifood Seblak Instan Kerupuk Mawar Bumbu Kencur Rafael Pedas Gurih', '^; Seblak Rafael Asli Original | Seblak Coet Mamang Rafael', 'Kerupuk Seblak Bantet Super Pedas Daun Jeruk', 'siomay kering 1kg isi 150 pcs toping seblak baso aci', 'Pasar Keripik Kerupuk Seblak Mawar Mini Pedas size Besar', 'cuanki tahu bulat sohu besar isi 25 toping baso aci dan seblak', 'cuanki tahu gepeng isi 100 pcs toping seblak bsso aci', 'Kerupuk Seblak Viral Mawar Warna Mentah 250 gr', 'Kerupuk seblak bantet pedas 75 gr enak renyah', 'KRUPUK / KERUPUK MENTAH / KERUPUK SEBLAK MENTAH KEONG WARNA 200 GR', 'PAKET BUNDLING 4 ( 1 SEBLAK INSTANT, 1 KEJU AROMA SAJODO)', 'SEBLAK KERING CIKRUH BUMBU KACANG VARIAN CAMPUR', 'Seblak ceker 2 putra kemasan gopean (500)', 'Telur Gabus Keju Homemade 190gr Gurih dan Renyah Kaya Halal Market', 'Keripik Slondok Singkong Sari Roso', 'cemilan keripik tahu', 'Kylafood Paket 4Seblak Cup  + 1basreng pedas + 1Seblak Autentik (Free)', 'Keripik Tempe Mels Kitchen', 'Batagor Kering Mini Bisa untuk Seblak Dan Campuran Baso Aci', 'KRUPUK / KERUPUK MENTAH / KERUPUK SEBLAK MENTAH 1kg IKAN MERAH', 'Basreng 100 gram Ori, Seblak, Pedas Manis, Super Pedas isi 100gr', 'Sabring kerupuk seblak jablay pedas Jumbo', 'krupuk seblak pedas daun jeruk bantet 500geram', 'Stick / stik otak-otak Bu Nanik', 'Kerupuk Keriting Palembang', 'Snack Mie Goreng Medan / Kerupuk Mie Goreng Medan', 'Keripik Singkong Keju Sari Roso', 'Kerupuk Kampung / Kerupuk Kampoeng / Kerupuk Bawang', 'Kerupuk Seblak / Seblak / Kering Pedas /', 'BATAGOR Seblak 100gr Baso Tahu Goreng Siap Makan', 'SEBLAK KERING CIKRUH BUMBU KACANG VARIAN CAMPUR KEMASAN 250 GRAM', 'Kerupuk Seblak', 'SAMBAL BUMBU SEBLAK / SEBLAK INSTAN / SEBLAK PRAKTIS / PEDAS GURIH', 'Baso Aci 69 Original', 'Baso Aci Instan Culametan khas Garut ( isi 6 )', 'Baso Aci 69 Geprek Gurih', 'Baso Aci Culametan khas garut', 'BASO ACI PAKET 5 BUNGKUS', ' Kylafood Paket 4 Seblak Original 1 Batagor', 'Kerupuk Seblak Pedas Original', 'seblak instan isi 250g / seblak bondol / seblak pedas / kuliner bondol', 'Kerupuk Seblak Mawar Kribo Pedas Daun Jeruk 1.8kg', 'KERUPUK STIK SEBLAK 200 GRAM', 'Gelichips Seblak Kering Gurih isi 260gram - Combo Seblak Kering 4pcs', 'kerupuk seblak 250g dan 500g - 250g', 'Gelichips Seblak Kering Sebring Camilan Kerupuk Pedas Combo 4pcs 65 gr', 'kerupuk seblak pedas 1 kg', 'Frozen Bakso Cuanki Bandung Baso Campur', 'KERUPUK SEBLAK PEDAS KRIUK 100 GRAM', 'SEBLAK BETON RASA PEDAS CIKRUH BERAT 500 GRAM', 'Seblak Mommy', 'Kerupuk Seblak Mentah 200gram', 'seblak instan purwakarta', 'Gurilem Pedas', 'Basreng Sangarrr', 'Makaroni Ceu Wewei 1kg', 'Basreng Sangarrr', 'Basreng Pinggsnack', 'Seblak Coet Instan / Seblak Cobek / Seblak Cocol / Seblak Original', 'kerupuk mawar putih/ kerupuk seblak rafael', 'cuanki/cuankie lidah isi 100 pcs baso Aci/boci/seblak', 'Kerupuk Krupuk Keriting Mawar Putih Mentah Seblak Asli Original', 'CIKEMAM - PAKET BUNDLING SEBLAK (3 PCS)', 'Geli Food Seblak Ceker Tanpa Tulang Super Pedas 180gr', 'KRUPUK SEBLAK RAFAEL | SEBRING | KERUPUK MAWAR PEDAS DAUN JERUK 250 GR', 'Seblak Rafael/Seblak Coet Instan Halal', 'Seblak Sultan instant', 'Kerupuk Seblak Kencur Pedas / Krupuk Seblak Pedes - Molagi Snack - 250 Gram', 'seblak kerupuk kering level pedas', 'kerupuk seblak kering mangar manggar jaat akar pedas 250 gram', 'kerupuk seblak pedas daun jeruk kemasan 70 gram', 'NAAGIH! Seblak Cuanki Baso Aci Boci Instant Kuliner Bandung Pedas Pool', '1KG Krupuk Seblak Kering Pedas/ Krupuk Seblak Bantet Pedas']\n",
      "['Rp21.630', 'Rp26.600', 'Rp14.000', 'Rp16.000', 'Rp21.500', 'Rp5.900', 'Rp10.965', 'Rp5.000', 'Rp25.500', 'Rp6.000', 'Rp85.000', 'Rp13.500', 'Rp32.999', 'Rp21.000', 'Rp24.999', 'Rp15.999', 'Rp3.500', 'Rp18.950', 'Rp50.040', 'Rp13.900', 'Rp50.040', 'Rp15.000', 'Rp23.375', 'Rp12.500', 'Rp24.750', 'Rp28.500', 'Rp21.750', 'Rp18.000', 'Rp28.000', 'Rp8.950', 'Rp34.999', 'Rp28.500', 'Rp8.999', 'Rp38.111', 'Rp12.000', 'Rp4.500', 'Rp5.750', 'Rp40.000', 'Rp10.799', 'Rp8.800', 'Rp31.000', 'Rp26.000', 'Rp36.500', 'Rp74.160', 'Rp25.000', 'Rp7.000', 'Rp21.750', 'Rp7.599', 'Rp15.000', 'Rp25.000', 'Rp10.000', 'Rp28.000', 'Rp14.500', 'Rp26.000', 'Rp18.000', 'Rp10.000', 'Rp1.500', 'Rp18.899', 'Rp12.000', 'Rp3.500', 'Rp19.995', 'Rp4.500', 'Rp19.995', 'Rp1.100', 'Rp26.500', 'Rp91.000', 'Rp6.000', 'Rp17.999', 'Rp70.000', 'Rp12.500', 'Rp43.500', 'Rp11.000', 'Rp43.500', 'Rp26.500', 'Rp21.000', 'Rp7.500', 'Rp30.500', 'Rp13.900', 'Rp5.400', 'Rp4.500', 'Rp19.500', 'Rp19.900', 'Rp65.000', 'Rp18.900', 'Rp16.700', 'Rp8.900', 'Rp7.300', 'Rp26.399', 'Rp5.850', 'Rp37.000', 'Rp29.000', 'Rp21.630', 'Rp26.600', 'Rp14.000', 'Rp15.000', 'Rp5.000', 'Rp11.250', 'Rp4.800', 'Rp8.000', 'Rp21.500']\n",
      "['70+ terjual', '500+ terjual', '250+ terjual', '70+ terjual', '250+ terjual', '1rb+ terjual', '3rb+ terjual', '1rb+ terjual', '50+ terjual', '1rb+ terjual', '60+ terjual', '250+ terjual', '100+ terjual', '10 terjual', '250+ terjual', '500+ terjual', '3rb+ terjual', '1rb+ terjual', '100+ terjual', '1rb+ terjual', '100+ terjual', None, '250+ terjual', '100+ terjual', '4rb+ terjual', '1rb+ terjual', '28 terjual', '500+ terjual', '17 terjual', '22 terjual', '90+ terjual', '30+ terjual', '6 terjual', '100+ terjual', None, '40+ terjual', '100+ terjual', '11 terjual', '60+ terjual', '250+ terjual', '30+ terjual', '250+ terjual', '250+ terjual', '2 terjual', '1rb+ terjual', '23 terjual', '100+ terjual', '50+ terjual', '23 terjual', '100+ terjual', '750+ terjual', '1rb+ terjual', '500+ terjual', '250+ terjual', '750+ terjual', '80+ terjual', '100+ terjual', '18 terjual', '30+ terjual', '70+ terjual', '100+ terjual', '4rb+ terjual', '90+ terjual', '1rb+ terjual', '3 terjual', '1rb+ terjual', '40+ terjual', '100+ terjual', '30+ terjual', '50+ terjual', '40+ terjual', None, '15 terjual', '100+ terjual', '1rb+ terjual', '6 terjual', '1 terjual', '2rb+ terjual', '24 terjual', '750+ terjual', '100+ terjual', '750+ terjual', '70+ terjual', '3rb+ terjual', '500+ terjual', '30+ terjual', '25 terjual', '60+ terjual', '50+ terjual', '50+ terjual', '100+ terjual', '70+ terjual', '500+ terjual', '250+ terjual', '12 terjual', '26 terjual', '6 terjual', '27 terjual', '100+ terjual', '60+ terjual']\n",
      "['5.0', '4.9', '4.9', '5.0', '4.9', '5.0', '4.9', '4.7', '4.8', '4.9', '4.7', '4.9', '4.9', '5.0', '4.9', '4.9', '4.5', '4.9', '4.8', '4.8', '4.8', None, '4.9', '4.9', '4.9', '4.9', '5.0', '4.8', '5.0', '5.0', '4.9', '5.0', '5.0', '4.9', None, '4.5', '4.9', '5.0', '4.7', '5.0', '4.9', '4.8', '4.9', '5.0', '4.9', '4.9', '4.7', '4.6', None, '4.6', '4.7', '4.9', '4.8', '4.8', '4.9', '5.0', '5.0', '5.0', '4.9', '4.5', '5.0', '4.9', '4.9', '4.7', '5.0', '4.9', '4.5', '5.0', '4.8', '5.0', '5.0', None, '5.0', '5.0', '4.9', '5.0', None, '4.6', '5.0', '4.9', '4.8', '4.7', '5.0', '4.8', '4.8', '4.5', '4.0', '4.9', '5.0', '5.0', '4.9', '5.0', '4.9', '4.9', '5.0', '4.1', '4.8', '5.0', '5.0', '4.9']\n",
      "['Toko kue Sumber Mas', 'Foodstocks', 'Sultan Meat Shop', 'TAM SNACK', 'dariimyu', 'Pedas Gilaa', 'kylafood', 'anugrah seblak', 'kerudung bunga', 'GK_Snack', 'Lidigeli', 'Kylafood Jakarta', 'CUANKI CULAMETAN', 'Foodstocks', 'CUANKI CULAMETAN', 'Toko kue Sumber Mas', 'BUGAR STORE.', 'hikmah berkah jaya', 'kylafood', 'Rav Jaya Display', 'kylafood', 'toko bemo', 'kylafood', 'Pasar Keripik Bandung', 'kylafood', 'Tokopedia NOW!', 'SuperSnacksShop', 'Lidigeli', 'siskaarinang2', 'Althafun', 'CUANKI CULAMETAN', 'Pasar Keripik Bandung', 'Culametan Food', 'CUANKI CULAMETAN', 'JoyLeo', 'RIKI STORE 97', 'SuperSnacksShop', 'Sajodo Snack & Food', 'Simshop_', 'BAGEAJAYA FOOD', 'Kaya Halal Market', 'Pisang Goreng Madu Bu Nanik', 'oke snack', 'kylafood', 'Pisang Goreng Madu Bu Nanik', 'RZTSHOP86', 'SuperSnacksShop', 'Grosir Besar Kalimantan', 'RIKI STORE 97', 'seblak barokah 07', 'Pisang Goreng Madu Bu Nanik', 'Pisang Goreng Madu Bu Nanik', 'Pisang Goreng Madu Bu Nanik', 'Pisang Goreng Madu Bu Nanik', 'Pisang Goreng Madu Bu Nanik', 'Anggris store', 'yohangunawan94', 'Simshop_', 'KingStairs-Store (ANNAFI STORE)', 'Uai Food', 'Foodstocks', 'CUANKI CULAMETAN', 'Foodstocks', 'CUANKI CULAMETAN', 'tsabit colection', 'kylafood', 'V3 OnSHop', 'KULINER KHAS SUKABUMI', 'Cap 2K Snack', 'GUPONG ABIMANYU', 'Lidigeli', 'suksesjayaikan', 'Lidigeli', 'Bintang Snack & Camilan', 'DELI FROZZ', 'AUFARO SNACK', 'aurel prima snack', 'Gerai Snack Official Shop', 'Sayurku Co.', 'cemilan instan purwakarta', 'Bite and Munch', 'The Little Snacks', 'Makaroni Ceu Wewei', 'The Little Snacks', 'Gerai Snack Official Shop', 'TiTasix Tutug Oncom (TO)', 'juragan bawang merah', 'ArfaOnlineShop', 'Kyta Bae', 'CIKEMAM', 'Lidigeli', 'Toko kue Sumber Mas', 'Foodstocks', 'Sultan Meat Shop', 'MOLAGI SNACK', 'Permen Jahe Pekalongan', 'Qie snack', 'Gudang Snack Solo', 'Ebay Store', 'Vikasnack02']\n",
      "['Jakarta Timur', 'Jakarta Selatan', 'Medan', 'Depok', 'Kab. Indramayu', 'Surabaya', 'Bandung', 'Kab. Bandung', 'Cimahi', 'Kab. Bandung', 'Kab. Garut', 'Jakarta Selatan', 'Kab. Garut', 'Jakarta Selatan', 'Kab. Garut', 'Jakarta Timur', 'Kab. Garut', 'Jakarta Barat', 'Bandung', 'Kab. Tangerang', 'Bandung', 'Jakarta Timur', 'Bandung', 'Bandung', 'Bandung', 'Jakarta Selatan', 'Kab. Bandung', 'Kab. Garut', 'Bandung', 'Kab. Mojokerto', 'Kab. Garut', 'Bandung', 'Kab. Garut', 'Kab. Garut', 'Bogor', 'Kab. Bogor', 'Kab. Bandung', 'Tasikmalaya', 'Cimahi', 'Kab.Ciamis', 'Jakarta Selatan', 'Jakarta Barat', 'Jakarta Selatan', 'Bandung', 'Jakarta Barat', 'Bandung', 'Kab. Bandung', 'Banjarbaru', 'Kab. Bogor', 'Kab. Bandung', 'Jakarta Barat', 'Jakarta Barat', 'Jakarta Barat', 'Jakarta Barat', 'Jakarta Barat', 'Kab. Bogor', 'Bandung', 'Cimahi', 'Palembang', 'Surabaya', 'Jakarta Selatan', 'Kab. Garut', 'Jakarta Selatan', 'Kab. Garut', 'Kab. Garut', 'Bandung', 'Surabaya', 'Kab. Sukabumi', 'Kab. Bandung', 'Depok', 'Kab. Garut', 'Jakarta Barat', 'Kab. Garut', 'Semarang', 'Jakarta Utara', 'Kab. Bandung Barat', 'Jakarta Barat', 'Kab. Tangerang', 'Malang', 'Kab. Purwakarta', 'Bandung', 'Tangerang Selatan', 'Kab. Tangerang', 'Tangerang Selatan', 'Kab. Tangerang', 'Tasikmalaya', 'Depok', 'Tangerang', 'Kab. Sumedang', 'Cimahi', 'Kab. Garut', 'Jakarta Timur', 'Jakarta Selatan', 'Medan', 'Tangerang Selatan', 'Kab. Pemalang', 'Kab. Jember', 'Surakarta', 'Kab. Tangerang', 'Kab. Karawang']\n"
     ]
    }
   ],
   "source": [
    "from bs4 import BeautifulSoup\n",
    "import time\n",
    "driver = webdriver.Chrome()\n",
    "\n",
    "names = []\n",
    "prices = []\n",
    "items_sold = []\n",
    "ratings = []\n",
    "sellers = []\n",
    "cities = []\n",
    "# Looping URL untuk mendapatkan data di 10 pages\n",
    "for i in range(1, 11):\n",
    "  url = f\"https://www.tokopedia.com/search?navsource=&page={i}&q=seblak&srp_component_id=02.01.00.00&srp_page_id=&srp_page_title=&st=\"\n",
    "  driver.get(url)\n",
    "  html = driver.page_source\n",
    "\n",
    "  page = BeautifulSoup(html, \"html.parser\")\n",
    "  time.sleep(10)\n",
    "  result = page.find(\"div\", {\"class\": \"css-jza1fo\"})\n",
    "  items = result.find_all(\"div\", {\"class\": \"KeRtO-dE1UuZjZ6nmihLZw==\"})\n",
    "  # Looping data div dengan class 'KeRtO-dE1UuZjZ6nmihLZw=='\n",
    "  for item in items:\n",
    "    name = item.find(\"span\", {\"class\": \"OWkG6oHwAppMn1hIBsC3pQ==\"})\n",
    "    if name and name.get_text():\n",
    "      names.append(name.get_text())\n",
    "    else:\n",
    "      names.append(None)\n",
    "    price = item.find(\"div\", {\"class\": \"_8cR53N0JqdRc+mQCckhS0g==\"})\n",
    "    if price and price.get_text():\n",
    "      prices.append(price.get_text())\n",
    "    else:\n",
    "      another_price = item.find(\"span\", {\"class\": \"en+9Xhk5rmGNLiUfSuIuqg==\"})\n",
    "      if another_price and another_price.get_text():\n",
    "        prices.append(another_price.get_text())\n",
    "      else:\n",
    "        prices.append(None)\n",
    "    sold = item.find(\"span\", {\"class\": \"eLOomHl6J3IWAcdRU8M08A==\"})\n",
    "    if sold and sold.get_text():\n",
    "      items_sold.append(sold.get_text())\n",
    "    else:\n",
    "      items_sold.append(None)\n",
    "    rating = item.find(\"span\", {\"class\": \"nBBbPk9MrELbIUbobepKbQ==\"})\n",
    "    if rating and rating.get_text():\n",
    "      ratings.append(rating.get_text())\n",
    "    else:\n",
    "      ratings.append(None)\n",
    "    seller_and_city = item.find_all(\"span\", {\"class\": \"flip\"})\n",
    "    for index, data in enumerate(seller_and_city):\n",
    "      if index == 0:\n",
    "        if data and data.get_text():\n",
    "          sellers.append(data.get_text())\n",
    "        else:\n",
    "          sellers.append(None)\n",
    "      elif index == 1:\n",
    "        if data and data.get_text():\n",
    "          cities.append(data.get_text())\n",
    "        else:\n",
    "          cities.append(None)\n",
    "\n",
    "print(names)\n",
    "print(prices)\n",
    "print(items_sold)\n",
    "print(ratings)\n",
    "print(sellers)\n",
    "print(cities)"
   ]
  },
  {
   "cell_type": "code",
   "execution_count": 96,
   "metadata": {},
   "outputs": [
    {
     "name": "stdout",
     "output_type": "stream",
     "text": [
      "100\n",
      "100\n",
      "100\n",
      "100\n",
      "100\n",
      "100\n"
     ]
    }
   ],
   "source": [
    "import pandas as pd\n",
    "\n",
    "print(len(names))\n",
    "print(len(prices))\n",
    "print(len(items_sold))\n",
    "print(len(ratings))\n",
    "print(len(sellers))\n",
    "print(len(cities))\n",
    "# Masukkan data yang telah discraping ke dalam dataframe\n",
    "tokopedia = pd.DataFrame()\n",
    "tokopedia['name'] = names\n",
    "tokopedia['price'] = prices\n",
    "tokopedia['items_sold'] = items_sold\n",
    "tokopedia['rating'] = ratings\n",
    "tokopedia['seller'] = sellers\n",
    "tokopedia['city'] = cities\n",
    "\n",
    "# Simpan data yang telah discrape ke dalam csv\n",
    "tokopedia.to_csv(\"original_data.csv\")"
   ]
  },
  {
   "cell_type": "code",
   "execution_count": 133,
   "metadata": {},
   "outputs": [
    {
     "name": "stdout",
     "output_type": "stream",
     "text": [
      "name          0\n",
      "price         0\n",
      "items_sold    3\n",
      "rating        5\n",
      "seller        0\n",
      "city          0\n",
      "dtype: int64\n"
     ]
    }
   ],
   "source": [
    "# Check data-data yang null, dan isi dengan string \"0\"\n",
    "print(tokopedia.isna().sum())\n",
    "tokopedia = tokopedia.fillna(\"0\")\n",
    "\n",
    "# Rapikan data-data items_sold, price dan rating dan ubah tipe-tipe data tersebut menjadi float dan int.\n",
    "tokopedia['items_sold'] = tokopedia['items_sold'].str.replace(\"rb\", \"000\")\n",
    "tokopedia['items_sold'] = tokopedia['items_sold'].str.replace(\"terjual\", \"\")\n",
    "tokopedia['items_sold'] = tokopedia['items_sold'].str.replace(\"+\", \"\")\n",
    "tokopedia['items_sold'] = tokopedia['items_sold'].str.strip()\n",
    "tokopedia['price'] = tokopedia['price'].str.replace(\"Rp\", \"\")\n",
    "tokopedia['price'] = tokopedia['price'].str.replace(\".\", \"\")\n",
    "tokopedia[['price', 'rating']] = tokopedia[['price', 'rating']].astype(float)\n",
    "tokopedia['items_sold'] = tokopedia['items_sold'].astype(int)"
   ]
  },
  {
   "cell_type": "code",
   "execution_count": 106,
   "metadata": {},
   "outputs": [
    {
     "data": {
      "text/html": [
       "<div>\n",
       "<style scoped>\n",
       "    .dataframe tbody tr th:only-of-type {\n",
       "        vertical-align: middle;\n",
       "    }\n",
       "\n",
       "    .dataframe tbody tr th {\n",
       "        vertical-align: top;\n",
       "    }\n",
       "\n",
       "    .dataframe thead th {\n",
       "        text-align: right;\n",
       "    }\n",
       "</style>\n",
       "<table border=\"1\" class=\"dataframe\">\n",
       "  <thead>\n",
       "    <tr style=\"text-align: right;\">\n",
       "      <th></th>\n",
       "      <th>name</th>\n",
       "      <th>price</th>\n",
       "      <th>items_sold</th>\n",
       "      <th>rating</th>\n",
       "      <th>seller</th>\n",
       "      <th>city</th>\n",
       "    </tr>\n",
       "  </thead>\n",
       "  <tbody>\n",
       "    <tr>\n",
       "      <th>0</th>\n",
       "      <td>KRUPUK SEBLAK RAFAEL | SEBRING | KERUPUK MAWAR...</td>\n",
       "      <td>21630.0</td>\n",
       "      <td>70</td>\n",
       "      <td>5.0</td>\n",
       "      <td>Toko kue Sumber Mas</td>\n",
       "      <td>Jakarta Timur</td>\n",
       "    </tr>\n",
       "    <tr>\n",
       "      <th>1</th>\n",
       "      <td>Seblak Rafael/Seblak Coet Instan Halal</td>\n",
       "      <td>26600.0</td>\n",
       "      <td>500</td>\n",
       "      <td>4.9</td>\n",
       "      <td>Foodstocks</td>\n",
       "      <td>Jakarta Selatan</td>\n",
       "    </tr>\n",
       "    <tr>\n",
       "      <th>2</th>\n",
       "      <td>Seblak Sultan instant</td>\n",
       "      <td>14000.0</td>\n",
       "      <td>250</td>\n",
       "      <td>4.9</td>\n",
       "      <td>Sultan Meat Shop</td>\n",
       "      <td>Medan</td>\n",
       "    </tr>\n",
       "    <tr>\n",
       "      <th>3</th>\n",
       "      <td>Kerupuk Seblak Rafael / Seblak Pedas 250 Gram ...</td>\n",
       "      <td>16000.0</td>\n",
       "      <td>70</td>\n",
       "      <td>5.0</td>\n",
       "      <td>TAM SNACK</td>\n",
       "      <td>Depok</td>\n",
       "    </tr>\n",
       "    <tr>\n",
       "      <th>4</th>\n",
       "      <td>KRUPUK STIK RASA UDANG CAP PADI KAPAS KHAS IND...</td>\n",
       "      <td>21500.0</td>\n",
       "      <td>250</td>\n",
       "      <td>4.9</td>\n",
       "      <td>dariimyu</td>\n",
       "      <td>Kab. Indramayu</td>\n",
       "    </tr>\n",
       "    <tr>\n",
       "      <th>...</th>\n",
       "      <td>...</td>\n",
       "      <td>...</td>\n",
       "      <td>...</td>\n",
       "      <td>...</td>\n",
       "      <td>...</td>\n",
       "      <td>...</td>\n",
       "    </tr>\n",
       "    <tr>\n",
       "      <th>95</th>\n",
       "      <td>seblak kerupuk kering level pedas</td>\n",
       "      <td>5000.0</td>\n",
       "      <td>26</td>\n",
       "      <td>4.1</td>\n",
       "      <td>Permen Jahe Pekalongan</td>\n",
       "      <td>Kab. Pemalang</td>\n",
       "    </tr>\n",
       "    <tr>\n",
       "      <th>96</th>\n",
       "      <td>kerupuk seblak kering mangar manggar jaat akar...</td>\n",
       "      <td>11250.0</td>\n",
       "      <td>6</td>\n",
       "      <td>4.8</td>\n",
       "      <td>Qie snack</td>\n",
       "      <td>Kab. Jember</td>\n",
       "    </tr>\n",
       "    <tr>\n",
       "      <th>97</th>\n",
       "      <td>kerupuk seblak pedas daun jeruk kemasan 70 gram</td>\n",
       "      <td>4800.0</td>\n",
       "      <td>27</td>\n",
       "      <td>5.0</td>\n",
       "      <td>Gudang Snack Solo</td>\n",
       "      <td>Surakarta</td>\n",
       "    </tr>\n",
       "    <tr>\n",
       "      <th>98</th>\n",
       "      <td>NAAGIH! Seblak Cuanki Baso Aci Boci Instant Ku...</td>\n",
       "      <td>8000.0</td>\n",
       "      <td>100</td>\n",
       "      <td>5.0</td>\n",
       "      <td>Ebay Store</td>\n",
       "      <td>Kab. Tangerang</td>\n",
       "    </tr>\n",
       "    <tr>\n",
       "      <th>99</th>\n",
       "      <td>1KG Krupuk Seblak Kering Pedas/ Krupuk Seblak ...</td>\n",
       "      <td>21500.0</td>\n",
       "      <td>60</td>\n",
       "      <td>4.9</td>\n",
       "      <td>Vikasnack02</td>\n",
       "      <td>Kab. Karawang</td>\n",
       "    </tr>\n",
       "  </tbody>\n",
       "</table>\n",
       "<p>100 rows × 6 columns</p>\n",
       "</div>"
      ],
      "text/plain": [
       "                                                 name    price  items_sold  \\\n",
       "0   KRUPUK SEBLAK RAFAEL | SEBRING | KERUPUK MAWAR...  21630.0          70   \n",
       "1              Seblak Rafael/Seblak Coet Instan Halal  26600.0         500   \n",
       "2                               Seblak Sultan instant  14000.0         250   \n",
       "3   Kerupuk Seblak Rafael / Seblak Pedas 250 Gram ...  16000.0          70   \n",
       "4   KRUPUK STIK RASA UDANG CAP PADI KAPAS KHAS IND...  21500.0         250   \n",
       "..                                                ...      ...         ...   \n",
       "95                  seblak kerupuk kering level pedas   5000.0          26   \n",
       "96  kerupuk seblak kering mangar manggar jaat akar...  11250.0           6   \n",
       "97    kerupuk seblak pedas daun jeruk kemasan 70 gram   4800.0          27   \n",
       "98  NAAGIH! Seblak Cuanki Baso Aci Boci Instant Ku...   8000.0         100   \n",
       "99  1KG Krupuk Seblak Kering Pedas/ Krupuk Seblak ...  21500.0          60   \n",
       "\n",
       "    rating                  seller             city  \n",
       "0      5.0     Toko kue Sumber Mas    Jakarta Timur  \n",
       "1      4.9              Foodstocks  Jakarta Selatan  \n",
       "2      4.9        Sultan Meat Shop            Medan  \n",
       "3      5.0               TAM SNACK            Depok  \n",
       "4      4.9                dariimyu   Kab. Indramayu  \n",
       "..     ...                     ...              ...  \n",
       "95     4.1  Permen Jahe Pekalongan    Kab. Pemalang  \n",
       "96     4.8               Qie snack      Kab. Jember  \n",
       "97     5.0       Gudang Snack Solo        Surakarta  \n",
       "98     5.0              Ebay Store   Kab. Tangerang  \n",
       "99     4.9             Vikasnack02    Kab. Karawang  \n",
       "\n",
       "[100 rows x 6 columns]"
      ]
     },
     "execution_count": 106,
     "metadata": {},
     "output_type": "execute_result"
    }
   ],
   "source": [
    "# Simpan data yang telah dirapikan ke dalam \"cleaned_data.csv\"\n",
    "tokopedia.to_csv(\"cleaned_data.csv\")\n",
    "tokopedia"
   ]
  },
  {
   "cell_type": "code",
   "execution_count": 107,
   "metadata": {},
   "outputs": [
    {
     "data": {
      "text/html": [
       "<div>\n",
       "<style scoped>\n",
       "    .dataframe tbody tr th:only-of-type {\n",
       "        vertical-align: middle;\n",
       "    }\n",
       "\n",
       "    .dataframe tbody tr th {\n",
       "        vertical-align: top;\n",
       "    }\n",
       "\n",
       "    .dataframe thead th {\n",
       "        text-align: right;\n",
       "    }\n",
       "</style>\n",
       "<table border=\"1\" class=\"dataframe\">\n",
       "  <thead>\n",
       "    <tr style=\"text-align: right;\">\n",
       "      <th></th>\n",
       "      <th>price</th>\n",
       "      <th>items_sold</th>\n",
       "      <th>rating</th>\n",
       "    </tr>\n",
       "  </thead>\n",
       "  <tbody>\n",
       "    <tr>\n",
       "      <th>count</th>\n",
       "      <td>100.000000</td>\n",
       "      <td>100.000000</td>\n",
       "      <td>100.000000</td>\n",
       "    </tr>\n",
       "    <tr>\n",
       "      <th>mean</th>\n",
       "      <td>21268.310000</td>\n",
       "      <td>416.750000</td>\n",
       "      <td>4.613000</td>\n",
       "    </tr>\n",
       "    <tr>\n",
       "      <th>std</th>\n",
       "      <td>16945.683401</td>\n",
       "      <td>786.544037</td>\n",
       "      <td>1.078032</td>\n",
       "    </tr>\n",
       "    <tr>\n",
       "      <th>min</th>\n",
       "      <td>1100.000000</td>\n",
       "      <td>0.000000</td>\n",
       "      <td>0.000000</td>\n",
       "    </tr>\n",
       "    <tr>\n",
       "      <th>25%</th>\n",
       "      <td>9749.750000</td>\n",
       "      <td>30.000000</td>\n",
       "      <td>4.800000</td>\n",
       "    </tr>\n",
       "    <tr>\n",
       "      <th>50%</th>\n",
       "      <td>18449.500000</td>\n",
       "      <td>100.000000</td>\n",
       "      <td>4.900000</td>\n",
       "    </tr>\n",
       "    <tr>\n",
       "      <th>75%</th>\n",
       "      <td>26500.000000</td>\n",
       "      <td>500.000000</td>\n",
       "      <td>5.000000</td>\n",
       "    </tr>\n",
       "    <tr>\n",
       "      <th>max</th>\n",
       "      <td>91000.000000</td>\n",
       "      <td>4000.000000</td>\n",
       "      <td>5.000000</td>\n",
       "    </tr>\n",
       "  </tbody>\n",
       "</table>\n",
       "</div>"
      ],
      "text/plain": [
       "              price   items_sold      rating\n",
       "count    100.000000   100.000000  100.000000\n",
       "mean   21268.310000   416.750000    4.613000\n",
       "std    16945.683401   786.544037    1.078032\n",
       "min     1100.000000     0.000000    0.000000\n",
       "25%     9749.750000    30.000000    4.800000\n",
       "50%    18449.500000   100.000000    4.900000\n",
       "75%    26500.000000   500.000000    5.000000\n",
       "max    91000.000000  4000.000000    5.000000"
      ]
     },
     "execution_count": 107,
     "metadata": {},
     "output_type": "execute_result"
    }
   ],
   "source": [
    "# Lihat summary keseluruhan data\n",
    "tokopedia.describe()"
   ]
  },
  {
   "cell_type": "markdown",
   "metadata": {},
   "source": [
    "### SMART Framework\n",
    "\n",
    "- Specific: Increase average items_sold to be 800 by launching more effective advertising campaigns and giving promotions & discounts to users.\n",
    "- Measurable: Increase average items_sold from the current 416 to 800.\n",
    "- Achievable: Based on the current data, it is showing great results, as the mean rating is 4.6, meaning users are satisfied, so achieving average items_sold to 800 is achievable.\n",
    "- Relevant: Improving average items_sold is crucial to driving customer traffic, improving Tokopedia's reputation and increasing revenue. Moreover, seblak\n",
    "- Time-bound: The goal is set for the next 1 year.\n",
    "\n",
    "##### The goal is set for the next 1 year, by launching more effective advertising campaigns and giving promotions & discounts to users, the average items_sold of the product `seblak` is expected to reach 800.\n"
   ]
  },
  {
   "cell_type": "code",
   "execution_count": 109,
   "metadata": {},
   "outputs": [
    {
     "data": {
      "text/html": [
       "<div>\n",
       "<style scoped>\n",
       "    .dataframe tbody tr th:only-of-type {\n",
       "        vertical-align: middle;\n",
       "    }\n",
       "\n",
       "    .dataframe tbody tr th {\n",
       "        vertical-align: top;\n",
       "    }\n",
       "\n",
       "    .dataframe thead th {\n",
       "        text-align: right;\n",
       "    }\n",
       "</style>\n",
       "<table border=\"1\" class=\"dataframe\">\n",
       "  <thead>\n",
       "    <tr style=\"text-align: right;\">\n",
       "      <th></th>\n",
       "      <th>mean</th>\n",
       "      <th>median</th>\n",
       "      <th>std</th>\n",
       "      <th>skewness</th>\n",
       "      <th>kurtosis</th>\n",
       "    </tr>\n",
       "  </thead>\n",
       "  <tbody>\n",
       "    <tr>\n",
       "      <th>price</th>\n",
       "      <td>21268.310</td>\n",
       "      <td>18449.5</td>\n",
       "      <td>16945.683401</td>\n",
       "      <td>1.973404</td>\n",
       "      <td>4.878121</td>\n",
       "    </tr>\n",
       "    <tr>\n",
       "      <th>items_sold</th>\n",
       "      <td>416.750</td>\n",
       "      <td>100.0</td>\n",
       "      <td>786.544037</td>\n",
       "      <td>3.109596</td>\n",
       "      <td>10.145723</td>\n",
       "    </tr>\n",
       "    <tr>\n",
       "      <th>rating</th>\n",
       "      <td>4.613</td>\n",
       "      <td>4.9</td>\n",
       "      <td>1.078032</td>\n",
       "      <td>-4.018915</td>\n",
       "      <td>14.907508</td>\n",
       "    </tr>\n",
       "  </tbody>\n",
       "</table>\n",
       "</div>"
      ],
      "text/plain": [
       "                 mean   median           std  skewness   kurtosis\n",
       "price       21268.310  18449.5  16945.683401  1.973404   4.878121\n",
       "items_sold    416.750    100.0    786.544037  3.109596  10.145723\n",
       "rating          4.613      4.9      1.078032 -4.018915  14.907508"
      ]
     },
     "execution_count": 109,
     "metadata": {},
     "output_type": "execute_result"
    }
   ],
   "source": [
    "# Lihat overview data-data yang int dan float untuk mendapatkan gambaran/high overview mengenai data-data tersebut.\n",
    "new_tokopedia = tokopedia[['price', 'items_sold', 'rating']].copy()\n",
    "\n",
    "summary = pd.DataFrame({\n",
    "  'mean': new_tokopedia.mean(),\n",
    "  'median': new_tokopedia.median(),\n",
    "  'std': new_tokopedia.std(),\n",
    "  'skewness': new_tokopedia.skew(),\n",
    "  'kurtosis': new_tokopedia.kurtosis()\n",
    "})\n",
    "\n",
    "summary"
   ]
  },
  {
   "cell_type": "markdown",
   "metadata": {},
   "source": [
    "## D. Analysis\n",
    "\n",
    "### 1. Hitung rata-rata, median, standar deviasi, skewness, dan kurtosis dari kolom harga, banyak produk terjual, dan rating. Dari hasil perhitungan, insight apa saja yang bisa kamu dapatkan khususnya terkait dengan produk seblak dan datanya (distribusi dan kecenderungan ada/tidaknya outlier)? Note: Jika menemukan adanya indikasi outlier dari perhitungan ini, tidak perlu dihandle karena sifatnya alami. Dibiarkan saja.\n"
   ]
  },
  {
   "cell_type": "markdown",
   "metadata": {},
   "source": [
    "### Dari data di atas, dapat dilihat bahwa semua nilai skew nya lebih dari 1, atau kurang dari -1. Ini menandakan bahwa di semua kolom terdapat nilai ekstrim. Pada kolom price dan items_sold, karena nilai skew nya lebih dari 1, menandakan bahwa outliersnya lebih condong ke kanan, dan kebanyakan data berada di sisi kiri distribusi, sedangkan pada kolom rating, karena nilai skew nya kurang dari -1, menandakan bahwa outliersnya lebih condong ke kiri, dan kebanyakan data berada di sisi kanan distribusi.\n"
   ]
  },
  {
   "cell_type": "markdown",
   "metadata": {},
   "source": [
    "### Bisa disimpulkan dari analisa tersebut, bahwa untuk price dan items_sold lebih banyak barang yang terjual lebih murah dan lebih sedikit, sedangkan untuk rating, lebih banyak barang yang memiliki rating yang mendekati 5, dari pada yang mendekati 4.\n"
   ]
  },
  {
   "cell_type": "markdown",
   "metadata": {},
   "source": [
    "### 2. Kamu memikirkan berapa potensi minimum dan maksimum pendapatan jika kamu menjual produk seblak?(Gunakan confidence interval untuk mendapatkan lower value dan upper value dari distribusi populasi pendapatan).\n",
    "\n",
    "### Anggap data terdistribusi normal dan informasi produk terjual merupakan penjualan produk per bulan. Ambil confidence level 95%.\n"
   ]
  },
  {
   "cell_type": "code",
   "execution_count": 123,
   "metadata": {},
   "outputs": [
    {
     "data": {
      "text/html": [
       "<div>\n",
       "<style scoped>\n",
       "    .dataframe tbody tr th:only-of-type {\n",
       "        vertical-align: middle;\n",
       "    }\n",
       "\n",
       "    .dataframe tbody tr th {\n",
       "        vertical-align: top;\n",
       "    }\n",
       "\n",
       "    .dataframe thead th {\n",
       "        text-align: right;\n",
       "    }\n",
       "</style>\n",
       "<table border=\"1\" class=\"dataframe\">\n",
       "  <thead>\n",
       "    <tr style=\"text-align: right;\">\n",
       "      <th></th>\n",
       "      <th>price</th>\n",
       "      <th>items_sold</th>\n",
       "      <th>rating</th>\n",
       "      <th>revenue</th>\n",
       "    </tr>\n",
       "  </thead>\n",
       "  <tbody>\n",
       "    <tr>\n",
       "      <th>0</th>\n",
       "      <td>21630.0</td>\n",
       "      <td>70</td>\n",
       "      <td>5.0</td>\n",
       "      <td>1514100.0</td>\n",
       "    </tr>\n",
       "    <tr>\n",
       "      <th>1</th>\n",
       "      <td>26600.0</td>\n",
       "      <td>500</td>\n",
       "      <td>4.9</td>\n",
       "      <td>13300000.0</td>\n",
       "    </tr>\n",
       "    <tr>\n",
       "      <th>2</th>\n",
       "      <td>14000.0</td>\n",
       "      <td>250</td>\n",
       "      <td>4.9</td>\n",
       "      <td>3500000.0</td>\n",
       "    </tr>\n",
       "    <tr>\n",
       "      <th>3</th>\n",
       "      <td>16000.0</td>\n",
       "      <td>70</td>\n",
       "      <td>5.0</td>\n",
       "      <td>1120000.0</td>\n",
       "    </tr>\n",
       "    <tr>\n",
       "      <th>4</th>\n",
       "      <td>21500.0</td>\n",
       "      <td>250</td>\n",
       "      <td>4.9</td>\n",
       "      <td>5375000.0</td>\n",
       "    </tr>\n",
       "    <tr>\n",
       "      <th>...</th>\n",
       "      <td>...</td>\n",
       "      <td>...</td>\n",
       "      <td>...</td>\n",
       "      <td>...</td>\n",
       "    </tr>\n",
       "    <tr>\n",
       "      <th>95</th>\n",
       "      <td>5000.0</td>\n",
       "      <td>26</td>\n",
       "      <td>4.1</td>\n",
       "      <td>130000.0</td>\n",
       "    </tr>\n",
       "    <tr>\n",
       "      <th>96</th>\n",
       "      <td>11250.0</td>\n",
       "      <td>6</td>\n",
       "      <td>4.8</td>\n",
       "      <td>67500.0</td>\n",
       "    </tr>\n",
       "    <tr>\n",
       "      <th>97</th>\n",
       "      <td>4800.0</td>\n",
       "      <td>27</td>\n",
       "      <td>5.0</td>\n",
       "      <td>129600.0</td>\n",
       "    </tr>\n",
       "    <tr>\n",
       "      <th>98</th>\n",
       "      <td>8000.0</td>\n",
       "      <td>100</td>\n",
       "      <td>5.0</td>\n",
       "      <td>800000.0</td>\n",
       "    </tr>\n",
       "    <tr>\n",
       "      <th>99</th>\n",
       "      <td>21500.0</td>\n",
       "      <td>60</td>\n",
       "      <td>4.9</td>\n",
       "      <td>1290000.0</td>\n",
       "    </tr>\n",
       "  </tbody>\n",
       "</table>\n",
       "<p>100 rows × 4 columns</p>\n",
       "</div>"
      ],
      "text/plain": [
       "      price  items_sold  rating     revenue\n",
       "0   21630.0          70     5.0   1514100.0\n",
       "1   26600.0         500     4.9  13300000.0\n",
       "2   14000.0         250     4.9   3500000.0\n",
       "3   16000.0          70     5.0   1120000.0\n",
       "4   21500.0         250     4.9   5375000.0\n",
       "..      ...         ...     ...         ...\n",
       "95   5000.0          26     4.1    130000.0\n",
       "96  11250.0           6     4.8     67500.0\n",
       "97   4800.0          27     5.0    129600.0\n",
       "98   8000.0         100     5.0    800000.0\n",
       "99  21500.0          60     4.9   1290000.0\n",
       "\n",
       "[100 rows x 4 columns]"
      ]
     },
     "execution_count": 123,
     "metadata": {},
     "output_type": "execute_result"
    }
   ],
   "source": [
    "# Melakukan kalkulasi perkalian items_sold dan price untuk mendapatkan nilai revenue\n",
    "new_tokopedia['revenue'] = new_tokopedia['items_sold'] * new_tokopedia['price']\n",
    "new_tokopedia"
   ]
  },
  {
   "cell_type": "code",
   "execution_count": 139,
   "metadata": {},
   "outputs": [
    {
     "name": "stdout",
     "output_type": "stream",
     "text": [
      "Lower value: 4134972.43\n",
      "Upper value: 10160977.29\n"
     ]
    }
   ],
   "source": [
    "# Mendapatkan lower value dan upper value dari kolom revenue, dengan 95% confidence interval\n",
    "from scipy import stats\n",
    "import numpy as np\n",
    "revenue_std = new_tokopedia['revenue'].std()\n",
    "N = len(new_tokopedia['revenue'])\n",
    "low, up = stats.norm.interval(0.95, loc=new_tokopedia['revenue'].mean(), scale=revenue_std/np.sqrt(N))\n",
    "\n",
    "print(f\"Lower value: {low:.2f}\")\n",
    "print(f\"Upper value: {up:.2f}\")"
   ]
  },
  {
   "cell_type": "markdown",
   "metadata": {},
   "source": [
    "### 3. Apakah harga barang di Jabodetabek dan di luar Jabodetabek berbeda? mengingat biaya bahan baku di kedua lokasi berbeda. (Gunakan uji hipotesis yang diawali dengan menuliskan hipotesis null dan alternatifnya serta tentukan jenis hipotesis yang digunakan).\n"
   ]
  },
  {
   "cell_type": "code",
   "execution_count": 136,
   "metadata": {},
   "outputs": [],
   "source": [
    "# Pisahkan data antara yang di daerah jabodetabek dan non-jabodetabek\n",
    "tokopedia['city'].unique()\n",
    "jabodetabek_list = [\"Jakarta Timur\", \n",
    "                    \"Jakarta Selatan\", \n",
    "                    \"Jakarta Utara\", \n",
    "                    \"Jakarta Barat\",\n",
    "                    \"Depok\", \n",
    "                    \"Kab. Bogor\", \n",
    "                    \"Tangerang\", \n",
    "                    \"Kab. Tangerang\", \n",
    "                    \"Tangerang Selatan\"\n",
    "                    ]\n",
    "\n",
    "jabodetabek = tokopedia[tokopedia['city'].isin(jabodetabek_list)]\n",
    "non_jabodetabek = tokopedia[~(tokopedia['city'].isin(jabodetabek_list))]"
   ]
  },
  {
   "cell_type": "markdown",
   "metadata": {},
   "source": [
    "## h0: Harga seblak di Jabodetabek >= harga seblak di luar Jabodetabek\n",
    "\n",
    "## h1: Harga seblak di Jabodetabek < harga seblak di luar Jabodetabek\n"
   ]
  },
  {
   "cell_type": "code",
   "execution_count": 138,
   "metadata": {},
   "outputs": [
    {
     "name": "stdout",
     "output_type": "stream",
     "text": [
      "T-Statistic: -0.4768320994448604\n",
      "P-value: 0.31727162265625564\n"
     ]
    }
   ],
   "source": [
    "# Lakukan Hypothesis testing terhadap harga-harga barang di jabodetabek dan non-jabodetabek\n",
    "t_stat, p_val = stats.ttest_ind(jabodetabek['price'], non_jabodetabek['price'])\n",
    "print('T-Statistic:', t_stat)\n",
    "print('P-value:', p_val / 2) # Di bagi 2 karena one sided p value"
   ]
  },
  {
   "cell_type": "markdown",
   "metadata": {},
   "source": [
    "### Dari hasil yang didapat di atas, yaitu P-value (0.31) lebih dari critical value (0.5), sehingga h0 dapat diterima, dan kita menolak h1.Harga barang di daerah Jabodetabek sama atau lebih dari harga barang di luar Jabodetabek.\n"
   ]
  },
  {
   "cell_type": "markdown",
   "metadata": {},
   "source": [
    "### 4. Apakah orang lebih cenderung suka dengan produk yang harganya murah?\n",
    "\n",
    "### Kamu dapat jawab pertanyaan ini dengan uji korelasi. Gunakan library scipy jangan pandas. Analisis nilai korelasi dan p-value nya. Gunakan teknik yang sesuai dengan kondisi data!\n"
   ]
  },
  {
   "cell_type": "code",
   "execution_count": 135,
   "metadata": {},
   "outputs": [
    {
     "name": "stdout",
     "output_type": "stream",
     "text": [
      "Correlation: 0.0890880899920595\n",
      "P Value: 0.5383962240782136\n",
      "Cheap data items sold mean: 470.4\n",
      "Not cheap data items sold mean: 363.1\n"
     ]
    }
   ],
   "source": [
    "# Lakukan correlation testing antara data-data yang harganya murah dan yang tidak murah\n",
    "cheap_price = tokopedia['price'].quantile(0.5)\n",
    "cheap_data = tokopedia[tokopedia['price'] <= cheap_price]\n",
    "not_cheap_data = tokopedia[tokopedia['price'] > cheap_price]\n",
    "\n",
    "correlation, pvalue = stats.spearmanr(cheap_data['items_sold'], not_cheap_data['items_sold'])\n",
    "print(\"Correlation:\", correlation)\n",
    "print(\"P Value:\", pvalue)\n",
    "print(\"Cheap data items sold mean:\", cheap_data['items_sold'].mean())\n",
    "print(\"Not cheap data items sold mean:\", not_cheap_data['items_sold'].mean())"
   ]
  },
  {
   "cell_type": "markdown",
   "metadata": {},
   "source": [
    "### Berdasarkan data di atas, bisa disimpulkan bahwa tidak ada korelasi/relationship yang meaningful dari untuk items_sold dari data yang price nya rendah dan yang price nya tinggi. Namun, nilai rata-rata items_sold pada seblak yang harganya murah adalah 107 lebih dari seblak yang harganya mahal. Dari sini bisa disimpulkan bahwa orang lebih cenderung suka dengan produk yang harganya murah.\n"
   ]
  },
  {
   "cell_type": "markdown",
   "metadata": {},
   "source": [
    "## E. Conclusion\n",
    "\n",
    "### Tuliskan di markdown kesimpulan dari hasil analisis dari nomor 1-4. Kesimpulan yang baik menjawab tujuan yang ingin dicapai. Kamu dibebaskan menuliskan dalam format paragraf atau poin.\n"
   ]
  },
  {
   "cell_type": "markdown",
   "metadata": {},
   "source": [
    "### Kesimpulan dari hasil-hasil nomor 1 sampai 4, menunjukkan bahwa sebagian customer puas dengan produk-produk seblak yang ditawarkan di Tokopedia, karena nilai rata-rata rating nya adalah 4.6. Untuk price, items_sold dan rating masing-masing memiliki outliers, dengan price dan items_sold outliersnya di arah kanan distribusi, sedangkan rating outliersnya di arah kiri distribusi. Untuk price dan items_sold, lebih banyak data yang value nya di kiri/rendah, sedangkan untuk rating lebih banyak data yang valuenya di kanan/tinggi. Potensi pendapatan jika saya mau jualan seblak, berdasarkan data adalah Rp 4,134,972.43 untuk nilai paling rendah, dan Rp 10,160,977.29 untuk nilai paling tinggi, dengan 95% confidence. Berdasarkan hasil hypothesis testing yang telah dilakukan, bisa disimpulkan bahwa harga barang-barang di daerah Jabodetabek lebih mahal dari pada daerah di luar Jabodetabek. Akhirnya, kita juga bisa menyimpulkan bahwa barang-barang yang lebih murah cenderung dibeli orang, dari pada barang-barang yang lebih mahal, dengan perbedaan rata-rata items_sold yaitu 107.\n"
   ]
  }
 ],
 "metadata": {
  "kernelspec": {
   "display_name": "base",
   "language": "python",
   "name": "python3"
  },
  "language_info": {
   "codemirror_mode": {
    "name": "ipython",
    "version": 3
   },
   "file_extension": ".py",
   "mimetype": "text/x-python",
   "name": "python",
   "nbconvert_exporter": "python",
   "pygments_lexer": "ipython3",
   "version": "3.12.2"
  }
 },
 "nbformat": 4,
 "nbformat_minor": 2
}
