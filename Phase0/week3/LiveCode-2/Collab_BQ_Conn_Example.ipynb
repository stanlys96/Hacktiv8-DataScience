{
  "nbformat": 4,
  "nbformat_minor": 0,
  "metadata": {
    "colab": {
      "provenance": []
    },
    "kernelspec": {
      "name": "python3",
      "display_name": "Python 3"
    },
    "language_info": {
      "name": "python"
    }
  },
  "cells": [
    {
      "cell_type": "code",
      "execution_count": 1,
      "metadata": {
        "colab": {
          "base_uri": "https://localhost:8080/"
        },
        "id": "y-8XyKKrDKdW",
        "outputId": "fc233ed3-4ece-4f2e-8b4d-f2b7ac208bdb"
      },
      "outputs": [
        {
          "output_type": "stream",
          "name": "stdout",
          "text": [
            "Authenticated\n"
          ]
        }
      ],
      "source": [
        "from google.colab import auth\n",
        "from google.cloud import bigquery\n",
        "auth.authenticate_user()\n",
        "print('Authenticated')\n",
        "\n",
        "project_id_akun = \"rafif-h8\" #GUNAKAN GCP PROJECT-ID KALIAN MASING-MASING\n",
        "client = bigquery.Client(project=project_id_akun)"
      ]
    },
    {
      "cell_type": "code",
      "source": [
        "df = client.query('''\n",
        "SELECT *\n",
        "FROM `ftds-hacktiv8-project.phase0_ftds_{batch}_{kode_program}.taxi_fare`  # sesuaikan {batch} dan {kode_program}\n",
        "''').to_dataframe()\n",
        "\n",
        "df.head()"
      ],
      "metadata": {
        "id": "MdwVWzOXDRjY"
      },
      "execution_count": null,
      "outputs": []
    }
  ]
}