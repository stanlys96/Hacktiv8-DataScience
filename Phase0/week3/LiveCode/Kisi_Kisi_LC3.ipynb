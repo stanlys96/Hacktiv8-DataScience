{
  "nbformat": 4,
  "nbformat_minor": 0,
  "metadata": {
    "colab": {
      "provenance": []
    },
    "kernelspec": {
      "name": "python3",
      "display_name": "Python 3"
    },
    "language_info": {
      "name": "python"
    }
  },
  "cells": [
    {
      "cell_type": "markdown",
      "source": [
        "Perusahaan peminjaman sepeda di San Fransisco memintamu untuk menganalisa durasi perjalanan customer mereka. Untuk memudahkan analisa, lakukan hal-hal berikut ini:\n",
        "\n",
        "## **STATISTIK DESKRIPTIF**\n",
        "\n",
        "1. Lakukan perhitungan central tendency (mean, median, dan modus).\n",
        "2. Lakukan pengecekan dispersi (standar deviasi, variance, dan range).\n",
        "3. Lakukan pengecekan skewness dan kurtosis.\n",
        "3. Analisa apakah ada data outlier berdasarkan sebaran datanya.\n",
        "4. Cari tahu berapa persentase outlier terhadap data keseluruhan.\n",
        "5. Bagaimana perubahan pemusatan data sebelum dan sesudah penghapusan outlier?\n",
        "\n",
        "## **API**\n",
        "\n",
        "Buatlah API untuk:\n",
        "- `Menampilkan` seluruh entry data setelah dilakukan handling outlier.\n",
        "- `Menghapus` entry data, dari data yang telah dihandling outlier.\n",
        "\n",
        "clue:\n",
        "- Load data csv yang sudah diolah dengan pandas, kemudian konversi data ke dictionary `df.to_dict()` atau json `df.to_json()` untuk dapat diolah lebih lanjut dengan API menggunakan FastAPI.\n",
        "- Pembuatan API dilakukan pada script `.py`\n",
        "- Endpoint dan penamaan function pada API dibebaskan.\n",
        "\n",
        "\n",
        "---\n",
        "\n",
        "\n",
        "\n",
        "Data dapat diakses dari BigQuery dengan ketentuan:\n",
        "\n",
        "- Project_id: `bigquery-public-data`\n",
        "- Dataset: `san_francisco_bikeshare`\n",
        "- Table: `bikeshare_trips`\n",
        "- Ambil hanya kolom `duration_sec` saja\n",
        "- Berikan LIMIT pada data yang diambil sebesar 3000 entry data\n",
        "\n",
        "Koneksikan data di atas menggunakan `BigQuery` ke Google Colab dengan code berikut:\n",
        "```py\n",
        "from google.colab import auth\n",
        "from google.cloud import bigquery\n",
        "auth.authenticate_user()\n",
        "print('Authenticated')\n",
        "\n",
        "  project_id = \"rock-wonder-317907\" #GUNAKAN GCP PROJECT-ID KALIAN MASING-MASING\n",
        "client = bigquery.Client(project=project_id)\n",
        "```\n",
        "\n",
        "Untuk melakukan Query menggunakan cara ini, kamu dapat menggunakan method `client.query('Masukkan Querynya').to_dataframe()`. Outputnya akan berupa Pandas dataframe, sehingga harus import Pandas.\n",
        "\n",
        "Contoh:\n",
        "\n",
        "```py\n",
        "df = client.query('''\n",
        "SELECT *\n",
        "FROM `bigquery-public-data.thelook_ecommerce.orders`\n",
        "WHERE created_at < \"2022-07-01\"\n",
        "ORDER BY year,month ASC\n",
        "''').to_dataframe()\n",
        "```\n",
        "\n"
      ],
      "metadata": {
        "id": "e0E_A5aDbO7r"
      }
    },
    {
      "cell_type": "code",
      "source": [
        "# Working area\n",
        "from google.colab import auth\n",
        "from google.cloud import bigquery\n",
        "from scipy import stats\n",
        "auth.authenticate_user()\n",
        "print('Authenticated')\n",
        "\n",
        "project_id = \"pc-api-5133159006662443041-958\" #GUNAKAN GCP PROJECT-ID KALIAN MASING-MASING\n",
        "client = bigquery.Client(project=project_id)\n",
        "\n",
        "df = client.query('''\n",
        "SELECT duration_sec\n",
        "FROM `bigquery-public-data.san_francisco_bikeshare.bikeshare_trips`\n",
        "LIMIT 3000\n",
        "''').to_dataframe()\n",
        "\n",
        "print(df)"
      ],
      "metadata": {
        "id": "stLFk77dk8Ek",
        "colab": {
          "base_uri": "https://localhost:8080/"
        },
        "outputId": "312faa0a-71a4-454c-fc7f-9268d01e6618"
      },
      "execution_count": 9,
      "outputs": [
        {
          "output_type": "stream",
          "name": "stdout",
          "text": [
            "Authenticated\n",
            "      duration_sec\n",
            "0             2781\n",
            "1              501\n",
            "2              367\n",
            "3              462\n",
            "4              489\n",
            "...            ...\n",
            "2995           756\n",
            "2996          1248\n",
            "2997           780\n",
            "2998           676\n",
            "2999          1387\n",
            "\n",
            "[3000 rows x 1 columns]\n"
          ]
        }
      ]
    },
    {
      "cell_type": "code",
      "source": [
        "print(df[\"duration_sec\"].mean())\n",
        "print(df[\"duration_sec\"].median())\n",
        "print(df[\"duration_sec\"].mode().values[0])"
      ],
      "metadata": {
        "colab": {
          "base_uri": "https://localhost:8080/"
        },
        "id": "96PCyymXWxRG",
        "outputId": "6ee7da44-f9e4-458c-d221-f7242e7a899f"
      },
      "execution_count": 17,
      "outputs": [
        {
          "output_type": "stream",
          "name": "stdout",
          "text": [
            "756.992\n",
            "482.0\n",
            "355.0\n"
          ]
        }
      ]
    },
    {
      "cell_type": "code",
      "source": [
        "df[\"duration_sec\"] = df[\"duration_sec\"].astype(float)\n",
        "print(df[\"duration_sec\"].std())\n",
        "print(df[\"duration_sec\"].var())\n",
        "print(df[\"duration_sec\"].max())\n",
        "print(df[\"duration_sec\"].min())\n",
        "print(df[\"duration_sec\"].max() - df[\"duration_sec\"].min())"
      ],
      "metadata": {
        "colab": {
          "base_uri": "https://localhost:8080/"
        },
        "id": "w9CmUXXJYtF1",
        "outputId": "0162412b-460c-445c-e375-29eea3391df9"
      },
      "execution_count": 16,
      "outputs": [
        {
          "output_type": "stream",
          "name": "stdout",
          "text": [
            "2525.7454665880327\n",
            "6379390.161989999\n",
            "83115.0\n",
            "61.0\n",
            "83054.0\n"
          ]
        }
      ]
    },
    {
      "cell_type": "code",
      "source": [
        "res = stats.normaltest(df['duration_sec'])\n",
        "print(f'p-value: {res.pvalue}') #ga normal"
      ],
      "metadata": {
        "colab": {
          "base_uri": "https://localhost:8080/"
        },
        "id": "uDXZ1bL9ZfON",
        "outputId": "7fda4381-f22a-4f83-ba10-61b8ba96f9a3"
      },
      "execution_count": 15,
      "outputs": [
        {
          "output_type": "stream",
          "name": "stdout",
          "text": [
            "p-value: 0.0\n"
          ]
        }
      ]
    },
    {
      "cell_type": "code",
      "source": [
        "res = stats.shapiro(df['duration_sec'])\n",
        "print(f'p-value: {res.pvalue}') #ga normal"
      ],
      "metadata": {
        "colab": {
          "base_uri": "https://localhost:8080/"
        },
        "id": "XCEXgUI9ofAa",
        "outputId": "c031c659-9d02-47de-c9ac-d3f2ff695b45"
      },
      "execution_count": 18,
      "outputs": [
        {
          "output_type": "stream",
          "name": "stdout",
          "text": [
            "p-value: 4.190451496852578e-80\n"
          ]
        }
      ]
    },
    {
      "cell_type": "code",
      "source": [
        "df['duration_sec'].hist()"
      ],
      "metadata": {
        "colab": {
          "base_uri": "https://localhost:8080/",
          "height": 448
        },
        "id": "L6alTX56pSWx",
        "outputId": "49fd2e43-3204-4822-c790-2336e00388a3"
      },
      "execution_count": 19,
      "outputs": [
        {
          "output_type": "execute_result",
          "data": {
            "text/plain": [
              "<Axes: >"
            ]
          },
          "metadata": {},
          "execution_count": 19
        },
        {
          "output_type": "display_data",
          "data": {
            "text/plain": [
              "<Figure size 640x480 with 1 Axes>"
            ],
            "image/png": "[encoded data removed]"
          },
          "metadata": {}
        }
      ]
    },
    {
      "cell_type": "code",
      "source": [
        "print(f\"Skewness: {df['duration_sec'].skew()}\")"
      ],
      "metadata": {
        "colab": {
          "base_uri": "https://localhost:8080/"
        },
        "id": "4BIj2Kn4pdGo",
        "outputId": "afd22573-00ac-411c-88b8-b3f257a6ed34"
      },
      "execution_count": 20,
      "outputs": [
        {
          "output_type": "stream",
          "name": "stdout",
          "text": [
            "Skewness: 25.000505359432687\n"
          ]
        }
      ]
    },
    {
      "cell_type": "code",
      "source": [
        "print(f\"Kurtosis: {df['duration_sec'].kurtosis()}\")"
      ],
      "metadata": {
        "colab": {
          "base_uri": "https://localhost:8080/"
        },
        "id": "fC_Abna5pmZa",
        "outputId": "5bb3bacd-8902-4fbe-a429-37c51b582134"
      },
      "execution_count": 21,
      "outputs": [
        {
          "output_type": "stream",
          "name": "stdout",
          "text": [
            "Kurtosis: 727.2287818326724\n"
          ]
        }
      ]
    },
    {
      "cell_type": "code",
      "source": [
        "q1 = df['duration_sec'].quantile(0.25)\n",
        "q3 = df['duration_sec'].quantile(0.75)\n",
        "iqr = q3-q1\n",
        "\n",
        "up_bound = q3 + 1.5*iqr\n",
        "low_bound = q1 - 1.5*iqr\n",
        "\n",
        "print(f'Upper Boundary: {up_bound:.2f}' )\n",
        "print(f'Lower Boundary: {low_bound:.2f}')\n",
        "\n",
        "the_upper = df[(df['duration_sec'] > up_bound) | (df['duration_sec'] < low_bound)]\n",
        "print(the_upper)\n",
        "len(the_upper) / len(df['duration_sec']) * 100"
      ],
      "metadata": {
        "colab": {
          "base_uri": "https://localhost:8080/"
        },
        "id": "rsUz5ItJqWXI",
        "outputId": "3477511a-ba06-4704-a43f-59aab24532bd"
      },
      "execution_count": 47,
      "outputs": [
        {
          "output_type": "stream",
          "name": "stdout",
          "text": [
            "Upper Boundary: 1473.00\n",
            "Lower Boundary: -391.00\n",
            "      duration_sec\n",
            "0           2781.0\n",
            "17          1497.0\n",
            "34          1684.0\n",
            "36          1504.0\n",
            "37          3210.0\n",
            "...            ...\n",
            "2875        1698.0\n",
            "2931        2457.0\n",
            "2939        1562.0\n",
            "2945        2115.0\n",
            "2962        1826.0\n",
            "\n",
            "[158 rows x 1 columns]\n"
          ]
        },
        {
          "output_type": "execute_result",
          "data": {
            "text/plain": [
              "5.266666666666667"
            ]
          },
          "metadata": {},
          "execution_count": 47
        }
      ]
    },
    {
      "cell_type": "code",
      "source": [
        "avg = df['duration_sec'].mean()\n",
        "std = df['duration_sec'].std()\n",
        "\n",
        "up_bound = avg + 3*std\n",
        "low_bound = avg - 3*std\n",
        "\n",
        "print(f'Upper Boundary: {up_bound:.2f}' )\n",
        "print(f'Lower Boundary: {low_bound:.2f}')"
      ],
      "metadata": {
        "colab": {
          "base_uri": "https://localhost:8080/"
        },
        "id": "HRJQM8Z4qnHf",
        "outputId": "2424c8de-b464-45fb-efaf-327346cf7bf9"
      },
      "execution_count": 23,
      "outputs": [
        {
          "output_type": "stream",
          "name": "stdout",
          "text": [
            "Upper Boundary: 8334.23\n",
            "Lower Boundary: -6820.24\n"
          ]
        }
      ]
    },
    {
      "cell_type": "code",
      "source": [
        "outlier = df['duration_sec'][(df['duration_sec']<low_bound) | (df['duration_sec']>up_bound)]\n",
        "no_outlier = df['duration_sec'][(df['duration_sec']>=low_bound) & (df['duration_sec']<=up_bound)]\n",
        "\n",
        "print(len(outlier))\n",
        "print(f'Percentage of outliers: {len(outlier)*100/len(df[\"duration_sec\"]):.2f}%')"
      ],
      "metadata": {
        "colab": {
          "base_uri": "https://localhost:8080/"
        },
        "id": "e_XzdejXquhG",
        "outputId": "2516e14c-022b-4ff5-9110-ec1d73d0646c"
      },
      "execution_count": 40,
      "outputs": [
        {
          "output_type": "stream",
          "name": "stdout",
          "text": [
            "17\n",
            "Percentage of outliers: 0.57%\n"
          ]
        }
      ]
    },
    {
      "cell_type": "code",
      "source": [
        "print(df[\"duration_sec\"].mean())\n",
        "print(df[\"duration_sec\"].median())\n",
        "print(df[\"duration_sec\"].mode().values[0])\n",
        "\n",
        "print(no_outlier.mean())\n",
        "print(no_outlier.median())\n",
        "print(no_outlier.mode().values[0])"
      ],
      "metadata": {
        "colab": {
          "base_uri": "https://localhost:8080/"
        },
        "id": "WBIqSILJrVLt",
        "outputId": "39f33a37-fcfb-4386-b857-e3bd8190cb6f"
      },
      "execution_count": 35,
      "outputs": [
        {
          "output_type": "stream",
          "name": "stdout",
          "text": [
            "756.992\n",
            "482.0\n",
            "355.0\n",
            "627.1223600402279\n",
            "479.0\n",
            "355.0\n"
          ]
        }
      ]
    }
  ]
}