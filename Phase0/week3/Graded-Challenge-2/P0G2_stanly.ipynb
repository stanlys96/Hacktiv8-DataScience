{
 "cells": [
  {
   "cell_type": "markdown",
   "metadata": {},
   "source": [
    "## Graded Challenge 2\n",
    "\n",
    "### Nama  : Stanly Sukmajaya\n",
    "### Batch : RMT-036\n",
    "\n",
    "### Program ini dibuat untuk melakukan data eksplorasi, data cleaning, data normalization dan mengekspor data yang telah diolah ke file .csv"
   ]
  },
  {
   "cell_type": "markdown",
   "metadata": {},
   "source": [
    "### Import library pandas ke dalam file ini"
   ]
  },
  {
   "cell_type": "code",
   "execution_count": 624,
   "metadata": {},
   "outputs": [],
   "source": [
    "import pandas as pd"
   ]
  },
  {
   "cell_type": "markdown",
   "metadata": {},
   "source": [
    "# 1. Data Exploration"
   ]
  },
  {
   "cell_type": "markdown",
   "metadata": {},
   "source": [
    "### a. Load file data dengan Pandas lalu tampilkan data. Informasi apa yang bisa kamu sampaikan dari langkah ini?"
   ]
  },
  {
   "cell_type": "markdown",
   "metadata": {},
   "source": [
    "#### Dengan informasi ini saya bisa melihat high overview data. Data `financials.csv` merupakan data mengenai penjualan produk. Data desidiakan dalam beberapa kategori, termasuk segmentasi, negara, nama produk dan band diskon. Terdapat juga informasi mengenai waktu dimana barang tersebut terjual"
   ]
  },
  {
   "cell_type": "code",
   "execution_count": 625,
   "metadata": {},
   "outputs": [
    {
     "data": {
      "text/html": [
       "<div>\n",
       "<style scoped>\n",
       "    .dataframe tbody tr th:only-of-type {\n",
       "        vertical-align: middle;\n",
       "    }\n",
       "\n",
       "    .dataframe tbody tr th {\n",
       "        vertical-align: top;\n",
       "    }\n",
       "\n",
       "    .dataframe thead th {\n",
       "        text-align: right;\n",
       "    }\n",
       "</style>\n",
       "<table border=\"1\" class=\"dataframe\">\n",
       "  <thead>\n",
       "    <tr style=\"text-align: right;\">\n",
       "      <th></th>\n",
       "      <th>Segment</th>\n",
       "      <th>Country</th>\n",
       "      <th>Product</th>\n",
       "      <th>Discount Band</th>\n",
       "      <th>Units Sold</th>\n",
       "      <th>Manufacturing Price</th>\n",
       "      <th>Sale Price</th>\n",
       "      <th>Gross Sales</th>\n",
       "      <th>Discounts</th>\n",
       "      <th>Sales</th>\n",
       "      <th>COGS</th>\n",
       "      <th>Profit</th>\n",
       "      <th>Date</th>\n",
       "      <th>Month Number</th>\n",
       "      <th>Month Name</th>\n",
       "      <th>Year</th>\n",
       "    </tr>\n",
       "  </thead>\n",
       "  <tbody>\n",
       "    <tr>\n",
       "      <th>0</th>\n",
       "      <td>Government</td>\n",
       "      <td>Canada</td>\n",
       "      <td>Carretera</td>\n",
       "      <td>None</td>\n",
       "      <td>$1,618.50</td>\n",
       "      <td>$3.00</td>\n",
       "      <td>$20.00</td>\n",
       "      <td>$32,370.00</td>\n",
       "      <td>$-</td>\n",
       "      <td>$32,370.00</td>\n",
       "      <td>$16,185.00</td>\n",
       "      <td>$16,185.00</td>\n",
       "      <td>01/01/2014</td>\n",
       "      <td>1</td>\n",
       "      <td>January</td>\n",
       "      <td>2014</td>\n",
       "    </tr>\n",
       "    <tr>\n",
       "      <th>1</th>\n",
       "      <td>Government</td>\n",
       "      <td>Germany</td>\n",
       "      <td>Carretera</td>\n",
       "      <td>None</td>\n",
       "      <td>$1,321.00</td>\n",
       "      <td>$3.00</td>\n",
       "      <td>$20.00</td>\n",
       "      <td>$26,420.00</td>\n",
       "      <td>$-</td>\n",
       "      <td>$26,420.00</td>\n",
       "      <td>$13,210.00</td>\n",
       "      <td>$13,210.00</td>\n",
       "      <td>01/01/2014</td>\n",
       "      <td>1</td>\n",
       "      <td>January</td>\n",
       "      <td>2014</td>\n",
       "    </tr>\n",
       "    <tr>\n",
       "      <th>2</th>\n",
       "      <td>Midmarket</td>\n",
       "      <td>France</td>\n",
       "      <td>Carretera</td>\n",
       "      <td>None</td>\n",
       "      <td>$2,178.00</td>\n",
       "      <td>$3.00</td>\n",
       "      <td>$15.00</td>\n",
       "      <td>$32,670.00</td>\n",
       "      <td>$-</td>\n",
       "      <td>$32,670.00</td>\n",
       "      <td>$21,780.00</td>\n",
       "      <td>$10,890.00</td>\n",
       "      <td>01/06/2014</td>\n",
       "      <td>6</td>\n",
       "      <td>June</td>\n",
       "      <td>2014</td>\n",
       "    </tr>\n",
       "    <tr>\n",
       "      <th>3</th>\n",
       "      <td>Midmarket</td>\n",
       "      <td>Germany</td>\n",
       "      <td>Carretera</td>\n",
       "      <td>None</td>\n",
       "      <td>$888.00</td>\n",
       "      <td>$3.00</td>\n",
       "      <td>$15.00</td>\n",
       "      <td>$13,320.00</td>\n",
       "      <td>$-</td>\n",
       "      <td>$13,320.00</td>\n",
       "      <td>$8,880.00</td>\n",
       "      <td>$4,440.00</td>\n",
       "      <td>01/06/2014</td>\n",
       "      <td>6</td>\n",
       "      <td>June</td>\n",
       "      <td>2014</td>\n",
       "    </tr>\n",
       "    <tr>\n",
       "      <th>4</th>\n",
       "      <td>Midmarket</td>\n",
       "      <td>Mexico</td>\n",
       "      <td>Carretera</td>\n",
       "      <td>None</td>\n",
       "      <td>$2,470.00</td>\n",
       "      <td>$3.00</td>\n",
       "      <td>$15.00</td>\n",
       "      <td>$37,050.00</td>\n",
       "      <td>$-</td>\n",
       "      <td>$37,050.00</td>\n",
       "      <td>$24,700.00</td>\n",
       "      <td>$12,350.00</td>\n",
       "      <td>01/06/2014</td>\n",
       "      <td>6</td>\n",
       "      <td>June</td>\n",
       "      <td>2014</td>\n",
       "    </tr>\n",
       "    <tr>\n",
       "      <th>...</th>\n",
       "      <td>...</td>\n",
       "      <td>...</td>\n",
       "      <td>...</td>\n",
       "      <td>...</td>\n",
       "      <td>...</td>\n",
       "      <td>...</td>\n",
       "      <td>...</td>\n",
       "      <td>...</td>\n",
       "      <td>...</td>\n",
       "      <td>...</td>\n",
       "      <td>...</td>\n",
       "      <td>...</td>\n",
       "      <td>...</td>\n",
       "      <td>...</td>\n",
       "      <td>...</td>\n",
       "      <td>...</td>\n",
       "    </tr>\n",
       "    <tr>\n",
       "      <th>695</th>\n",
       "      <td>Small Business</td>\n",
       "      <td>France</td>\n",
       "      <td>Amarilla</td>\n",
       "      <td>High</td>\n",
       "      <td>$2,475.00</td>\n",
       "      <td>$260.00</td>\n",
       "      <td>$300.00</td>\n",
       "      <td>$7,42,500.00</td>\n",
       "      <td>$1,11,375.00</td>\n",
       "      <td>$6,31,125.00</td>\n",
       "      <td>$6,18,750.00</td>\n",
       "      <td>$12,375.00</td>\n",
       "      <td>01/03/2014</td>\n",
       "      <td>3</td>\n",
       "      <td>March</td>\n",
       "      <td>2014</td>\n",
       "    </tr>\n",
       "    <tr>\n",
       "      <th>696</th>\n",
       "      <td>Small Business</td>\n",
       "      <td>Mexico</td>\n",
       "      <td>Amarilla</td>\n",
       "      <td>High</td>\n",
       "      <td>$546.00</td>\n",
       "      <td>$260.00</td>\n",
       "      <td>$300.00</td>\n",
       "      <td>$1,63,800.00</td>\n",
       "      <td>$24,570.00</td>\n",
       "      <td>$1,39,230.00</td>\n",
       "      <td>$1,36,500.00</td>\n",
       "      <td>$2,730.00</td>\n",
       "      <td>01/10/2014</td>\n",
       "      <td>10</td>\n",
       "      <td>October</td>\n",
       "      <td>2014</td>\n",
       "    </tr>\n",
       "    <tr>\n",
       "      <th>697</th>\n",
       "      <td>Government</td>\n",
       "      <td>Mexico</td>\n",
       "      <td>Montana</td>\n",
       "      <td>High</td>\n",
       "      <td>$1,368.00</td>\n",
       "      <td>$5.00</td>\n",
       "      <td>$7.00</td>\n",
       "      <td>$9,576.00</td>\n",
       "      <td>$1,436.40</td>\n",
       "      <td>$8,139.60</td>\n",
       "      <td>$6,840.00</td>\n",
       "      <td>$1,299.60</td>\n",
       "      <td>01/02/2014</td>\n",
       "      <td>2</td>\n",
       "      <td>February</td>\n",
       "      <td>2014</td>\n",
       "    </tr>\n",
       "    <tr>\n",
       "      <th>698</th>\n",
       "      <td>Government</td>\n",
       "      <td>Canada</td>\n",
       "      <td>Paseo</td>\n",
       "      <td>High</td>\n",
       "      <td>$723.00</td>\n",
       "      <td>$10.00</td>\n",
       "      <td>$7.00</td>\n",
       "      <td>$5,061.00</td>\n",
       "      <td>$759.15</td>\n",
       "      <td>$4,301.85</td>\n",
       "      <td>$3,615.00</td>\n",
       "      <td>$686.85</td>\n",
       "      <td>01/04/2014</td>\n",
       "      <td>4</td>\n",
       "      <td>April</td>\n",
       "      <td>2014</td>\n",
       "    </tr>\n",
       "    <tr>\n",
       "      <th>699</th>\n",
       "      <td>Channel Partners</td>\n",
       "      <td>United States of America</td>\n",
       "      <td>VTT</td>\n",
       "      <td>High</td>\n",
       "      <td>$1,806.00</td>\n",
       "      <td>$250.00</td>\n",
       "      <td>$12.00</td>\n",
       "      <td>$21,672.00</td>\n",
       "      <td>$3,250.80</td>\n",
       "      <td>$18,421.20</td>\n",
       "      <td>$5,418.00</td>\n",
       "      <td>$13,003.20</td>\n",
       "      <td>01/05/2014</td>\n",
       "      <td>5</td>\n",
       "      <td>May</td>\n",
       "      <td>2014</td>\n",
       "    </tr>\n",
       "  </tbody>\n",
       "</table>\n",
       "<p>700 rows × 16 columns</p>\n",
       "</div>"
      ],
      "text/plain": [
       "              Segment                   Country     Product   Discount Band   \\\n",
       "0          Government                    Canada   Carretera            None    \n",
       "1          Government                   Germany   Carretera            None    \n",
       "2           Midmarket                    France   Carretera            None    \n",
       "3           Midmarket                   Germany   Carretera            None    \n",
       "4           Midmarket                    Mexico   Carretera            None    \n",
       "..                ...                       ...          ...             ...   \n",
       "695    Small Business                    France    Amarilla            High    \n",
       "696    Small Business                    Mexico    Amarilla            High    \n",
       "697        Government                    Mexico     Montana            High    \n",
       "698        Government                    Canada       Paseo            High    \n",
       "699  Channel Partners  United States of America         VTT            High    \n",
       "\n",
       "     Units Sold   Manufacturing Price   Sale Price     Gross Sales   \\\n",
       "0     $1,618.50                 $3.00       $20.00      $32,370.00    \n",
       "1     $1,321.00                 $3.00       $20.00      $26,420.00    \n",
       "2     $2,178.00                 $3.00       $15.00      $32,670.00    \n",
       "3       $888.00                 $3.00       $15.00      $13,320.00    \n",
       "4     $2,470.00                 $3.00       $15.00      $37,050.00    \n",
       "..           ...                   ...          ...             ...   \n",
       "695   $2,475.00               $260.00      $300.00    $7,42,500.00    \n",
       "696     $546.00               $260.00      $300.00    $1,63,800.00    \n",
       "697   $1,368.00                 $5.00        $7.00       $9,576.00    \n",
       "698     $723.00                $10.00        $7.00       $5,061.00    \n",
       "699   $1,806.00               $250.00       $12.00      $21,672.00    \n",
       "\n",
       "         Discounts           Sales            COGS        Profit         Date  \\\n",
       "0             $-        $32,370.00      $16,185.00    $16,185.00   01/01/2014   \n",
       "1             $-        $26,420.00      $13,210.00    $13,210.00   01/01/2014   \n",
       "2             $-        $32,670.00      $21,780.00    $10,890.00   01/06/2014   \n",
       "3             $-        $13,320.00       $8,880.00     $4,440.00   01/06/2014   \n",
       "4             $-        $37,050.00      $24,700.00    $12,350.00   01/06/2014   \n",
       "..              ...             ...             ...           ...         ...   \n",
       "695   $1,11,375.00    $6,31,125.00    $6,18,750.00    $12,375.00   01/03/2014   \n",
       "696     $24,570.00    $1,39,230.00    $1,36,500.00     $2,730.00   01/10/2014   \n",
       "697      $1,436.40       $8,139.60       $6,840.00     $1,299.60   01/02/2014   \n",
       "698        $759.15       $4,301.85       $3,615.00       $686.85   01/04/2014   \n",
       "699      $3,250.80      $18,421.20       $5,418.00    $13,003.20   01/05/2014   \n",
       "\n",
       "     Month Number  Month Name   Year  \n",
       "0               1     January   2014  \n",
       "1               1     January   2014  \n",
       "2               6        June   2014  \n",
       "3               6        June   2014  \n",
       "4               6        June   2014  \n",
       "..            ...          ...   ...  \n",
       "695             3       March   2014  \n",
       "696            10     October   2014  \n",
       "697             2    February   2014  \n",
       "698             4       April   2014  \n",
       "699             5         May   2014  \n",
       "\n",
       "[700 rows x 16 columns]"
      ]
     },
     "execution_count": 625,
     "metadata": {},
     "output_type": "execute_result"
    }
   ],
   "source": [
    "financials = pd.read_csv(\"https://raw.githubusercontent.com/FTDS-learning-materials/phase-0/main/src/Financials.csv\")\n",
    "financials"
   ]
  },
  {
   "cell_type": "markdown",
   "metadata": {},
   "source": [
    "### b. Tampilkan informasi summary data dan berikan penjelasan mengenai temuan yang diperoleh."
   ]
  },
  {
   "cell_type": "markdown",
   "metadata": {},
   "source": [
    "#### Beberapa data, yaitu `Month Number` dan `Year` sudah memiliki data type yang tepat, namun selain itu, data type nya salah. `Segment`, `Country`, `Product`, `Discount Band` dan `Month Name` seharusnya memiliki data type category. `Units Sold`, `Manufacturing Price`, `Sale Price`, `Gross Sales`, `Discounts`, `Sales`, `COGS` dan `Profit` seharusnya memiliki data type float"
   ]
  },
  {
   "cell_type": "code",
   "execution_count": 626,
   "metadata": {},
   "outputs": [
    {
     "name": "stdout",
     "output_type": "stream",
     "text": [
      "<class 'pandas.core.frame.DataFrame'>\n",
      "RangeIndex: 700 entries, 0 to 699\n",
      "Data columns (total 16 columns):\n",
      " #   Column                 Non-Null Count  Dtype \n",
      "---  ------                 --------------  ----- \n",
      " 0   Segment                700 non-null    object\n",
      " 1   Country                700 non-null    object\n",
      " 2    Product               700 non-null    object\n",
      " 3    Discount Band         700 non-null    object\n",
      " 4    Units Sold            700 non-null    object\n",
      " 5    Manufacturing Price   700 non-null    object\n",
      " 6    Sale Price            700 non-null    object\n",
      " 7    Gross Sales           700 non-null    object\n",
      " 8    Discounts             700 non-null    object\n",
      " 9     Sales                700 non-null    object\n",
      " 10   COGS                  700 non-null    object\n",
      " 11   Profit                700 non-null    object\n",
      " 12  Date                   700 non-null    object\n",
      " 13  Month Number           700 non-null    int64 \n",
      " 14   Month Name            700 non-null    object\n",
      " 15  Year                   700 non-null    int64 \n",
      "dtypes: int64(2), object(14)\n",
      "memory usage: 87.6+ KB\n"
     ]
    }
   ],
   "source": [
    "financials.info()"
   ]
  },
  {
   "cell_type": "markdown",
   "metadata": {},
   "source": [
    "### c. Tampilkan list nama-nama kolom dan berikan penjelasan temuan apa yang kamu dapatkan, serta berikan langkah apa selanjutnya dari temuan ini."
   ]
  },
  {
   "cell_type": "markdown",
   "metadata": {},
   "source": [
    "#### Nama-nama kolom sudah deskriptif, hanya saja terdapat spasi yang tidak diperlukan. Nama-nama kolom ini sebaiknya dihilangkan spasi-spasinya yang tidak diperlukan menggunakan str.strip()"
   ]
  },
  {
   "cell_type": "code",
   "execution_count": 627,
   "metadata": {},
   "outputs": [
    {
     "data": {
      "text/plain": [
       "Index(['Segment', 'Country', 'Product', 'Discount Band', 'Units Sold',\n",
       "       'Manufacturing Price', 'Sale Price', 'Gross Sales', 'Discounts',\n",
       "       'Sales', 'COGS', 'Profit', 'Date', 'Month Number', 'Month Name',\n",
       "       'Year'],\n",
       "      dtype='object')"
      ]
     },
     "execution_count": 627,
     "metadata": {},
     "output_type": "execute_result"
    }
   ],
   "source": [
    "financials.columns = financials.columns.str.strip()\n",
    "financials.columns"
   ]
  },
  {
   "cell_type": "markdown",
   "metadata": {},
   "source": [
    "### d. Tampilkan list nilai unik masing-masing kolom `Segment`, `Country`, `Product`, `Discount Band` dan berikan informasi apa yang dapat kamu ambil dari langkah ini."
   ]
  },
  {
   "cell_type": "markdown",
   "metadata": {},
   "source": [
    "#### Informasi ini memberikan insight bahwa hanya ada sedikit nilai unik dari kolom segment, country, product dan discount band. Ini berarti kolom-kolom tersebut bisa di ganti tipe datanya sebagai category."
   ]
  },
  {
   "cell_type": "code",
   "execution_count": 628,
   "metadata": {},
   "outputs": [
    {
     "name": "stdout",
     "output_type": "stream",
     "text": [
      "Segment: ['Government' 'Midmarket' 'Channel Partners' 'Enterprise' 'Small Business']\n",
      "Country: ['Canada' 'Germany' 'France' 'Mexico' 'United States of America']\n",
      "Product: [' Carretera ' ' Montana ' ' Paseo ' ' Velo ' ' VTT ' ' Amarilla ']\n",
      "Discount Band: [' None ' ' Low ' ' Medium ' ' High ']\n"
     ]
    }
   ],
   "source": [
    "print(\"Segment:\", financials[\"Segment\"].unique())\n",
    "print(\"Country:\", financials[\"Country\"].unique())\n",
    "print(\"Product:\", financials[\"Product\"].unique())\n",
    "print(\"Discount Band:\", financials[\"Discount Band\"].unique())"
   ]
  },
  {
   "cell_type": "markdown",
   "metadata": {},
   "source": [
    "# 2. Data Cleaning"
   ]
  },
  {
   "cell_type": "markdown",
   "metadata": {},
   "source": [
    "### Data cleaning untuk mengubah kolom-kolom yang seharusnya float, namun sekarang masih string."
   ]
  },
  {
   "cell_type": "code",
   "execution_count": 629,
   "metadata": {},
   "outputs": [],
   "source": [
    "financials[\"Sale Price\"] = financials[\"Sale Price\"].str.replace(\"$\", \"\")\n",
    "financials[\"Sale Price\"] = financials[\"Sale Price\"].str.replace(\",\", \"\")\n",
    "financials[\"Gross Sales\"] = financials[\"Gross Sales\"].str.replace(\"$\", \"\")\n",
    "financials[\"Gross Sales\"] = financials[\"Gross Sales\"].str.replace(\",\", \"\")\n",
    "financials[\"Manufacturing Price\"] = financials[\"Manufacturing Price\"].str.replace(\"$\", \"\")\n",
    "financials[\"Manufacturing Price\"] = financials[\"Manufacturing Price\"].str.replace(\",\", \"\")\n",
    "financials[\"Units Sold\"] = financials[\"Units Sold\"].str.replace(\"$\", \"\")\n",
    "financials[\"Units Sold\"] = financials[\"Units Sold\"].str.replace(\",\", \"\")\n",
    "financials[\"Discounts\"] = financials[\"Discounts\"].str.replace(\"$\", \"\")\n",
    "financials[\"Discounts\"] = financials[\"Discounts\"].str.replace(\",\", \"\")\n",
    "financials[\"Discounts\"] = financials[\"Discounts\"].str.replace(\"-\", \"\")\n",
    "financials[\"Discounts\"] = financials[\"Discounts\"].str.strip()\n",
    "financials[\"Discounts\"] = financials[\"Discounts\"].apply(lambda x: '0' if len(x) == 0 else x)\n",
    "financials[\"COGS\"] = financials[\"COGS\"].str.replace(\"$\", \"\")\n",
    "financials[\"COGS\"] = financials[\"COGS\"].str.replace(\",\", \"\")\n",
    "financials[\"Profit\"] = financials[\"Profit\"].str.replace(\"$\", \"\")\n",
    "financials[\"Profit\"] = financials[\"Profit\"].str.replace(\",\", \"\")\n",
    "financials[\"Profit\"] = financials[\"Profit\"].str.replace(\"-\", \"\")\n",
    "financials[\"Profit\"] = financials[\"Profit\"].str.replace(\"(\", \"\")\n",
    "financials[\"Profit\"] = financials[\"Profit\"].str.replace(\")\", \"\")\n",
    "financials[\"Profit\"] = financials[\"Profit\"].str.strip()\n",
    "financials[\"Profit\"] = financials[\"Profit\"].apply(lambda x: '0' if len(x) == 0 else x)\n",
    "financials[\"Sales\"] = financials[\"Sales\"].str.replace(\"$\", \"\")\n",
    "financials[\"Sales\"] = financials[\"Sales\"].str.replace(\",\", \"\")\n",
    "financials[[\"Sale Price\", \"Gross Sales\", \"Sales\", \"Manufacturing Price\", \"Units Sold\", \"Discounts\", \"COGS\", \"Profit\"]] = financials[[\"Sale Price\", \"Gross Sales\", \"Sales\", \"Manufacturing Price\", \"Units Sold\", \"Discounts\", \"COGS\", \"Profit\"]].astype(float)"
   ]
  },
  {
   "cell_type": "markdown",
   "metadata": {},
   "source": [
    "### Mengubah kolom `Date` menjadi tipe data datetime"
   ]
  },
  {
   "cell_type": "code",
   "execution_count": 630,
   "metadata": {},
   "outputs": [],
   "source": [
    "financials[\"Date\"] = pd.to_datetime(financials[\"Date\"])"
   ]
  },
  {
   "cell_type": "markdown",
   "metadata": {},
   "source": [
    "### Membersihkan data-data untuk menghilangkan spasi yang tidak diperlukan"
   ]
  },
  {
   "cell_type": "code",
   "execution_count": 631,
   "metadata": {},
   "outputs": [],
   "source": [
    "financials[\"Segment\"] = financials[\"Segment\"].str.strip()\n",
    "financials[\"Country\"] = financials[\"Country\"].str.strip()\n",
    "financials[\"Product\"] = financials[\"Product\"].str.strip()\n",
    "financials[\"Discount Band\"] = financials[\"Discount Band\"].str.strip()"
   ]
  },
  {
   "cell_type": "markdown",
   "metadata": {},
   "source": [
    "### Mengubah kolom `segment`, `country`, `product` dan `discount band` menjadi tipe data category"
   ]
  },
  {
   "cell_type": "code",
   "execution_count": 632,
   "metadata": {},
   "outputs": [],
   "source": [
    "financials[[\"Segment\", \"Country\", \"Product\", \"Discount Band\"]] = financials[[\"Segment\", \"Country\", \"Product\", \"Discount Band\"]].astype(\"category\")"
   ]
  },
  {
   "cell_type": "markdown",
   "metadata": {},
   "source": [
    "### Lihat keseluruhan data type pada data frame, apakah semuanya sudah sesuai keinginan?"
   ]
  },
  {
   "cell_type": "code",
   "execution_count": 633,
   "metadata": {},
   "outputs": [
    {
     "data": {
      "text/plain": [
       "Segment                      category\n",
       "Country                      category\n",
       "Product                      category\n",
       "Discount Band                category\n",
       "Units Sold                    float64\n",
       "Manufacturing Price           float64\n",
       "Sale Price                    float64\n",
       "Gross Sales                   float64\n",
       "Discounts                     float64\n",
       "Sales                         float64\n",
       "COGS                          float64\n",
       "Profit                        float64\n",
       "Date                   datetime64[ns]\n",
       "Month Number                    int64\n",
       "Month Name                     object\n",
       "Year                            int64\n",
       "dtype: object"
      ]
     },
     "execution_count": 633,
     "metadata": {},
     "output_type": "execute_result"
    }
   ],
   "source": [
    "financials.dtypes"
   ]
  },
  {
   "cell_type": "markdown",
   "metadata": {},
   "source": [
    "# 3. Data Normalization"
   ]
  },
  {
   "cell_type": "markdown",
   "metadata": {},
   "source": [
    "### Buat `segment` data frame, yang nantinya akan diexport menjadi csv, dan dimasukkan ke dalam database menggunakan SQL. Akan digunakan untuk mengubah data financials yang asli menjadi Segment_id pada kolom `segment`"
   ]
  },
  {
   "cell_type": "code",
   "execution_count": 634,
   "metadata": {},
   "outputs": [
    {
     "data": {
      "text/html": [
       "<div>\n",
       "<style scoped>\n",
       "    .dataframe tbody tr th:only-of-type {\n",
       "        vertical-align: middle;\n",
       "    }\n",
       "\n",
       "    .dataframe tbody tr th {\n",
       "        vertical-align: top;\n",
       "    }\n",
       "\n",
       "    .dataframe thead th {\n",
       "        text-align: right;\n",
       "    }\n",
       "</style>\n",
       "<table border=\"1\" class=\"dataframe\">\n",
       "  <thead>\n",
       "    <tr style=\"text-align: right;\">\n",
       "      <th></th>\n",
       "      <th>Segment_id</th>\n",
       "      <th>Segment</th>\n",
       "    </tr>\n",
       "  </thead>\n",
       "  <tbody>\n",
       "    <tr>\n",
       "      <th>0</th>\n",
       "      <td>1</td>\n",
       "      <td>Government</td>\n",
       "    </tr>\n",
       "    <tr>\n",
       "      <th>1</th>\n",
       "      <td>2</td>\n",
       "      <td>Midmarket</td>\n",
       "    </tr>\n",
       "    <tr>\n",
       "      <th>2</th>\n",
       "      <td>3</td>\n",
       "      <td>Channel Partners</td>\n",
       "    </tr>\n",
       "    <tr>\n",
       "      <th>3</th>\n",
       "      <td>4</td>\n",
       "      <td>Enterprise</td>\n",
       "    </tr>\n",
       "    <tr>\n",
       "      <th>4</th>\n",
       "      <td>5</td>\n",
       "      <td>Small Business</td>\n",
       "    </tr>\n",
       "  </tbody>\n",
       "</table>\n",
       "</div>"
      ],
      "text/plain": [
       "   Segment_id           Segment\n",
       "0           1        Government\n",
       "1           2         Midmarket\n",
       "2           3  Channel Partners\n",
       "3           4        Enterprise\n",
       "4           5    Small Business"
      ]
     },
     "execution_count": 634,
     "metadata": {},
     "output_type": "execute_result"
    }
   ],
   "source": [
    "segment = pd.DataFrame()\n",
    "segment[\"Segment\"] = financials[\"Segment\"].unique()\n",
    "segment.index = segment.index + 1\n",
    "segment = segment.reset_index().rename(columns={'index': 'Segment_id'})\n",
    "segment"
   ]
  },
  {
   "cell_type": "markdown",
   "metadata": {},
   "source": [
    "### Buat `country` data frame, yang nantinya akan diexport menjadi csv, dan dimasukkan ke dalam database menggunakan SQL. Akan digunakan untuk mengubah data financials yang asli menjadi Country_id pada kolom `country`"
   ]
  },
  {
   "cell_type": "code",
   "execution_count": 635,
   "metadata": {},
   "outputs": [
    {
     "data": {
      "text/html": [
       "<div>\n",
       "<style scoped>\n",
       "    .dataframe tbody tr th:only-of-type {\n",
       "        vertical-align: middle;\n",
       "    }\n",
       "\n",
       "    .dataframe tbody tr th {\n",
       "        vertical-align: top;\n",
       "    }\n",
       "\n",
       "    .dataframe thead th {\n",
       "        text-align: right;\n",
       "    }\n",
       "</style>\n",
       "<table border=\"1\" class=\"dataframe\">\n",
       "  <thead>\n",
       "    <tr style=\"text-align: right;\">\n",
       "      <th></th>\n",
       "      <th>Country_id</th>\n",
       "      <th>Country</th>\n",
       "    </tr>\n",
       "  </thead>\n",
       "  <tbody>\n",
       "    <tr>\n",
       "      <th>0</th>\n",
       "      <td>1</td>\n",
       "      <td>Canada</td>\n",
       "    </tr>\n",
       "    <tr>\n",
       "      <th>1</th>\n",
       "      <td>2</td>\n",
       "      <td>Germany</td>\n",
       "    </tr>\n",
       "    <tr>\n",
       "      <th>2</th>\n",
       "      <td>3</td>\n",
       "      <td>France</td>\n",
       "    </tr>\n",
       "    <tr>\n",
       "      <th>3</th>\n",
       "      <td>4</td>\n",
       "      <td>Mexico</td>\n",
       "    </tr>\n",
       "    <tr>\n",
       "      <th>4</th>\n",
       "      <td>5</td>\n",
       "      <td>United States of America</td>\n",
       "    </tr>\n",
       "  </tbody>\n",
       "</table>\n",
       "</div>"
      ],
      "text/plain": [
       "   Country_id                   Country\n",
       "0           1                    Canada\n",
       "1           2                   Germany\n",
       "2           3                    France\n",
       "3           4                    Mexico\n",
       "4           5  United States of America"
      ]
     },
     "execution_count": 635,
     "metadata": {},
     "output_type": "execute_result"
    }
   ],
   "source": [
    "country = pd.DataFrame()\n",
    "country[\"Country\"] = financials[\"Country\"].unique()\n",
    "country.index = country.index + 1\n",
    "country = country.reset_index().rename(columns={'index': 'Country_id'})\n",
    "country"
   ]
  },
  {
   "cell_type": "markdown",
   "metadata": {},
   "source": [
    "### Buat `product` data frame, yang nantinya akan diexport menjadi csv, dan dimasukkan ke dalam database menggunakan SQL. Akan digunakan untuk mengubah data financials yang asli menjadi Product_id pada kolom `product`"
   ]
  },
  {
   "cell_type": "code",
   "execution_count": 636,
   "metadata": {},
   "outputs": [
    {
     "data": {
      "text/html": [
       "<div>\n",
       "<style scoped>\n",
       "    .dataframe tbody tr th:only-of-type {\n",
       "        vertical-align: middle;\n",
       "    }\n",
       "\n",
       "    .dataframe tbody tr th {\n",
       "        vertical-align: top;\n",
       "    }\n",
       "\n",
       "    .dataframe thead th {\n",
       "        text-align: right;\n",
       "    }\n",
       "</style>\n",
       "<table border=\"1\" class=\"dataframe\">\n",
       "  <thead>\n",
       "    <tr style=\"text-align: right;\">\n",
       "      <th></th>\n",
       "      <th>Product_id</th>\n",
       "      <th>Product</th>\n",
       "    </tr>\n",
       "  </thead>\n",
       "  <tbody>\n",
       "    <tr>\n",
       "      <th>0</th>\n",
       "      <td>1</td>\n",
       "      <td>Carretera</td>\n",
       "    </tr>\n",
       "    <tr>\n",
       "      <th>1</th>\n",
       "      <td>2</td>\n",
       "      <td>Montana</td>\n",
       "    </tr>\n",
       "    <tr>\n",
       "      <th>2</th>\n",
       "      <td>3</td>\n",
       "      <td>Paseo</td>\n",
       "    </tr>\n",
       "    <tr>\n",
       "      <th>3</th>\n",
       "      <td>4</td>\n",
       "      <td>Velo</td>\n",
       "    </tr>\n",
       "    <tr>\n",
       "      <th>4</th>\n",
       "      <td>5</td>\n",
       "      <td>VTT</td>\n",
       "    </tr>\n",
       "    <tr>\n",
       "      <th>5</th>\n",
       "      <td>6</td>\n",
       "      <td>Amarilla</td>\n",
       "    </tr>\n",
       "  </tbody>\n",
       "</table>\n",
       "</div>"
      ],
      "text/plain": [
       "   Product_id    Product\n",
       "0           1  Carretera\n",
       "1           2    Montana\n",
       "2           3      Paseo\n",
       "3           4       Velo\n",
       "4           5        VTT\n",
       "5           6   Amarilla"
      ]
     },
     "execution_count": 636,
     "metadata": {},
     "output_type": "execute_result"
    }
   ],
   "source": [
    "product = pd.DataFrame()\n",
    "product[\"Product\"] = financials[\"Product\"].unique()\n",
    "product.index = product.index + 1\n",
    "product = product.reset_index().rename(columns={'index': 'Product_id'})\n",
    "product"
   ]
  },
  {
   "cell_type": "markdown",
   "metadata": {},
   "source": [
    "### Buat `discount_band` data frame, yang nantinya akan diexport menjadi csv, dan dimasukkan ke dalam database menggunakan SQL. Akan digunakan untuk mengubah data financials yang asli menjadi DiscountBand_id pada kolom `Discount Band`"
   ]
  },
  {
   "cell_type": "code",
   "execution_count": 637,
   "metadata": {},
   "outputs": [
    {
     "data": {
      "text/html": [
       "<div>\n",
       "<style scoped>\n",
       "    .dataframe tbody tr th:only-of-type {\n",
       "        vertical-align: middle;\n",
       "    }\n",
       "\n",
       "    .dataframe tbody tr th {\n",
       "        vertical-align: top;\n",
       "    }\n",
       "\n",
       "    .dataframe thead th {\n",
       "        text-align: right;\n",
       "    }\n",
       "</style>\n",
       "<table border=\"1\" class=\"dataframe\">\n",
       "  <thead>\n",
       "    <tr style=\"text-align: right;\">\n",
       "      <th></th>\n",
       "      <th>DiscountBand_id</th>\n",
       "      <th>Discount_Band</th>\n",
       "    </tr>\n",
       "  </thead>\n",
       "  <tbody>\n",
       "    <tr>\n",
       "      <th>0</th>\n",
       "      <td>1</td>\n",
       "      <td>None</td>\n",
       "    </tr>\n",
       "    <tr>\n",
       "      <th>1</th>\n",
       "      <td>2</td>\n",
       "      <td>Low</td>\n",
       "    </tr>\n",
       "    <tr>\n",
       "      <th>2</th>\n",
       "      <td>3</td>\n",
       "      <td>Medium</td>\n",
       "    </tr>\n",
       "    <tr>\n",
       "      <th>3</th>\n",
       "      <td>4</td>\n",
       "      <td>High</td>\n",
       "    </tr>\n",
       "  </tbody>\n",
       "</table>\n",
       "</div>"
      ],
      "text/plain": [
       "   DiscountBand_id Discount_Band\n",
       "0                1          None\n",
       "1                2           Low\n",
       "2                3        Medium\n",
       "3                4          High"
      ]
     },
     "execution_count": 637,
     "metadata": {},
     "output_type": "execute_result"
    }
   ],
   "source": [
    "discount_band = pd.DataFrame()\n",
    "discount_band[\"Discount_Band\"] = financials[\"Discount Band\"].unique()\n",
    "discount_band.index = discount_band.index + 1\n",
    "discount_band = discount_band.reset_index().rename(columns={'index': 'DiscountBand_id'})\n",
    "discount_band"
   ]
  },
  {
   "cell_type": "markdown",
   "metadata": {},
   "source": [
    "### Rename nama kolom agar tidak ada spasi, dan juga `segment`, `country`, `product`, `discount band` akan di rename menjadi kolom-kolom ID, karena akan di relasikan dengan data frame yang sesuai"
   ]
  },
  {
   "cell_type": "code",
   "execution_count": 638,
   "metadata": {},
   "outputs": [],
   "source": [
    "financials = financials.rename(columns={'Segment': 'Segment_id', \n",
    "                                        'Country': 'Country_id', \n",
    "                                        'Product': 'Product_id', \n",
    "                                        'Discount Band': 'DiscountBand_id', \n",
    "                                        'Units Sold': 'Units_Sold', \n",
    "                                        'Manufacturing Price': 'Manufacturing_Price',\n",
    "                                        'Sale Price': 'Sale_Price',\n",
    "                                        'Gross Sales': 'Gross_Sales'\n",
    "                                        })"
   ]
  },
  {
   "cell_type": "markdown",
   "metadata": {},
   "source": [
    "### Drop kolom `month name`, `month number` dan `year` karena redundan, dan menyalahi aturan 3NF. Jika data `month name` berubah, maka kita juga harus mengubah `month number`. Sama halnya dengan `year`, jika `Date` berubah, maka kita harus mengubah data `year`. Data-data `month name`, `month number` dan `year` sudah ada di kolom `Date`."
   ]
  },
  {
   "cell_type": "code",
   "execution_count": 639,
   "metadata": {},
   "outputs": [],
   "source": [
    "financials.drop(columns=[\"Month Name\", \"Month Number\", \"Year\"], inplace=True)"
   ]
  },
  {
   "cell_type": "markdown",
   "metadata": {},
   "source": [
    "### Mengganti data-data di segment yang sebelumnya merupakan nama segment, sekarang di representasikan dengan Segment_id yang nama segment nya di representasikan di dataframe `segment`"
   ]
  },
  {
   "cell_type": "code",
   "execution_count": 640,
   "metadata": {},
   "outputs": [],
   "source": [
    "segment_to_id = segment.set_index(\"Segment\")[\"Segment_id\"].to_dict()\n",
    "financials['Segment_id'] = financials['Segment_id'].map(segment_to_id)"
   ]
  },
  {
   "cell_type": "markdown",
   "metadata": {},
   "source": [
    "### Mengganti data-data di segment yang sebelumnya merupakan nama `country`, sekarang di representasikan dengan Country_id yang nama `country` nya di representasikan di dataframe `country`"
   ]
  },
  {
   "cell_type": "code",
   "execution_count": 641,
   "metadata": {},
   "outputs": [],
   "source": [
    "country_to_id = country.set_index(\"Country\")[\"Country_id\"].to_dict()\n",
    "financials['Country_id'] = financials['Country_id'].map(country_to_id)"
   ]
  },
  {
   "cell_type": "markdown",
   "metadata": {},
   "source": [
    "### Mengganti data-data di segment yang sebelumnya merupakan nama `product`, sekarang di representasikan dengan Product_id yang nama `product` nya di representasikan di dataframe `product`"
   ]
  },
  {
   "cell_type": "code",
   "execution_count": 642,
   "metadata": {},
   "outputs": [],
   "source": [
    "product_to_id = product.set_index(\"Product\")[\"Product_id\"].to_dict()\n",
    "financials['Product_id'] = financials['Product_id'].map(product_to_id)"
   ]
  },
  {
   "cell_type": "markdown",
   "metadata": {},
   "source": [
    "### Mengganti data-data di `discount band` yang sebelumnya merupakan nama `discount band`, sekarang di representasikan dengan DiscountBand_id yang nama `discount band` nya di representasikan di dataframe `discount_band`"
   ]
  },
  {
   "cell_type": "code",
   "execution_count": 643,
   "metadata": {},
   "outputs": [],
   "source": [
    "discount_band_to_id = discount_band.set_index(\"Discount_Band\")[\"DiscountBand_id\"].to_dict()\n",
    "financials['DiscountBand_id'] = financials['DiscountBand_id'].map(discount_band_to_id)"
   ]
  },
  {
   "cell_type": "markdown",
   "metadata": {},
   "source": [
    "### export semua data yang bersangkutan ke file .csv. Tidak perlu meng-ekspor index nya, karena akan dipakai di SQL"
   ]
  },
  {
   "cell_type": "code",
   "execution_count": 644,
   "metadata": {},
   "outputs": [],
   "source": [
    "financials.to_csv(\"financials.csv\", index=False)\n",
    "segment.to_csv(\"segments.csv\", index=False)\n",
    "country.to_csv(\"countries.csv\", index=False)\n",
    "product.to_csv(\"products.csv\", index=False)\n",
    "discount_band.to_csv(\"discount_bands.csv\", index=False)"
   ]
  },
  {
   "cell_type": "markdown",
   "metadata": {},
   "source": [
    "### Hasil akhir `financials` Data Frame"
   ]
  },
  {
   "cell_type": "code",
   "execution_count": 645,
   "metadata": {},
   "outputs": [
    {
     "data": {
      "text/html": [
       "<div>\n",
       "<style scoped>\n",
       "    .dataframe tbody tr th:only-of-type {\n",
       "        vertical-align: middle;\n",
       "    }\n",
       "\n",
       "    .dataframe tbody tr th {\n",
       "        vertical-align: top;\n",
       "    }\n",
       "\n",
       "    .dataframe thead th {\n",
       "        text-align: right;\n",
       "    }\n",
       "</style>\n",
       "<table border=\"1\" class=\"dataframe\">\n",
       "  <thead>\n",
       "    <tr style=\"text-align: right;\">\n",
       "      <th></th>\n",
       "      <th>Segment_id</th>\n",
       "      <th>Country_id</th>\n",
       "      <th>Product_id</th>\n",
       "      <th>DiscountBand_id</th>\n",
       "      <th>Units_Sold</th>\n",
       "      <th>Manufacturing_Price</th>\n",
       "      <th>Sale_Price</th>\n",
       "      <th>Gross_Sales</th>\n",
       "      <th>Discounts</th>\n",
       "      <th>Sales</th>\n",
       "      <th>COGS</th>\n",
       "      <th>Profit</th>\n",
       "      <th>Date</th>\n",
       "    </tr>\n",
       "  </thead>\n",
       "  <tbody>\n",
       "    <tr>\n",
       "      <th>0</th>\n",
       "      <td>1</td>\n",
       "      <td>1</td>\n",
       "      <td>1</td>\n",
       "      <td>1</td>\n",
       "      <td>1618.5</td>\n",
       "      <td>3.0</td>\n",
       "      <td>20.0</td>\n",
       "      <td>32370.0</td>\n",
       "      <td>0.00</td>\n",
       "      <td>32370.00</td>\n",
       "      <td>16185.0</td>\n",
       "      <td>16185.00</td>\n",
       "      <td>2014-01-01</td>\n",
       "    </tr>\n",
       "    <tr>\n",
       "      <th>1</th>\n",
       "      <td>1</td>\n",
       "      <td>2</td>\n",
       "      <td>1</td>\n",
       "      <td>1</td>\n",
       "      <td>1321.0</td>\n",
       "      <td>3.0</td>\n",
       "      <td>20.0</td>\n",
       "      <td>26420.0</td>\n",
       "      <td>0.00</td>\n",
       "      <td>26420.00</td>\n",
       "      <td>13210.0</td>\n",
       "      <td>13210.00</td>\n",
       "      <td>2014-01-01</td>\n",
       "    </tr>\n",
       "    <tr>\n",
       "      <th>2</th>\n",
       "      <td>2</td>\n",
       "      <td>3</td>\n",
       "      <td>1</td>\n",
       "      <td>1</td>\n",
       "      <td>2178.0</td>\n",
       "      <td>3.0</td>\n",
       "      <td>15.0</td>\n",
       "      <td>32670.0</td>\n",
       "      <td>0.00</td>\n",
       "      <td>32670.00</td>\n",
       "      <td>21780.0</td>\n",
       "      <td>10890.00</td>\n",
       "      <td>2014-01-06</td>\n",
       "    </tr>\n",
       "    <tr>\n",
       "      <th>3</th>\n",
       "      <td>2</td>\n",
       "      <td>2</td>\n",
       "      <td>1</td>\n",
       "      <td>1</td>\n",
       "      <td>888.0</td>\n",
       "      <td>3.0</td>\n",
       "      <td>15.0</td>\n",
       "      <td>13320.0</td>\n",
       "      <td>0.00</td>\n",
       "      <td>13320.00</td>\n",
       "      <td>8880.0</td>\n",
       "      <td>4440.00</td>\n",
       "      <td>2014-01-06</td>\n",
       "    </tr>\n",
       "    <tr>\n",
       "      <th>4</th>\n",
       "      <td>2</td>\n",
       "      <td>4</td>\n",
       "      <td>1</td>\n",
       "      <td>1</td>\n",
       "      <td>2470.0</td>\n",
       "      <td>3.0</td>\n",
       "      <td>15.0</td>\n",
       "      <td>37050.0</td>\n",
       "      <td>0.00</td>\n",
       "      <td>37050.00</td>\n",
       "      <td>24700.0</td>\n",
       "      <td>12350.00</td>\n",
       "      <td>2014-01-06</td>\n",
       "    </tr>\n",
       "    <tr>\n",
       "      <th>...</th>\n",
       "      <td>...</td>\n",
       "      <td>...</td>\n",
       "      <td>...</td>\n",
       "      <td>...</td>\n",
       "      <td>...</td>\n",
       "      <td>...</td>\n",
       "      <td>...</td>\n",
       "      <td>...</td>\n",
       "      <td>...</td>\n",
       "      <td>...</td>\n",
       "      <td>...</td>\n",
       "      <td>...</td>\n",
       "      <td>...</td>\n",
       "    </tr>\n",
       "    <tr>\n",
       "      <th>695</th>\n",
       "      <td>5</td>\n",
       "      <td>3</td>\n",
       "      <td>6</td>\n",
       "      <td>4</td>\n",
       "      <td>2475.0</td>\n",
       "      <td>260.0</td>\n",
       "      <td>300.0</td>\n",
       "      <td>742500.0</td>\n",
       "      <td>111375.00</td>\n",
       "      <td>631125.00</td>\n",
       "      <td>618750.0</td>\n",
       "      <td>12375.00</td>\n",
       "      <td>2014-01-03</td>\n",
       "    </tr>\n",
       "    <tr>\n",
       "      <th>696</th>\n",
       "      <td>5</td>\n",
       "      <td>4</td>\n",
       "      <td>6</td>\n",
       "      <td>4</td>\n",
       "      <td>546.0</td>\n",
       "      <td>260.0</td>\n",
       "      <td>300.0</td>\n",
       "      <td>163800.0</td>\n",
       "      <td>24570.00</td>\n",
       "      <td>139230.00</td>\n",
       "      <td>136500.0</td>\n",
       "      <td>2730.00</td>\n",
       "      <td>2014-01-10</td>\n",
       "    </tr>\n",
       "    <tr>\n",
       "      <th>697</th>\n",
       "      <td>1</td>\n",
       "      <td>4</td>\n",
       "      <td>2</td>\n",
       "      <td>4</td>\n",
       "      <td>1368.0</td>\n",
       "      <td>5.0</td>\n",
       "      <td>7.0</td>\n",
       "      <td>9576.0</td>\n",
       "      <td>1436.40</td>\n",
       "      <td>8139.60</td>\n",
       "      <td>6840.0</td>\n",
       "      <td>1299.60</td>\n",
       "      <td>2014-01-02</td>\n",
       "    </tr>\n",
       "    <tr>\n",
       "      <th>698</th>\n",
       "      <td>1</td>\n",
       "      <td>1</td>\n",
       "      <td>3</td>\n",
       "      <td>4</td>\n",
       "      <td>723.0</td>\n",
       "      <td>10.0</td>\n",
       "      <td>7.0</td>\n",
       "      <td>5061.0</td>\n",
       "      <td>759.15</td>\n",
       "      <td>4301.85</td>\n",
       "      <td>3615.0</td>\n",
       "      <td>686.85</td>\n",
       "      <td>2014-01-04</td>\n",
       "    </tr>\n",
       "    <tr>\n",
       "      <th>699</th>\n",
       "      <td>3</td>\n",
       "      <td>5</td>\n",
       "      <td>5</td>\n",
       "      <td>4</td>\n",
       "      <td>1806.0</td>\n",
       "      <td>250.0</td>\n",
       "      <td>12.0</td>\n",
       "      <td>21672.0</td>\n",
       "      <td>3250.80</td>\n",
       "      <td>18421.20</td>\n",
       "      <td>5418.0</td>\n",
       "      <td>13003.20</td>\n",
       "      <td>2014-01-05</td>\n",
       "    </tr>\n",
       "  </tbody>\n",
       "</table>\n",
       "<p>700 rows × 13 columns</p>\n",
       "</div>"
      ],
      "text/plain": [
       "    Segment_id Country_id Product_id DiscountBand_id  Units_Sold  \\\n",
       "0            1          1          1               1      1618.5   \n",
       "1            1          2          1               1      1321.0   \n",
       "2            2          3          1               1      2178.0   \n",
       "3            2          2          1               1       888.0   \n",
       "4            2          4          1               1      2470.0   \n",
       "..         ...        ...        ...             ...         ...   \n",
       "695          5          3          6               4      2475.0   \n",
       "696          5          4          6               4       546.0   \n",
       "697          1          4          2               4      1368.0   \n",
       "698          1          1          3               4       723.0   \n",
       "699          3          5          5               4      1806.0   \n",
       "\n",
       "     Manufacturing_Price  Sale_Price  Gross_Sales  Discounts      Sales  \\\n",
       "0                    3.0        20.0      32370.0       0.00   32370.00   \n",
       "1                    3.0        20.0      26420.0       0.00   26420.00   \n",
       "2                    3.0        15.0      32670.0       0.00   32670.00   \n",
       "3                    3.0        15.0      13320.0       0.00   13320.00   \n",
       "4                    3.0        15.0      37050.0       0.00   37050.00   \n",
       "..                   ...         ...          ...        ...        ...   \n",
       "695                260.0       300.0     742500.0  111375.00  631125.00   \n",
       "696                260.0       300.0     163800.0   24570.00  139230.00   \n",
       "697                  5.0         7.0       9576.0    1436.40    8139.60   \n",
       "698                 10.0         7.0       5061.0     759.15    4301.85   \n",
       "699                250.0        12.0      21672.0    3250.80   18421.20   \n",
       "\n",
       "         COGS    Profit       Date  \n",
       "0     16185.0  16185.00 2014-01-01  \n",
       "1     13210.0  13210.00 2014-01-01  \n",
       "2     21780.0  10890.00 2014-01-06  \n",
       "3      8880.0   4440.00 2014-01-06  \n",
       "4     24700.0  12350.00 2014-01-06  \n",
       "..        ...       ...        ...  \n",
       "695  618750.0  12375.00 2014-01-03  \n",
       "696  136500.0   2730.00 2014-01-10  \n",
       "697    6840.0   1299.60 2014-01-02  \n",
       "698    3615.0    686.85 2014-01-04  \n",
       "699    5418.0  13003.20 2014-01-05  \n",
       "\n",
       "[700 rows x 13 columns]"
      ]
     },
     "execution_count": 645,
     "metadata": {},
     "output_type": "execute_result"
    }
   ],
   "source": [
    "financials"
   ]
  },
  {
   "cell_type": "markdown",
   "metadata": {},
   "source": [
    "# Pengujian Database\n",
    "\n",
    "### a. Berikan tabel yang berisikan informasi total profit yang didapatkan di tiap jenis segmentasi. Jangan ambil data yang tidak diskon.\n",
    "\n",
    "```sql\n",
    "SELECT \n",
    "  s.segment, \n",
    "  ROUND(SUM(f.profit)::numeric, 2) AS total_profit \n",
    "FROM financials f \n",
    "  JOIN segments s \n",
    "  ON s.segment_id = f.segment_id \n",
    "  WHERE f.discounts > 0\n",
    "  GROUP BY s.segment \n",
    "  ORDER BY total_profit DESC\n",
    "```"
   ]
  },
  {
   "cell_type": "code",
   "execution_count": 646,
   "metadata": {},
   "outputs": [
    {
     "data": {
      "text/html": [
       "<div>\n",
       "<style scoped>\n",
       "    .dataframe tbody tr th:only-of-type {\n",
       "        vertical-align: middle;\n",
       "    }\n",
       "\n",
       "    .dataframe tbody tr th {\n",
       "        vertical-align: top;\n",
       "    }\n",
       "\n",
       "    .dataframe thead th {\n",
       "        text-align: right;\n",
       "    }\n",
       "</style>\n",
       "<table border=\"1\" class=\"dataframe\">\n",
       "  <thead>\n",
       "    <tr style=\"text-align: right;\">\n",
       "      <th></th>\n",
       "      <th>segment</th>\n",
       "      <th>total_profit</th>\n",
       "    </tr>\n",
       "  </thead>\n",
       "  <tbody>\n",
       "    <tr>\n",
       "      <th>0</th>\n",
       "      <td>Government</td>\n",
       "      <td>10270950.18</td>\n",
       "    </tr>\n",
       "    <tr>\n",
       "      <th>1</th>\n",
       "      <td>Small Business</td>\n",
       "      <td>3848268.50</td>\n",
       "    </tr>\n",
       "    <tr>\n",
       "      <th>2</th>\n",
       "      <td>Channel Partners</td>\n",
       "      <td>1150321.14</td>\n",
       "    </tr>\n",
       "    <tr>\n",
       "      <th>3</th>\n",
       "      <td>Enterprise</td>\n",
       "      <td>879096.88</td>\n",
       "    </tr>\n",
       "    <tr>\n",
       "      <th>4</th>\n",
       "      <td>Midmarket</td>\n",
       "      <td>563253.09</td>\n",
       "    </tr>\n",
       "  </tbody>\n",
       "</table>\n",
       "</div>"
      ],
      "text/plain": [
       "            segment  total_profit\n",
       "0        Government   10270950.18\n",
       "1    Small Business    3848268.50\n",
       "2  Channel Partners    1150321.14\n",
       "3        Enterprise     879096.88\n",
       "4         Midmarket     563253.09"
      ]
     },
     "execution_count": 646,
     "metadata": {},
     "output_type": "execute_result"
    }
   ],
   "source": [
    "financial_segments = pd.read_csv(\"financial_segments_profit.csv\")\n",
    "financial_segments"
   ]
  },
  {
   "cell_type": "markdown",
   "metadata": {},
   "source": [
    "### b. Berikan tabel yang berisikan informasi rangkuman statistik yang memuat nilai rata-rata, min, dan max (dijadikan dalam kolom yang berbeda) dari Sales masing-masing negara.\n",
    "\n",
    "```sql\n",
    "SELECT\n",
    "  c.country,\n",
    "  ROUND(AVG(f.sales)::numeric, 2) AS avg_sales,\n",
    "  MIN(f.sales) AS min_sales,\n",
    "  MAX(f.sales) AS max_sales\n",
    "FROM financials f\n",
    "  JOIN countries c\n",
    "  ON c.country_id = f.country_id\n",
    "  GROUP BY c.country\n",
    "  ORDER BY avg_sales DESC\n",
    "```"
   ]
  },
  {
   "cell_type": "code",
   "execution_count": 647,
   "metadata": {},
   "outputs": [
    {
     "data": {
      "text/html": [
       "<div>\n",
       "<style scoped>\n",
       "    .dataframe tbody tr th:only-of-type {\n",
       "        vertical-align: middle;\n",
       "    }\n",
       "\n",
       "    .dataframe tbody tr th {\n",
       "        vertical-align: top;\n",
       "    }\n",
       "\n",
       "    .dataframe thead th {\n",
       "        text-align: right;\n",
       "    }\n",
       "</style>\n",
       "<table border=\"1\" class=\"dataframe\">\n",
       "  <thead>\n",
       "    <tr style=\"text-align: right;\">\n",
       "      <th></th>\n",
       "      <th>country</th>\n",
       "      <th>avg_sales</th>\n",
       "      <th>min_sales</th>\n",
       "      <th>max_sales</th>\n",
       "    </tr>\n",
       "  </thead>\n",
       "  <tbody>\n",
       "    <tr>\n",
       "      <th>0</th>\n",
       "      <td>United States of America</td>\n",
       "      <td>178784.50</td>\n",
       "      <td>1730.54</td>\n",
       "      <td>1159200.0</td>\n",
       "    </tr>\n",
       "    <tr>\n",
       "      <th>1</th>\n",
       "      <td>Canada</td>\n",
       "      <td>177768.96</td>\n",
       "      <td>1655.08</td>\n",
       "      <td>1038082.5</td>\n",
       "    </tr>\n",
       "    <tr>\n",
       "      <th>2</th>\n",
       "      <td>France</td>\n",
       "      <td>173958.37</td>\n",
       "      <td>1763.86</td>\n",
       "      <td>962500.0</td>\n",
       "    </tr>\n",
       "    <tr>\n",
       "      <th>3</th>\n",
       "      <td>Germany</td>\n",
       "      <td>167895.29</td>\n",
       "      <td>1685.60</td>\n",
       "      <td>1017338.0</td>\n",
       "    </tr>\n",
       "    <tr>\n",
       "      <th>4</th>\n",
       "      <td>Mexico</td>\n",
       "      <td>149638.23</td>\n",
       "      <td>2508.66</td>\n",
       "      <td>848172.5</td>\n",
       "    </tr>\n",
       "  </tbody>\n",
       "</table>\n",
       "</div>"
      ],
      "text/plain": [
       "                    country  avg_sales  min_sales  max_sales\n",
       "0  United States of America  178784.50    1730.54  1159200.0\n",
       "1                    Canada  177768.96    1655.08  1038082.5\n",
       "2                    France  173958.37    1763.86   962500.0\n",
       "3                   Germany  167895.29    1685.60  1017338.0\n",
       "4                    Mexico  149638.23    2508.66   848172.5"
      ]
     },
     "execution_count": 647,
     "metadata": {},
     "output_type": "execute_result"
    }
   ],
   "source": [
    "country_total_sales = pd.read_csv(\"country_total_sales.csv\")\n",
    "country_total_sales"
   ]
  }
 ],
 "metadata": {
  "kernelspec": {
   "display_name": "base",
   "language": "python",
   "name": "python3"
  },
  "language_info": {
   "codemirror_mode": {
    "name": "ipython",
    "version": 3
   },
   "file_extension": ".py",
   "mimetype": "text/x-python",
   "name": "python",
   "nbconvert_exporter": "python",
   "pygments_lexer": "ipython3",
   "version": "3.12.2"
  }
 },
 "nbformat": 4,
 "nbformat_minor": 2
}
