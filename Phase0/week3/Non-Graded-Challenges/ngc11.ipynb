{
 "cells": [
  {
   "cell_type": "markdown",
   "metadata": {},
   "source": [
    "### The \"Top 10000 Spotify Songs - ARIA and Billboard Charts\" is a comprehensive collection of 10,000 of the most popularsongs that have dominated the music scene from 1960 to the present day.\n",
    "- Get the Measures of the Central Tendency and Measures of Variation from data “Top 10000 Spotify Songs”. Measure the popularity based on the year. Comment on the results.\n",
    "- Conduct the hypothesis testing from data “Top 10000 Spotify Songs” to check whether the Popularity of Britney Spearsand Taylor Swift is statistically different by using a 0.05 significance level to evaluate the null and alternativehypotheses. Before doing hypothesis testing, check the related assumptions. Comment on the results.\n",
    "\n"
   ]
  },
  {
   "cell_type": "markdown",
   "metadata": {},
   "source": [
    "### H0: Popularity of Britney Spears == Popularity of Taylor Swift\n",
    "### H1: Popularity of Britney Spears != Popularity of Taylor Swift"
   ]
  },
  {
   "cell_type": "code",
   "execution_count": 35,
   "metadata": {},
   "outputs": [
    {
     "name": "stdout",
     "output_type": "stream",
     "text": [
      "T-Statistic: 2.528511234384884\n",
      "P-value: 0.013616427202900102\n"
     ]
    }
   ],
   "source": [
    "import pandas as pd\n",
    "from scipy import stats\n",
    "\n",
    "# Assuming your DataFrame is named 'spotify'\n",
    "\n",
    "# Define a custom function to get the mode, as pandas doesn't have a built-in mode aggregator\n",
    "def mode(series):\n",
    "    return stats.mode(series)[0][0]\n",
    "\n",
    "spotify = pd.read_csv(\"top10000-spotify-songs.csv\")\n",
    "# spotify['Album Release Date'] = spotify['Album Release Date'].fillna(method=\"ffill\")\n",
    "# spotify['Album Release Date'] = pd.to_datetime(spotify['Album Release Date'], format=\"mixed\")\n",
    "# spotify.dtypes\n",
    "# spotify['Album Release Date']\n",
    "spotify['Added At'] = pd.to_datetime(spotify['Added At'])\n",
    "spotify['Year'] = spotify['Added At'].dt.year\n",
    "spotify.groupby(\"Year\")[\"Popularity\"].agg(\n",
    "    mean=\"mean\",\n",
    "    median=\"median\",\n",
    "    # mode=mode\n",
    ")\n",
    "\n",
    "britney_spears = spotify[spotify['Artist Name(s)'] == \"Britney Spears\"]\n",
    "taylor_swift = spotify[spotify['Artist Name(s)'] == \"Taylor Swift\"]\n",
    "\n",
    "t_stat, p_val = stats.ttest_ind(britney_spears['Popularity'],taylor_swift['Popularity'])\n",
    "print('T-Statistic:',t_stat)\n",
    "print('P-value:',p_val)"
   ]
  },
  {
   "cell_type": "code",
   "execution_count": 36,
   "metadata": {},
   "outputs": [
    {
     "name": "stdout",
     "output_type": "stream",
     "text": [
      "61.18518518518518\n",
      "40.0625\n"
     ]
    }
   ],
   "source": [
    "print(britney_spears['Popularity'].mean())\n",
    "print(taylor_swift['Popularity'].mean())"
   ]
  }
 ],
 "metadata": {
  "kernelspec": {
   "display_name": "base",
   "language": "python",
   "name": "python3"
  },
  "language_info": {
   "codemirror_mode": {
    "name": "ipython",
    "version": 3
   },
   "file_extension": ".py",
   "mimetype": "text/x-python",
   "name": "python",
   "nbconvert_exporter": "python",
   "pygments_lexer": "ipython3",
   "version": "3.12.2"
  }
 },
 "nbformat": 4,
 "nbformat_minor": 2
}
