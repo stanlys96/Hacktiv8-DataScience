{
 "cells": [
  {
   "cell_type": "markdown",
   "metadata": {},
   "source": [
    "### The \"Top 10000 Spotify Songs - ARIA and Billboard Charts\" is a comprehensive collection of 10,000 of the most popularsongs that have dominated the music scene from 1960 to the present day.\n",
    "- Get the Measures of the Central Tendency and Measures of Variation from data “Top 10000 Spotify Songs”. Measurethe popularity based on the year. Comment on the results.\n",
    "- Conduct the hypothesis testing from data “Top 10000 Spotify Songs” to check whether the Popularity of Britney Spearsand Taylor Swift is statistically different by using a 0.05 significance level to evaluate the null and alternativehypotheses. Before doing hypothesis testing, check the related assumptions. Comment on the results.\n",
    "\n"
   ]
  }
 ],
 "metadata": {
  "language_info": {
   "name": "python"
  }
 },
 "nbformat": 4,
 "nbformat_minor": 2
}
