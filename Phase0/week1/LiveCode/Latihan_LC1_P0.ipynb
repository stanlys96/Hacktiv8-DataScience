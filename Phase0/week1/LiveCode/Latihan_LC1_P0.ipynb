{
  "cells": [
    {
      "cell_type": "markdown",
      "metadata": {
        "id": "lCHIkZZHY7w9"
      },
      "source": [
        "#### 1. Buatlah fungsi untuk menghitung `jumlah kalori terbakar` berdasarkan `jenis kegiatan` dan `durasi dalam menit`, dengan ketentuan di bawah:\n",
        "\n",
        "<div align=\"center\">\n",
        "\n",
        "|Kegiatan|Kalori Terbakar per Menit|\n",
        "|--|--|\n",
        "|Berlari|10|\n",
        "|Bersepeda|8|\n",
        "|Berenang|12|\n",
        "\n",
        "\n",
        "</div>\n",
        "\n",
        "contoh:\n",
        "```\n",
        ">>> input: calories_burned(duration=60, exercise='berenang')\n",
        ">>> output: 720\n",
        "\n",
        ">>> input: calories_burned(duration=15, exercise='berlari')\n",
        ">>> output: 150\n",
        "\n",
        ">>> input:calories_burned(duration=20, exercise='bersepeda')\n",
        ">>> output: 160\n",
        "```"
      ]
    },
    {
      "cell_type": "code",
      "execution_count": 49,
      "metadata": {
        "id": "ExBJkWTq3yE3"
      },
      "outputs": [
        {
          "name": "stdout",
          "output_type": "stream",
          "text": [
            "720\n",
            "150\n",
            "160\n"
          ]
        }
      ],
      "source": [
        "# code here\n",
        "kegiatan_list = {\n",
        "  \"berlari\": 10,\n",
        "  \"bersepeda\": 8,\n",
        "  \"berenang\": 12\n",
        "}\n",
        "def calories_burned(duration, exercise):\n",
        "  for key, value in kegiatan_list.items():\n",
        "    if key == exercise:\n",
        "      return value * int(duration)\n",
        "\n",
        "print(calories_burned(duration=60, exercise=\"berenang\"))\n",
        "print(calories_burned(duration=15, exercise=\"berlari\"))\n",
        "print(calories_burned(duration=20, exercise=\"bersepeda\"))"
      ]
    },
    {
      "cell_type": "markdown",
      "metadata": {
        "id": "uVYOZdpMaRC6"
      },
      "source": [
        "#### 2. Buat function untuk menghitung `total kalori terbakar` dari `beberapa sesi latihan`, manfaatkan fungsi yang telah dibuat sebelumnya di dalam function ini.\n",
        "\n",
        "Notes:\n",
        "- Dalam kasus ini diasumsikan setiap sesi latihan memiliki durasi yang sama (`each_session_duration`).\n",
        "- Function yang dibuat memiliki input argumen berupa: `n-length jenis latihan yang dilakukan di setiap sesinya` dan `each_session_duration`\n",
        "- Manfaatkan `*args` variable-length input untuk memasukkan jenis latihan.\n",
        "- Manfaatkan function yang telah dibuat sebelumnya untuk mengitung kalori terbakar di setiap sesi\n",
        "\n",
        "Contoh:\n",
        "```\n",
        ">>> input: total_session_burned_cal('berenang', 'bersepeda', each_session_duration=10)\n",
        ">>> output: 200\n",
        "\n",
        "penjelasan:\n",
        "kegiatan berenang dilakukan 10 menit dan kegiatan bersepeda dilakukan 10 menit dapat membakar total 200 kalori\n",
        "\n",
        ">>> input: total_session_burned_cal('berenang', 'berlari', 'bersepeda', each_session_duration=5)\n",
        ">>> output: 150\n",
        "\n",
        "penjelasan:\n",
        "kegiatan berenang, berlari dan bersepeda yang masing-masing dilakukan 5 menit dapat membakar 150 kalori.\n",
        "```"
      ]
    },
    {
      "cell_type": "code",
      "execution_count": 43,
      "metadata": {
        "id": "OHs41ThP3ze-"
      },
      "outputs": [
        {
          "name": "stdout",
          "output_type": "stream",
          "text": [
            "kegiatan berenang, bersepeda dan berlari yang masing-masing dilakukan 5 menit dapat membakar 150 kalori\n",
            "kegiatan berenang dilakukan 10 menit dan kegiatan bersepeda dilakukan 10 menit dapat membakar total 200 kalori\n"
          ]
        }
      ],
      "source": [
        "# code here\n",
        "def total_session_burned_cal(*activities, each_session_duration):\n",
        "  total = 0\n",
        "  activity_str = \"\"\n",
        "  \n",
        "  for index, activity in enumerate(activities):\n",
        "    for key, value in kegiatan_list.items():\n",
        "      if activity == key:\n",
        "        total += int(value) * int(each_session_duration)\n",
        "        if len(activities) <= 2:\n",
        "          activity_str += f\"{\"dan \" if index == len(activities) - 1 and len(activities) > 1 else \"\"}kegiatan {activity} dilakukan {str(each_session_duration)} menit {f\"dapat membakar total {total} kalori\" if index == len(activities) - 1 else \"\"}\"\n",
        "        else:\n",
        "          temp_str = \"\"\n",
        "          if index == 0:\n",
        "            temp_str = f\"{\" \" if index != 0 else \"\"}kegiatan \"\n",
        "          elif index == len(activities) - 1:\n",
        "            temp_str = \" dan \"\n",
        "          else:\n",
        "            temp_str = \", \"\n",
        "          activity_str += f\"{temp_str}{activity}{\" \" if index == len(activities) - 1 else \"\"}{f\"yang masing-masing dilakukan {each_session_duration} menit dapat membakar {total} kalori\" if index == len(activities) - 1 else \"\"}\"\n",
        "\n",
        "  return activity_str\n",
        "\n",
        "print(total_session_burned_cal('berenang', 'bersepeda', 'berlari', each_session_duration=5))\n",
        "print(total_session_burned_cal('berenang', 'bersepeda', each_session_duration=10))"
      ]
    },
    {
      "cell_type": "markdown",
      "metadata": {
        "id": "rvST1Pn9h6QX"
      },
      "source": [
        "#### 3. Lakukan Unit Testing pada kedua function yang telah dibuat.\n",
        "\n",
        "  ***Notes:***\n",
        "  \n",
        "  Pengujian Unit testing dapat dilakukan pada cell .ipynb dengan cara:\n",
        "- Cukup buat cell baru dan tulis code kerangka unit test di cell tersebut dan jalankan langsung di cell tanpa menggunakan if __name__()=='__main__'.\n",
        "\n",
        "- Sebagai pengganti idiom ini:\n",
        "```\n",
        "`if __name__=='__main__'`:\n",
        "   unittest.main()\n",
        "```\n",
        "dapat menggunakan:\n",
        "```\n",
        "unittest.main(argv=[''], exit=False)\n",
        "```"
      ]
    },
    {
      "cell_type": "code",
      "execution_count": 53,
      "metadata": {
        "id": "-uZD75JH31-Y"
      },
      "outputs": [
        {
          "name": "stderr",
          "output_type": "stream",
          "text": [
            "..\n",
            "----------------------------------------------------------------------\n",
            "Ran 2 tests in 0.003s\n",
            "\n",
            "OK\n"
          ]
        },
        {
          "data": {
            "text/plain": [
              "<unittest.main.TestProgram at 0x10e167d40>"
            ]
          },
          "execution_count": 53,
          "metadata": {},
          "output_type": "execute_result"
        }
      ],
      "source": [
        "# code here\n",
        "import unittest\n",
        "\n",
        "class TestTotalCalories(unittest.TestCase):\n",
        "  def test_calories_burned(self):\n",
        "    result = calories_burned(duration=60, exercise=\"berenang\")\n",
        "    result2 = calories_burned(duration=15, exercise=\"berlari\")\n",
        "    result3 = calories_burned(duration=20, exercise=\"bersepeda\")\n",
        "    self.assertEqual(result, 720)\n",
        "    self.assertEqual(result2, 150)\n",
        "    self.assertEqual(result3, 160)\n",
        "\n",
        "  def test_total_session_burned_cal(self):\n",
        "    result = total_session_burned_cal('berenang', 'bersepeda', 'berlari', each_session_duration=5)\n",
        "    result2 = total_session_burned_cal('berenang', 'bersepeda', each_session_duration=10)\n",
        "    self.assertEqual(result, \"kegiatan berenang, bersepeda dan berlari yang masing-masing dilakukan 5 menit dapat membakar 150 kalori\")\n",
        "    self.assertEqual(result2, \"kegiatan berenang dilakukan 10 menit dan kegiatan bersepeda dilakukan 10 menit dapat membakar total 200 kalori\")\n",
        "\n",
        "unittest.main(argv=[''], exit=False)"
      ]
    }
  ],
  "metadata": {
    "colab": {
      "provenance": []
    },
    "kernelspec": {
      "display_name": "Python 3",
      "name": "python3"
    },
    "language_info": {
      "codemirror_mode": {
        "name": "ipython",
        "version": 3
      },
      "file_extension": ".py",
      "mimetype": "text/x-python",
      "name": "python",
      "nbconvert_exporter": "python",
      "pygments_lexer": "ipython3",
      "version": "3.12.2"
    }
  },
  "nbformat": 4,
  "nbformat_minor": 0
}
