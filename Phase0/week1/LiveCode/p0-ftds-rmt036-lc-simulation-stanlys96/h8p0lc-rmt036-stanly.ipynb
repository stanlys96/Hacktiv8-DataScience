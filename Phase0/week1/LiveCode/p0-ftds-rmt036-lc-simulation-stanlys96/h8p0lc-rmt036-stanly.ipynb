{
 "cells": [
  {
   "cell_type": "code",
   "execution_count": 13,
   "metadata": {},
   "outputs": [],
   "source": [
    "# Variable untuk menampung semua barang yang telah diinput user\n",
    "inventory = []"
   ]
  },
  {
   "cell_type": "code",
   "execution_count": 31,
   "metadata": {},
   "outputs": [
    {
     "name": "stdout",
     "output_type": "stream",
     "text": [
      "No.|Nama Barang|Kategori Barang|Harga\n",
      "1|HP|Samsung|5000000\n",
      "2|Walao|Waldo|500000\n",
      "\n",
      "Terima kasih, data sudah disimpan\n",
      "No.|Nama Barang|Kategori Barang|Harga\n",
      "1|HP|Samsung|5000000\n",
      "2|Walao|Waldo|500000\n",
      "3|iPhone|Apple|5000000\n",
      "\n",
      "Terima kasih, sampai jumpa!\n"
     ]
    }
   ],
   "source": [
    "# Variable untuk menampung input yang diberikan user\n",
    "input_text = '''\n",
    "==============================\\n\n",
    "Program Inventory Management\\n\n",
    "==============================\\n\\n  \n",
    "                  \n",
    "Menu:\\n\n",
    "1. Input Data\\n\n",
    "2. Menampilkan data\\n\\n\n",
    "\n",
    "pilih menu atau keluar:\n",
    "'''\n",
    "the_input = input(input_text)\n",
    "\n",
    "# Jika input bukan exit, maka jalankan kode ini terus\n",
    "while the_input != \"exit\":\n",
    "  # Jika input adalah \"2\" dan inventory masih kosong, maka jalankan kode ini\n",
    "  if the_input == \"2\" and len(inventory) == 0:\n",
    "    print(\"Data belum tersedia, silahkan pilih menu 1 untuk isi data\")\n",
    "  # Jika input adalah \"2\" dan inventory sudah terisi, maka tampilkan semua isi inventory\n",
    "  elif the_input == \"2\" and len(inventory) > 0:\n",
    "    print(\"No.|Nama Barang|Kategori Barang|Harga\")\n",
    "    for index, item in enumerate(inventory):\n",
    "      print(f\"{index + 1}|\", end=\"\")\n",
    "      print(\"|\".join(item))\n",
    "  # Jika input adalah \"1\", maka jalankan kode ini, dan ambil 3 input dari user untuk menaruh data di inventory\n",
    "  elif the_input == \"1\":\n",
    "    the_inventory = []\n",
    "    barang = input(\"Masukkan nama barang: \")\n",
    "    the_inventory.append(barang)\n",
    "    kategori = input(\"Masukkan kategori barang: \")\n",
    "    the_inventory.append(kategori)\n",
    "    harga = input(\"Masukkan harga (Rupiah): \")\n",
    "    the_inventory.append(harga)\n",
    "\n",
    "    inventory.append(the_inventory)\n",
    "    print(\"\\nTerima kasih, data sudah disimpan\")\n",
    "  the_input = input(input_text)\n",
    "else:\n",
    "  # Jika input adalah \"exit\", maka jalankan kode ini  \n",
    "  print(\"\\nTerima kasih, sampai jumpa!\")\n"
   ]
  }
 ],
 "metadata": {
  "kernelspec": {
   "display_name": "base",
   "language": "python",
   "name": "python3"
  },
  "language_info": {
   "codemirror_mode": {
    "name": "ipython",
    "version": 3
   },
   "file_extension": ".py",
   "mimetype": "text/x-python",
   "name": "python",
   "nbconvert_exporter": "python",
   "pygments_lexer": "ipython3",
   "version": "3.12.2"
  }
 },
 "nbformat": 4,
 "nbformat_minor": 2
}
