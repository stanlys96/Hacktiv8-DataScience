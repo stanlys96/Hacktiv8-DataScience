{
  "cells": [
    {
      "cell_type": "code",
      "execution_count": null,
      "metadata": {
        "id": "brPNKjY_M3FX"
      },
      "outputs": [],
      "source": [
        "print('halo selamat datang di toko budi')"
      ]
    },
    {
      "cell_type": "markdown",
      "metadata": {
        "id": "f3fwm9AXSf4W"
      },
      "source": [
        "# LATIHAN - P0W1D3AM : Conditional & Looping"
      ]
    },
    {
      "cell_type": "markdown",
      "metadata": {
        "id": "KwQ65oWbSk3E"
      },
      "source": [
        "**NOMOR 1**\n",
        "\n",
        "Buatlah sebuah kondisi untuk mengecek apakah variabel `a` **lebih kecil** dari variabel `b` berdasarkan nilai dibawah ini :\n",
        "* `a` = 100\n",
        "* `b` = 200\n",
        "\n",
        "Jika `True` maka tulis/cetak `a lebih kecil dari b`"
      ]
    },
    {
      "cell_type": "code",
      "execution_count": null,
      "metadata": {
        "id": "Rpd424VzMZba"
      },
      "outputs": [],
      "source": [
        "if a < b:\n",
        "  print('a lebih kecil dari b')"
      ]
    },
    {
      "cell_type": "markdown",
      "metadata": {
        "id": "3VTram85TxLA"
      },
      "source": [
        "**NOMOR 2**\n",
        "\n",
        "Buatlah sebuah kondisi untuk mengecek apakah variabel `a` **lebih besar** dari variabel `b` berdasarkan nilai dibawah ini :\n",
        "* `a` = 100\n",
        "* `b` = 200\n",
        "\n",
        "Jika `True` maka tulis/cetak `a lebih besar dari b`"
      ]
    },
    {
      "cell_type": "code",
      "execution_count": 2,
      "metadata": {
        "id": "jGmT77M4MYuB"
      },
      "outputs": [],
      "source": [
        "a = 100\n",
        "b = 200\n",
        "if a > b:\n",
        "  print('a lebih besar dari b')"
      ]
    },
    {
      "cell_type": "markdown",
      "metadata": {
        "id": "nJ04rhbDUDuI"
      },
      "source": [
        "**NOMOR 3**\n",
        "\n",
        "Buatlah sebuah kondisi untuk mengecek apakah variabel `a` **tidak sama dengan**  variabel `b` berdasarkan nilai dibawah ini :\n",
        "* `a` = `januari`\n",
        "* `b` = `februari`\n",
        "\n",
        "Jika `True` maka tulis/cetak `a tidak sama dengan b`\n",
        "\n",
        "Jika `False` maka tulis/cetak `a sama dengan b`"
      ]
    },
    {
      "cell_type": "code",
      "execution_count": 3,
      "metadata": {
        "id": "HvwYDFVGMfdT"
      },
      "outputs": [
        {
          "name": "stdout",
          "output_type": "stream",
          "text": [
            "a tidak sama dengan b\n"
          ]
        }
      ],
      "source": [
        "a = 'januari'\n",
        "b = 'februari'\n",
        "if a != b:\n",
        "  print(\"a tidak sama dengan b\")\n",
        "else:\n",
        "  print(\"a sama dengan b\")"
      ]
    },
    {
      "cell_type": "markdown",
      "metadata": {
        "id": "bbHY6mLEfCtm"
      },
      "source": [
        "**NOMOR 4**\n",
        "\n",
        "Buatlah sebuah kondisi untuk mengecek apakah variabel `a` **sama dengan**  variabel `b` berdasarkan nilai dibawah ini :\n",
        "* `a` = 1000\n",
        "* `b` = 1000.0\n",
        "\n",
        "Jika `True` maka jangan menampilkan apapun\n",
        "\n",
        "Jika `False` maka tulis/cetak `a tidak sama dengan b`"
      ]
    },
    {
      "cell_type": "code",
      "execution_count": 4,
      "metadata": {
        "id": "boNpvqT0MhkK"
      },
      "outputs": [],
      "source": [
        "a = 1000\n",
        "b = 1000.0\n",
        "if a != b:\n",
        "  print(\"a tidak sama dengan b\")"
      ]
    },
    {
      "cell_type": "markdown",
      "metadata": {
        "id": "b_v1w6L-VsD8"
      },
      "source": [
        "**NOMOR 5**\n",
        "\n",
        "Buatlah sebuah kondisi untuk mengecek apakah variabel `a` **berbeda**  variabel `b` berdasarkan nilai dibawah ini :\n",
        "* `angka_ganjil` = `[1, 3, 5, 7]`\n",
        "* `angka_genap`  = `[2, 4, 6, 8]`\n",
        "\n",
        "Jika `True` maka tulis/cetak `a berbeda dengan b`\n",
        "\n",
        "Jika `False` maka tulis/cetak `a sama dengan b`"
      ]
    },
    {
      "cell_type": "code",
      "execution_count": 5,
      "metadata": {
        "id": "RgkXSGk8MjIb"
      },
      "outputs": [
        {
          "name": "stdout",
          "output_type": "stream",
          "text": [
            "a berbeda dengan b\n"
          ]
        }
      ],
      "source": [
        "angka_ganjil = [1, 3, 5, 7]\n",
        "angka_genap = [2, 4, 6, 8]\n",
        "\n",
        "if angka_ganjil != angka_genap:\n",
        "  print(\"a berbeda dengan b\")\n",
        "else:\n",
        "  print(\"a sama dengan b\")"
      ]
    },
    {
      "cell_type": "markdown",
      "metadata": {
        "id": "QAuu7AtZeHHo"
      },
      "source": [
        "**NOMOR 6**\n",
        "\n",
        "Buatlah sebuah kondisi untuk mengecek apakah variabel-variabel dibawah ini termasuk salah satu nilai dari variabel lain atau tidak\n",
        "\n",
        "* *`pendidikan` = `s1`* terhadap *`daftar_pendidikan` = ['s1', 's2', 's3']*\n",
        "* *`nama` = `budi`* terhadap *`nama_lengkap` = `budi kurniawan`*\n",
        "\n",
        "Jika True maka tulis/cetak `merupakan bagian`\n",
        "\n",
        "Jika False maka tulis/cetak `bukan merupakan bagian`"
      ]
    },
    {
      "cell_type": "code",
      "execution_count": 6,
      "metadata": {
        "id": "hoYra7dFMnnO"
      },
      "outputs": [
        {
          "name": "stdout",
          "output_type": "stream",
          "text": [
            "merupakan bagian\n",
            "merupakan bagian\n"
          ]
        }
      ],
      "source": [
        "pendidikan = 's1'\n",
        "daftar_pendidikan = ['s1', 's2', 's3']\n",
        "\n",
        "nama = 'budi'\n",
        "nama_lengkap = 'budi kurniawan'\n",
        "\n",
        "if pendidikan in daftar_pendidikan:\n",
        "  print(\"merupakan bagian\")\n",
        "else:\n",
        "  print(\"bukan merupakan bagian\")\n",
        "\n",
        "if nama in nama_lengkap:\n",
        "  print(\"merupakan bagian\")\n",
        "else:\n",
        "  print(\"bukan merupakan bagian\")"
      ]
    },
    {
      "cell_type": "code",
      "execution_count": null,
      "metadata": {
        "id": "XbSRI8xuMtSa"
      },
      "outputs": [],
      "source": []
    },
    {
      "cell_type": "markdown",
      "metadata": {
        "id": "xKB0rquQgyU1"
      },
      "source": [
        "**NOMOR 7**\n",
        "\n",
        "Buatlah sebuah kondisi untuk mengecek hubungan dua variabel dibawah ini :\n",
        "\n",
        "* `a` = 100\n",
        "* `b` = 100\n",
        "\n",
        "Jika `a < b` maka tulis/cetak `a lebih kecil dari b`\n",
        "\n",
        "Jika `a > b` maka tulis/cetak `a lebih besar dari b`\n",
        "\n",
        "Selain kondisi diatas, maka tulis/cetak `a sama dengan b`"
      ]
    },
    {
      "cell_type": "code",
      "execution_count": 7,
      "metadata": {
        "id": "CslJaYt_MxEp"
      },
      "outputs": [
        {
          "name": "stdout",
          "output_type": "stream",
          "text": [
            "a sama dengan b\n"
          ]
        }
      ],
      "source": [
        "a = 100\n",
        "b = 100\n",
        "if a < b:\n",
        "  print(\"a lebih kecil dari b\")\n",
        "elif a > b:\n",
        "  print(\"a lebih besar dari b\")\n",
        "else:\n",
        "  print(\"a sama dengan b\")"
      ]
    },
    {
      "cell_type": "markdown",
      "metadata": {
        "id": "6-2lRRq0e0v2"
      },
      "source": [
        "**NOMOR 8**\n",
        "\n",
        "Buatlah sebuah kondisi untuk memilih menu makanan dengan syarat :\n",
        "\n",
        "* Pilih `nasi goreng` jika uang yang dimiliki lebih dari sama dengan Rp 15.000,-\n",
        "* Pilih `ketoprak` jika uang yang dimiliki lebih dari sama dengan Rp 10.000 dan kurang dari Rp 15.000,-\n",
        "* Pilih `batagor` jika uang yang dimiliki lebih dari sama dengan Rp 5.000 dan kurang Rp 10.000,-\n",
        "* Pilih `es teh manis` jika uang yang dimiliki kurang dari Rp 5000"
      ]
    },
    {
      "cell_type": "code",
      "execution_count": 8,
      "metadata": {
        "id": "a6nGhaBS30h5"
      },
      "outputs": [
        {
          "name": "stdout",
          "output_type": "stream",
          "text": [
            "ketoprak\n"
          ]
        }
      ],
      "source": [
        "#input\n",
        "uang = 13000\n",
        "if uang >= 15000:\n",
        "  print(\"nasi goreng\")\n",
        "elif uang >= 10000 and uang < 15000:\n",
        "  print(\"ketoprak\")\n",
        "elif uang >= 5000 and uang < 10000:\n",
        "  print(\"batagor\")\n",
        "elif uang < 5000:\n",
        "  print(\"es teh manis\")"
      ]
    },
    {
      "cell_type": "markdown",
      "metadata": {
        "id": "0LRQikHLhzxx"
      },
      "source": [
        "**NOMOR 9**\n",
        "\n",
        "Buatlah sebuah perulangan untuk mencetak/menulis kata `hello` sebanyak `5` kali."
      ]
    },
    {
      "cell_type": "code",
      "execution_count": 9,
      "metadata": {
        "id": "Xsti9HXWM95y"
      },
      "outputs": [
        {
          "name": "stdout",
          "output_type": "stream",
          "text": [
            "hello\n",
            "hello\n",
            "hello\n",
            "hello\n",
            "hello\n"
          ]
        }
      ],
      "source": [
        "for i in range(5):\n",
        "  print(\"hello\")"
      ]
    },
    {
      "cell_type": "markdown",
      "metadata": {
        "id": "q1u5JgNcjDER"
      },
      "source": [
        "**NOMOR 10**\n",
        "\n",
        "Buatlah sebuah perulangan untuk menampilkan angka dari `0` - `5`\n",
        "\n",
        "*Hasil : 0, 1, 2, 3, 4, 5*"
      ]
    },
    {
      "cell_type": "code",
      "execution_count": 10,
      "metadata": {
        "id": "_5D3mGIIM9gQ"
      },
      "outputs": [
        {
          "name": "stdout",
          "output_type": "stream",
          "text": [
            "0\n",
            "1\n",
            "2\n",
            "3\n",
            "4\n",
            "5\n"
          ]
        }
      ],
      "source": [
        "for i in range(6):\n",
        "  print(i)"
      ]
    },
    {
      "cell_type": "markdown",
      "metadata": {
        "id": "1D-AQ-pij46e"
      },
      "source": [
        "**NOMOR 11**\n",
        "\n",
        "Buatlah sebuah perulangan untuk menampilkan angka dari `3` - `5`\n",
        "\n",
        "*Hasil : 3, 4, 5*"
      ]
    },
    {
      "cell_type": "code",
      "execution_count": 11,
      "metadata": {
        "id": "_dZoILmlM_2t"
      },
      "outputs": [
        {
          "name": "stdout",
          "output_type": "stream",
          "text": [
            "3\n",
            "4\n",
            "5\n"
          ]
        }
      ],
      "source": [
        "for i in range(3, 6):\n",
        "  print(i)"
      ]
    },
    {
      "cell_type": "markdown",
      "metadata": {
        "id": "uSEVraIukViN"
      },
      "source": [
        "**NOMOR 12**\n",
        "\n",
        "Buatlah sebuah perulangan untuk menampilkan angka dari `1` - `10` dengan jarak angka adalah `3`\n",
        "\n",
        "*Hasil : 1, 4, 7, 10*"
      ]
    },
    {
      "cell_type": "code",
      "execution_count": 12,
      "metadata": {
        "id": "-ABJEE5nNBCW"
      },
      "outputs": [
        {
          "name": "stdout",
          "output_type": "stream",
          "text": [
            "1\n",
            "4\n",
            "7\n",
            "10\n"
          ]
        }
      ],
      "source": [
        "for i in range(1, 11, 3):\n",
        "  print(i)"
      ]
    },
    {
      "cell_type": "markdown",
      "metadata": {
        "id": "DtDfto_5k75u"
      },
      "source": [
        "**NOMOR 13**\n",
        "\n",
        "Buatlah sebuah perulangan untuk menampilkan angka dari `1` - `10` dan berhenti dengan kondisi jika angka tersebut adalah `8`\n",
        "\n",
        "*Hasil : 1, 2, 3, 4, 5, 6, 7, 8*"
      ]
    },
    {
      "cell_type": "code",
      "execution_count": 13,
      "metadata": {
        "id": "JpetMN9oNGMN"
      },
      "outputs": [
        {
          "name": "stdout",
          "output_type": "stream",
          "text": [
            "0\n",
            "1\n",
            "2\n",
            "3\n",
            "4\n",
            "5\n",
            "6\n",
            "7\n",
            "8\n"
          ]
        }
      ],
      "source": [
        "for i in range(11):\n",
        "  print(i)\n",
        "  if i == 8:\n",
        "    break"
      ]
    },
    {
      "cell_type": "markdown",
      "metadata": {
        "id": "xHUh5DxDmkjm"
      },
      "source": [
        "**NOMOR 14**\n",
        "\n",
        "Buatlah sebuah perulangan untuk menampilkan angka genap dari `1` - `10` dan angka tersebut kurang dari sama dengan 6\n",
        "\n",
        "*Hasil : 2, 4, 6*"
      ]
    },
    {
      "cell_type": "code",
      "execution_count": 14,
      "metadata": {
        "id": "DdWcD-ZJNHN0"
      },
      "outputs": [
        {
          "name": "stdout",
          "output_type": "stream",
          "text": [
            "2\n",
            "4\n",
            "6\n"
          ]
        }
      ],
      "source": [
        "for i in range(1, 11):\n",
        "  if i % 2 == 0 and i <= 6:\n",
        "    print(i)"
      ]
    },
    {
      "cell_type": "markdown",
      "metadata": {
        "id": "eHuyyy7cmFTc"
      },
      "source": [
        "**NOMOR 15**\n",
        "\n",
        "Buatlah sebuah perulangan untuk menampilkan isi dari variabel list dibawah ini :\n",
        "\n",
        "* `daftar_nama` = `['anwar', 'budi', 'cecep', 'deny']`"
      ]
    },
    {
      "cell_type": "code",
      "execution_count": 15,
      "metadata": {
        "id": "FXpoig-GNKdo"
      },
      "outputs": [
        {
          "name": "stdout",
          "output_type": "stream",
          "text": [
            "anwar\n",
            "budi\n",
            "cecep\n",
            "deny\n"
          ]
        }
      ],
      "source": [
        "daftar_nama = ['anwar', 'budi', 'cecep', 'deny']\n",
        "\n",
        "for i in daftar_nama:\n",
        "  print(i)"
      ]
    }
  ],
  "metadata": {
    "colab": {
      "provenance": []
    },
    "kernelspec": {
      "display_name": "Python 3",
      "name": "python3"
    },
    "language_info": {
      "codemirror_mode": {
        "name": "ipython",
        "version": 3
      },
      "file_extension": ".py",
      "mimetype": "text/x-python",
      "name": "python",
      "nbconvert_exporter": "python",
      "pygments_lexer": "ipython3",
      "version": "3.10.9"
    }
  },
  "nbformat": 4,
  "nbformat_minor": 0
}
