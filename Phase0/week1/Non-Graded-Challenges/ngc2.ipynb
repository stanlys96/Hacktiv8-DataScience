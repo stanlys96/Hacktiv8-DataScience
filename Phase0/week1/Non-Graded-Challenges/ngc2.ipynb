{
 "cells": [
  {
   "cell_type": "code",
   "execution_count": 2,
   "metadata": {},
   "outputs": [
    {
     "name": "stdout",
     "output_type": "stream",
     "text": [
      "2\n",
      "8\n"
     ]
    }
   ],
   "source": [
    "def number_of_word(sentence):\n",
    "  return len(sentence.split())\n",
    "\n",
    "print(number_of_word(\"Hello world\"))\n",
    "print(number_of_word(\"Once Upon a Time in a faraway land\"))"
   ]
  },
  {
   "cell_type": "code",
   "execution_count": 17,
   "metadata": {},
   "outputs": [
    {
     "name": "stdout",
     "output_type": "stream",
     "text": [
      "[5, 10, 15, 20]\n",
      "[10, 20, 30, 40, 50]\n"
     ]
    }
   ],
   "source": [
    "def find_multiples(start_range, end_range, multiple):\n",
    "  result = []\n",
    "  for i in range(start_range, end_range + 1):\n",
    "    if i % multiple == 0:\n",
    "      result.append(i)\n",
    "  return result\n",
    "\n",
    "print(find_multiples(1, 20, 5))\n",
    "print(find_multiples(1, 50, 10))"
   ]
  },
  {
   "cell_type": "code",
   "execution_count": 14,
   "metadata": {},
   "outputs": [
    {
     "name": "stdout",
     "output_type": "stream",
     "text": [
      "{'Adam': 2.5, 'Faiz': 4}\n"
     ]
    }
   ],
   "source": [
    "grade_dict = {\n",
    "  \"top_top\": {\n",
    "    \"letter\": \"A\",\n",
    "    \"gpa\": 4\n",
    "  },\n",
    "  \"top_middle\": {\n",
    "    \"letter\": \"B\",\n",
    "    \"gpa\": 3\n",
    "  },\n",
    "  \"middle_middle\": {\n",
    "    \"letter\": \"C\",\n",
    "    \"gpa\": 2.5\n",
    "  },\n",
    "  \"middle_bottom\": {\n",
    "    \"letter\": \"D\",\n",
    "    \"gpa\": 2\n",
    "  },\n",
    "  \"bottom_bottom\": {\n",
    "    \"letter\": \"E\",\n",
    "    \"gpa\": 1.5\n",
    "  },\n",
    "  \"lowest\": {\n",
    "    \"letter\": \"F\",\n",
    "    \"gpa\": 1\n",
    "  }\n",
    "}\n",
    "\n",
    "def Grade_Converter(convert_to, **names):\n",
    "  for key, value in names.items():\n",
    "    if value >= 85 and value <= 100:\n",
    "      names[key] = grade_dict[\"top_top\"][\"gpa\" if convert_to == \"gpa\" else \"letter\"]\n",
    "    if value >= 70 and value <= 84.99:\n",
    "      names[key] = grade_dict[\"top_middle\"][\"gpa\" if convert_to == \"gpa\" else \"letter\"]\n",
    "    if value >= 60 and value <= 69.99:\n",
    "      names[key] = grade_dict[\"middle_middle\"][\"gpa\" if convert_to == \"gpa\" else \"letter\"]\n",
    "    if value >= 50 and value <= 59.99:\n",
    "      names[key] = grade_dict[\"middle_bottom\"][\"gpa\" if convert_to == \"gpa\" else \"letter\"]\n",
    "    if value >= 40 and value <= 49.99:\n",
    "      names[key] = grade_dict[\"bottom_bottom\"][\"gpa\" if convert_to == \"gpa\" else \"letter\"]\n",
    "    if value >= 0 and value <= 39.99:\n",
    "      names[key] = grade_dict[\"lowest\"][\"gpa\" if convert_to == \"gpa\" else \"letter\"]\n",
    "\n",
    "  return names\n",
    "\n",
    "print(Grade_Converter(convert_to=\"gpa\", Adam=62, Faiz=91))"
   ]
  },
  {
   "cell_type": "code",
   "execution_count": 28,
   "metadata": {},
   "outputs": [
    {
     "name": "stdout",
     "output_type": "stream",
     "text": [
      "[0, 1, 1, 2, 3, 5, 8, 13, 21, 34, 55]\n",
      "55\n"
     ]
    }
   ],
   "source": [
    "def fibonacci(input):\n",
    "  result = [0, 1]\n",
    "  if input <= 0:\n",
    "    return 0\n",
    "  if input == 1:\n",
    "    return result[-1]\n",
    "  for i in range(1, input):\n",
    "    last2 = result[-2] + result[-1]\n",
    "    result.append(last2)\n",
    "  print(result)\n",
    "  return result[-1]\n",
    "\n",
    "print(fibonacci(10))"
   ]
  }
 ],
 "metadata": {
  "kernelspec": {
   "display_name": "base",
   "language": "python",
   "name": "python3"
  },
  "language_info": {
   "codemirror_mode": {
    "name": "ipython",
    "version": 3
   },
   "file_extension": ".py",
   "mimetype": "text/x-python",
   "name": "python",
   "nbconvert_exporter": "python",
   "pygments_lexer": "ipython3",
   "version": "3.12.2"
  }
 },
 "nbformat": 4,
 "nbformat_minor": 2
}
