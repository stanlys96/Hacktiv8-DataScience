{
 "cells": [
  {
   "cell_type": "code",
   "execution_count": 18,
   "metadata": {},
   "outputs": [],
   "source": [
    "class Book:\n",
    "  def __init__(self, title, author, id):\n",
    "    self.title = title\n",
    "    self.author = author\n",
    "    self.id = id\n",
    "\n",
    "  def update_book(self, new_title, new_author, new_id):\n",
    "    self.title = new_title\n",
    "    self.author = new_author\n",
    "    self.id = new_id\n",
    "\n",
    "class Library:\n",
    "  def __init__(self):\n",
    "    self.__book_list = []\n",
    "\n",
    "  def add_book(self, book):\n",
    "    self.__book_list.append(book)\n",
    "\n",
    "  def search_book(self, keyword):\n",
    "    found = False\n",
    "    for i in self.__book_list:\n",
    "      if i.title == keyword or i.author == keyword:\n",
    "        print(f\"book {i.title} with the author {i.author} exists!\")\n",
    "        found = True\n",
    "        return i\n",
    "      \n",
    "    if not found:\n",
    "      print(f\"book {keyword} is not found!\")\n",
    "      \n",
    "  def remove_book(self, keyword):\n",
    "    for index, item in enumerate(self.__book_list):\n",
    "      if item.title == keyword or item.author == keyword:\n",
    "        self.__book_list.pop(index)\n",
    "\n",
    "  def display_all_books(self):\n",
    "    for i in self.__book_list:\n",
    "      print(f\"Book {i.title} with author {i.author}\")\n",
    "    return self.__book_list\n",
    "  \n",
    "  def reset_book_list(self):\n",
    "    self.__book_list = []\n",
    "\n",
    "  def search_book_by_index(self, index):\n",
    "    try:\n",
    "      return self.__book_list[index]\n",
    "    except:\n",
    "      return \"Book not found!\"\n",
    "  "
   ]
  },
  {
   "cell_type": "code",
   "execution_count": 26,
   "metadata": {},
   "outputs": [
    {
     "name": "stderr",
     "output_type": "stream",
     "text": [
      "......\n",
      "----------------------------------------------------------------------\n",
      "Ran 6 tests in 0.007s\n",
      "\n",
      "OK\n"
     ]
    },
    {
     "name": "stdout",
     "output_type": "stream",
     "text": [
      "Book Harry Potter with author JK Rowling\n",
      "Book Harry Potter with author JK Rowling\n",
      "Book Pirates of the Carribean with author Stanly Sukmajaya\n",
      "book Harry Potter with the author JK Rowling exists!\n"
     ]
    },
    {
     "data": {
      "text/plain": [
       "<unittest.main.TestProgram at 0x1158d6f00>"
      ]
     },
     "execution_count": 26,
     "metadata": {},
     "output_type": "execute_result"
    }
   ],
   "source": [
    "import unittest\n",
    "\n",
    "harry_potter = Book(\"Harry Potter\", \"JK Rowling\", 1)\n",
    "pirates = Book(\"Pirates of the Carribean\", \"Stanly Sukmajaya\", 2)\n",
    "alexandria = Library()\n",
    "\n",
    "class TestLibraryAndBook(unittest.TestCase):\n",
    "  def test_book(self):\n",
    "    self.assertEqual(harry_potter.title, \"Harry Potter\")\n",
    "    self.assertEqual(harry_potter.author, \"JK Rowling\")\n",
    "    self.assertEqual(harry_potter.id, 1)\n",
    "\n",
    "  def test_add_book(self):\n",
    "    alexandria.add_book(harry_potter)\n",
    "    self.assertEqual(len(alexandria.display_all_books()), 1)\n",
    "    alexandria.reset_book_list()\n",
    "\n",
    "  def test_remove_book(self):\n",
    "    alexandria.add_book(pirates)\n",
    "    alexandria.remove_book(\"Pirates of the Carribean\")\n",
    "    self.assertEqual(len(alexandria.display_all_books()), 0)\n",
    "    alexandria.reset_book_list()\n",
    "\n",
    "  def test_add_multiple_books(self):\n",
    "    alexandria.add_book(harry_potter)\n",
    "    alexandria.add_book(pirates)\n",
    "    self.assertEqual(len(alexandria.display_all_books()), 2)\n",
    "    alexandria.reset_book_list()\n",
    "\n",
    "  def test_search_book(self):\n",
    "    alexandria.add_book(harry_potter)\n",
    "    alexandria.add_book(pirates)\n",
    "    first_book = alexandria.search_book(\"Harry Potter\")\n",
    "    self.assertEqual(first_book.title, \"Harry Potter\")\n",
    "    alexandria.reset_book_list()\n",
    "\n",
    "  def test_search_book_by_index(self):\n",
    "    alexandria.add_book(harry_potter)\n",
    "    alexandria.add_book(pirates)\n",
    "    first_book = alexandria.search_book_by_index(0)\n",
    "    second_book = alexandria.search_book_by_index(5)\n",
    "    self.assertEqual(first_book.title, \"Harry Potter\")\n",
    "    self.assertEqual(second_book, \"Book not found!\")\n",
    "\n",
    "unittest.main(argv=[''], exit=False)"
   ]
  }
 ],
 "metadata": {
  "kernelspec": {
   "display_name": "base",
   "language": "python",
   "name": "python3"
  },
  "language_info": {
   "codemirror_mode": {
    "name": "ipython",
    "version": 3
   },
   "file_extension": ".py",
   "mimetype": "text/x-python",
   "name": "python",
   "nbconvert_exporter": "python",
   "pygments_lexer": "ipython3",
   "version": "3.12.2"
  }
 },
 "nbformat": 4,
 "nbformat_minor": 2
}
