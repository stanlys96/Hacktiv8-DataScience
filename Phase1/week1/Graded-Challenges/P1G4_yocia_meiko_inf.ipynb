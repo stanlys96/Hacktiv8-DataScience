{
 "cells": [
  {
   "cell_type": "markdown",
   "metadata": {},
   "source": [
    "# Model Inference Housing\n",
    "\n",
    "Nama: Yocia Meiko Oke  \n",
    "\n",
    "Batch: RMT-036  "
   ]
  },
  {
   "cell_type": "code",
   "execution_count": 167,
   "metadata": {},
   "outputs": [],
   "source": [
    "# Import libraries\n",
    "import pickle\n",
    "import json\n",
    "import pandas as pd \n",
    "import numpy as np"
   ]
  },
  {
   "cell_type": "code",
   "execution_count": 168,
   "metadata": {},
   "outputs": [],
   "source": [
    "# Load model\n",
    "with open('model_lin.pkl','rb') as file_1: #rb = read binary\n",
    "    model_lin = pickle.load(file_1)\n",
    "\n",
    "# Load scaler\n",
    "with open('model_scaler_normal.pkl','rb') as file_2: #rb = read binary\n",
    "    scaler_normal = pickle.load(file_2)\n",
    "\n",
    "with open('model_scaler_skewed.pkl','rb') as file_3: #rb = read binary\n",
    "    scaler_skewed = pickle.load(file_3)\n",
    "\n",
    "# Load encoder\n",
    "with open('model_encoder_nominal.pkl','rb') as file_4: #rb = read binary\n",
    "    model_encoder_nominal = pickle.load(file_4)\n",
    "\n",
    "with open('model_encoder_ordinal.pkl','rb') as file_5: #rb = read binary\n",
    "    model_encoder_ordinal = pickle.load(file_5)\n",
    "\n",
    "# Load cols\n",
    "with open('num_col_normal.txt','r') as file_6: #r = read\n",
    "    num_col_normal = json.load(file_6)\n",
    "\n",
    "with open('num_col_skewed.txt','r') as file_7: #r = read\n",
    "    num_col_skewed = json.load(file_7)\n",
    "\n",
    "with open('cat_col_nominal.txt','r') as file_8: #r = read\n",
    "    cat_col_nominal = json.load(file_8)\n",
    "\n",
    "with open('cat_col_ordinal.txt','r') as file_9: #r = read\n",
    "    cat_col_ordinal = json.load(file_9)\n",
    "\n",
    "with open('cat_col_encoded.txt','r') as file_10: #r = read\n",
    "    cat_col_encoded = json.load(file_10)"
   ]
  },
  {
   "cell_type": "code",
   "execution_count": 169,
   "metadata": {},
   "outputs": [],
   "source": [
    "# Create data inference\n",
    "df_inf = {'area':'BSD City',\n",
    "          'city':'Tangerang',\n",
    "          'lattitude':-6.3007333, \n",
    "          'logitude':106.586126, \n",
    "          'property_type':'rumah', \n",
    "          'bedrooms':3, \n",
    "          'bathrooms':2,\n",
    "          'land_area':181, \n",
    "          'building_area':182, \n",
    "          'floors':2, \n",
    "          'maid_bedrooms':1,\n",
    "          'maid_bathrooms':1, \n",
    "          'certificate':'shm - sertifikat hak milik', \n",
    "          'voltage':5500,\n",
    "          'building_age':1, \n",
    "          'year':2021, \n",
    "          'condition':'baru', \n",
    "          'garage':1,\n",
    "          'carport':1}\n",
    "\n",
    "df_inf = pd.DataFrame([df_inf])"
   ]
  },
  {
   "cell_type": "code",
   "execution_count": 170,
   "metadata": {},
   "outputs": [],
   "source": [
    "df_inf.drop(['area', 'lattitude', 'logitude', 'property_type', 'year', 'carport'], axis=1, inplace=True)"
   ]
  },
  {
   "cell_type": "code",
   "execution_count": 171,
   "metadata": {},
   "outputs": [],
   "source": [
    "# Split num cat col\n",
    "df_num_normal = df_inf[num_col_normal]\n",
    "df_num_skewed = df_inf[num_col_skewed]\n",
    "df_cat_nominal = df_inf[cat_col_nominal]\n",
    "df_cat_ordinal = df_inf[cat_col_ordinal]\n",
    "\n",
    "encoded_col = ['carport']\n",
    "cat_col_encoded = [col for col in cat_col_encoded if col not in encoded_col]\n",
    "\n",
    "df_cat_encoded = df_inf[cat_col_encoded]"
   ]
  },
  {
   "cell_type": "code",
   "execution_count": 172,
   "metadata": {},
   "outputs": [],
   "source": [
    "# scaling\n",
    "df_inf_num_normal_scaled = scaler_normal.transform(df_num_normal.values)\n",
    "df_inf_num_skewed_scaled = scaler_skewed.transform(df_num_skewed.values)"
   ]
  },
  {
   "cell_type": "code",
   "execution_count": 173,
   "metadata": {},
   "outputs": [],
   "source": [
    "# encoding\n",
    "df_cat_nominal_encoded = model_encoder_nominal.transform(df_cat_nominal.values)\n",
    "df_cat_ordinal_encoded = model_encoder_ordinal.transform(df_cat_ordinal)"
   ]
  },
  {
   "cell_type": "code",
   "execution_count": 174,
   "metadata": {},
   "outputs": [],
   "source": [
    "# concat\n",
    "df_inf_final = np.concatenate([df_inf_num_normal_scaled,df_inf_num_skewed_scaled,df_cat_nominal_encoded,df_cat_ordinal_encoded,df_cat_encoded], axis=1)"
   ]
  },
  {
   "cell_type": "code",
   "execution_count": 175,
   "metadata": {},
   "outputs": [
    {
     "name": "stdout",
     "output_type": "stream",
     "text": [
      "[7.74989243e+22]\n"
     ]
    }
   ],
   "source": [
    "# predict\n",
    "result = model_lin.predict(df_inf_final)\n",
    "\n",
    "print(result)"
   ]
  },
  {
   "cell_type": "markdown",
   "metadata": {},
   "source": [
    "Prediksi harga adalah **Rp 77,498,924,300,000,000,000,000**"
   ]
  }
 ],
 "metadata": {
  "kernelspec": {
   "display_name": "base",
   "language": "python",
   "name": "python3"
  },
  "language_info": {
   "codemirror_mode": {
    "name": "ipython",
    "version": 3
   },
   "file_extension": ".py",
   "mimetype": "text/x-python",
   "name": "python",
   "nbconvert_exporter": "python",
   "pygments_lexer": "ipython3",
   "version": "3.12.4"
  }
 },
 "nbformat": 4,
 "nbformat_minor": 2
}
