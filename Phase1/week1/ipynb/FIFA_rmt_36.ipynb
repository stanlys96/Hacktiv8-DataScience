{
 "cells": [
  {
   "cell_type": "markdown",
   "metadata": {},
   "source": [
    "# i. Perkenalan"
   ]
  },
  {
   "cell_type": "markdown",
   "metadata": {},
   "source": [
    ">Bab pengenalan diisi dengan identitas, gambaran besar dataset yang digunakan, dan objective yang ingin dicapai."
   ]
  },
  {
   "cell_type": "markdown",
   "metadata": {},
   "source": [
    "Nama : Vincent</br>\n",
    "Batch : RMT_36\n",
    "\n",
    "Dataset : FIFA 2022<br>\n",
    "\n",
    "Problem statement:  \n",
    "Menurut [laporan FIFA 2022](https://publications.fifa.com/en/annual-report-2021/around-fifa/professional-football-2021) jumlah pemain sepakbola tahun 2021 kurang lebih sebanyak 130.000 pemain. Namun dalam dataset ini hanya terdapat 20.000 pemain.  \n",
    "\n",
    "Objective:  \n",
    "Project ini bertujuan untuk memprediksi rating pemain FIFA 2022 sehingga semua pemain sepakbola proffesional dapat diketahui ratingnya dan tidak menutup kemungkinan untuk lahirnya talent baru."
   ]
  },
  {
   "cell_type": "markdown",
   "metadata": {},
   "source": [
    "# ii. Import Libraries"
   ]
  },
  {
   "cell_type": "markdown",
   "metadata": {},
   "source": [
    ">Cell pertama pada notebook harus berisi dan hanya berisi semua library yang digunakan dalam project."
   ]
  },
  {
   "cell_type": "code",
   "execution_count": 3,
   "metadata": {},
   "outputs": [],
   "source": [
    "# import libraries\n",
    "import pandas as pd\n",
    "import numpy as np\n",
    "import matplotlib.pyplot as plt\n",
    "import seaborn as sns"
   ]
  },
  {
   "cell_type": "markdown",
   "metadata": {},
   "source": [
    "# iii Data Loading"
   ]
  },
  {
   "cell_type": "markdown",
   "metadata": {},
   "source": [
    ">Bagian ini berisi proses penyimpanan data sebelum dilakukan eksplorasi data lebih lanjut. Proses Data Loading dapat berupa memberi nama baru untuk setiap kolom, mengecek ukuran dataset, dll."
   ]
  },
  {
   "cell_type": "code",
   "execution_count": 2,
   "metadata": {},
   "outputs": [
    {
     "data": {
      "text/html": [
       "<div>\n",
       "<style scoped>\n",
       "    .dataframe tbody tr th:only-of-type {\n",
       "        vertical-align: middle;\n",
       "    }\n",
       "\n",
       "    .dataframe tbody tr th {\n",
       "        vertical-align: top;\n",
       "    }\n",
       "\n",
       "    .dataframe thead th {\n",
       "        text-align: right;\n",
       "    }\n",
       "</style>\n",
       "<table border=\"1\" class=\"dataframe\">\n",
       "  <thead>\n",
       "    <tr style=\"text-align: right;\">\n",
       "      <th></th>\n",
       "      <th>Name</th>\n",
       "      <th>Age</th>\n",
       "      <th>Height</th>\n",
       "      <th>Weight</th>\n",
       "      <th>ValueEUR</th>\n",
       "      <th>AttackingWorkRate</th>\n",
       "      <th>DefensiveWorkRate</th>\n",
       "      <th>PaceTotal</th>\n",
       "      <th>ShootingTotal</th>\n",
       "      <th>PassingTotal</th>\n",
       "      <th>DribblingTotal</th>\n",
       "      <th>DefendingTotal</th>\n",
       "      <th>PhysicalityTotal</th>\n",
       "      <th>Overall</th>\n",
       "    </tr>\n",
       "  </thead>\n",
       "  <tbody>\n",
       "    <tr>\n",
       "      <th>0</th>\n",
       "      <td>L. Messi</td>\n",
       "      <td>34</td>\n",
       "      <td>170</td>\n",
       "      <td>72</td>\n",
       "      <td>78000000</td>\n",
       "      <td>Medium</td>\n",
       "      <td>Low</td>\n",
       "      <td>85</td>\n",
       "      <td>92</td>\n",
       "      <td>91</td>\n",
       "      <td>95</td>\n",
       "      <td>34</td>\n",
       "      <td>65</td>\n",
       "      <td>93</td>\n",
       "    </tr>\n",
       "    <tr>\n",
       "      <th>1</th>\n",
       "      <td>R. Lewandowski</td>\n",
       "      <td>32</td>\n",
       "      <td>185</td>\n",
       "      <td>81</td>\n",
       "      <td>119500000</td>\n",
       "      <td>High</td>\n",
       "      <td>Medium</td>\n",
       "      <td>78</td>\n",
       "      <td>92</td>\n",
       "      <td>79</td>\n",
       "      <td>85</td>\n",
       "      <td>44</td>\n",
       "      <td>82</td>\n",
       "      <td>92</td>\n",
       "    </tr>\n",
       "    <tr>\n",
       "      <th>2</th>\n",
       "      <td>Cristiano Ronaldo</td>\n",
       "      <td>36</td>\n",
       "      <td>187</td>\n",
       "      <td>83</td>\n",
       "      <td>45000000</td>\n",
       "      <td>High</td>\n",
       "      <td>Low</td>\n",
       "      <td>87</td>\n",
       "      <td>94</td>\n",
       "      <td>80</td>\n",
       "      <td>87</td>\n",
       "      <td>34</td>\n",
       "      <td>75</td>\n",
       "      <td>91</td>\n",
       "    </tr>\n",
       "    <tr>\n",
       "      <th>3</th>\n",
       "      <td>K. Mbappé</td>\n",
       "      <td>22</td>\n",
       "      <td>182</td>\n",
       "      <td>73</td>\n",
       "      <td>194000000</td>\n",
       "      <td>High</td>\n",
       "      <td>Low</td>\n",
       "      <td>97</td>\n",
       "      <td>88</td>\n",
       "      <td>80</td>\n",
       "      <td>92</td>\n",
       "      <td>36</td>\n",
       "      <td>77</td>\n",
       "      <td>91</td>\n",
       "    </tr>\n",
       "    <tr>\n",
       "      <th>4</th>\n",
       "      <td>J. Oblak</td>\n",
       "      <td>28</td>\n",
       "      <td>188</td>\n",
       "      <td>87</td>\n",
       "      <td>112000000</td>\n",
       "      <td>Medium</td>\n",
       "      <td>Medium</td>\n",
       "      <td>87</td>\n",
       "      <td>92</td>\n",
       "      <td>78</td>\n",
       "      <td>90</td>\n",
       "      <td>52</td>\n",
       "      <td>90</td>\n",
       "      <td>91</td>\n",
       "    </tr>\n",
       "    <tr>\n",
       "      <th>...</th>\n",
       "      <td>...</td>\n",
       "      <td>...</td>\n",
       "      <td>...</td>\n",
       "      <td>...</td>\n",
       "      <td>...</td>\n",
       "      <td>...</td>\n",
       "      <td>...</td>\n",
       "      <td>...</td>\n",
       "      <td>...</td>\n",
       "      <td>...</td>\n",
       "      <td>...</td>\n",
       "      <td>...</td>\n",
       "      <td>...</td>\n",
       "      <td>...</td>\n",
       "    </tr>\n",
       "    <tr>\n",
       "      <th>19255</th>\n",
       "      <td>S. Black</td>\n",
       "      <td>19</td>\n",
       "      <td>180</td>\n",
       "      <td>75</td>\n",
       "      <td>100000</td>\n",
       "      <td>Medium</td>\n",
       "      <td>Medium</td>\n",
       "      <td>56</td>\n",
       "      <td>27</td>\n",
       "      <td>29</td>\n",
       "      <td>33</td>\n",
       "      <td>48</td>\n",
       "      <td>53</td>\n",
       "      <td>48</td>\n",
       "    </tr>\n",
       "    <tr>\n",
       "      <th>19256</th>\n",
       "      <td>Ma Zhen</td>\n",
       "      <td>23</td>\n",
       "      <td>196</td>\n",
       "      <td>85</td>\n",
       "      <td>50000</td>\n",
       "      <td>Medium</td>\n",
       "      <td>Medium</td>\n",
       "      <td>49</td>\n",
       "      <td>47</td>\n",
       "      <td>45</td>\n",
       "      <td>46</td>\n",
       "      <td>54</td>\n",
       "      <td>44</td>\n",
       "      <td>48</td>\n",
       "    </tr>\n",
       "    <tr>\n",
       "      <th>19257</th>\n",
       "      <td>Yang Haoyu</td>\n",
       "      <td>20</td>\n",
       "      <td>183</td>\n",
       "      <td>77</td>\n",
       "      <td>90000</td>\n",
       "      <td>Medium</td>\n",
       "      <td>Medium</td>\n",
       "      <td>57</td>\n",
       "      <td>26</td>\n",
       "      <td>29</td>\n",
       "      <td>28</td>\n",
       "      <td>51</td>\n",
       "      <td>56</td>\n",
       "      <td>48</td>\n",
       "    </tr>\n",
       "    <tr>\n",
       "      <th>19258</th>\n",
       "      <td>He Siwei</td>\n",
       "      <td>20</td>\n",
       "      <td>174</td>\n",
       "      <td>69</td>\n",
       "      <td>100000</td>\n",
       "      <td>Medium</td>\n",
       "      <td>Medium</td>\n",
       "      <td>61</td>\n",
       "      <td>25</td>\n",
       "      <td>32</td>\n",
       "      <td>32</td>\n",
       "      <td>49</td>\n",
       "      <td>51</td>\n",
       "      <td>48</td>\n",
       "    </tr>\n",
       "    <tr>\n",
       "      <th>19259</th>\n",
       "      <td>Chen Guoliang</td>\n",
       "      <td>22</td>\n",
       "      <td>186</td>\n",
       "      <td>70</td>\n",
       "      <td>70000</td>\n",
       "      <td>Medium</td>\n",
       "      <td>Medium</td>\n",
       "      <td>55</td>\n",
       "      <td>27</td>\n",
       "      <td>29</td>\n",
       "      <td>30</td>\n",
       "      <td>50</td>\n",
       "      <td>54</td>\n",
       "      <td>48</td>\n",
       "    </tr>\n",
       "  </tbody>\n",
       "</table>\n",
       "<p>19260 rows × 14 columns</p>\n",
       "</div>"
      ],
      "text/plain": [
       "                    Name  Age  Height  Weight   ValueEUR AttackingWorkRate  \\\n",
       "0               L. Messi   34     170      72   78000000            Medium   \n",
       "1         R. Lewandowski   32     185      81  119500000              High   \n",
       "2      Cristiano Ronaldo   36     187      83   45000000              High   \n",
       "3              K. Mbappé   22     182      73  194000000              High   \n",
       "4               J. Oblak   28     188      87  112000000            Medium   \n",
       "...                  ...  ...     ...     ...        ...               ...   \n",
       "19255           S. Black   19     180      75     100000            Medium   \n",
       "19256            Ma Zhen   23     196      85      50000            Medium   \n",
       "19257         Yang Haoyu   20     183      77      90000            Medium   \n",
       "19258           He Siwei   20     174      69     100000            Medium   \n",
       "19259      Chen Guoliang   22     186      70      70000            Medium   \n",
       "\n",
       "      DefensiveWorkRate  PaceTotal  ShootingTotal  PassingTotal  \\\n",
       "0                   Low         85             92            91   \n",
       "1                Medium         78             92            79   \n",
       "2                   Low         87             94            80   \n",
       "3                   Low         97             88            80   \n",
       "4                Medium         87             92            78   \n",
       "...                 ...        ...            ...           ...   \n",
       "19255            Medium         56             27            29   \n",
       "19256            Medium         49             47            45   \n",
       "19257            Medium         57             26            29   \n",
       "19258            Medium         61             25            32   \n",
       "19259            Medium         55             27            29   \n",
       "\n",
       "       DribblingTotal  DefendingTotal  PhysicalityTotal  Overall  \n",
       "0                  95              34                65       93  \n",
       "1                  85              44                82       92  \n",
       "2                  87              34                75       91  \n",
       "3                  92              36                77       91  \n",
       "4                  90              52                90       91  \n",
       "...               ...             ...               ...      ...  \n",
       "19255              33              48                53       48  \n",
       "19256              46              54                44       48  \n",
       "19257              28              51                56       48  \n",
       "19258              32              49                51       48  \n",
       "19259              30              50                54       48  \n",
       "\n",
       "[19260 rows x 14 columns]"
      ]
     },
     "execution_count": 2,
     "metadata": {},
     "output_type": "execute_result"
    }
   ],
   "source": [
    "# Load dataset\n",
    "df_ori = pd.read_csv('https://raw.githubusercontent.com/FTDS-learning-materials/phase-1/master/w1/P1W1D1PM%20-%20Machine%20Learning%20Problem%20Framing.csv')\n",
    "\n",
    "# duplicate\n",
    "df = df_ori.copy()\n",
    "\n",
    "# show data\n",
    "df"
   ]
  },
  {
   "cell_type": "markdown",
   "metadata": {},
   "source": [
    "Saya ingin mengganti nama kolom `ValueEUR` dengan `Price`, dan `Overall` menjadi `Rating` menggunakan sintaks `.rename()`"
   ]
  },
  {
   "cell_type": "code",
   "execution_count": 4,
   "metadata": {},
   "outputs": [
    {
     "data": {
      "text/html": [
       "<div>\n",
       "<style scoped>\n",
       "    .dataframe tbody tr th:only-of-type {\n",
       "        vertical-align: middle;\n",
       "    }\n",
       "\n",
       "    .dataframe tbody tr th {\n",
       "        vertical-align: top;\n",
       "    }\n",
       "\n",
       "    .dataframe thead th {\n",
       "        text-align: right;\n",
       "    }\n",
       "</style>\n",
       "<table border=\"1\" class=\"dataframe\">\n",
       "  <thead>\n",
       "    <tr style=\"text-align: right;\">\n",
       "      <th></th>\n",
       "      <th>Name</th>\n",
       "      <th>Age</th>\n",
       "      <th>Height</th>\n",
       "      <th>Weight</th>\n",
       "      <th>Price</th>\n",
       "      <th>AttackingWorkRate</th>\n",
       "      <th>DefensiveWorkRate</th>\n",
       "      <th>PaceTotal</th>\n",
       "      <th>ShootingTotal</th>\n",
       "      <th>PassingTotal</th>\n",
       "      <th>DribblingTotal</th>\n",
       "      <th>DefendingTotal</th>\n",
       "      <th>PhysicalityTotal</th>\n",
       "      <th>Rating</th>\n",
       "    </tr>\n",
       "  </thead>\n",
       "  <tbody>\n",
       "    <tr>\n",
       "      <th>0</th>\n",
       "      <td>L. Messi</td>\n",
       "      <td>34</td>\n",
       "      <td>170</td>\n",
       "      <td>72</td>\n",
       "      <td>78000000</td>\n",
       "      <td>Medium</td>\n",
       "      <td>Low</td>\n",
       "      <td>85</td>\n",
       "      <td>92</td>\n",
       "      <td>91</td>\n",
       "      <td>95</td>\n",
       "      <td>34</td>\n",
       "      <td>65</td>\n",
       "      <td>93</td>\n",
       "    </tr>\n",
       "    <tr>\n",
       "      <th>1</th>\n",
       "      <td>R. Lewandowski</td>\n",
       "      <td>32</td>\n",
       "      <td>185</td>\n",
       "      <td>81</td>\n",
       "      <td>119500000</td>\n",
       "      <td>High</td>\n",
       "      <td>Medium</td>\n",
       "      <td>78</td>\n",
       "      <td>92</td>\n",
       "      <td>79</td>\n",
       "      <td>85</td>\n",
       "      <td>44</td>\n",
       "      <td>82</td>\n",
       "      <td>92</td>\n",
       "    </tr>\n",
       "    <tr>\n",
       "      <th>2</th>\n",
       "      <td>Cristiano Ronaldo</td>\n",
       "      <td>36</td>\n",
       "      <td>187</td>\n",
       "      <td>83</td>\n",
       "      <td>45000000</td>\n",
       "      <td>High</td>\n",
       "      <td>Low</td>\n",
       "      <td>87</td>\n",
       "      <td>94</td>\n",
       "      <td>80</td>\n",
       "      <td>87</td>\n",
       "      <td>34</td>\n",
       "      <td>75</td>\n",
       "      <td>91</td>\n",
       "    </tr>\n",
       "    <tr>\n",
       "      <th>3</th>\n",
       "      <td>K. Mbappé</td>\n",
       "      <td>22</td>\n",
       "      <td>182</td>\n",
       "      <td>73</td>\n",
       "      <td>194000000</td>\n",
       "      <td>High</td>\n",
       "      <td>Low</td>\n",
       "      <td>97</td>\n",
       "      <td>88</td>\n",
       "      <td>80</td>\n",
       "      <td>92</td>\n",
       "      <td>36</td>\n",
       "      <td>77</td>\n",
       "      <td>91</td>\n",
       "    </tr>\n",
       "    <tr>\n",
       "      <th>4</th>\n",
       "      <td>J. Oblak</td>\n",
       "      <td>28</td>\n",
       "      <td>188</td>\n",
       "      <td>87</td>\n",
       "      <td>112000000</td>\n",
       "      <td>Medium</td>\n",
       "      <td>Medium</td>\n",
       "      <td>87</td>\n",
       "      <td>92</td>\n",
       "      <td>78</td>\n",
       "      <td>90</td>\n",
       "      <td>52</td>\n",
       "      <td>90</td>\n",
       "      <td>91</td>\n",
       "    </tr>\n",
       "    <tr>\n",
       "      <th>...</th>\n",
       "      <td>...</td>\n",
       "      <td>...</td>\n",
       "      <td>...</td>\n",
       "      <td>...</td>\n",
       "      <td>...</td>\n",
       "      <td>...</td>\n",
       "      <td>...</td>\n",
       "      <td>...</td>\n",
       "      <td>...</td>\n",
       "      <td>...</td>\n",
       "      <td>...</td>\n",
       "      <td>...</td>\n",
       "      <td>...</td>\n",
       "      <td>...</td>\n",
       "    </tr>\n",
       "    <tr>\n",
       "      <th>19255</th>\n",
       "      <td>S. Black</td>\n",
       "      <td>19</td>\n",
       "      <td>180</td>\n",
       "      <td>75</td>\n",
       "      <td>100000</td>\n",
       "      <td>Medium</td>\n",
       "      <td>Medium</td>\n",
       "      <td>56</td>\n",
       "      <td>27</td>\n",
       "      <td>29</td>\n",
       "      <td>33</td>\n",
       "      <td>48</td>\n",
       "      <td>53</td>\n",
       "      <td>48</td>\n",
       "    </tr>\n",
       "    <tr>\n",
       "      <th>19256</th>\n",
       "      <td>Ma Zhen</td>\n",
       "      <td>23</td>\n",
       "      <td>196</td>\n",
       "      <td>85</td>\n",
       "      <td>50000</td>\n",
       "      <td>Medium</td>\n",
       "      <td>Medium</td>\n",
       "      <td>49</td>\n",
       "      <td>47</td>\n",
       "      <td>45</td>\n",
       "      <td>46</td>\n",
       "      <td>54</td>\n",
       "      <td>44</td>\n",
       "      <td>48</td>\n",
       "    </tr>\n",
       "    <tr>\n",
       "      <th>19257</th>\n",
       "      <td>Yang Haoyu</td>\n",
       "      <td>20</td>\n",
       "      <td>183</td>\n",
       "      <td>77</td>\n",
       "      <td>90000</td>\n",
       "      <td>Medium</td>\n",
       "      <td>Medium</td>\n",
       "      <td>57</td>\n",
       "      <td>26</td>\n",
       "      <td>29</td>\n",
       "      <td>28</td>\n",
       "      <td>51</td>\n",
       "      <td>56</td>\n",
       "      <td>48</td>\n",
       "    </tr>\n",
       "    <tr>\n",
       "      <th>19258</th>\n",
       "      <td>He Siwei</td>\n",
       "      <td>20</td>\n",
       "      <td>174</td>\n",
       "      <td>69</td>\n",
       "      <td>100000</td>\n",
       "      <td>Medium</td>\n",
       "      <td>Medium</td>\n",
       "      <td>61</td>\n",
       "      <td>25</td>\n",
       "      <td>32</td>\n",
       "      <td>32</td>\n",
       "      <td>49</td>\n",
       "      <td>51</td>\n",
       "      <td>48</td>\n",
       "    </tr>\n",
       "    <tr>\n",
       "      <th>19259</th>\n",
       "      <td>Chen Guoliang</td>\n",
       "      <td>22</td>\n",
       "      <td>186</td>\n",
       "      <td>70</td>\n",
       "      <td>70000</td>\n",
       "      <td>Medium</td>\n",
       "      <td>Medium</td>\n",
       "      <td>55</td>\n",
       "      <td>27</td>\n",
       "      <td>29</td>\n",
       "      <td>30</td>\n",
       "      <td>50</td>\n",
       "      <td>54</td>\n",
       "      <td>48</td>\n",
       "    </tr>\n",
       "  </tbody>\n",
       "</table>\n",
       "<p>19260 rows × 14 columns</p>\n",
       "</div>"
      ],
      "text/plain": [
       "                    Name  Age  Height  Weight      Price AttackingWorkRate  \\\n",
       "0               L. Messi   34     170      72   78000000            Medium   \n",
       "1         R. Lewandowski   32     185      81  119500000              High   \n",
       "2      Cristiano Ronaldo   36     187      83   45000000              High   \n",
       "3              K. Mbappé   22     182      73  194000000              High   \n",
       "4               J. Oblak   28     188      87  112000000            Medium   \n",
       "...                  ...  ...     ...     ...        ...               ...   \n",
       "19255           S. Black   19     180      75     100000            Medium   \n",
       "19256            Ma Zhen   23     196      85      50000            Medium   \n",
       "19257         Yang Haoyu   20     183      77      90000            Medium   \n",
       "19258           He Siwei   20     174      69     100000            Medium   \n",
       "19259      Chen Guoliang   22     186      70      70000            Medium   \n",
       "\n",
       "      DefensiveWorkRate  PaceTotal  ShootingTotal  PassingTotal  \\\n",
       "0                   Low         85             92            91   \n",
       "1                Medium         78             92            79   \n",
       "2                   Low         87             94            80   \n",
       "3                   Low         97             88            80   \n",
       "4                Medium         87             92            78   \n",
       "...                 ...        ...            ...           ...   \n",
       "19255            Medium         56             27            29   \n",
       "19256            Medium         49             47            45   \n",
       "19257            Medium         57             26            29   \n",
       "19258            Medium         61             25            32   \n",
       "19259            Medium         55             27            29   \n",
       "\n",
       "       DribblingTotal  DefendingTotal  PhysicalityTotal  Rating  \n",
       "0                  95              34                65      93  \n",
       "1                  85              44                82      92  \n",
       "2                  87              34                75      91  \n",
       "3                  92              36                77      91  \n",
       "4                  90              52                90      91  \n",
       "...               ...             ...               ...     ...  \n",
       "19255              33              48                53      48  \n",
       "19256              46              54                44      48  \n",
       "19257              28              51                56      48  \n",
       "19258              32              49                51      48  \n",
       "19259              30              50                54      48  \n",
       "\n",
       "[19260 rows x 14 columns]"
      ]
     },
     "execution_count": 4,
     "metadata": {},
     "output_type": "execute_result"
    }
   ],
   "source": [
    "# rename columns name\n",
    "df. rename(columns={'ValueEUR':'Price','Overall':'Rating'},inplace=True)\n",
    "df"
   ]
  },
  {
   "cell_type": "code",
   "execution_count": 5,
   "metadata": {},
   "outputs": [
    {
     "name": "stdout",
     "output_type": "stream",
     "text": [
      "<class 'pandas.core.frame.DataFrame'>\n",
      "RangeIndex: 19260 entries, 0 to 19259\n",
      "Data columns (total 14 columns):\n",
      " #   Column             Non-Null Count  Dtype \n",
      "---  ------             --------------  ----- \n",
      " 0   Name               19260 non-null  object\n",
      " 1   Age                19260 non-null  int64 \n",
      " 2   Height             19260 non-null  int64 \n",
      " 3   Weight             19260 non-null  int64 \n",
      " 4   Price              19260 non-null  int64 \n",
      " 5   AttackingWorkRate  19260 non-null  object\n",
      " 6   DefensiveWorkRate  19260 non-null  object\n",
      " 7   PaceTotal          19260 non-null  int64 \n",
      " 8   ShootingTotal      19260 non-null  int64 \n",
      " 9   PassingTotal       19260 non-null  int64 \n",
      " 10  DribblingTotal     19260 non-null  int64 \n",
      " 11  DefendingTotal     19260 non-null  int64 \n",
      " 12  PhysicalityTotal   19260 non-null  int64 \n",
      " 13  Rating             19260 non-null  int64 \n",
      "dtypes: int64(11), object(3)\n",
      "memory usage: 2.1+ MB\n"
     ]
    }
   ],
   "source": [
    "# Check dataset 1\n",
    "df.info()"
   ]
  },
  {
   "cell_type": "markdown",
   "metadata": {},
   "source": [
    "statement??? .. baris ...kolom, ada nan?, tipe data nya sudah sesuai?\n",
    "\n",
    "numerical column =  ['age,heigh,dll]  \n",
    "categorical nominal =  ['Name']  \n",
    "categorical ordinal = ['AttackingWorkRate', 'DefensiveWorkRate' ]   \n",
    "categorical encoded = ['Gender']  # misal kalo ada kolom gender isinya 0,1"
   ]
  },
  {
   "cell_type": "code",
   "execution_count": 7,
   "metadata": {},
   "outputs": [
    {
     "data": {
      "text/html": [
       "<div>\n",
       "<style scoped>\n",
       "    .dataframe tbody tr th:only-of-type {\n",
       "        vertical-align: middle;\n",
       "    }\n",
       "\n",
       "    .dataframe tbody tr th {\n",
       "        vertical-align: top;\n",
       "    }\n",
       "\n",
       "    .dataframe thead th {\n",
       "        text-align: right;\n",
       "    }\n",
       "</style>\n",
       "<table border=\"1\" class=\"dataframe\">\n",
       "  <thead>\n",
       "    <tr style=\"text-align: right;\">\n",
       "      <th></th>\n",
       "      <th>Age</th>\n",
       "      <th>Height</th>\n",
       "      <th>Weight</th>\n",
       "      <th>Price</th>\n",
       "      <th>PaceTotal</th>\n",
       "      <th>ShootingTotal</th>\n",
       "      <th>PassingTotal</th>\n",
       "      <th>DribblingTotal</th>\n",
       "      <th>DefendingTotal</th>\n",
       "      <th>PhysicalityTotal</th>\n",
       "      <th>Rating</th>\n",
       "    </tr>\n",
       "  </thead>\n",
       "  <tbody>\n",
       "    <tr>\n",
       "      <th>count</th>\n",
       "      <td>19260.000000</td>\n",
       "      <td>19260.000000</td>\n",
       "      <td>19260.000000</td>\n",
       "      <td>1.926000e+04</td>\n",
       "      <td>19260.000000</td>\n",
       "      <td>19260.000000</td>\n",
       "      <td>19260.000000</td>\n",
       "      <td>19260.000000</td>\n",
       "      <td>19260.0000</td>\n",
       "      <td>19260.000000</td>\n",
       "      <td>19260.000000</td>\n",
       "    </tr>\n",
       "    <tr>\n",
       "      <th>mean</th>\n",
       "      <td>25.184683</td>\n",
       "      <td>181.305036</td>\n",
       "      <td>74.950779</td>\n",
       "      <td>2.857652e+06</td>\n",
       "      <td>67.910228</td>\n",
       "      <td>53.535514</td>\n",
       "      <td>57.853323</td>\n",
       "      <td>63.028712</td>\n",
       "      <td>50.0581</td>\n",
       "      <td>64.676584</td>\n",
       "      <td>65.815628</td>\n",
       "    </tr>\n",
       "    <tr>\n",
       "      <th>std</th>\n",
       "      <td>4.737340</td>\n",
       "      <td>6.866151</td>\n",
       "      <td>7.066864</td>\n",
       "      <td>7.604532e+06</td>\n",
       "      <td>10.656453</td>\n",
       "      <td>13.813476</td>\n",
       "      <td>9.835494</td>\n",
       "      <td>9.704853</td>\n",
       "      <td>16.3888</td>\n",
       "      <td>9.626269</td>\n",
       "      <td>6.817297</td>\n",
       "    </tr>\n",
       "    <tr>\n",
       "      <th>min</th>\n",
       "      <td>16.000000</td>\n",
       "      <td>155.000000</td>\n",
       "      <td>49.000000</td>\n",
       "      <td>0.000000e+00</td>\n",
       "      <td>28.000000</td>\n",
       "      <td>18.000000</td>\n",
       "      <td>25.000000</td>\n",
       "      <td>26.000000</td>\n",
       "      <td>14.0000</td>\n",
       "      <td>29.000000</td>\n",
       "      <td>48.000000</td>\n",
       "    </tr>\n",
       "    <tr>\n",
       "      <th>25%</th>\n",
       "      <td>21.000000</td>\n",
       "      <td>176.000000</td>\n",
       "      <td>70.000000</td>\n",
       "      <td>4.750000e+05</td>\n",
       "      <td>62.000000</td>\n",
       "      <td>44.000000</td>\n",
       "      <td>52.000000</td>\n",
       "      <td>58.000000</td>\n",
       "      <td>35.0000</td>\n",
       "      <td>58.000000</td>\n",
       "      <td>62.000000</td>\n",
       "    </tr>\n",
       "    <tr>\n",
       "      <th>50%</th>\n",
       "      <td>25.000000</td>\n",
       "      <td>181.000000</td>\n",
       "      <td>75.000000</td>\n",
       "      <td>9.750000e+05</td>\n",
       "      <td>68.000000</td>\n",
       "      <td>56.000000</td>\n",
       "      <td>58.000000</td>\n",
       "      <td>64.000000</td>\n",
       "      <td>54.0000</td>\n",
       "      <td>66.000000</td>\n",
       "      <td>66.000000</td>\n",
       "    </tr>\n",
       "    <tr>\n",
       "      <th>75%</th>\n",
       "      <td>29.000000</td>\n",
       "      <td>186.000000</td>\n",
       "      <td>80.000000</td>\n",
       "      <td>2.000000e+06</td>\n",
       "      <td>75.000000</td>\n",
       "      <td>64.000000</td>\n",
       "      <td>65.000000</td>\n",
       "      <td>69.000000</td>\n",
       "      <td>63.0000</td>\n",
       "      <td>72.000000</td>\n",
       "      <td>70.000000</td>\n",
       "    </tr>\n",
       "    <tr>\n",
       "      <th>max</th>\n",
       "      <td>54.000000</td>\n",
       "      <td>206.000000</td>\n",
       "      <td>110.000000</td>\n",
       "      <td>1.940000e+08</td>\n",
       "      <td>97.000000</td>\n",
       "      <td>94.000000</td>\n",
       "      <td>93.000000</td>\n",
       "      <td>95.000000</td>\n",
       "      <td>91.0000</td>\n",
       "      <td>92.000000</td>\n",
       "      <td>93.000000</td>\n",
       "    </tr>\n",
       "  </tbody>\n",
       "</table>\n",
       "</div>"
      ],
      "text/plain": [
       "                Age        Height        Weight         Price     PaceTotal  \\\n",
       "count  19260.000000  19260.000000  19260.000000  1.926000e+04  19260.000000   \n",
       "mean      25.184683    181.305036     74.950779  2.857652e+06     67.910228   \n",
       "std        4.737340      6.866151      7.066864  7.604532e+06     10.656453   \n",
       "min       16.000000    155.000000     49.000000  0.000000e+00     28.000000   \n",
       "25%       21.000000    176.000000     70.000000  4.750000e+05     62.000000   \n",
       "50%       25.000000    181.000000     75.000000  9.750000e+05     68.000000   \n",
       "75%       29.000000    186.000000     80.000000  2.000000e+06     75.000000   \n",
       "max       54.000000    206.000000    110.000000  1.940000e+08     97.000000   \n",
       "\n",
       "       ShootingTotal  PassingTotal  DribblingTotal  DefendingTotal  \\\n",
       "count   19260.000000  19260.000000    19260.000000      19260.0000   \n",
       "mean       53.535514     57.853323       63.028712         50.0581   \n",
       "std        13.813476      9.835494        9.704853         16.3888   \n",
       "min        18.000000     25.000000       26.000000         14.0000   \n",
       "25%        44.000000     52.000000       58.000000         35.0000   \n",
       "50%        56.000000     58.000000       64.000000         54.0000   \n",
       "75%        64.000000     65.000000       69.000000         63.0000   \n",
       "max        94.000000     93.000000       95.000000         91.0000   \n",
       "\n",
       "       PhysicalityTotal        Rating  \n",
       "count      19260.000000  19260.000000  \n",
       "mean          64.676584     65.815628  \n",
       "std            9.626269      6.817297  \n",
       "min           29.000000     48.000000  \n",
       "25%           58.000000     62.000000  \n",
       "50%           66.000000     66.000000  \n",
       "75%           72.000000     70.000000  \n",
       "max           92.000000     93.000000  "
      ]
     },
     "execution_count": 7,
     "metadata": {},
     "output_type": "execute_result"
    }
   ],
   "source": [
    "# Check dataset 2\n",
    "df.describe()"
   ]
  },
  {
   "cell_type": "markdown",
   "metadata": {},
   "source": [
    "statement???"
   ]
  },
  {
   "cell_type": "code",
   "execution_count": 8,
   "metadata": {},
   "outputs": [
    {
     "data": {
      "text/plain": [
       "104"
      ]
     },
     "execution_count": 8,
     "metadata": {},
     "output_type": "execute_result"
    }
   ],
   "source": [
    "# Check dataset 3\n",
    "df.duplicated().sum()"
   ]
  },
  {
   "cell_type": "code",
   "execution_count": 9,
   "metadata": {},
   "outputs": [],
   "source": [
    "# drop duplicate\n",
    "df.drop_duplicates(inplace=True)"
   ]
  },
  {
   "cell_type": "code",
   "execution_count": 10,
   "metadata": {},
   "outputs": [
    {
     "data": {
      "text/plain": [
       "0"
      ]
     },
     "execution_count": 10,
     "metadata": {},
     "output_type": "execute_result"
    }
   ],
   "source": [
    "# re-check\n",
    "df.duplicated().sum()"
   ]
  },
  {
   "cell_type": "markdown",
   "metadata": {},
   "source": [
    "# iv. Exploratory Data Analysis (EDA)"
   ]
  },
  {
   "cell_type": "markdown",
   "metadata": {},
   "source": [
    ">Bagian ini berisi eksplorasi data pada dataset di atas dengan menggunakan query, grouping, visualisasi sederhana, dan lain sebagainya."
   ]
  },
  {
   "cell_type": "markdown",
   "metadata": {},
   "source": [
    "Objective 1: Ingin melihat persebaran rating pada dataset dan jug ingin melihat proporsi antara berat badan dan tinggi badan."
   ]
  },
  {
   "cell_type": "code",
   "execution_count": 16,
   "metadata": {},
   "outputs": [
    {
     "data": {
      "image/png": "[encoded data removed]",
      "text/plain": [
       "<Figure size 1500x500 with 2 Axes>"
      ]
     },
     "metadata": {},
     "output_type": "display_data"
    }
   ],
   "source": [
    "# Create Histogram and scatter plot\n",
    "\n",
    "# Create canvas\n",
    "plt.figure(figsize=(15,5))\n",
    "\n",
    "# Plot 1 taruh kiri\n",
    "plt.subplot(1,2,1)\n",
    "sns.histplot(df.Rating, kde=True, bins=30)\n",
    "plt.title('Histogram of Rating')\n",
    "\n",
    "# Plot 2 taruh kanan\n",
    "plt.subplot(1,2,2)\n",
    "sns.scatterplot(x='Weight', y='Height', data=df)\n",
    "plt.title('Weight vs Height')\n",
    "\n",
    "plt.show()"
   ]
  },
  {
   "cell_type": "markdown",
   "metadata": {},
   "source": [
    "statement???"
   ]
  },
  {
   "cell_type": "markdown",
   "metadata": {},
   "source": [
    "# v. Feature Engineering"
   ]
  },
  {
   "cell_type": "markdown",
   "metadata": {},
   "source": [
    "> Bagian ini berisi proses penyiapan data untuk proses pelatihan model, seperti pembagian data menjadi train dan test, transformasi data (normalisasi, encoding, dll) dan proses - proses yang dibutuhkan."
   ]
  },
  {
   "cell_type": "markdown",
   "metadata": {},
   "source": [
    "## Split X (features) dan y (target)"
   ]
  },
  {
   "cell_type": "code",
   "execution_count": 17,
   "metadata": {},
   "outputs": [],
   "source": [
    "# Split betwwen X and y\n",
    "X = df.drop(['Rating'],axis=1)\n",
    "y = df.Rating"
   ]
  },
  {
   "cell_type": "code",
   "execution_count": 18,
   "metadata": {},
   "outputs": [
    {
     "data": {
      "text/html": [
       "<div>\n",
       "<style scoped>\n",
       "    .dataframe tbody tr th:only-of-type {\n",
       "        vertical-align: middle;\n",
       "    }\n",
       "\n",
       "    .dataframe tbody tr th {\n",
       "        vertical-align: top;\n",
       "    }\n",
       "\n",
       "    .dataframe thead th {\n",
       "        text-align: right;\n",
       "    }\n",
       "</style>\n",
       "<table border=\"1\" class=\"dataframe\">\n",
       "  <thead>\n",
       "    <tr style=\"text-align: right;\">\n",
       "      <th></th>\n",
       "      <th>Name</th>\n",
       "      <th>Age</th>\n",
       "      <th>Height</th>\n",
       "      <th>Weight</th>\n",
       "      <th>Price</th>\n",
       "      <th>AttackingWorkRate</th>\n",
       "      <th>DefensiveWorkRate</th>\n",
       "      <th>PaceTotal</th>\n",
       "      <th>ShootingTotal</th>\n",
       "      <th>PassingTotal</th>\n",
       "      <th>DribblingTotal</th>\n",
       "      <th>DefendingTotal</th>\n",
       "      <th>PhysicalityTotal</th>\n",
       "    </tr>\n",
       "  </thead>\n",
       "  <tbody>\n",
       "    <tr>\n",
       "      <th>0</th>\n",
       "      <td>L. Messi</td>\n",
       "      <td>34</td>\n",
       "      <td>170</td>\n",
       "      <td>72</td>\n",
       "      <td>78000000</td>\n",
       "      <td>Medium</td>\n",
       "      <td>Low</td>\n",
       "      <td>85</td>\n",
       "      <td>92</td>\n",
       "      <td>91</td>\n",
       "      <td>95</td>\n",
       "      <td>34</td>\n",
       "      <td>65</td>\n",
       "    </tr>\n",
       "    <tr>\n",
       "      <th>1</th>\n",
       "      <td>R. Lewandowski</td>\n",
       "      <td>32</td>\n",
       "      <td>185</td>\n",
       "      <td>81</td>\n",
       "      <td>119500000</td>\n",
       "      <td>High</td>\n",
       "      <td>Medium</td>\n",
       "      <td>78</td>\n",
       "      <td>92</td>\n",
       "      <td>79</td>\n",
       "      <td>85</td>\n",
       "      <td>44</td>\n",
       "      <td>82</td>\n",
       "    </tr>\n",
       "    <tr>\n",
       "      <th>2</th>\n",
       "      <td>Cristiano Ronaldo</td>\n",
       "      <td>36</td>\n",
       "      <td>187</td>\n",
       "      <td>83</td>\n",
       "      <td>45000000</td>\n",
       "      <td>High</td>\n",
       "      <td>Low</td>\n",
       "      <td>87</td>\n",
       "      <td>94</td>\n",
       "      <td>80</td>\n",
       "      <td>87</td>\n",
       "      <td>34</td>\n",
       "      <td>75</td>\n",
       "    </tr>\n",
       "    <tr>\n",
       "      <th>3</th>\n",
       "      <td>K. Mbappé</td>\n",
       "      <td>22</td>\n",
       "      <td>182</td>\n",
       "      <td>73</td>\n",
       "      <td>194000000</td>\n",
       "      <td>High</td>\n",
       "      <td>Low</td>\n",
       "      <td>97</td>\n",
       "      <td>88</td>\n",
       "      <td>80</td>\n",
       "      <td>92</td>\n",
       "      <td>36</td>\n",
       "      <td>77</td>\n",
       "    </tr>\n",
       "    <tr>\n",
       "      <th>4</th>\n",
       "      <td>J. Oblak</td>\n",
       "      <td>28</td>\n",
       "      <td>188</td>\n",
       "      <td>87</td>\n",
       "      <td>112000000</td>\n",
       "      <td>Medium</td>\n",
       "      <td>Medium</td>\n",
       "      <td>87</td>\n",
       "      <td>92</td>\n",
       "      <td>78</td>\n",
       "      <td>90</td>\n",
       "      <td>52</td>\n",
       "      <td>90</td>\n",
       "    </tr>\n",
       "  </tbody>\n",
       "</table>\n",
       "</div>"
      ],
      "text/plain": [
       "                Name  Age  Height  Weight      Price AttackingWorkRate  \\\n",
       "0           L. Messi   34     170      72   78000000            Medium   \n",
       "1     R. Lewandowski   32     185      81  119500000              High   \n",
       "2  Cristiano Ronaldo   36     187      83   45000000              High   \n",
       "3          K. Mbappé   22     182      73  194000000              High   \n",
       "4           J. Oblak   28     188      87  112000000            Medium   \n",
       "\n",
       "  DefensiveWorkRate  PaceTotal  ShootingTotal  PassingTotal  DribblingTotal  \\\n",
       "0               Low         85             92            91              95   \n",
       "1            Medium         78             92            79              85   \n",
       "2               Low         87             94            80              87   \n",
       "3               Low         97             88            80              92   \n",
       "4            Medium         87             92            78              90   \n",
       "\n",
       "   DefendingTotal  PhysicalityTotal  \n",
       "0              34                65  \n",
       "1              44                82  \n",
       "2              34                75  \n",
       "3              36                77  \n",
       "4              52                90  "
      ]
     },
     "execution_count": 18,
     "metadata": {},
     "output_type": "execute_result"
    }
   ],
   "source": [
    "X.head()"
   ]
  },
  {
   "cell_type": "code",
   "execution_count": 19,
   "metadata": {},
   "outputs": [
    {
     "data": {
      "text/plain": [
       "0    93\n",
       "1    92\n",
       "2    91\n",
       "3    91\n",
       "4    91\n",
       "Name: Rating, dtype: int64"
      ]
     },
     "execution_count": 19,
     "metadata": {},
     "output_type": "execute_result"
    }
   ],
   "source": [
    "y.head()"
   ]
  },
  {
   "cell_type": "markdown",
   "metadata": {},
   "source": [
    "## Split between Train and Test"
   ]
  },
  {
   "cell_type": "code",
   "execution_count": 32,
   "metadata": {},
   "outputs": [
    {
     "name": "stdout",
     "output_type": "stream",
     "text": [
      "train size: (15324, 13)\n",
      "test size: (3832, 13)\n",
      "                Name  Age  Height  Weight     Price AttackingWorkRate  \\\n",
      "12229   K. Shiihashi   24     178      70    775000            Medium   \n",
      "13158        Ke Zhao   32     175      70    325000              High   \n",
      "7959     R. Strieder   28     174      68    900000            Medium   \n",
      "498      Joan Jordán   26     183      74  24500000            Medium   \n",
      "9306        M. Thiam   26     180      85   1000000            Medium   \n",
      "...              ...  ...     ...     ...       ...               ...   \n",
      "10935        C. Boli   22     175      65   1100000              High   \n",
      "1518   R. Mandragora   24     183      75   9000000            Medium   \n",
      "6902      D. Ballard   21     187      85   2500000            Medium   \n",
      "4654       R. Assalé   27     167      65   1700000              High   \n",
      "2214   Rubén Sobrino   29     185      73   4200000              High   \n",
      "\n",
      "      DefensiveWorkRate  PaceTotal  ShootingTotal  PassingTotal  \\\n",
      "12229              High         58             33            57   \n",
      "13158            Medium         57             30            48   \n",
      "7959             Medium         38             41            64   \n",
      "498              Medium         63             75            81   \n",
      "9306             Medium         80             62            60   \n",
      "...                 ...        ...            ...           ...   \n",
      "10935            Medium         68             57            61   \n",
      "1518               High         57             63            74   \n",
      "6902             Medium         51             30            50   \n",
      "4654             Medium         89             70            65   \n",
      "2214             Medium         78             76            62   \n",
      "\n",
      "       DribblingTotal  DefendingTotal  PhysicalityTotal  \n",
      "12229              58              61                71  \n",
      "13158              56              60                75  \n",
      "7959               64              65                64  \n",
      "498                77              67                76  \n",
      "9306               69              46                72  \n",
      "...               ...             ...               ...  \n",
      "10935              71              45                44  \n",
      "1518               75              74                76  \n",
      "6902               49              67                70  \n",
      "4654               74              29                54  \n",
      "2214               72              37                66  \n",
      "\n",
      "[15324 rows x 13 columns]\n"
     ]
    }
   ],
   "source": [
    "# import libraries\n",
    "from sklearn.model_selection import train_test_split\n",
    "\n",
    "# Splitting between train and test\n",
    "X_train, X_test, y_train, y_test = train_test_split(X, y, test_size=0.2, random_state=107)\n",
    "\n",
    "print('train size:', X_train.shape)\n",
    "print('test size:', X_test.shape)\n",
    "print(X_train)"
   ]
  },
  {
   "cell_type": "markdown",
   "metadata": {},
   "source": [
    "## Handling Outlier"
   ]
  },
  {
   "cell_type": "markdown",
   "metadata": {},
   "source": [
    "Saya skip, akan dijelaskan lebih lanjut di hari Rabu tgl 2 okt"
   ]
  },
  {
   "cell_type": "markdown",
   "metadata": {},
   "source": [
    "## Missing Value"
   ]
  },
  {
   "cell_type": "code",
   "execution_count": 33,
   "metadata": {},
   "outputs": [
    {
     "data": {
      "text/plain": [
       "Name                 0\n",
       "Age                  0\n",
       "Height               0\n",
       "Weight               0\n",
       "Price                0\n",
       "AttackingWorkRate    0\n",
       "DefensiveWorkRate    0\n",
       "PaceTotal            0\n",
       "ShootingTotal        0\n",
       "PassingTotal         0\n",
       "DribblingTotal       0\n",
       "DefendingTotal       0\n",
       "PhysicalityTotal     0\n",
       "dtype: int64"
      ]
     },
     "execution_count": 33,
     "metadata": {},
     "output_type": "execute_result"
    }
   ],
   "source": [
    "# Xtrain cek\n",
    "X_train.isnull().sum()"
   ]
  },
  {
   "cell_type": "code",
   "execution_count": 34,
   "metadata": {},
   "outputs": [
    {
     "data": {
      "text/plain": [
       "Name                 0\n",
       "Age                  0\n",
       "Height               0\n",
       "Weight               0\n",
       "Price                0\n",
       "AttackingWorkRate    0\n",
       "DefensiveWorkRate    0\n",
       "PaceTotal            0\n",
       "ShootingTotal        0\n",
       "PassingTotal         0\n",
       "DribblingTotal       0\n",
       "DefendingTotal       0\n",
       "PhysicalityTotal     0\n",
       "dtype: int64"
      ]
     },
     "execution_count": 34,
     "metadata": {},
     "output_type": "execute_result"
    }
   ],
   "source": [
    "# X_test cek\n",
    "X_test.isnull().sum()"
   ]
  },
  {
   "cell_type": "code",
   "execution_count": 36,
   "metadata": {},
   "outputs": [
    {
     "data": {
      "text/plain": [
       "0"
      ]
     },
     "execution_count": 36,
     "metadata": {},
     "output_type": "execute_result"
    }
   ],
   "source": [
    "# y_train cek\n",
    "y_train.isnull().sum()"
   ]
  },
  {
   "cell_type": "code",
   "execution_count": 37,
   "metadata": {},
   "outputs": [
    {
     "data": {
      "text/plain": [
       "0"
      ]
     },
     "execution_count": 37,
     "metadata": {},
     "output_type": "execute_result"
    }
   ],
   "source": [
    "# y_test cek\n",
    "y_test.isnull().sum()"
   ]
  },
  {
   "cell_type": "markdown",
   "metadata": {},
   "source": [
    "statement??"
   ]
  },
  {
   "cell_type": "markdown",
   "metadata": {},
   "source": [
    "## Feature Selection"
   ]
  },
  {
   "cell_type": "markdown",
   "metadata": {},
   "source": [
    "Untuk membantu memeriksa korelasi target dengan features di GC baik cat maupun num, bisa pakai [phik_corr](https://phik.readthedocs.io/en/latest/phik.html). Jangan lupa untuk di concat ya X_train dgn y_train simpan dalam variable sementara."
   ]
  },
  {
   "cell_type": "code",
   "execution_count": 45,
   "metadata": {},
   "outputs": [
    {
     "data": {
      "text/plain": [
       "True"
      ]
     },
     "execution_count": 45,
     "metadata": {},
     "output_type": "execute_result"
    }
   ],
   "source": [
    "# cek feature name apakah primary key\n",
    "df.Name.shape[0] == df.shape[0]"
   ]
  },
  {
   "cell_type": "markdown",
   "metadata": {},
   "source": [
    "Di project FIFA ini saya tidak akan cek korelasi, namun saya sudah cek bahwa nama itu adalah primary key, jadi bisa didrop saja."
   ]
  },
  {
   "cell_type": "code",
   "execution_count": 49,
   "metadata": {},
   "outputs": [
    {
     "name": "stdout",
     "output_type": "stream",
     "text": [
      "Index(['Age', 'Height', 'Weight', 'Price', 'AttackingWorkRate',\n",
      "       'DefensiveWorkRate', 'PaceTotal', 'ShootingTotal', 'PassingTotal',\n",
      "       'DribblingTotal', 'DefendingTotal', 'PhysicalityTotal'],\n",
      "      dtype='object')\n",
      "Index(['Age', 'Height', 'Weight', 'Price', 'AttackingWorkRate',\n",
      "       'DefensiveWorkRate', 'PaceTotal', 'ShootingTotal', 'PassingTotal',\n",
      "       'DribblingTotal', 'DefendingTotal', 'PhysicalityTotal'],\n",
      "      dtype='object')\n"
     ]
    }
   ],
   "source": [
    "# drop Name\n",
    "X_train.drop(columns=['Name'], inplace=True)\n",
    "X_test.drop(columns=['Name'], inplace=True)\n",
    "\n",
    "print(X_train.columns)\n",
    "print(X_test.columns)"
   ]
  },
  {
   "cell_type": "markdown",
   "metadata": {},
   "source": [
    "## Cardinality Check"
   ]
  },
  {
   "cell_type": "markdown",
   "metadata": {},
   "source": [
    "Memeriksa unique value di categorical columns. Di bahas lebih detil hari Rabu."
   ]
  },
  {
   "cell_type": "markdown",
   "metadata": {},
   "source": [
    "### Split between numerical and categorical columns, for scaling and encoding "
   ]
  },
  {
   "cell_type": "code",
   "execution_count": 56,
   "metadata": {},
   "outputs": [
    {
     "name": "stdout",
     "output_type": "stream",
     "text": [
      "numerical : ['Age', 'Height', 'Weight', 'Price', 'PaceTotal', 'ShootingTotal', 'PassingTotal', 'DribblingTotal', 'DefendingTotal', 'PhysicalityTotal']\n",
      "categorical: ['AttackingWorkRate', 'DefensiveWorkRate']\n"
     ]
    }
   ],
   "source": [
    "num_col = ['Age', 'Height', 'Weight', 'Price', 'PaceTotal', 'ShootingTotal', 'PassingTotal','DribblingTotal', 'DefendingTotal', 'PhysicalityTotal']\n",
    "cat_col = ['AttackingWorkRate','DefensiveWorkRate']\n",
    "\n",
    "print(f'numerical : {num_col}')\n",
    "print(f'categorical: {cat_col}')\n",
    "\n",
    "# Cara 2 (not recommended) -> nanti kalo kaya ada cat_encoded kolom sperti gender (1,0) akan masuk ke num col -> bahaya ygy!\n",
    "# num_col_cara2 = X_train.select_dtypes(include=np.number).columns.tolist() \n",
    "# print(f'numerical 2: {num_col_cara2}')\n",
    "# cat_col_cara2 = X_train.select_dtypes(exclude=np.number).columns.tolist() \n",
    "# print(f'categorical 2: {cat_col_cara2}')"
   ]
  },
  {
   "cell_type": "markdown",
   "metadata": {},
   "source": [
    "Next kita define num col utk X_train X_test dan cat col untuk X_train X_test"
   ]
  },
  {
   "cell_type": "code",
   "execution_count": 58,
   "metadata": {},
   "outputs": [],
   "source": [
    "# define new X_train and X_test\n",
    "X_train_num = X_train[num_col]\n",
    "X_test_num = X_test[num_col]\n",
    "X_train_cat = X_train[cat_col]\n",
    "X_test_cat = X_test[cat_col]"
   ]
  },
  {
   "cell_type": "code",
   "execution_count": 60,
   "metadata": {},
   "outputs": [
    {
     "data": {
      "text/html": [
       "<div>\n",
       "<style scoped>\n",
       "    .dataframe tbody tr th:only-of-type {\n",
       "        vertical-align: middle;\n",
       "    }\n",
       "\n",
       "    .dataframe tbody tr th {\n",
       "        vertical-align: top;\n",
       "    }\n",
       "\n",
       "    .dataframe thead th {\n",
       "        text-align: right;\n",
       "    }\n",
       "</style>\n",
       "<table border=\"1\" class=\"dataframe\">\n",
       "  <thead>\n",
       "    <tr style=\"text-align: right;\">\n",
       "      <th></th>\n",
       "      <th>Age</th>\n",
       "      <th>Height</th>\n",
       "      <th>Weight</th>\n",
       "      <th>Price</th>\n",
       "      <th>PaceTotal</th>\n",
       "      <th>ShootingTotal</th>\n",
       "      <th>PassingTotal</th>\n",
       "      <th>DribblingTotal</th>\n",
       "      <th>DefendingTotal</th>\n",
       "      <th>PhysicalityTotal</th>\n",
       "    </tr>\n",
       "  </thead>\n",
       "  <tbody>\n",
       "    <tr>\n",
       "      <th>12229</th>\n",
       "      <td>24</td>\n",
       "      <td>178</td>\n",
       "      <td>70</td>\n",
       "      <td>775000</td>\n",
       "      <td>58</td>\n",
       "      <td>33</td>\n",
       "      <td>57</td>\n",
       "      <td>58</td>\n",
       "      <td>61</td>\n",
       "      <td>71</td>\n",
       "    </tr>\n",
       "    <tr>\n",
       "      <th>13158</th>\n",
       "      <td>32</td>\n",
       "      <td>175</td>\n",
       "      <td>70</td>\n",
       "      <td>325000</td>\n",
       "      <td>57</td>\n",
       "      <td>30</td>\n",
       "      <td>48</td>\n",
       "      <td>56</td>\n",
       "      <td>60</td>\n",
       "      <td>75</td>\n",
       "    </tr>\n",
       "    <tr>\n",
       "      <th>7959</th>\n",
       "      <td>28</td>\n",
       "      <td>174</td>\n",
       "      <td>68</td>\n",
       "      <td>900000</td>\n",
       "      <td>38</td>\n",
       "      <td>41</td>\n",
       "      <td>64</td>\n",
       "      <td>64</td>\n",
       "      <td>65</td>\n",
       "      <td>64</td>\n",
       "    </tr>\n",
       "    <tr>\n",
       "      <th>498</th>\n",
       "      <td>26</td>\n",
       "      <td>183</td>\n",
       "      <td>74</td>\n",
       "      <td>24500000</td>\n",
       "      <td>63</td>\n",
       "      <td>75</td>\n",
       "      <td>81</td>\n",
       "      <td>77</td>\n",
       "      <td>67</td>\n",
       "      <td>76</td>\n",
       "    </tr>\n",
       "    <tr>\n",
       "      <th>9306</th>\n",
       "      <td>26</td>\n",
       "      <td>180</td>\n",
       "      <td>85</td>\n",
       "      <td>1000000</td>\n",
       "      <td>80</td>\n",
       "      <td>62</td>\n",
       "      <td>60</td>\n",
       "      <td>69</td>\n",
       "      <td>46</td>\n",
       "      <td>72</td>\n",
       "    </tr>\n",
       "  </tbody>\n",
       "</table>\n",
       "</div>"
      ],
      "text/plain": [
       "       Age  Height  Weight     Price  PaceTotal  ShootingTotal  PassingTotal  \\\n",
       "12229   24     178      70    775000         58             33            57   \n",
       "13158   32     175      70    325000         57             30            48   \n",
       "7959    28     174      68    900000         38             41            64   \n",
       "498     26     183      74  24500000         63             75            81   \n",
       "9306    26     180      85   1000000         80             62            60   \n",
       "\n",
       "       DribblingTotal  DefendingTotal  PhysicalityTotal  \n",
       "12229              58              61                71  \n",
       "13158              56              60                75  \n",
       "7959               64              65                64  \n",
       "498                77              67                76  \n",
       "9306               69              46                72  "
      ]
     },
     "execution_count": 60,
     "metadata": {},
     "output_type": "execute_result"
    }
   ],
   "source": [
    "X_train_num.head()"
   ]
  },
  {
   "cell_type": "markdown",
   "metadata": {},
   "source": [
    "## Feature Scaling"
   ]
  },
  {
   "cell_type": "markdown",
   "metadata": {},
   "source": [
    "$WhyNeedScaling??$"
   ]
  },
  {
   "cell_type": "code",
   "execution_count": 52,
   "metadata": {},
   "outputs": [
    {
     "data": {
      "text/html": [
       "<div>\n",
       "<style scoped>\n",
       "    .dataframe tbody tr th:only-of-type {\n",
       "        vertical-align: middle;\n",
       "    }\n",
       "\n",
       "    .dataframe tbody tr th {\n",
       "        vertical-align: top;\n",
       "    }\n",
       "\n",
       "    .dataframe thead th {\n",
       "        text-align: right;\n",
       "    }\n",
       "</style>\n",
       "<table border=\"1\" class=\"dataframe\">\n",
       "  <thead>\n",
       "    <tr style=\"text-align: right;\">\n",
       "      <th></th>\n",
       "      <th>Age</th>\n",
       "      <th>Height</th>\n",
       "      <th>Weight</th>\n",
       "      <th>Price</th>\n",
       "      <th>PaceTotal</th>\n",
       "      <th>ShootingTotal</th>\n",
       "      <th>PassingTotal</th>\n",
       "      <th>DribblingTotal</th>\n",
       "      <th>DefendingTotal</th>\n",
       "      <th>PhysicalityTotal</th>\n",
       "    </tr>\n",
       "  </thead>\n",
       "  <tbody>\n",
       "    <tr>\n",
       "      <th>count</th>\n",
       "      <td>15324.000000</td>\n",
       "      <td>15324.000000</td>\n",
       "      <td>15324.000000</td>\n",
       "      <td>1.532400e+04</td>\n",
       "      <td>15324.000000</td>\n",
       "      <td>15324.000000</td>\n",
       "      <td>15324.000000</td>\n",
       "      <td>15324.000000</td>\n",
       "      <td>15324.000000</td>\n",
       "      <td>15324.000000</td>\n",
       "    </tr>\n",
       "    <tr>\n",
       "      <th>mean</th>\n",
       "      <td>25.180827</td>\n",
       "      <td>181.338554</td>\n",
       "      <td>74.996346</td>\n",
       "      <td>2.854338e+06</td>\n",
       "      <td>67.853237</td>\n",
       "      <td>53.488058</td>\n",
       "      <td>57.788371</td>\n",
       "      <td>62.976964</td>\n",
       "      <td>50.073088</td>\n",
       "      <td>64.669930</td>\n",
       "    </tr>\n",
       "    <tr>\n",
       "      <th>std</th>\n",
       "      <td>4.737527</td>\n",
       "      <td>6.847180</td>\n",
       "      <td>7.045187</td>\n",
       "      <td>7.742916e+06</td>\n",
       "      <td>10.659145</td>\n",
       "      <td>13.788060</td>\n",
       "      <td>9.831653</td>\n",
       "      <td>9.665275</td>\n",
       "      <td>16.373193</td>\n",
       "      <td>9.619806</td>\n",
       "    </tr>\n",
       "    <tr>\n",
       "      <th>min</th>\n",
       "      <td>16.000000</td>\n",
       "      <td>155.000000</td>\n",
       "      <td>49.000000</td>\n",
       "      <td>0.000000e+00</td>\n",
       "      <td>28.000000</td>\n",
       "      <td>18.000000</td>\n",
       "      <td>25.000000</td>\n",
       "      <td>26.000000</td>\n",
       "      <td>14.000000</td>\n",
       "      <td>29.000000</td>\n",
       "    </tr>\n",
       "    <tr>\n",
       "      <th>25%</th>\n",
       "      <td>21.000000</td>\n",
       "      <td>176.000000</td>\n",
       "      <td>70.000000</td>\n",
       "      <td>4.750000e+05</td>\n",
       "      <td>62.000000</td>\n",
       "      <td>44.000000</td>\n",
       "      <td>51.750000</td>\n",
       "      <td>58.000000</td>\n",
       "      <td>35.000000</td>\n",
       "      <td>58.000000</td>\n",
       "    </tr>\n",
       "    <tr>\n",
       "      <th>50%</th>\n",
       "      <td>25.000000</td>\n",
       "      <td>181.000000</td>\n",
       "      <td>75.000000</td>\n",
       "      <td>9.750000e+05</td>\n",
       "      <td>68.000000</td>\n",
       "      <td>56.000000</td>\n",
       "      <td>58.000000</td>\n",
       "      <td>64.000000</td>\n",
       "      <td>54.000000</td>\n",
       "      <td>66.000000</td>\n",
       "    </tr>\n",
       "    <tr>\n",
       "      <th>75%</th>\n",
       "      <td>29.000000</td>\n",
       "      <td>186.000000</td>\n",
       "      <td>80.000000</td>\n",
       "      <td>2.000000e+06</td>\n",
       "      <td>75.000000</td>\n",
       "      <td>64.000000</td>\n",
       "      <td>64.000000</td>\n",
       "      <td>69.000000</td>\n",
       "      <td>63.000000</td>\n",
       "      <td>72.000000</td>\n",
       "    </tr>\n",
       "    <tr>\n",
       "      <th>max</th>\n",
       "      <td>43.000000</td>\n",
       "      <td>206.000000</td>\n",
       "      <td>110.000000</td>\n",
       "      <td>1.940000e+08</td>\n",
       "      <td>97.000000</td>\n",
       "      <td>94.000000</td>\n",
       "      <td>93.000000</td>\n",
       "      <td>92.000000</td>\n",
       "      <td>91.000000</td>\n",
       "      <td>92.000000</td>\n",
       "    </tr>\n",
       "  </tbody>\n",
       "</table>\n",
       "</div>"
      ],
      "text/plain": [
       "                Age        Height        Weight         Price     PaceTotal  \\\n",
       "count  15324.000000  15324.000000  15324.000000  1.532400e+04  15324.000000   \n",
       "mean      25.180827    181.338554     74.996346  2.854338e+06     67.853237   \n",
       "std        4.737527      6.847180      7.045187  7.742916e+06     10.659145   \n",
       "min       16.000000    155.000000     49.000000  0.000000e+00     28.000000   \n",
       "25%       21.000000    176.000000     70.000000  4.750000e+05     62.000000   \n",
       "50%       25.000000    181.000000     75.000000  9.750000e+05     68.000000   \n",
       "75%       29.000000    186.000000     80.000000  2.000000e+06     75.000000   \n",
       "max       43.000000    206.000000    110.000000  1.940000e+08     97.000000   \n",
       "\n",
       "       ShootingTotal  PassingTotal  DribblingTotal  DefendingTotal  \\\n",
       "count   15324.000000  15324.000000    15324.000000    15324.000000   \n",
       "mean       53.488058     57.788371       62.976964       50.073088   \n",
       "std        13.788060      9.831653        9.665275       16.373193   \n",
       "min        18.000000     25.000000       26.000000       14.000000   \n",
       "25%        44.000000     51.750000       58.000000       35.000000   \n",
       "50%        56.000000     58.000000       64.000000       54.000000   \n",
       "75%        64.000000     64.000000       69.000000       63.000000   \n",
       "max        94.000000     93.000000       92.000000       91.000000   \n",
       "\n",
       "       PhysicalityTotal  \n",
       "count      15324.000000  \n",
       "mean          64.669930  \n",
       "std            9.619806  \n",
       "min           29.000000  \n",
       "25%           58.000000  \n",
       "50%           66.000000  \n",
       "75%           72.000000  \n",
       "max           92.000000  "
      ]
     },
     "execution_count": 52,
     "metadata": {},
     "output_type": "execute_result"
    }
   ],
   "source": [
    "X_train.describe()"
   ]
  },
  {
   "cell_type": "markdown",
   "metadata": {},
   "source": [
    "Kalo dilihat digit nya Price (max di 8 digit) vs Age (max di 2 digit), nanti model akan 'rasis'. Dia akan ignore age, dan lebih mempelajari yang digit gede -> Price"
   ]
  },
  {
   "cell_type": "markdown",
   "metadata": {},
   "source": [
    "Narasikan mengapa menggunakan metode scaling MinMaxScaler"
   ]
  },
  {
   "cell_type": "code",
   "execution_count": 65,
   "metadata": {},
   "outputs": [],
   "source": [
    "# import libray\n",
    "from sklearn.preprocessing import MinMaxScaler\n",
    "\n",
    "# define scaling metod\n",
    "scaler = MinMaxScaler()\n",
    "\n",
    "# .fit\n",
    "scaler.fit(X_train_num)\n",
    "\n",
    "# .transform\n",
    "X_train_num_scaled = scaler.transform(X_train_num)\n",
    "X_test_num_scaled = scaler.transform(X_test_num)"
   ]
  },
  {
   "cell_type": "code",
   "execution_count": 66,
   "metadata": {},
   "outputs": [
    {
     "data": {
      "text/plain": [
       "array([[0.2962963 , 0.45098039, 0.3442623 , ..., 0.48484848, 0.61038961,\n",
       "        0.66666667],\n",
       "       [0.59259259, 0.39215686, 0.3442623 , ..., 0.45454545, 0.5974026 ,\n",
       "        0.73015873],\n",
       "       [0.44444444, 0.37254902, 0.31147541, ..., 0.57575758, 0.66233766,\n",
       "        0.55555556],\n",
       "       ...,\n",
       "       [0.18518519, 0.62745098, 0.59016393, ..., 0.34848485, 0.68831169,\n",
       "        0.65079365],\n",
       "       [0.40740741, 0.23529412, 0.26229508, ..., 0.72727273, 0.19480519,\n",
       "        0.3968254 ],\n",
       "       [0.48148148, 0.58823529, 0.39344262, ..., 0.6969697 , 0.2987013 ,\n",
       "        0.58730159]])"
      ]
     },
     "execution_count": 66,
     "metadata": {},
     "output_type": "execute_result"
    }
   ],
   "source": [
    "X_train_num_scaled"
   ]
  },
  {
   "cell_type": "markdown",
   "metadata": {},
   "source": [
    "## Feature Encoding"
   ]
  },
  {
   "cell_type": "markdown",
   "metadata": {},
   "source": [
    "Jangan lupa jelaskan mengapa menggunakan metode encode ini.."
   ]
  },
  {
   "cell_type": "code",
   "execution_count": 68,
   "metadata": {},
   "outputs": [
    {
     "data": {
      "text/plain": [
       "array(['Medium', 'High', 'Low'], dtype=object)"
      ]
     },
     "execution_count": 68,
     "metadata": {},
     "output_type": "execute_result"
    }
   ],
   "source": [
    "# Cek unique value from AttackingWorkRate\n",
    "X_train_cat.AttackingWorkRate.unique()"
   ]
  },
  {
   "cell_type": "code",
   "execution_count": 69,
   "metadata": {},
   "outputs": [
    {
     "data": {
      "text/plain": [
       "array(['High', 'Medium', 'Low'], dtype=object)"
      ]
     },
     "execution_count": 69,
     "metadata": {},
     "output_type": "execute_result"
    }
   ],
   "source": [
    "# Cek unique value from DefensiveWorkRate\n",
    "X_train_cat.DefensiveWorkRate.unique()"
   ]
  },
  {
   "cell_type": "code",
   "execution_count": 71,
   "metadata": {},
   "outputs": [
    {
     "data": {
      "text/html": [
       "<div>\n",
       "<style scoped>\n",
       "    .dataframe tbody tr th:only-of-type {\n",
       "        vertical-align: middle;\n",
       "    }\n",
       "\n",
       "    .dataframe tbody tr th {\n",
       "        vertical-align: top;\n",
       "    }\n",
       "\n",
       "    .dataframe thead th {\n",
       "        text-align: right;\n",
       "    }\n",
       "</style>\n",
       "<table border=\"1\" class=\"dataframe\">\n",
       "  <thead>\n",
       "    <tr style=\"text-align: right;\">\n",
       "      <th></th>\n",
       "      <th>AttackingWorkRate</th>\n",
       "      <th>DefensiveWorkRate</th>\n",
       "    </tr>\n",
       "  </thead>\n",
       "  <tbody>\n",
       "    <tr>\n",
       "      <th>12229</th>\n",
       "      <td>Medium</td>\n",
       "      <td>High</td>\n",
       "    </tr>\n",
       "    <tr>\n",
       "      <th>13158</th>\n",
       "      <td>High</td>\n",
       "      <td>Medium</td>\n",
       "    </tr>\n",
       "    <tr>\n",
       "      <th>7959</th>\n",
       "      <td>Medium</td>\n",
       "      <td>Medium</td>\n",
       "    </tr>\n",
       "    <tr>\n",
       "      <th>498</th>\n",
       "      <td>Medium</td>\n",
       "      <td>Medium</td>\n",
       "    </tr>\n",
       "    <tr>\n",
       "      <th>9306</th>\n",
       "      <td>Medium</td>\n",
       "      <td>Medium</td>\n",
       "    </tr>\n",
       "  </tbody>\n",
       "</table>\n",
       "</div>"
      ],
      "text/plain": [
       "      AttackingWorkRate DefensiveWorkRate\n",
       "12229            Medium              High\n",
       "13158              High            Medium\n",
       "7959             Medium            Medium\n",
       "498              Medium            Medium\n",
       "9306             Medium            Medium"
      ]
     },
     "execution_count": 71,
     "metadata": {},
     "output_type": "execute_result"
    }
   ],
   "source": [
    "# Cek urutan kolom, attack duluan atau defense duluan\n",
    "X_train_cat.head()"
   ]
  },
  {
   "cell_type": "markdown",
   "metadata": {},
   "source": [
    "Attack duluan, jadi define untuk urutan attack dlu baru defense. Beruntungnya value dari attack dengan defense sama' Low Medium High."
   ]
  },
  {
   "cell_type": "code",
   "execution_count": 72,
   "metadata": {},
   "outputs": [],
   "source": [
    "# import library\n",
    "from sklearn.preprocessing import OrdinalEncoder\n",
    "\n",
    "encoder = OrdinalEncoder(categories=[['Low','Medium','High'], #u/ col 1\n",
    "                                    ['Low','Medium','High']])#u/ col 2 \n",
    "encoder.fit(X_train_cat)\n",
    "X_train_cat_encoded = encoder.transform(X_train_cat)\n",
    "X_test_cat_encoded = encoder.transform(X_test_cat)"
   ]
  },
  {
   "cell_type": "code",
   "execution_count": 79,
   "metadata": {},
   "outputs": [
    {
     "data": {
      "text/html": [
       "<div>\n",
       "<style scoped>\n",
       "    .dataframe tbody tr th:only-of-type {\n",
       "        vertical-align: middle;\n",
       "    }\n",
       "\n",
       "    .dataframe tbody tr th {\n",
       "        vertical-align: top;\n",
       "    }\n",
       "\n",
       "    .dataframe thead th {\n",
       "        text-align: right;\n",
       "    }\n",
       "</style>\n",
       "<table border=\"1\" class=\"dataframe\">\n",
       "  <thead>\n",
       "    <tr style=\"text-align: right;\">\n",
       "      <th></th>\n",
       "      <th>AttackingWorkRate</th>\n",
       "      <th>DefensiveWorkRate</th>\n",
       "    </tr>\n",
       "  </thead>\n",
       "  <tbody>\n",
       "    <tr>\n",
       "      <th>12229</th>\n",
       "      <td>Medium</td>\n",
       "      <td>High</td>\n",
       "    </tr>\n",
       "    <tr>\n",
       "      <th>13158</th>\n",
       "      <td>High</td>\n",
       "      <td>Medium</td>\n",
       "    </tr>\n",
       "    <tr>\n",
       "      <th>7959</th>\n",
       "      <td>Medium</td>\n",
       "      <td>Medium</td>\n",
       "    </tr>\n",
       "    <tr>\n",
       "      <th>498</th>\n",
       "      <td>Medium</td>\n",
       "      <td>Medium</td>\n",
       "    </tr>\n",
       "    <tr>\n",
       "      <th>9306</th>\n",
       "      <td>Medium</td>\n",
       "      <td>Medium</td>\n",
       "    </tr>\n",
       "    <tr>\n",
       "      <th>...</th>\n",
       "      <td>...</td>\n",
       "      <td>...</td>\n",
       "    </tr>\n",
       "    <tr>\n",
       "      <th>10935</th>\n",
       "      <td>High</td>\n",
       "      <td>Medium</td>\n",
       "    </tr>\n",
       "    <tr>\n",
       "      <th>1518</th>\n",
       "      <td>Medium</td>\n",
       "      <td>High</td>\n",
       "    </tr>\n",
       "    <tr>\n",
       "      <th>6902</th>\n",
       "      <td>Medium</td>\n",
       "      <td>Medium</td>\n",
       "    </tr>\n",
       "    <tr>\n",
       "      <th>4654</th>\n",
       "      <td>High</td>\n",
       "      <td>Medium</td>\n",
       "    </tr>\n",
       "    <tr>\n",
       "      <th>2214</th>\n",
       "      <td>High</td>\n",
       "      <td>Medium</td>\n",
       "    </tr>\n",
       "  </tbody>\n",
       "</table>\n",
       "<p>15324 rows × 2 columns</p>\n",
       "</div>"
      ],
      "text/plain": [
       "      AttackingWorkRate DefensiveWorkRate\n",
       "12229            Medium              High\n",
       "13158              High            Medium\n",
       "7959             Medium            Medium\n",
       "498              Medium            Medium\n",
       "9306             Medium            Medium\n",
       "...                 ...               ...\n",
       "10935              High            Medium\n",
       "1518             Medium              High\n",
       "6902             Medium            Medium\n",
       "4654               High            Medium\n",
       "2214               High            Medium\n",
       "\n",
       "[15324 rows x 2 columns]"
      ]
     },
     "execution_count": 79,
     "metadata": {},
     "output_type": "execute_result"
    }
   ],
   "source": [
    "X_train_cat"
   ]
  },
  {
   "cell_type": "code",
   "execution_count": 78,
   "metadata": {},
   "outputs": [
    {
     "data": {
      "text/plain": [
       "array([[1., 2.],\n",
       "       [2., 1.],\n",
       "       [1., 1.],\n",
       "       ...,\n",
       "       [1., 1.],\n",
       "       [2., 1.],\n",
       "       [2., 1.]])"
      ]
     },
     "execution_count": 78,
     "metadata": {},
     "output_type": "execute_result"
    }
   ],
   "source": [
    "X_train_cat_encoded"
   ]
  },
  {
   "cell_type": "markdown",
   "metadata": {},
   "source": [
    "## Concat between numerical and categorical\n"
   ]
  },
  {
   "cell_type": "code",
   "execution_count": 81,
   "metadata": {},
   "outputs": [
    {
     "data": {
      "text/plain": [
       "array([[1.        , 2.        , 0.2962963 , ..., 0.48484848, 0.61038961,\n",
       "        0.66666667],\n",
       "       [2.        , 1.        , 0.59259259, ..., 0.45454545, 0.5974026 ,\n",
       "        0.73015873],\n",
       "       [1.        , 1.        , 0.44444444, ..., 0.57575758, 0.66233766,\n",
       "        0.55555556],\n",
       "       ...,\n",
       "       [1.        , 1.        , 0.18518519, ..., 0.34848485, 0.68831169,\n",
       "        0.65079365],\n",
       "       [2.        , 1.        , 0.40740741, ..., 0.72727273, 0.19480519,\n",
       "        0.3968254 ],\n",
       "       [2.        , 1.        , 0.48148148, ..., 0.6969697 , 0.2987013 ,\n",
       "        0.58730159]])"
      ]
     },
     "execution_count": 81,
     "metadata": {},
     "output_type": "execute_result"
    }
   ],
   "source": [
    "# Concat\n",
    "X_train_final = np.concatenate([X_train_cat_encoded, X_train_num_scaled], axis=1)\n",
    "X_test_final = np.concatenate([X_test_cat_encoded, X_test_num_scaled], axis=1)\n",
    "X_train_final"
   ]
  },
  {
   "cell_type": "markdown",
   "metadata": {},
   "source": [
    "# vi. Model Definition"
   ]
  },
  {
   "cell_type": "markdown",
   "metadata": {},
   "source": [
    ">Bagian ini berisi cell untuk menddefinisikan model. Jelaskan alasan menggunakan suatu algoritma/model, hyperparameter yang dipakai, jenis penggunaan metrics yang dipakai, dan hal lain yang terkait dengan model."
   ]
  },
  {
   "cell_type": "markdown",
   "metadata": {},
   "source": [
    "notes: \n",
    "1. Algoritma yang dipakai `LinearRegression`\n",
    " - alasannya?\n",
    "2. Metrics yang dipakai `MeanAbsoluteError`\n",
    " - alasannya?"
   ]
  },
  {
   "cell_type": "code",
   "execution_count": 80,
   "metadata": {},
   "outputs": [],
   "source": [
    "# import library\n",
    "from sklearn.linear_model import LinearRegression\n",
    "\n",
    "# define model\n",
    "model_lin = LinearRegression()"
   ]
  },
  {
   "cell_type": "markdown",
   "metadata": {},
   "source": [
    "# vii. Model Training"
   ]
  },
  {
   "cell_type": "markdown",
   "metadata": {},
   "source": [
    ">Cell pada bagian ini hanya berisi code untuk melatih model dan output yang dihasilkan. Lakukan beberapa kali proses training dengan hyperparameter yang berbeda untuk melihat hasil yang didapatkan. Analisis dan narasikan hasil ini pada bagian Model Evaluation."
   ]
  },
  {
   "cell_type": "code",
   "execution_count": 82,
   "metadata": {},
   "outputs": [
    {
     "data": {
      "text/html": [
       "<style>#sk-container-id-1 {color: black;}#sk-container-id-1 pre{padding: 0;}#sk-container-id-1 div.sk-toggleable {background-color: white;}#sk-container-id-1 label.sk-toggleable__label {cursor: pointer;display: block;width: 100%;margin-bottom: 0;padding: 0.3em;box-sizing: border-box;text-align: center;}#sk-container-id-1 label.sk-toggleable__label-arrow:before {content: \"▸\";float: left;margin-right: 0.25em;color: #696969;}#sk-container-id-1 label.sk-toggleable__label-arrow:hover:before {color: black;}#sk-container-id-1 div.sk-estimator:hover label.sk-toggleable__label-arrow:before {color: black;}#sk-container-id-1 div.sk-toggleable__content {max-height: 0;max-width: 0;overflow: hidden;text-align: left;background-color: #f0f8ff;}#sk-container-id-1 div.sk-toggleable__content pre {margin: 0.2em;color: black;border-radius: 0.25em;background-color: #f0f8ff;}#sk-container-id-1 input.sk-toggleable__control:checked~div.sk-toggleable__content {max-height: 200px;max-width: 100%;overflow: auto;}#sk-container-id-1 input.sk-toggleable__control:checked~label.sk-toggleable__label-arrow:before {content: \"▾\";}#sk-container-id-1 div.sk-estimator input.sk-toggleable__control:checked~label.sk-toggleable__label {background-color: #d4ebff;}#sk-container-id-1 div.sk-label input.sk-toggleable__control:checked~label.sk-toggleable__label {background-color: #d4ebff;}#sk-container-id-1 input.sk-hidden--visually {border: 0;clip: rect(1px 1px 1px 1px);clip: rect(1px, 1px, 1px, 1px);height: 1px;margin: -1px;overflow: hidden;padding: 0;position: absolute;width: 1px;}#sk-container-id-1 div.sk-estimator {font-family: monospace;background-color: #f0f8ff;border: 1px dotted black;border-radius: 0.25em;box-sizing: border-box;margin-bottom: 0.5em;}#sk-container-id-1 div.sk-estimator:hover {background-color: #d4ebff;}#sk-container-id-1 div.sk-parallel-item::after {content: \"\";width: 100%;border-bottom: 1px solid gray;flex-grow: 1;}#sk-container-id-1 div.sk-label:hover label.sk-toggleable__label {background-color: #d4ebff;}#sk-container-id-1 div.sk-serial::before {content: \"\";position: absolute;border-left: 1px solid gray;box-sizing: border-box;top: 0;bottom: 0;left: 50%;z-index: 0;}#sk-container-id-1 div.sk-serial {display: flex;flex-direction: column;align-items: center;background-color: white;padding-right: 0.2em;padding-left: 0.2em;position: relative;}#sk-container-id-1 div.sk-item {position: relative;z-index: 1;}#sk-container-id-1 div.sk-parallel {display: flex;align-items: stretch;justify-content: center;background-color: white;position: relative;}#sk-container-id-1 div.sk-item::before, #sk-container-id-1 div.sk-parallel-item::before {content: \"\";position: absolute;border-left: 1px solid gray;box-sizing: border-box;top: 0;bottom: 0;left: 50%;z-index: -1;}#sk-container-id-1 div.sk-parallel-item {display: flex;flex-direction: column;z-index: 1;position: relative;background-color: white;}#sk-container-id-1 div.sk-parallel-item:first-child::after {align-self: flex-end;width: 50%;}#sk-container-id-1 div.sk-parallel-item:last-child::after {align-self: flex-start;width: 50%;}#sk-container-id-1 div.sk-parallel-item:only-child::after {width: 0;}#sk-container-id-1 div.sk-dashed-wrapped {border: 1px dashed gray;margin: 0 0.4em 0.5em 0.4em;box-sizing: border-box;padding-bottom: 0.4em;background-color: white;}#sk-container-id-1 div.sk-label label {font-family: monospace;font-weight: bold;display: inline-block;line-height: 1.2em;}#sk-container-id-1 div.sk-label-container {text-align: center;}#sk-container-id-1 div.sk-container {/* jupyter's `normalize.less` sets `[hidden] { display: none; }` but bootstrap.min.css set `[hidden] { display: none !important; }` so we also need the `!important` here to be able to override the default hidden behavior on the sphinx rendered scikit-learn.org. See: https://github.com/scikit-learn/scikit-learn/issues/21755 */display: inline-block !important;position: relative;}#sk-container-id-1 div.sk-text-repr-fallback {display: none;}</style><div id=\"sk-container-id-1\" class=\"sk-top-container\"><div class=\"sk-text-repr-fallback\"><pre>LinearRegression()</pre><b>In a Jupyter environment, please rerun this cell to show the HTML representation or trust the notebook. <br />On GitHub, the HTML representation is unable to render, please try loading this page with nbviewer.org.</b></div><div class=\"sk-container\" hidden><div class=\"sk-item\"><div class=\"sk-estimator sk-toggleable\"><input class=\"sk-toggleable__control sk-hidden--visually\" id=\"sk-estimator-id-1\" type=\"checkbox\" checked><label for=\"sk-estimator-id-1\" class=\"sk-toggleable__label sk-toggleable__label-arrow\">LinearRegression</label><div class=\"sk-toggleable__content\"><pre>LinearRegression()</pre></div></div></div></div></div>"
      ],
      "text/plain": [
       "LinearRegression()"
      ]
     },
     "execution_count": 82,
     "metadata": {},
     "output_type": "execute_result"
    }
   ],
   "source": [
    "# Train the model\n",
    "model_lin.fit(X_train_final,y_train)"
   ]
  },
  {
   "cell_type": "markdown",
   "metadata": {},
   "source": [
    "# viii. Model Evaluation"
   ]
  },
  {
   "cell_type": "markdown",
   "metadata": {},
   "source": [
    ">Pada bagian ini, dilakukan evaluasi model yang harus menunjukkan bagaimana performa model berdasarkan metrics yang dipilih. Hal ini harus dibuktikan dengan visualisasi tren performa dan/atau tingkat kesalahan model. Lakukan analisis terkait dengan hasil pada model dan tuliskan hasil analisanya."
   ]
  },
  {
   "cell_type": "code",
   "execution_count": 83,
   "metadata": {},
   "outputs": [
    {
     "name": "stdout",
     "output_type": "stream",
     "text": [
      "[64.1819511  65.33718112 65.78948878 ... 61.98075371 65.87872768\n",
      " 69.86210281]\n"
     ]
    }
   ],
   "source": [
    "# Predict Train and test\n",
    "\n",
    "y_pred_train = model_lin.predict(X_train_final)\n",
    "y_pred_test = model_lin.predict(X_test_final)\n",
    "\n",
    "print(y_pred_train)"
   ]
  },
  {
   "cell_type": "code",
   "execution_count": 84,
   "metadata": {},
   "outputs": [
    {
     "data": {
      "text/plain": [
       "12229    64\n",
       "13158    63\n",
       "7959     67\n",
       "498      80\n",
       "9306     66\n",
       "         ..\n",
       "10935    65\n",
       "1518     75\n",
       "6902     68\n",
       "4654     70\n",
       "2214     74\n",
       "Name: Rating, Length: 15324, dtype: int64"
      ]
     },
     "execution_count": 84,
     "metadata": {},
     "output_type": "execute_result"
    }
   ],
   "source": [
    "y_train"
   ]
  },
  {
   "cell_type": "code",
   "execution_count": 85,
   "metadata": {},
   "outputs": [
    {
     "name": "stdout",
     "output_type": "stream",
     "text": [
      "Error - train: 2.3463728409258384\n",
      "Error - test: 2.3639790047020868\n"
     ]
    }
   ],
   "source": [
    "# Import library\n",
    "from sklearn.metrics import mean_absolute_error\n",
    "\n",
    "# Evaluate the model\n",
    "print('Error - train:',mean_absolute_error(y_train, y_pred_train))\n",
    "print('Error - test:',mean_absolute_error(y_test, y_pred_test))"
   ]
  },
  {
   "cell_type": "markdown",
   "metadata": {},
   "source": [
    "contoh analisa untuk data train kedua. Diprediksi nya Rating = 65.33 berarti maksud dari error train 2.34 dia + - dari predict. Artinya prediksi bisa meleset menjadi 62,98 s/d 67,67. Terbukti dari y_train nya yang data kedua itu Rating = 63."
   ]
  },
  {
   "cell_type": "code",
   "execution_count": 88,
   "metadata": {},
   "outputs": [
    {
     "data": {
      "text/plain": [
       "67.67"
      ]
     },
     "execution_count": 88,
     "metadata": {},
     "output_type": "execute_result"
    }
   ],
   "source": [
    "65.33+2.34\n"
   ]
  },
  {
   "cell_type": "markdown",
   "metadata": {},
   "source": [
    "statement???\n",
    "\n",
    "Modelnya under/over/goodfit?\n",
    "\n",
    "Kelebihan model, **bisa** memprediksi data seperti apa?\n",
    "\n",
    "Kelemahan model, **gagal** memprediksi data seperti apa?"
   ]
  },
  {
   "cell_type": "markdown",
   "metadata": {},
   "source": [
    "### Model Inference dibuat dalam notebook yang berbeda, beri nama ..._inf.ipynb"
   ]
  },
  {
   "cell_type": "markdown",
   "metadata": {},
   "source": [
    "# ix. Model Saving for Inference"
   ]
  },
  {
   "cell_type": "markdown",
   "metadata": {},
   "source": [
    ">Pada bagian ini, dilakukan proses penyimpanan model dan file-file lain yang terkait dengan hasil proses pembuatan model."
   ]
  },
  {
   "cell_type": "code",
   "execution_count": 89,
   "metadata": {},
   "outputs": [],
   "source": [
    "# import libraries\n",
    "import pickle\n",
    "import json\n",
    "\n",
    "# save the files!\n",
    "with open('model_lin.pkl','wb') as file_1: #wb = write binary\n",
    "    pickle.dump(model_lin, file_1)\n",
    "\n",
    "with open('model_scaler.pkl','wb') as file_2: #wb = write binary\n",
    "    pickle.dump(scaler, file_2)\n",
    "\n",
    "with open('model_encoder.pkl','wb') as file_3: #wb = write binary\n",
    "    pickle.dump(encoder, file_3)\n",
    "\n",
    "with open('num_col.txt','w') as file_4: #wb = write binary\n",
    "    json.dump(num_col, file_4)\n",
    "\n",
    "with open('cat_col.txt','w') as file_5: #wb = write binary\n",
    "    json.dump(cat_col, file_5)"
   ]
  },
  {
   "cell_type": "markdown",
   "metadata": {},
   "source": [
    "# x. Concluion"
   ]
  },
  {
   "cell_type": "markdown",
   "metadata": {},
   "source": [
    "- Business insight from EDA\n",
    "- Further improvement\n",
    "- Answer from Objective\n",
    "- FE, Modell eval, tuning, dll"
   ]
  },
  {
   "cell_type": "code",
   "execution_count": 90,
   "metadata": {},
   "outputs": [
    {
     "data": {
      "text/plain": [
       "Index(['Name', 'Age', 'Height', 'Weight', 'ValueEUR', 'AttackingWorkRate',\n",
       "       'DefensiveWorkRate', 'PaceTotal', 'ShootingTotal', 'PassingTotal',\n",
       "       'DribblingTotal', 'DefendingTotal', 'PhysicalityTotal', 'Overall'],\n",
       "      dtype='object')"
      ]
     },
     "execution_count": 90,
     "metadata": {},
     "output_type": "execute_result"
    }
   ],
   "source": [
    "df_ori.columns"
   ]
  }
 ],
 "metadata": {
  "kernelspec": {
   "display_name": "base",
   "language": "python",
   "name": "python3"
  },
  "language_info": {
   "codemirror_mode": {
    "name": "ipython",
    "version": 3
   },
   "file_extension": ".py",
   "mimetype": "text/x-python",
   "name": "python",
   "nbconvert_exporter": "python",
   "pygments_lexer": "ipython3",
   "version": "3.10.9"
  }
 },
 "nbformat": 4,
 "nbformat_minor": 2
}
