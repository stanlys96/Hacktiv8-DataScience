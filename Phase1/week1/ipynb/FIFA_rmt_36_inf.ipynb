{
 "cells": [
  {
   "cell_type": "markdown",
   "metadata": {},
   "source": [
    "# Model Inference FIFA"
   ]
  },
  {
   "cell_type": "markdown",
   "metadata": {},
   "source": [
    "Nama = Vincent\n",
    "\n",
    "Batch = RMT_36\n"
   ]
  },
  {
   "cell_type": "code",
   "execution_count": 1,
   "metadata": {},
   "outputs": [],
   "source": [
    "# import libraries\n",
    "import pickle\n",
    "import json\n",
    "import pandas as pd\n",
    "import numpy as np"
   ]
  },
  {
   "cell_type": "code",
   "execution_count": 6,
   "metadata": {},
   "outputs": [],
   "source": [
    "# load the files!\n",
    "with open('model_lin.pkl','rb') as file_1: #rb = read binary\n",
    "    model_lin = pickle.load(file_1)\n",
    "\n",
    "with open('model_scaler.pkl','rb') as file_2: #rb = read binary\n",
    "    scaler = pickle.load(file_2)\n",
    "\n",
    "with open('model_encoder.pkl','rb') as file_3: #rb = read binary\n",
    "    encoder = pickle.load(file_3)\n",
    "\n",
    "with open('num_col.txt','r') as file_4: #rb = read \n",
    "    num_col= json.load(file_4)\n",
    "\n",
    "with open('cat_col.txt','r') as file_5: #rb = read \n",
    "    cat_col = json.load(file_5)"
   ]
  },
  {
   "cell_type": "code",
   "execution_count": 7,
   "metadata": {},
   "outputs": [],
   "source": [
    "# Create data inference\n",
    "df_inf = {'Name':'Vincent', \n",
    "          'Age':17, \n",
    "          'Height':185, \n",
    "          'Weight':65, \n",
    "          'Price':1000000, \n",
    "          'AttackingWorkRate':'Low',\n",
    "          'DefensiveWorkRate':'High', \n",
    "          'PaceTotal':40, \n",
    "          'ShootingTotal':55, \n",
    "          'PassingTotal':80,\n",
    "          'DribblingTotal':65, \n",
    "          'DefendingTotal':70, \n",
    "          'PhysicalityTotal':70}\n",
    "\n",
    "df_inf = pd.DataFrame([df_inf])"
   ]
  },
  {
   "cell_type": "code",
   "execution_count": 8,
   "metadata": {},
   "outputs": [
    {
     "data": {
      "text/html": [
       "<div>\n",
       "<style scoped>\n",
       "    .dataframe tbody tr th:only-of-type {\n",
       "        vertical-align: middle;\n",
       "    }\n",
       "\n",
       "    .dataframe tbody tr th {\n",
       "        vertical-align: top;\n",
       "    }\n",
       "\n",
       "    .dataframe thead th {\n",
       "        text-align: right;\n",
       "    }\n",
       "</style>\n",
       "<table border=\"1\" class=\"dataframe\">\n",
       "  <thead>\n",
       "    <tr style=\"text-align: right;\">\n",
       "      <th></th>\n",
       "      <th>Name</th>\n",
       "      <th>Age</th>\n",
       "      <th>Height</th>\n",
       "      <th>Weight</th>\n",
       "      <th>Price</th>\n",
       "      <th>AttackingWorkRate</th>\n",
       "      <th>DefensiveWorkRate</th>\n",
       "      <th>PaceTotal</th>\n",
       "      <th>ShootingTotal</th>\n",
       "      <th>PassingTotal</th>\n",
       "      <th>DribblingTotal</th>\n",
       "      <th>DefendingTotal</th>\n",
       "      <th>PhysicalityTotal</th>\n",
       "    </tr>\n",
       "  </thead>\n",
       "  <tbody>\n",
       "    <tr>\n",
       "      <th>0</th>\n",
       "      <td>Vincent</td>\n",
       "      <td>17</td>\n",
       "      <td>185</td>\n",
       "      <td>65</td>\n",
       "      <td>1000000</td>\n",
       "      <td>Low</td>\n",
       "      <td>High</td>\n",
       "      <td>40</td>\n",
       "      <td>55</td>\n",
       "      <td>80</td>\n",
       "      <td>65</td>\n",
       "      <td>70</td>\n",
       "      <td>70</td>\n",
       "    </tr>\n",
       "  </tbody>\n",
       "</table>\n",
       "</div>"
      ],
      "text/plain": [
       "      Name  Age  Height  Weight    Price AttackingWorkRate DefensiveWorkRate  \\\n",
       "0  Vincent   17     185      65  1000000               Low              High   \n",
       "\n",
       "   PaceTotal  ShootingTotal  PassingTotal  DribblingTotal  DefendingTotal  \\\n",
       "0         40             55            80              65              70   \n",
       "\n",
       "   PhysicalityTotal  \n",
       "0                70  "
      ]
     },
     "execution_count": 8,
     "metadata": {},
     "output_type": "execute_result"
    }
   ],
   "source": [
    "df_inf"
   ]
  },
  {
   "cell_type": "code",
   "execution_count": 9,
   "metadata": {},
   "outputs": [],
   "source": [
    "# split num cat col\n",
    "df_inf_num = df_inf[num_col]\n",
    "df_inf_cat = df_inf[cat_col]"
   ]
  },
  {
   "cell_type": "code",
   "execution_count": 10,
   "metadata": {},
   "outputs": [],
   "source": [
    "# scaling\n",
    "df_inf_num_scaled = scaler.transform(df_inf_num)"
   ]
  },
  {
   "cell_type": "code",
   "execution_count": 12,
   "metadata": {},
   "outputs": [],
   "source": [
    "# encoding\n",
    "df_inf_cat_encoded = encoder.transform(df_inf_cat)"
   ]
  },
  {
   "cell_type": "code",
   "execution_count": 13,
   "metadata": {},
   "outputs": [],
   "source": [
    "# concat\n",
    "df_inf_final = np.concatenate([df_inf_cat_encoded,df_inf_num_scaled], axis=1)"
   ]
  },
  {
   "cell_type": "code",
   "execution_count": 18,
   "metadata": {},
   "outputs": [
    {
     "name": "stdout",
     "output_type": "stream",
     "text": [
      "Prediksi pemain FIFA bernama Vincent adalah 67.04\n"
     ]
    }
   ],
   "source": [
    "# predict\n",
    "result = model_lin.predict(df_inf_final)\n",
    "\n",
    "print(f'Prediksi pemain FIFA bernama {df_inf[\"Name\"][0]} adalah {round(result[0],2)}')"
   ]
  }
 ],
 "metadata": {
  "kernelspec": {
   "display_name": "base",
   "language": "python",
   "name": "python3"
  },
  "language_info": {
   "codemirror_mode": {
    "name": "ipython",
    "version": 3
   },
   "file_extension": ".py",
   "mimetype": "text/x-python",
   "name": "python",
   "nbconvert_exporter": "python",
   "pygments_lexer": "ipython3",
   "version": "3.10.9"
  }
 },
 "nbformat": 4,
 "nbformat_minor": 2
}
