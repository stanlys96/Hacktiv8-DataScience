{
 "cells": [
  {
   "cell_type": "markdown",
   "metadata": {},
   "source": [
    "# Model Inference FIFA\n"
   ]
  },
  {
   "cell_type": "markdown",
   "metadata": {},
   "source": [
    "Nama = Stanly\n",
    "\n",
    "Batch = RMT_36\n"
   ]
  },
  {
   "cell_type": "code",
   "execution_count": 27,
   "metadata": {},
   "outputs": [],
   "source": [
    "# import libraries\n",
    "import pickle\n",
    "import json\n",
    "import pandas as pd\n",
    "import numpy as np"
   ]
  },
  {
   "cell_type": "code",
   "execution_count": 28,
   "metadata": {},
   "outputs": [],
   "source": [
    "# Load the files!\n",
    "\n",
    "with open('model_linear.pkl', 'rb') as file_1: # rb = read binary\n",
    "  model_linear = pickle.load(file_1)\n",
    "\n",
    "with open('model_scaler.pkl', 'rb') as file_2: # rb = read binary\n",
    "  scaler = pickle.load(file_2)\n",
    "\n",
    "with open('model_encoder.pkl', 'rb') as file_3:\n",
    "  encoder = pickle.load(file_3)\n",
    "\n",
    "with open('num_col.txt', 'r') as file_4:\n",
    "  num_col = json.load(file_4)\n",
    "\n",
    "with open('cat_col.txt', 'r') as file_5:\n",
    "  cat_col = json.load(file_5)"
   ]
  },
  {
   "cell_type": "code",
   "execution_count": 29,
   "metadata": {},
   "outputs": [],
   "source": [
    "# Create data inference\n",
    "df_inf = {'Name': 'Stanly', \n",
    "          'Age': 28, \n",
    "          'Height': 169, \n",
    "          'Weight': 84, \n",
    "          'Price': 1000000, \n",
    "          'AttackingWorkRate': \"Low\",\n",
    "          'DefensiveWorkRate': \"High\", \n",
    "          'PaceTotal': 40, \n",
    "          'ShootingTotal': 55, \n",
    "          'PassingTotal': 80,\n",
    "          'DribblingTotal': 65, \n",
    "          'DefendingTotal': 70, \n",
    "          'PhysicalityTotal': 70\n",
    "        }\n",
    "\n",
    "df_inf = pd.DataFrame([df_inf])"
   ]
  },
  {
   "cell_type": "code",
   "execution_count": 30,
   "metadata": {},
   "outputs": [
    {
     "data": {
      "text/html": [
       "<div>\n",
       "<style scoped>\n",
       "    .dataframe tbody tr th:only-of-type {\n",
       "        vertical-align: middle;\n",
       "    }\n",
       "\n",
       "    .dataframe tbody tr th {\n",
       "        vertical-align: top;\n",
       "    }\n",
       "\n",
       "    .dataframe thead th {\n",
       "        text-align: right;\n",
       "    }\n",
       "</style>\n",
       "<table border=\"1\" class=\"dataframe\">\n",
       "  <thead>\n",
       "    <tr style=\"text-align: right;\">\n",
       "      <th></th>\n",
       "      <th>Name</th>\n",
       "      <th>Age</th>\n",
       "      <th>Height</th>\n",
       "      <th>Weight</th>\n",
       "      <th>Price</th>\n",
       "      <th>AttackingWorkRate</th>\n",
       "      <th>DefensiveWorkRate</th>\n",
       "      <th>PaceTotal</th>\n",
       "      <th>ShootingTotal</th>\n",
       "      <th>PassingTotal</th>\n",
       "      <th>DribblingTotal</th>\n",
       "      <th>DefendingTotal</th>\n",
       "      <th>PhysicalityTotal</th>\n",
       "    </tr>\n",
       "  </thead>\n",
       "  <tbody>\n",
       "    <tr>\n",
       "      <th>0</th>\n",
       "      <td>Stanly</td>\n",
       "      <td>28</td>\n",
       "      <td>169</td>\n",
       "      <td>84</td>\n",
       "      <td>1000000</td>\n",
       "      <td>Low</td>\n",
       "      <td>High</td>\n",
       "      <td>40</td>\n",
       "      <td>55</td>\n",
       "      <td>80</td>\n",
       "      <td>65</td>\n",
       "      <td>70</td>\n",
       "      <td>70</td>\n",
       "    </tr>\n",
       "  </tbody>\n",
       "</table>\n",
       "</div>"
      ],
      "text/plain": [
       "     Name  Age  Height  Weight    Price AttackingWorkRate DefensiveWorkRate  \\\n",
       "0  Stanly   28     169      84  1000000               Low              High   \n",
       "\n",
       "   PaceTotal  ShootingTotal  PassingTotal  DribblingTotal  DefendingTotal  \\\n",
       "0         40             55            80              65              70   \n",
       "\n",
       "   PhysicalityTotal  \n",
       "0                70  "
      ]
     },
     "execution_count": 30,
     "metadata": {},
     "output_type": "execute_result"
    }
   ],
   "source": [
    "df_inf"
   ]
  },
  {
   "cell_type": "code",
   "execution_count": 31,
   "metadata": {},
   "outputs": [],
   "source": [
    "# Split num cat col\n",
    "df_inf_num = df_inf[num_col]\n",
    "df_inf_cat = df_inf[cat_col]"
   ]
  },
  {
   "cell_type": "code",
   "execution_count": 32,
   "metadata": {},
   "outputs": [],
   "source": [
    "# Scaling\n",
    "df_inf_num_scaled = scaler.transform(df_inf_num)"
   ]
  },
  {
   "cell_type": "code",
   "execution_count": 33,
   "metadata": {},
   "outputs": [],
   "source": [
    "# encoding\n",
    "df_inf_cat_encoded = encoder.transform(df_inf_cat)"
   ]
  },
  {
   "cell_type": "code",
   "execution_count": 34,
   "metadata": {},
   "outputs": [],
   "source": [
    "# concat\n",
    "df_inf_final = np.concatenate([df_inf_cat_encoded, df_inf_num_scaled], axis=1)"
   ]
  },
  {
   "cell_type": "code",
   "execution_count": 36,
   "metadata": {},
   "outputs": [
    {
     "name": "stdout",
     "output_type": "stream",
     "text": [
      "Prediksi pemain FIFA bernama Stanly adalah 68.99299658860852\n"
     ]
    }
   ],
   "source": [
    "# predict\n",
    "result = model_linear.predict(df_inf_final)\n",
    "\n",
    "print(f'Prediksi pemain FIFA bernama {df_inf['Name'][0]} adalah {result[0]}')"
   ]
  }
 ],
 "metadata": {
  "kernelspec": {
   "display_name": "base",
   "language": "python",
   "name": "python3"
  },
  "language_info": {
   "codemirror_mode": {
    "name": "ipython",
    "version": 3
   },
   "file_extension": ".py",
   "mimetype": "text/x-python",
   "name": "python",
   "nbconvert_exporter": "python",
   "pygments_lexer": "ipython3",
   "version": "3.12.2"
  }
 },
 "nbformat": 4,
 "nbformat_minor": 2
}
