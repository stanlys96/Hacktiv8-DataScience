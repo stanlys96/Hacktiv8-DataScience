{
 "cells": [
  {
   "cell_type": "markdown",
   "metadata": {},
   "source": [
    "# Model Inference House Prices\n",
    "\n",
    "Name: Stanly\n",
    "\n",
    "Batch: RMT-036  \n",
    "\n",
    "Objective: Test the machine learning model created in `P1G4_stanly.ipynb`"
   ]
  },
  {
   "cell_type": "markdown",
   "metadata": {},
   "source": [
    "# Import all libraries"
   ]
  },
  {
   "cell_type": "code",
   "execution_count": 318,
   "metadata": {},
   "outputs": [],
   "source": [
    "import pandas as pd\n",
    "import numpy as np\n",
    "import pickle\n",
    "import json"
   ]
  },
  {
   "cell_type": "markdown",
   "metadata": {},
   "source": [
    "# Load all data"
   ]
  },
  {
   "cell_type": "code",
   "execution_count": 319,
   "metadata": {},
   "outputs": [],
   "source": [
    "with open('model_linear.pkl', 'rb') as model_file:\n",
    "  model_linear = pickle.load(model_file)\n",
    "\n",
    "with open('model_scaler.pkl', 'rb') as scaler_file:\n",
    "  scaler = pickle.load(scaler_file)\n",
    "\n",
    "with open('one_hot_encoder.pkl', 'rb') as one_hot_encoder_file:\n",
    "  one_hot_encoder = pickle.load(one_hot_encoder_file)\n",
    "\n",
    "with open('ordinal_encoder.pkl', 'rb') as ordinal_encoder_file:\n",
    "  ordinal_encoder = pickle.load(ordinal_encoder_file)\n",
    "\n",
    "with open('num_col.txt', 'r') as num_col_file:\n",
    "  num_columns = json.load(num_col_file)\n",
    "\n",
    "with open('cat_col.txt', 'r') as cat_col_file:\n",
    "  category_columns = json.load(cat_col_file)\n",
    "\n",
    "with open('ordinal_cat_col.txt', 'r') as ordinal_cat_col:\n",
    "  ordinal_category_columns = json.load(ordinal_cat_col)"
   ]
  },
  {
   "cell_type": "markdown",
   "metadata": {},
   "source": [
    "# x. Model Inference"
   ]
  },
  {
   "cell_type": "code",
   "execution_count": 320,
   "metadata": {},
   "outputs": [],
   "source": [
    "house_inf = {\n",
    "  'area': 'BSD City',\n",
    "  'city': 'Tangerang',\n",
    "  'latitude': -6.3007333,\n",
    "  'longitude': 106.586126,\n",
    "  'property_type': 'rumah',\n",
    "  'bedrooms': 3,\n",
    "  'bathrooms': 2,\n",
    "  'land_area': 181,\n",
    "  'building_area': 182,\n",
    "  'floors': 2,\n",
    "  'maid_bedrooms': 1,\n",
    "  'maid_bathrooms': 1,\n",
    "  'certificate': 'shm - sertifikat hak milik',\n",
    "  'voltage': 5500,\n",
    "  'voltage_category': 'R-2',\n",
    "  'building_age': 1,\n",
    "  'year': 2021,\n",
    "  'condition': 'baru',\n",
    "  'garage': 1,\n",
    "  'carport': 1\n",
    "}\n",
    "\n",
    "house_inf = pd.DataFrame([house_inf])"
   ]
  },
  {
   "cell_type": "code",
   "execution_count": 321,
   "metadata": {},
   "outputs": [
    {
     "data": {
      "text/html": [
       "<div>\n",
       "<style scoped>\n",
       "    .dataframe tbody tr th:only-of-type {\n",
       "        vertical-align: middle;\n",
       "    }\n",
       "\n",
       "    .dataframe tbody tr th {\n",
       "        vertical-align: top;\n",
       "    }\n",
       "\n",
       "    .dataframe thead th {\n",
       "        text-align: right;\n",
       "    }\n",
       "</style>\n",
       "<table border=\"1\" class=\"dataframe\">\n",
       "  <thead>\n",
       "    <tr style=\"text-align: right;\">\n",
       "      <th></th>\n",
       "      <th>area</th>\n",
       "      <th>city</th>\n",
       "      <th>latitude</th>\n",
       "      <th>longitude</th>\n",
       "      <th>property_type</th>\n",
       "      <th>bedrooms</th>\n",
       "      <th>bathrooms</th>\n",
       "      <th>land_area</th>\n",
       "      <th>building_area</th>\n",
       "      <th>floors</th>\n",
       "      <th>maid_bedrooms</th>\n",
       "      <th>maid_bathrooms</th>\n",
       "      <th>certificate</th>\n",
       "      <th>voltage</th>\n",
       "      <th>voltage_category</th>\n",
       "      <th>building_age</th>\n",
       "      <th>year</th>\n",
       "      <th>condition</th>\n",
       "      <th>garage</th>\n",
       "      <th>carport</th>\n",
       "    </tr>\n",
       "  </thead>\n",
       "  <tbody>\n",
       "    <tr>\n",
       "      <th>0</th>\n",
       "      <td>BSD City</td>\n",
       "      <td>Tangerang</td>\n",
       "      <td>-6.300733</td>\n",
       "      <td>106.586126</td>\n",
       "      <td>rumah</td>\n",
       "      <td>3</td>\n",
       "      <td>2</td>\n",
       "      <td>181</td>\n",
       "      <td>182</td>\n",
       "      <td>2</td>\n",
       "      <td>1</td>\n",
       "      <td>1</td>\n",
       "      <td>shm - sertifikat hak milik</td>\n",
       "      <td>5500</td>\n",
       "      <td>R-2</td>\n",
       "      <td>1</td>\n",
       "      <td>2021</td>\n",
       "      <td>baru</td>\n",
       "      <td>1</td>\n",
       "      <td>1</td>\n",
       "    </tr>\n",
       "  </tbody>\n",
       "</table>\n",
       "</div>"
      ],
      "text/plain": [
       "       area       city  latitude   longitude property_type  bedrooms  \\\n",
       "0  BSD City  Tangerang -6.300733  106.586126         rumah         3   \n",
       "\n",
       "   bathrooms  land_area  building_area  floors  maid_bedrooms  maid_bathrooms  \\\n",
       "0          2        181            182       2              1               1   \n",
       "\n",
       "                  certificate  voltage voltage_category  building_age  year  \\\n",
       "0  shm - sertifikat hak milik     5500              R-2             1  2021   \n",
       "\n",
       "  condition  garage  carport  \n",
       "0      baru       1        1  "
      ]
     },
     "execution_count": 321,
     "metadata": {},
     "output_type": "execute_result"
    }
   ],
   "source": [
    "house_inf"
   ]
  },
  {
   "cell_type": "code",
   "execution_count": 322,
   "metadata": {},
   "outputs": [],
   "source": [
    "house_inf_num = house_inf[num_columns]\n",
    "house_inf_cat = house_inf[category_columns]\n",
    "house_inf_ordinal_cat = house_inf[ordinal_category_columns]"
   ]
  },
  {
   "cell_type": "markdown",
   "metadata": {},
   "source": [
    "### Transform all the data to encoded values, and add them all together to one variable"
   ]
  },
  {
   "cell_type": "code",
   "execution_count": 323,
   "metadata": {},
   "outputs": [],
   "source": [
    "house_inf_num_scaled = scaler.transform(house_inf_num)\n",
    "house_inf_cat_encoded = one_hot_encoder.transform(house_inf_cat)\n",
    "house_inf_ordinal_cat_encoded = ordinal_encoder.transform(house_inf_ordinal_cat)\n",
    "house_inf_final = np.concatenate([house_inf_cat_encoded, house_inf_ordinal_cat_encoded, house_inf_num_scaled], axis=1)"
   ]
  },
  {
   "cell_type": "code",
   "execution_count": 324,
   "metadata": {},
   "outputs": [
    {
     "name": "stdout",
     "output_type": "stream",
     "text": [
      "Prediksi harga rumah di Tangerang dengan luas 182 m² adalah 5.920352455444244e+22\n"
     ]
    },
    {
     "name": "stderr",
     "output_type": "stream",
     "text": [
      "/opt/miniconda3/lib/python3.12/site-packages/sklearn/base.py:493: UserWarning: X does not have valid feature names, but LinearRegression was fitted with feature names\n",
      "  warnings.warn(\n"
     ]
    }
   ],
   "source": [
    "result = model_linear.predict(house_inf_final)\n",
    "\n",
    "print(f'Prediksi harga rumah di {house_inf['city'][0]} dengan luas {house_inf['building_area'][0]} m² adalah {result[0]}')"
   ]
  },
  {
   "cell_type": "markdown",
   "metadata": {},
   "source": [
    "# xi. Conclusion"
   ]
  },
  {
   "cell_type": "markdown",
   "metadata": {},
   "source": [
    "In conclusion, we have successfully created a machine learning model that predicts the price of a house, based on numerous factors, such as its area (city), features (how many bedrooms and bathrooms in the house), the house condition (new, good, very good, etc), the year the house was built, its certificate, land area and maid features (how many maid bedrooms and maid bathrooms in the house). We use Winsorizer to cap the columns with outliers (we don't trim the columns with outliers, as there are many of them) and we use the `gaussian` method. To handle the missing values in the `bedrooms`, `bathrooms`, and `floors` columns, we use median, as they are skewed. There are a lot of numerical columns in the dataset, some categorical data and one categorical ordinal data (condition). The preprocessing technique used for numerical data is MinMaxScaler, as the numerical data has different digits, OrdinalEncoder for categorical ordinal data and OneHotEncoder for other categorical data. Ultimately, with all these processes we are able to predict the price of a house."
   ]
  },
  {
   "cell_type": "code",
   "execution_count": 326,
   "metadata": {},
   "outputs": [
    {
     "data": {
      "text/plain": [
       "5.9203524554442446e+22"
      ]
     },
     "execution_count": 326,
     "metadata": {},
     "output_type": "execute_result"
    }
   ],
   "source": [
    "float(5.920352455444244 * 10 ** 22)"
   ]
  }
 ],
 "metadata": {
  "kernelspec": {
   "display_name": "base",
   "language": "python",
   "name": "python3"
  },
  "language_info": {
   "codemirror_mode": {
    "name": "ipython",
    "version": 3
   },
   "file_extension": ".py",
   "mimetype": "text/x-python",
   "name": "python",
   "nbconvert_exporter": "python",
   "pygments_lexer": "ipython3",
   "version": "3.12.2"
  }
 },
 "nbformat": 4,
 "nbformat_minor": 2
}
