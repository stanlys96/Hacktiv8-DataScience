{
  "cells": [
    {
      "cell_type": "markdown",
      "metadata": {
        "id": "aE2_G4OSoiA1"
      },
      "source": [
        "## 1. Introduction\n",
        "\n",
        "> Bab pengenalan harus diisi dengan identitas, gambaran besar dataset yang digunakan, dan objective yang ingin dicapai.\n"
      ]
    },
    {
      "cell_type": "markdown",
      "metadata": {},
      "source": [
        "Nama    : Ali Aufa\n",
        "\n",
        "Batch   : 7\n",
        "\n",
        "### Latar Belakang\n",
        "Blablablabalbalbalola\n",
        "\n",
        "### Problem Statement\n",
        "Membuat model yang dapat memprediksi rating pemain FIFA 2022 yang akan digunakan sebagai referensi untuk membuat game FIFA 2025. Model akan dievaluasi dengan mean absolute error agar hasil dapat lebih mudah diinterpretasikan.\n",
        "\n"
      ]
    },
    {
      "cell_type": "markdown",
      "metadata": {
        "id": "lu9d9JLkp2Cb"
      },
      "source": [
        "## 2. Import Libraries\n",
        "\n",
        "> Cell pertama pada notebook harus berisi dan hanya berisi semua library yang digunakan dalam project."
      ]
    },
    {
      "cell_type": "code",
      "execution_count": 1,
      "metadata": {},
      "outputs": [],
      "source": [
        "import pandas as pd\n",
        "import numpy as np\n",
        "import matplotlib.pyplot as plt\n",
        "import seaborn as sns"
      ]
    },
    {
      "cell_type": "markdown",
      "metadata": {
        "id": "BNsOy-lMqV4z"
      },
      "source": [
        "## 3. Data Loading\n",
        "\n",
        ">Bagian ini berisi proses penyiapan data sebelum dilakukan eksplorasi data lebih lanjut. Proses Data Loading dapat berupa memberi nama baru untuk setiap kolom, mengecek ukuran dataset, dll.\n",
        "\n"
      ]
    },
    {
      "cell_type": "markdown",
      "metadata": {},
      "source": [
        "Dataset diambil dari website sofifa.com yang berisikan statistik pemain di FIFA 2022."
      ]
    },
    {
      "cell_type": "code",
      "execution_count": 2,
      "metadata": {},
      "outputs": [
        {
          "data": {
            "text/html": [
              "<div>\n",
              "<style scoped>\n",
              "    .dataframe tbody tr th:only-of-type {\n",
              "        vertical-align: middle;\n",
              "    }\n",
              "\n",
              "    .dataframe tbody tr th {\n",
              "        vertical-align: top;\n",
              "    }\n",
              "\n",
              "    .dataframe thead th {\n",
              "        text-align: right;\n",
              "    }\n",
              "</style>\n",
              "<table border=\"1\" class=\"dataframe\">\n",
              "  <thead>\n",
              "    <tr style=\"text-align: right;\">\n",
              "      <th></th>\n",
              "      <th>Name</th>\n",
              "      <th>Age</th>\n",
              "      <th>Height</th>\n",
              "      <th>Weight</th>\n",
              "      <th>ValueEUR</th>\n",
              "      <th>AttackingWorkRate</th>\n",
              "      <th>DefensiveWorkRate</th>\n",
              "      <th>PaceTotal</th>\n",
              "      <th>ShootingTotal</th>\n",
              "      <th>PassingTotal</th>\n",
              "      <th>DribblingTotal</th>\n",
              "      <th>DefendingTotal</th>\n",
              "      <th>PhysicalityTotal</th>\n",
              "      <th>Overall</th>\n",
              "    </tr>\n",
              "  </thead>\n",
              "  <tbody>\n",
              "    <tr>\n",
              "      <th>0</th>\n",
              "      <td>L. Messi</td>\n",
              "      <td>34</td>\n",
              "      <td>170</td>\n",
              "      <td>72</td>\n",
              "      <td>78000000</td>\n",
              "      <td>Medium</td>\n",
              "      <td>Low</td>\n",
              "      <td>85</td>\n",
              "      <td>92</td>\n",
              "      <td>91</td>\n",
              "      <td>95</td>\n",
              "      <td>34</td>\n",
              "      <td>65</td>\n",
              "      <td>93</td>\n",
              "    </tr>\n",
              "    <tr>\n",
              "      <th>1</th>\n",
              "      <td>R. Lewandowski</td>\n",
              "      <td>32</td>\n",
              "      <td>185</td>\n",
              "      <td>81</td>\n",
              "      <td>119500000</td>\n",
              "      <td>High</td>\n",
              "      <td>Medium</td>\n",
              "      <td>78</td>\n",
              "      <td>92</td>\n",
              "      <td>79</td>\n",
              "      <td>85</td>\n",
              "      <td>44</td>\n",
              "      <td>82</td>\n",
              "      <td>92</td>\n",
              "    </tr>\n",
              "    <tr>\n",
              "      <th>2</th>\n",
              "      <td>Cristiano Ronaldo</td>\n",
              "      <td>36</td>\n",
              "      <td>187</td>\n",
              "      <td>83</td>\n",
              "      <td>45000000</td>\n",
              "      <td>High</td>\n",
              "      <td>Low</td>\n",
              "      <td>87</td>\n",
              "      <td>94</td>\n",
              "      <td>80</td>\n",
              "      <td>87</td>\n",
              "      <td>34</td>\n",
              "      <td>75</td>\n",
              "      <td>91</td>\n",
              "    </tr>\n",
              "    <tr>\n",
              "      <th>3</th>\n",
              "      <td>K. Mbappé</td>\n",
              "      <td>22</td>\n",
              "      <td>182</td>\n",
              "      <td>73</td>\n",
              "      <td>194000000</td>\n",
              "      <td>High</td>\n",
              "      <td>Low</td>\n",
              "      <td>97</td>\n",
              "      <td>88</td>\n",
              "      <td>80</td>\n",
              "      <td>92</td>\n",
              "      <td>36</td>\n",
              "      <td>77</td>\n",
              "      <td>91</td>\n",
              "    </tr>\n",
              "    <tr>\n",
              "      <th>4</th>\n",
              "      <td>J. Oblak</td>\n",
              "      <td>28</td>\n",
              "      <td>188</td>\n",
              "      <td>87</td>\n",
              "      <td>112000000</td>\n",
              "      <td>Medium</td>\n",
              "      <td>Medium</td>\n",
              "      <td>87</td>\n",
              "      <td>92</td>\n",
              "      <td>78</td>\n",
              "      <td>90</td>\n",
              "      <td>52</td>\n",
              "      <td>90</td>\n",
              "      <td>91</td>\n",
              "    </tr>\n",
              "    <tr>\n",
              "      <th>...</th>\n",
              "      <td>...</td>\n",
              "      <td>...</td>\n",
              "      <td>...</td>\n",
              "      <td>...</td>\n",
              "      <td>...</td>\n",
              "      <td>...</td>\n",
              "      <td>...</td>\n",
              "      <td>...</td>\n",
              "      <td>...</td>\n",
              "      <td>...</td>\n",
              "      <td>...</td>\n",
              "      <td>...</td>\n",
              "      <td>...</td>\n",
              "      <td>...</td>\n",
              "    </tr>\n",
              "    <tr>\n",
              "      <th>19255</th>\n",
              "      <td>S. Black</td>\n",
              "      <td>19</td>\n",
              "      <td>180</td>\n",
              "      <td>75</td>\n",
              "      <td>100000</td>\n",
              "      <td>Medium</td>\n",
              "      <td>Medium</td>\n",
              "      <td>56</td>\n",
              "      <td>27</td>\n",
              "      <td>29</td>\n",
              "      <td>33</td>\n",
              "      <td>48</td>\n",
              "      <td>53</td>\n",
              "      <td>48</td>\n",
              "    </tr>\n",
              "    <tr>\n",
              "      <th>19256</th>\n",
              "      <td>Ma Zhen</td>\n",
              "      <td>23</td>\n",
              "      <td>196</td>\n",
              "      <td>85</td>\n",
              "      <td>50000</td>\n",
              "      <td>Medium</td>\n",
              "      <td>Medium</td>\n",
              "      <td>49</td>\n",
              "      <td>47</td>\n",
              "      <td>45</td>\n",
              "      <td>46</td>\n",
              "      <td>54</td>\n",
              "      <td>44</td>\n",
              "      <td>48</td>\n",
              "    </tr>\n",
              "    <tr>\n",
              "      <th>19257</th>\n",
              "      <td>Yang Haoyu</td>\n",
              "      <td>20</td>\n",
              "      <td>183</td>\n",
              "      <td>77</td>\n",
              "      <td>90000</td>\n",
              "      <td>Medium</td>\n",
              "      <td>Medium</td>\n",
              "      <td>57</td>\n",
              "      <td>26</td>\n",
              "      <td>29</td>\n",
              "      <td>28</td>\n",
              "      <td>51</td>\n",
              "      <td>56</td>\n",
              "      <td>48</td>\n",
              "    </tr>\n",
              "    <tr>\n",
              "      <th>19258</th>\n",
              "      <td>He Siwei</td>\n",
              "      <td>20</td>\n",
              "      <td>174</td>\n",
              "      <td>69</td>\n",
              "      <td>100000</td>\n",
              "      <td>Medium</td>\n",
              "      <td>Medium</td>\n",
              "      <td>61</td>\n",
              "      <td>25</td>\n",
              "      <td>32</td>\n",
              "      <td>32</td>\n",
              "      <td>49</td>\n",
              "      <td>51</td>\n",
              "      <td>48</td>\n",
              "    </tr>\n",
              "    <tr>\n",
              "      <th>19259</th>\n",
              "      <td>Chen Guoliang</td>\n",
              "      <td>22</td>\n",
              "      <td>186</td>\n",
              "      <td>70</td>\n",
              "      <td>70000</td>\n",
              "      <td>Medium</td>\n",
              "      <td>Medium</td>\n",
              "      <td>55</td>\n",
              "      <td>27</td>\n",
              "      <td>29</td>\n",
              "      <td>30</td>\n",
              "      <td>50</td>\n",
              "      <td>54</td>\n",
              "      <td>48</td>\n",
              "    </tr>\n",
              "  </tbody>\n",
              "</table>\n",
              "<p>19260 rows × 14 columns</p>\n",
              "</div>"
            ],
            "text/plain": [
              "                    Name  Age  Height  Weight   ValueEUR AttackingWorkRate  \\\n",
              "0               L. Messi   34     170      72   78000000            Medium   \n",
              "1         R. Lewandowski   32     185      81  119500000              High   \n",
              "2      Cristiano Ronaldo   36     187      83   45000000              High   \n",
              "3              K. Mbappé   22     182      73  194000000              High   \n",
              "4               J. Oblak   28     188      87  112000000            Medium   \n",
              "...                  ...  ...     ...     ...        ...               ...   \n",
              "19255           S. Black   19     180      75     100000            Medium   \n",
              "19256            Ma Zhen   23     196      85      50000            Medium   \n",
              "19257         Yang Haoyu   20     183      77      90000            Medium   \n",
              "19258           He Siwei   20     174      69     100000            Medium   \n",
              "19259      Chen Guoliang   22     186      70      70000            Medium   \n",
              "\n",
              "      DefensiveWorkRate  PaceTotal  ShootingTotal  PassingTotal  \\\n",
              "0                   Low         85             92            91   \n",
              "1                Medium         78             92            79   \n",
              "2                   Low         87             94            80   \n",
              "3                   Low         97             88            80   \n",
              "4                Medium         87             92            78   \n",
              "...                 ...        ...            ...           ...   \n",
              "19255            Medium         56             27            29   \n",
              "19256            Medium         49             47            45   \n",
              "19257            Medium         57             26            29   \n",
              "19258            Medium         61             25            32   \n",
              "19259            Medium         55             27            29   \n",
              "\n",
              "       DribblingTotal  DefendingTotal  PhysicalityTotal  Overall  \n",
              "0                  95              34                65       93  \n",
              "1                  85              44                82       92  \n",
              "2                  87              34                75       91  \n",
              "3                  92              36                77       91  \n",
              "4                  90              52                90       91  \n",
              "...               ...             ...               ...      ...  \n",
              "19255              33              48                53       48  \n",
              "19256              46              54                44       48  \n",
              "19257              28              51                56       48  \n",
              "19258              32              49                51       48  \n",
              "19259              30              50                54       48  \n",
              "\n",
              "[19260 rows x 14 columns]"
            ]
          },
          "execution_count": 2,
          "metadata": {},
          "output_type": "execute_result"
        }
      ],
      "source": [
        "df = pd.read_csv('https://raw.githubusercontent.com/FTDS-learning-materials/phase-1/master/w1/P1W1D1PM%20-%20Machine%20Learning%20Problem%20Framing.csv')\n",
        "df"
      ]
    },
    {
      "cell_type": "code",
      "execution_count": 3,
      "metadata": {},
      "outputs": [
        {
          "name": "stdout",
          "output_type": "stream",
          "text": [
            "<class 'pandas.core.frame.DataFrame'>\n",
            "RangeIndex: 19260 entries, 0 to 19259\n",
            "Data columns (total 14 columns):\n",
            " #   Column             Non-Null Count  Dtype \n",
            "---  ------             --------------  ----- \n",
            " 0   Name               19260 non-null  object\n",
            " 1   Age                19260 non-null  int64 \n",
            " 2   Height             19260 non-null  int64 \n",
            " 3   Weight             19260 non-null  int64 \n",
            " 4   ValueEUR           19260 non-null  int64 \n",
            " 5   AttackingWorkRate  19260 non-null  object\n",
            " 6   DefensiveWorkRate  19260 non-null  object\n",
            " 7   PaceTotal          19260 non-null  int64 \n",
            " 8   ShootingTotal      19260 non-null  int64 \n",
            " 9   PassingTotal       19260 non-null  int64 \n",
            " 10  DribblingTotal     19260 non-null  int64 \n",
            " 11  DefendingTotal     19260 non-null  int64 \n",
            " 12  PhysicalityTotal   19260 non-null  int64 \n",
            " 13  Overall            19260 non-null  int64 \n",
            "dtypes: int64(11), object(3)\n",
            "memory usage: 2.1+ MB\n"
          ]
        }
      ],
      "source": [
        "df.info()"
      ]
    },
    {
      "cell_type": "markdown",
      "metadata": {},
      "source": [
        "tipe data sudah sesuai untuk dilakukan analisis."
      ]
    },
    {
      "cell_type": "code",
      "execution_count": 4,
      "metadata": {},
      "outputs": [
        {
          "data": {
            "text/plain": [
              "Name                 0\n",
              "Age                  0\n",
              "Height               0\n",
              "Weight               0\n",
              "ValueEUR             0\n",
              "AttackingWorkRate    0\n",
              "DefensiveWorkRate    0\n",
              "PaceTotal            0\n",
              "ShootingTotal        0\n",
              "PassingTotal         0\n",
              "DribblingTotal       0\n",
              "DefendingTotal       0\n",
              "PhysicalityTotal     0\n",
              "Overall              0\n",
              "dtype: int64"
            ]
          },
          "execution_count": 4,
          "metadata": {},
          "output_type": "execute_result"
        }
      ],
      "source": [
        "# periksa missing values\n",
        "df.isna().sum()"
      ]
    },
    {
      "cell_type": "code",
      "execution_count": 5,
      "metadata": {},
      "outputs": [
        {
          "data": {
            "text/plain": [
              "104"
            ]
          },
          "execution_count": 5,
          "metadata": {},
          "output_type": "execute_result"
        }
      ],
      "source": [
        "# periksa data duplicate\n",
        "df.duplicated().sum()"
      ]
    },
    {
      "cell_type": "markdown",
      "metadata": {},
      "source": [
        "terdapat 104 data duplikat yang akan dihapus duplikatnya untuk training machine learning."
      ]
    },
    {
      "cell_type": "code",
      "execution_count": 6,
      "metadata": {},
      "outputs": [],
      "source": [
        "# Hapus data duplikat\n",
        "df.drop_duplicates(inplace=True)"
      ]
    },
    {
      "cell_type": "code",
      "execution_count": 7,
      "metadata": {},
      "outputs": [
        {
          "data": {
            "text/plain": [
              "0"
            ]
          },
          "execution_count": 7,
          "metadata": {},
          "output_type": "execute_result"
        }
      ],
      "source": [
        "# periksa data duplicate\n",
        "df.duplicated().sum()"
      ]
    },
    {
      "cell_type": "code",
      "execution_count": 8,
      "metadata": {},
      "outputs": [],
      "source": [
        "df.rename({'ValueEUR': 'Price',\n",
        "           'Overall': 'Rating'}, axis=1,inplace=True)"
      ]
    },
    {
      "cell_type": "code",
      "execution_count": 9,
      "metadata": {},
      "outputs": [
        {
          "data": {
            "text/html": [
              "<div>\n",
              "<style scoped>\n",
              "    .dataframe tbody tr th:only-of-type {\n",
              "        vertical-align: middle;\n",
              "    }\n",
              "\n",
              "    .dataframe tbody tr th {\n",
              "        vertical-align: top;\n",
              "    }\n",
              "\n",
              "    .dataframe thead th {\n",
              "        text-align: right;\n",
              "    }\n",
              "</style>\n",
              "<table border=\"1\" class=\"dataframe\">\n",
              "  <thead>\n",
              "    <tr style=\"text-align: right;\">\n",
              "      <th></th>\n",
              "      <th>Age</th>\n",
              "      <th>Height</th>\n",
              "      <th>Weight</th>\n",
              "      <th>Price</th>\n",
              "      <th>PaceTotal</th>\n",
              "      <th>ShootingTotal</th>\n",
              "      <th>PassingTotal</th>\n",
              "      <th>DribblingTotal</th>\n",
              "      <th>DefendingTotal</th>\n",
              "      <th>PhysicalityTotal</th>\n",
              "      <th>Rating</th>\n",
              "    </tr>\n",
              "  </thead>\n",
              "  <tbody>\n",
              "    <tr>\n",
              "      <th>count</th>\n",
              "      <td>19156.000000</td>\n",
              "      <td>19156.000000</td>\n",
              "      <td>19156.000000</td>\n",
              "      <td>1.915600e+04</td>\n",
              "      <td>19156.000000</td>\n",
              "      <td>19156.000000</td>\n",
              "      <td>19156.000000</td>\n",
              "      <td>19156.000000</td>\n",
              "      <td>19156.000000</td>\n",
              "      <td>19156.000000</td>\n",
              "      <td>19156.000000</td>\n",
              "    </tr>\n",
              "    <tr>\n",
              "      <th>mean</th>\n",
              "      <td>25.190750</td>\n",
              "      <td>181.304865</td>\n",
              "      <td>74.953226</td>\n",
              "      <td>2.825776e+06</td>\n",
              "      <td>67.873095</td>\n",
              "      <td>53.499478</td>\n",
              "      <td>57.805857</td>\n",
              "      <td>62.978545</td>\n",
              "      <td>50.012842</td>\n",
              "      <td>64.644968</td>\n",
              "      <td>65.765765</td>\n",
              "    </tr>\n",
              "    <tr>\n",
              "      <th>std</th>\n",
              "      <td>4.743117</td>\n",
              "      <td>6.865032</td>\n",
              "      <td>7.068063</td>\n",
              "      <td>7.609954e+06</td>\n",
              "      <td>10.654588</td>\n",
              "      <td>13.806390</td>\n",
              "      <td>9.828530</td>\n",
              "      <td>9.691676</td>\n",
              "      <td>16.367141</td>\n",
              "      <td>9.626229</td>\n",
              "      <td>6.802014</td>\n",
              "    </tr>\n",
              "    <tr>\n",
              "      <th>min</th>\n",
              "      <td>16.000000</td>\n",
              "      <td>155.000000</td>\n",
              "      <td>49.000000</td>\n",
              "      <td>0.000000e+00</td>\n",
              "      <td>28.000000</td>\n",
              "      <td>18.000000</td>\n",
              "      <td>25.000000</td>\n",
              "      <td>26.000000</td>\n",
              "      <td>14.000000</td>\n",
              "      <td>29.000000</td>\n",
              "      <td>48.000000</td>\n",
              "    </tr>\n",
              "    <tr>\n",
              "      <th>25%</th>\n",
              "      <td>21.000000</td>\n",
              "      <td>176.000000</td>\n",
              "      <td>70.000000</td>\n",
              "      <td>4.750000e+05</td>\n",
              "      <td>62.000000</td>\n",
              "      <td>44.000000</td>\n",
              "      <td>51.000000</td>\n",
              "      <td>58.000000</td>\n",
              "      <td>35.000000</td>\n",
              "      <td>58.000000</td>\n",
              "      <td>61.000000</td>\n",
              "    </tr>\n",
              "    <tr>\n",
              "      <th>50%</th>\n",
              "      <td>25.000000</td>\n",
              "      <td>181.000000</td>\n",
              "      <td>75.000000</td>\n",
              "      <td>9.750000e+05</td>\n",
              "      <td>68.000000</td>\n",
              "      <td>56.000000</td>\n",
              "      <td>58.000000</td>\n",
              "      <td>64.000000</td>\n",
              "      <td>54.000000</td>\n",
              "      <td>66.000000</td>\n",
              "      <td>66.000000</td>\n",
              "    </tr>\n",
              "    <tr>\n",
              "      <th>75%</th>\n",
              "      <td>29.000000</td>\n",
              "      <td>186.000000</td>\n",
              "      <td>80.000000</td>\n",
              "      <td>2.000000e+06</td>\n",
              "      <td>75.000000</td>\n",
              "      <td>64.000000</td>\n",
              "      <td>64.000000</td>\n",
              "      <td>69.000000</td>\n",
              "      <td>63.000000</td>\n",
              "      <td>72.000000</td>\n",
              "      <td>70.000000</td>\n",
              "    </tr>\n",
              "    <tr>\n",
              "      <th>max</th>\n",
              "      <td>54.000000</td>\n",
              "      <td>206.000000</td>\n",
              "      <td>110.000000</td>\n",
              "      <td>1.940000e+08</td>\n",
              "      <td>97.000000</td>\n",
              "      <td>94.000000</td>\n",
              "      <td>93.000000</td>\n",
              "      <td>95.000000</td>\n",
              "      <td>91.000000</td>\n",
              "      <td>92.000000</td>\n",
              "      <td>93.000000</td>\n",
              "    </tr>\n",
              "  </tbody>\n",
              "</table>\n",
              "</div>"
            ],
            "text/plain": [
              "                Age        Height        Weight         Price     PaceTotal  \\\n",
              "count  19156.000000  19156.000000  19156.000000  1.915600e+04  19156.000000   \n",
              "mean      25.190750    181.304865     74.953226  2.825776e+06     67.873095   \n",
              "std        4.743117      6.865032      7.068063  7.609954e+06     10.654588   \n",
              "min       16.000000    155.000000     49.000000  0.000000e+00     28.000000   \n",
              "25%       21.000000    176.000000     70.000000  4.750000e+05     62.000000   \n",
              "50%       25.000000    181.000000     75.000000  9.750000e+05     68.000000   \n",
              "75%       29.000000    186.000000     80.000000  2.000000e+06     75.000000   \n",
              "max       54.000000    206.000000    110.000000  1.940000e+08     97.000000   \n",
              "\n",
              "       ShootingTotal  PassingTotal  DribblingTotal  DefendingTotal  \\\n",
              "count   19156.000000  19156.000000    19156.000000    19156.000000   \n",
              "mean       53.499478     57.805857       62.978545       50.012842   \n",
              "std        13.806390      9.828530        9.691676       16.367141   \n",
              "min        18.000000     25.000000       26.000000       14.000000   \n",
              "25%        44.000000     51.000000       58.000000       35.000000   \n",
              "50%        56.000000     58.000000       64.000000       54.000000   \n",
              "75%        64.000000     64.000000       69.000000       63.000000   \n",
              "max        94.000000     93.000000       95.000000       91.000000   \n",
              "\n",
              "       PhysicalityTotal        Rating  \n",
              "count      19156.000000  19156.000000  \n",
              "mean          64.644968     65.765765  \n",
              "std            9.626229      6.802014  \n",
              "min           29.000000     48.000000  \n",
              "25%           58.000000     61.000000  \n",
              "50%           66.000000     66.000000  \n",
              "75%           72.000000     70.000000  \n",
              "max           92.000000     93.000000  "
            ]
          },
          "execution_count": 9,
          "metadata": {},
          "output_type": "execute_result"
        }
      ],
      "source": [
        "df.describe()"
      ]
    },
    {
      "cell_type": "markdown",
      "metadata": {
        "id": "XeaY9FeztNi1"
      },
      "source": [
        "## 4. Exploratary Data Analysis (EDA)\n",
        "\n",
        ">Bagian ini berisi eksplorasi data pada dataset diatas dengan menggunakan query, grouping, visualisasi sederhana, dan lain sebagainya.\n",
        "\n",
        "\n",
        "GC & milestone > 5-7\n"
      ]
    },
    {
      "cell_type": "markdown",
      "metadata": {},
      "source": [
        "> Insight visualisasi / eksplorasi yang bagus\n",
        "- jelaskan apa yang dapat diidentifikasi dari plot/viz\n",
        "- kenapa seperti itu\n",
        "- apa yang dapat dilakukan dari informasi tersebut"
      ]
    },
    {
      "cell_type": "code",
      "execution_count": 10,
      "metadata": {},
      "outputs": [
        {
          "data": {
            "text/plain": [
              "<Axes: xlabel='Rating', ylabel='Count'>"
            ]
          },
          "execution_count": 10,
          "metadata": {},
          "output_type": "execute_result"
        },
        {
          "data": {
            "image/png": "[encoded data removed]",
            "text/plain": [
              "<Figure size 640x480 with 1 Axes>"
            ]
          },
          "metadata": {},
          "output_type": "display_data"
        }
      ],
      "source": [
        "# Bagaimana Distribusi rating pemain FIFA 2022\n",
        "\n",
        "sns.histplot(data=df, x='Rating', bins=20, hue='AttackingWorkRate')"
      ]
    },
    {
      "cell_type": "code",
      "execution_count": 11,
      "metadata": {},
      "outputs": [
        {
          "data": {
            "text/plain": [
              "<Axes: xlabel='Price', ylabel='Rating'>"
            ]
          },
          "execution_count": 11,
          "metadata": {},
          "output_type": "execute_result"
        },
        {
          "data": {
            "image/png": "[encoded data removed]",
            "text/plain": [
              "<Figure size 640x480 with 1 Axes>"
            ]
          },
          "metadata": {},
          "output_type": "display_data"
        }
      ],
      "source": [
        "sns.scatterplot(data=df, x='Price', y='Rating')"
      ]
    },
    {
      "cell_type": "markdown",
      "metadata": {
        "id": "3UkScDKSvI-W"
      },
      "source": [
        "## 5. Feature Engineering\n",
        "\n",
        "> Bagian ini berisi proses penyiapan data untuk proses pelatihan model, seperti pembagian data menjadi train-test, transformasi data (normalisasi, encoding, dll.), dan proses-proses lain yang dibutuhkan.\n",
        "\n"
      ]
    },
    {
      "cell_type": "code",
      "execution_count": 12,
      "metadata": {},
      "outputs": [],
      "source": [
        "data = df.copy()"
      ]
    },
    {
      "cell_type": "markdown",
      "metadata": {
        "id": "PuBdPhufvi1Y"
      },
      "source": [
        "### Split between X (features) and y (Target)"
      ]
    },
    {
      "cell_type": "code",
      "execution_count": 13,
      "metadata": {},
      "outputs": [],
      "source": [
        "# drop target dari fitur\n",
        "X = data.drop('Rating', axis=1)\n",
        "\n",
        "# memilih kolom target\n",
        "y = data['Rating']"
      ]
    },
    {
      "cell_type": "markdown",
      "metadata": {
        "id": "0LtmAYsUwQPU"
      },
      "source": [
        "### Split between Train-set and Test-set\n"
      ]
    },
    {
      "cell_type": "code",
      "execution_count": 14,
      "metadata": {},
      "outputs": [],
      "source": [
        "from sklearn.model_selection import train_test_split"
      ]
    },
    {
      "cell_type": "code",
      "execution_count": 15,
      "metadata": {},
      "outputs": [
        {
          "name": "stdout",
          "output_type": "stream",
          "text": [
            "(15324, 13)\n",
            "(15324,)\n",
            "(3832, 13)\n",
            "(3832,)\n"
          ]
        }
      ],
      "source": [
        "# split antara train dan test\n",
        "X_train, X_test, y_train, y_test = train_test_split(X, y,\n",
        "                                                    test_size=0.2,\n",
        "                                                    random_state= 42)\n",
        "\n",
        "print(X_train.shape)\n",
        "print(y_train.shape)\n",
        "print(X_test.shape)\n",
        "print(y_test.shape)"
      ]
    },
    {
      "cell_type": "markdown",
      "metadata": {
        "id": "PIMHLSc2ycE0"
      },
      "source": [
        "### Handle Outlier\n",
        "\n",
        "> akan dijelaskan pada pertemuan rabu"
      ]
    },
    {
      "cell_type": "markdown",
      "metadata": {
        "id": "5nVfASIFyjAz"
      },
      "source": [
        "### Handle Missing Value\n",
        "\n",
        "> akan dijelaskan pada pertemuan Rabu"
      ]
    },
    {
      "cell_type": "markdown",
      "metadata": {
        "id": "jzMeEyN1zhtc"
      },
      "source": [
        "### Feature Selection\n",
        "\n",
        "> akan dijelaskan pada pertemuan Rabu\n",
        "- pearson, spearman, anova, chi square"
      ]
    },
    {
      "cell_type": "markdown",
      "metadata": {},
      "source": [
        "Berdasarkan pengetahuan, tidak ada hubungannya antara nama dengan rating pemain. Kolom nama akan di hapus dari fitur"
      ]
    },
    {
      "cell_type": "markdown",
      "metadata": {},
      "source": [
        "> apapun yang dilakukan di train set, lakukan juga di test set."
      ]
    },
    {
      "cell_type": "code",
      "execution_count": 16,
      "metadata": {},
      "outputs": [],
      "source": [
        "X_train.drop('Name', axis=1, inplace=True)\n",
        "X_test.drop('Name', axis = 1, inplace=True)"
      ]
    },
    {
      "cell_type": "code",
      "execution_count": 17,
      "metadata": {},
      "outputs": [
        {
          "data": {
            "text/plain": [
              "['Age',\n",
              " 'Height',\n",
              " 'Weight',\n",
              " 'Price',\n",
              " 'AttackingWorkRate',\n",
              " 'DefensiveWorkRate',\n",
              " 'PaceTotal',\n",
              " 'ShootingTotal',\n",
              " 'PassingTotal',\n",
              " 'DribblingTotal',\n",
              " 'DefendingTotal',\n",
              " 'PhysicalityTotal']"
            ]
          },
          "execution_count": 17,
          "metadata": {},
          "output_type": "execute_result"
        }
      ],
      "source": [
        "X_train.columns.tolist()"
      ]
    },
    {
      "cell_type": "markdown",
      "metadata": {
        "id": "0C4V33hc17Jr"
      },
      "source": [
        "### Split between Numeric Columns and Category Columns"
      ]
    },
    {
      "cell_type": "code",
      "execution_count": 18,
      "metadata": {},
      "outputs": [],
      "source": [
        "numerical_columns = X_train.select_dtypes(include=np.number).columns.tolist()\n",
        "categorical_columns = X_train.select_dtypes(include=object).columns.tolist()"
      ]
    },
    {
      "cell_type": "markdown",
      "metadata": {
        "id": "a7bU5edY5DK1"
      },
      "source": [
        "### Feature Scaling\n",
        "\n",
        "> Jelaskan penggunaan teknik scaling tertentu digunakan terhadap kolom apa saja, dan kenapa"
      ]
    },
    {
      "cell_type": "markdown",
      "metadata": {},
      "source": [
        "misalkan diidentifikasi bahwa kolom numerik lebih cocok menggunakan minmaxscaler (jelaskan kenapa)"
      ]
    },
    {
      "cell_type": "code",
      "execution_count": 19,
      "metadata": {},
      "outputs": [],
      "source": [
        "from sklearn.preprocessing import MinMaxScaler #, StandardScaler, RobustScaler"
      ]
    },
    {
      "cell_type": "code",
      "execution_count": 20,
      "metadata": {},
      "outputs": [],
      "source": [
        "# buat objek scaler\n",
        "scaler = MinMaxScaler()\n",
        "\n",
        "# fit terhadap data train yang numerik saja\n",
        "scaler.fit(X_train[numerical_columns])\n",
        "# transform terhadap data train yang numerik saja\n",
        "X_train_scaled = scaler.transform(X_train[numerical_columns])\n",
        "\n",
        "# transform terhadapt test set yang numerik saja\n",
        "X_test_scaled = scaler.transform(X_test[numerical_columns])\n"
      ]
    },
    {
      "cell_type": "code",
      "execution_count": 21,
      "metadata": {},
      "outputs": [
        {
          "data": {
            "text/html": [
              "<div>\n",
              "<style scoped>\n",
              "    .dataframe tbody tr th:only-of-type {\n",
              "        vertical-align: middle;\n",
              "    }\n",
              "\n",
              "    .dataframe tbody tr th {\n",
              "        vertical-align: top;\n",
              "    }\n",
              "\n",
              "    .dataframe thead th {\n",
              "        text-align: right;\n",
              "    }\n",
              "</style>\n",
              "<table border=\"1\" class=\"dataframe\">\n",
              "  <thead>\n",
              "    <tr style=\"text-align: right;\">\n",
              "      <th></th>\n",
              "      <th>Age</th>\n",
              "      <th>Height</th>\n",
              "      <th>Weight</th>\n",
              "      <th>Price</th>\n",
              "      <th>PaceTotal</th>\n",
              "      <th>ShootingTotal</th>\n",
              "      <th>PassingTotal</th>\n",
              "      <th>DribblingTotal</th>\n",
              "      <th>DefendingTotal</th>\n",
              "      <th>PhysicalityTotal</th>\n",
              "    </tr>\n",
              "  </thead>\n",
              "  <tbody>\n",
              "    <tr>\n",
              "      <th>0</th>\n",
              "      <td>0.184211</td>\n",
              "      <td>0.431373</td>\n",
              "      <td>0.377049</td>\n",
              "      <td>0.022545</td>\n",
              "      <td>0.955882</td>\n",
              "      <td>0.552632</td>\n",
              "      <td>0.514706</td>\n",
              "      <td>0.661538</td>\n",
              "      <td>0.324675</td>\n",
              "      <td>0.491803</td>\n",
              "    </tr>\n",
              "    <tr>\n",
              "      <th>1</th>\n",
              "      <td>0.184211</td>\n",
              "      <td>0.470588</td>\n",
              "      <td>0.377049</td>\n",
              "      <td>0.283636</td>\n",
              "      <td>0.750000</td>\n",
              "      <td>0.736842</td>\n",
              "      <td>0.823529</td>\n",
              "      <td>0.907692</td>\n",
              "      <td>0.714286</td>\n",
              "      <td>0.557377</td>\n",
              "    </tr>\n",
              "    <tr>\n",
              "      <th>2</th>\n",
              "      <td>0.394737</td>\n",
              "      <td>0.392157</td>\n",
              "      <td>0.360656</td>\n",
              "      <td>0.004364</td>\n",
              "      <td>0.764706</td>\n",
              "      <td>0.565789</td>\n",
              "      <td>0.470588</td>\n",
              "      <td>0.600000</td>\n",
              "      <td>0.363636</td>\n",
              "      <td>0.524590</td>\n",
              "    </tr>\n",
              "    <tr>\n",
              "      <th>3</th>\n",
              "      <td>0.289474</td>\n",
              "      <td>0.529412</td>\n",
              "      <td>0.393443</td>\n",
              "      <td>0.003636</td>\n",
              "      <td>0.750000</td>\n",
              "      <td>0.460526</td>\n",
              "      <td>0.485294</td>\n",
              "      <td>0.584615</td>\n",
              "      <td>0.493506</td>\n",
              "      <td>0.573770</td>\n",
              "    </tr>\n",
              "    <tr>\n",
              "      <th>4</th>\n",
              "      <td>0.289474</td>\n",
              "      <td>0.470588</td>\n",
              "      <td>0.426230</td>\n",
              "      <td>0.035636</td>\n",
              "      <td>0.735294</td>\n",
              "      <td>0.671053</td>\n",
              "      <td>0.691176</td>\n",
              "      <td>0.753846</td>\n",
              "      <td>0.506494</td>\n",
              "      <td>0.606557</td>\n",
              "    </tr>\n",
              "    <tr>\n",
              "      <th>...</th>\n",
              "      <td>...</td>\n",
              "      <td>...</td>\n",
              "      <td>...</td>\n",
              "      <td>...</td>\n",
              "      <td>...</td>\n",
              "      <td>...</td>\n",
              "      <td>...</td>\n",
              "      <td>...</td>\n",
              "      <td>...</td>\n",
              "      <td>...</td>\n",
              "    </tr>\n",
              "    <tr>\n",
              "      <th>15319</th>\n",
              "      <td>0.342105</td>\n",
              "      <td>0.549020</td>\n",
              "      <td>0.508197</td>\n",
              "      <td>0.003636</td>\n",
              "      <td>0.426471</td>\n",
              "      <td>0.434211</td>\n",
              "      <td>0.500000</td>\n",
              "      <td>0.507692</td>\n",
              "      <td>0.610390</td>\n",
              "      <td>0.721311</td>\n",
              "    </tr>\n",
              "    <tr>\n",
              "      <th>15320</th>\n",
              "      <td>0.368421</td>\n",
              "      <td>0.411765</td>\n",
              "      <td>0.409836</td>\n",
              "      <td>0.003636</td>\n",
              "      <td>0.514706</td>\n",
              "      <td>0.421053</td>\n",
              "      <td>0.500000</td>\n",
              "      <td>0.584615</td>\n",
              "      <td>0.636364</td>\n",
              "      <td>0.590164</td>\n",
              "    </tr>\n",
              "    <tr>\n",
              "      <th>15321</th>\n",
              "      <td>0.342105</td>\n",
              "      <td>0.509804</td>\n",
              "      <td>0.442623</td>\n",
              "      <td>0.010182</td>\n",
              "      <td>0.808824</td>\n",
              "      <td>0.671053</td>\n",
              "      <td>0.544118</td>\n",
              "      <td>0.661538</td>\n",
              "      <td>0.324675</td>\n",
              "      <td>0.540984</td>\n",
              "    </tr>\n",
              "    <tr>\n",
              "      <th>15322</th>\n",
              "      <td>0.184211</td>\n",
              "      <td>0.450980</td>\n",
              "      <td>0.295082</td>\n",
              "      <td>0.120000</td>\n",
              "      <td>0.720588</td>\n",
              "      <td>0.671053</td>\n",
              "      <td>0.705882</td>\n",
              "      <td>0.846154</td>\n",
              "      <td>0.428571</td>\n",
              "      <td>0.606557</td>\n",
              "    </tr>\n",
              "    <tr>\n",
              "      <th>15323</th>\n",
              "      <td>0.184211</td>\n",
              "      <td>0.117647</td>\n",
              "      <td>0.163934</td>\n",
              "      <td>0.002727</td>\n",
              "      <td>0.691176</td>\n",
              "      <td>0.447368</td>\n",
              "      <td>0.455882</td>\n",
              "      <td>0.630769</td>\n",
              "      <td>0.181818</td>\n",
              "      <td>0.213115</td>\n",
              "    </tr>\n",
              "  </tbody>\n",
              "</table>\n",
              "<p>15324 rows × 10 columns</p>\n",
              "</div>"
            ],
            "text/plain": [
              "            Age    Height    Weight     Price  PaceTotal  ShootingTotal  \\\n",
              "0      0.184211  0.431373  0.377049  0.022545   0.955882       0.552632   \n",
              "1      0.184211  0.470588  0.377049  0.283636   0.750000       0.736842   \n",
              "2      0.394737  0.392157  0.360656  0.004364   0.764706       0.565789   \n",
              "3      0.289474  0.529412  0.393443  0.003636   0.750000       0.460526   \n",
              "4      0.289474  0.470588  0.426230  0.035636   0.735294       0.671053   \n",
              "...         ...       ...       ...       ...        ...            ...   \n",
              "15319  0.342105  0.549020  0.508197  0.003636   0.426471       0.434211   \n",
              "15320  0.368421  0.411765  0.409836  0.003636   0.514706       0.421053   \n",
              "15321  0.342105  0.509804  0.442623  0.010182   0.808824       0.671053   \n",
              "15322  0.184211  0.450980  0.295082  0.120000   0.720588       0.671053   \n",
              "15323  0.184211  0.117647  0.163934  0.002727   0.691176       0.447368   \n",
              "\n",
              "       PassingTotal  DribblingTotal  DefendingTotal  PhysicalityTotal  \n",
              "0          0.514706        0.661538        0.324675          0.491803  \n",
              "1          0.823529        0.907692        0.714286          0.557377  \n",
              "2          0.470588        0.600000        0.363636          0.524590  \n",
              "3          0.485294        0.584615        0.493506          0.573770  \n",
              "4          0.691176        0.753846        0.506494          0.606557  \n",
              "...             ...             ...             ...               ...  \n",
              "15319      0.500000        0.507692        0.610390          0.721311  \n",
              "15320      0.500000        0.584615        0.636364          0.590164  \n",
              "15321      0.544118        0.661538        0.324675          0.540984  \n",
              "15322      0.705882        0.846154        0.428571          0.606557  \n",
              "15323      0.455882        0.630769        0.181818          0.213115  \n",
              "\n",
              "[15324 rows x 10 columns]"
            ]
          },
          "execution_count": 21,
          "metadata": {},
          "output_type": "execute_result"
        }
      ],
      "source": [
        "# memperlihatkan hasil scaling terhadap fitur numerik\n",
        "pd.DataFrame(X_train_scaled, columns=numerical_columns)"
      ]
    },
    {
      "cell_type": "markdown",
      "metadata": {
        "id": "CiupNwOr7QWP"
      },
      "source": [
        "### Feature Encoding\n",
        "\n",
        "> jelaskan kenapa pilih teknik encoding tersebut"
      ]
    },
    {
      "cell_type": "markdown",
      "metadata": {},
      "source": [
        "Karena semua fitur kategori merupakan kategori ordinal, maka akan dilakukan encoding dengan Ordinal Encoder"
      ]
    },
    {
      "cell_type": "code",
      "execution_count": 22,
      "metadata": {},
      "outputs": [],
      "source": [
        "from sklearn.preprocessing import OrdinalEncoder  ,OneHotEncoder"
      ]
    },
    {
      "cell_type": "code",
      "execution_count": 23,
      "metadata": {},
      "outputs": [],
      "source": [
        "cat_scale = ['Low', 'Medium', 'High']\n",
        "encoder = OrdinalEncoder(categories=[cat_scale, cat_scale])\n",
        "\n",
        "# fit terhadap data train yang ordinal saja\n",
        "encoder.fit(X_train[categorical_columns])\n",
        "# transform terhadap data train yang ordinal saja\n",
        "X_train_encoded = encoder.transform(X_train[categorical_columns])\n",
        "\n",
        "# transform terhadapt test set yang ordinal saja\n",
        "X_test_encoded = encoder.transform(X_test[categorical_columns])"
      ]
    },
    {
      "cell_type": "code",
      "execution_count": 24,
      "metadata": {},
      "outputs": [
        {
          "data": {
            "text/html": [
              "<div>\n",
              "<style scoped>\n",
              "    .dataframe tbody tr th:only-of-type {\n",
              "        vertical-align: middle;\n",
              "    }\n",
              "\n",
              "    .dataframe tbody tr th {\n",
              "        vertical-align: top;\n",
              "    }\n",
              "\n",
              "    .dataframe thead th {\n",
              "        text-align: right;\n",
              "    }\n",
              "</style>\n",
              "<table border=\"1\" class=\"dataframe\">\n",
              "  <thead>\n",
              "    <tr style=\"text-align: right;\">\n",
              "      <th></th>\n",
              "      <th>AttackingWorkRate</th>\n",
              "      <th>DefensiveWorkRate</th>\n",
              "    </tr>\n",
              "  </thead>\n",
              "  <tbody>\n",
              "    <tr>\n",
              "      <th>0</th>\n",
              "      <td>2.0</td>\n",
              "      <td>1.0</td>\n",
              "    </tr>\n",
              "    <tr>\n",
              "      <th>1</th>\n",
              "      <td>1.0</td>\n",
              "      <td>1.0</td>\n",
              "    </tr>\n",
              "    <tr>\n",
              "      <th>2</th>\n",
              "      <td>1.0</td>\n",
              "      <td>1.0</td>\n",
              "    </tr>\n",
              "    <tr>\n",
              "      <th>3</th>\n",
              "      <td>2.0</td>\n",
              "      <td>2.0</td>\n",
              "    </tr>\n",
              "    <tr>\n",
              "      <th>4</th>\n",
              "      <td>2.0</td>\n",
              "      <td>2.0</td>\n",
              "    </tr>\n",
              "    <tr>\n",
              "      <th>...</th>\n",
              "      <td>...</td>\n",
              "      <td>...</td>\n",
              "    </tr>\n",
              "    <tr>\n",
              "      <th>15319</th>\n",
              "      <td>1.0</td>\n",
              "      <td>2.0</td>\n",
              "    </tr>\n",
              "    <tr>\n",
              "      <th>15320</th>\n",
              "      <td>1.0</td>\n",
              "      <td>2.0</td>\n",
              "    </tr>\n",
              "    <tr>\n",
              "      <th>15321</th>\n",
              "      <td>2.0</td>\n",
              "      <td>0.0</td>\n",
              "    </tr>\n",
              "    <tr>\n",
              "      <th>15322</th>\n",
              "      <td>1.0</td>\n",
              "      <td>1.0</td>\n",
              "    </tr>\n",
              "    <tr>\n",
              "      <th>15323</th>\n",
              "      <td>1.0</td>\n",
              "      <td>1.0</td>\n",
              "    </tr>\n",
              "  </tbody>\n",
              "</table>\n",
              "<p>15324 rows × 2 columns</p>\n",
              "</div>"
            ],
            "text/plain": [
              "       AttackingWorkRate  DefensiveWorkRate\n",
              "0                    2.0                1.0\n",
              "1                    1.0                1.0\n",
              "2                    1.0                1.0\n",
              "3                    2.0                2.0\n",
              "4                    2.0                2.0\n",
              "...                  ...                ...\n",
              "15319                1.0                2.0\n",
              "15320                1.0                2.0\n",
              "15321                2.0                0.0\n",
              "15322                1.0                1.0\n",
              "15323                1.0                1.0\n",
              "\n",
              "[15324 rows x 2 columns]"
            ]
          },
          "execution_count": 24,
          "metadata": {},
          "output_type": "execute_result"
        }
      ],
      "source": [
        "pd.DataFrame(X_train_encoded, columns=categorical_columns)"
      ]
    },
    {
      "cell_type": "markdown",
      "metadata": {
        "id": "KZDtU_6i92Md"
      },
      "source": [
        "### Concate Between Numeric Columns and Categorical Columns"
      ]
    },
    {
      "cell_type": "code",
      "execution_count": 25,
      "metadata": {},
      "outputs": [],
      "source": [
        "X_train_final = np.concatenate([X_train_scaled, X_train_encoded], axis = 1)\n",
        "\n",
        "X_test_final = np.concatenate([X_test_scaled, X_test_encoded], axis = 1)"
      ]
    },
    {
      "cell_type": "code",
      "execution_count": 26,
      "metadata": {},
      "outputs": [
        {
          "data": {
            "text/html": [
              "<div>\n",
              "<style scoped>\n",
              "    .dataframe tbody tr th:only-of-type {\n",
              "        vertical-align: middle;\n",
              "    }\n",
              "\n",
              "    .dataframe tbody tr th {\n",
              "        vertical-align: top;\n",
              "    }\n",
              "\n",
              "    .dataframe thead th {\n",
              "        text-align: right;\n",
              "    }\n",
              "</style>\n",
              "<table border=\"1\" class=\"dataframe\">\n",
              "  <thead>\n",
              "    <tr style=\"text-align: right;\">\n",
              "      <th></th>\n",
              "      <th>Age</th>\n",
              "      <th>Height</th>\n",
              "      <th>Weight</th>\n",
              "      <th>Price</th>\n",
              "      <th>PaceTotal</th>\n",
              "      <th>ShootingTotal</th>\n",
              "      <th>PassingTotal</th>\n",
              "      <th>DribblingTotal</th>\n",
              "      <th>DefendingTotal</th>\n",
              "      <th>PhysicalityTotal</th>\n",
              "      <th>AttackingWorkRate</th>\n",
              "      <th>DefensiveWorkRate</th>\n",
              "    </tr>\n",
              "  </thead>\n",
              "  <tbody>\n",
              "    <tr>\n",
              "      <th>0</th>\n",
              "      <td>0.184211</td>\n",
              "      <td>0.431373</td>\n",
              "      <td>0.377049</td>\n",
              "      <td>0.022545</td>\n",
              "      <td>0.955882</td>\n",
              "      <td>0.552632</td>\n",
              "      <td>0.514706</td>\n",
              "      <td>0.661538</td>\n",
              "      <td>0.324675</td>\n",
              "      <td>0.491803</td>\n",
              "      <td>2.0</td>\n",
              "      <td>1.0</td>\n",
              "    </tr>\n",
              "    <tr>\n",
              "      <th>1</th>\n",
              "      <td>0.184211</td>\n",
              "      <td>0.470588</td>\n",
              "      <td>0.377049</td>\n",
              "      <td>0.283636</td>\n",
              "      <td>0.750000</td>\n",
              "      <td>0.736842</td>\n",
              "      <td>0.823529</td>\n",
              "      <td>0.907692</td>\n",
              "      <td>0.714286</td>\n",
              "      <td>0.557377</td>\n",
              "      <td>1.0</td>\n",
              "      <td>1.0</td>\n",
              "    </tr>\n",
              "    <tr>\n",
              "      <th>2</th>\n",
              "      <td>0.394737</td>\n",
              "      <td>0.392157</td>\n",
              "      <td>0.360656</td>\n",
              "      <td>0.004364</td>\n",
              "      <td>0.764706</td>\n",
              "      <td>0.565789</td>\n",
              "      <td>0.470588</td>\n",
              "      <td>0.600000</td>\n",
              "      <td>0.363636</td>\n",
              "      <td>0.524590</td>\n",
              "      <td>1.0</td>\n",
              "      <td>1.0</td>\n",
              "    </tr>\n",
              "    <tr>\n",
              "      <th>3</th>\n",
              "      <td>0.289474</td>\n",
              "      <td>0.529412</td>\n",
              "      <td>0.393443</td>\n",
              "      <td>0.003636</td>\n",
              "      <td>0.750000</td>\n",
              "      <td>0.460526</td>\n",
              "      <td>0.485294</td>\n",
              "      <td>0.584615</td>\n",
              "      <td>0.493506</td>\n",
              "      <td>0.573770</td>\n",
              "      <td>2.0</td>\n",
              "      <td>2.0</td>\n",
              "    </tr>\n",
              "    <tr>\n",
              "      <th>4</th>\n",
              "      <td>0.289474</td>\n",
              "      <td>0.470588</td>\n",
              "      <td>0.426230</td>\n",
              "      <td>0.035636</td>\n",
              "      <td>0.735294</td>\n",
              "      <td>0.671053</td>\n",
              "      <td>0.691176</td>\n",
              "      <td>0.753846</td>\n",
              "      <td>0.506494</td>\n",
              "      <td>0.606557</td>\n",
              "      <td>2.0</td>\n",
              "      <td>2.0</td>\n",
              "    </tr>\n",
              "    <tr>\n",
              "      <th>...</th>\n",
              "      <td>...</td>\n",
              "      <td>...</td>\n",
              "      <td>...</td>\n",
              "      <td>...</td>\n",
              "      <td>...</td>\n",
              "      <td>...</td>\n",
              "      <td>...</td>\n",
              "      <td>...</td>\n",
              "      <td>...</td>\n",
              "      <td>...</td>\n",
              "      <td>...</td>\n",
              "      <td>...</td>\n",
              "    </tr>\n",
              "    <tr>\n",
              "      <th>15319</th>\n",
              "      <td>0.342105</td>\n",
              "      <td>0.549020</td>\n",
              "      <td>0.508197</td>\n",
              "      <td>0.003636</td>\n",
              "      <td>0.426471</td>\n",
              "      <td>0.434211</td>\n",
              "      <td>0.500000</td>\n",
              "      <td>0.507692</td>\n",
              "      <td>0.610390</td>\n",
              "      <td>0.721311</td>\n",
              "      <td>1.0</td>\n",
              "      <td>2.0</td>\n",
              "    </tr>\n",
              "    <tr>\n",
              "      <th>15320</th>\n",
              "      <td>0.368421</td>\n",
              "      <td>0.411765</td>\n",
              "      <td>0.409836</td>\n",
              "      <td>0.003636</td>\n",
              "      <td>0.514706</td>\n",
              "      <td>0.421053</td>\n",
              "      <td>0.500000</td>\n",
              "      <td>0.584615</td>\n",
              "      <td>0.636364</td>\n",
              "      <td>0.590164</td>\n",
              "      <td>1.0</td>\n",
              "      <td>2.0</td>\n",
              "    </tr>\n",
              "    <tr>\n",
              "      <th>15321</th>\n",
              "      <td>0.342105</td>\n",
              "      <td>0.509804</td>\n",
              "      <td>0.442623</td>\n",
              "      <td>0.010182</td>\n",
              "      <td>0.808824</td>\n",
              "      <td>0.671053</td>\n",
              "      <td>0.544118</td>\n",
              "      <td>0.661538</td>\n",
              "      <td>0.324675</td>\n",
              "      <td>0.540984</td>\n",
              "      <td>2.0</td>\n",
              "      <td>0.0</td>\n",
              "    </tr>\n",
              "    <tr>\n",
              "      <th>15322</th>\n",
              "      <td>0.184211</td>\n",
              "      <td>0.450980</td>\n",
              "      <td>0.295082</td>\n",
              "      <td>0.120000</td>\n",
              "      <td>0.720588</td>\n",
              "      <td>0.671053</td>\n",
              "      <td>0.705882</td>\n",
              "      <td>0.846154</td>\n",
              "      <td>0.428571</td>\n",
              "      <td>0.606557</td>\n",
              "      <td>1.0</td>\n",
              "      <td>1.0</td>\n",
              "    </tr>\n",
              "    <tr>\n",
              "      <th>15323</th>\n",
              "      <td>0.184211</td>\n",
              "      <td>0.117647</td>\n",
              "      <td>0.163934</td>\n",
              "      <td>0.002727</td>\n",
              "      <td>0.691176</td>\n",
              "      <td>0.447368</td>\n",
              "      <td>0.455882</td>\n",
              "      <td>0.630769</td>\n",
              "      <td>0.181818</td>\n",
              "      <td>0.213115</td>\n",
              "      <td>1.0</td>\n",
              "      <td>1.0</td>\n",
              "    </tr>\n",
              "  </tbody>\n",
              "</table>\n",
              "<p>15324 rows × 12 columns</p>\n",
              "</div>"
            ],
            "text/plain": [
              "            Age    Height    Weight     Price  PaceTotal  ShootingTotal  \\\n",
              "0      0.184211  0.431373  0.377049  0.022545   0.955882       0.552632   \n",
              "1      0.184211  0.470588  0.377049  0.283636   0.750000       0.736842   \n",
              "2      0.394737  0.392157  0.360656  0.004364   0.764706       0.565789   \n",
              "3      0.289474  0.529412  0.393443  0.003636   0.750000       0.460526   \n",
              "4      0.289474  0.470588  0.426230  0.035636   0.735294       0.671053   \n",
              "...         ...       ...       ...       ...        ...            ...   \n",
              "15319  0.342105  0.549020  0.508197  0.003636   0.426471       0.434211   \n",
              "15320  0.368421  0.411765  0.409836  0.003636   0.514706       0.421053   \n",
              "15321  0.342105  0.509804  0.442623  0.010182   0.808824       0.671053   \n",
              "15322  0.184211  0.450980  0.295082  0.120000   0.720588       0.671053   \n",
              "15323  0.184211  0.117647  0.163934  0.002727   0.691176       0.447368   \n",
              "\n",
              "       PassingTotal  DribblingTotal  DefendingTotal  PhysicalityTotal  \\\n",
              "0          0.514706        0.661538        0.324675          0.491803   \n",
              "1          0.823529        0.907692        0.714286          0.557377   \n",
              "2          0.470588        0.600000        0.363636          0.524590   \n",
              "3          0.485294        0.584615        0.493506          0.573770   \n",
              "4          0.691176        0.753846        0.506494          0.606557   \n",
              "...             ...             ...             ...               ...   \n",
              "15319      0.500000        0.507692        0.610390          0.721311   \n",
              "15320      0.500000        0.584615        0.636364          0.590164   \n",
              "15321      0.544118        0.661538        0.324675          0.540984   \n",
              "15322      0.705882        0.846154        0.428571          0.606557   \n",
              "15323      0.455882        0.630769        0.181818          0.213115   \n",
              "\n",
              "       AttackingWorkRate  DefensiveWorkRate  \n",
              "0                    2.0                1.0  \n",
              "1                    1.0                1.0  \n",
              "2                    1.0                1.0  \n",
              "3                    2.0                2.0  \n",
              "4                    2.0                2.0  \n",
              "...                  ...                ...  \n",
              "15319                1.0                2.0  \n",
              "15320                1.0                2.0  \n",
              "15321                2.0                0.0  \n",
              "15322                1.0                1.0  \n",
              "15323                1.0                1.0  \n",
              "\n",
              "[15324 rows x 12 columns]"
            ]
          },
          "execution_count": 26,
          "metadata": {},
          "output_type": "execute_result"
        }
      ],
      "source": [
        "pd.DataFrame(X_train_final, columns=numerical_columns + categorical_columns)"
      ]
    },
    {
      "cell_type": "markdown",
      "metadata": {
        "id": "2BWQO5Cb-160"
      },
      "source": [
        "## 6. Model Definition\n",
        "\n",
        ">Bagian ini berisi cell untuk mendefinisikan model. Jelaskan alasan menggunakan suatu algoritma/model, hyperparameter yang dipakai, jenis penggunaan metrics yang dipakai, dan hal lain yang terkait dengan model.\n",
        "\n",
        "\n",
        "- algoritma yang dipakai adalah linear regression karen akita metrics akan diguunakan adalah MAE karena abla bla"
      ]
    },
    {
      "cell_type": "code",
      "execution_count": 27,
      "metadata": {},
      "outputs": [],
      "source": [
        "from sklearn.linear_model import LinearRegression"
      ]
    },
    {
      "cell_type": "code",
      "execution_count": 28,
      "metadata": {},
      "outputs": [],
      "source": [
        "# buat objek linear regression\n",
        "\n",
        "model = LinearRegression()"
      ]
    },
    {
      "cell_type": "markdown",
      "metadata": {
        "id": "x0Qu7qXz_bP7"
      },
      "source": [
        "## 7. Model Training\n",
        "\n",
        ">Cell pada bagian ini hanya berisi code untuk melatih model dan output yang dihasilkan. Lakukan beberapa kali proses training dengan hyperparameter yang berbeda untuk melihat hasil yang didapatkan. Analisis dan narasikan hasil ini pada bagian Model Evaluation.\n",
        "\n"
      ]
    },
    {
      "cell_type": "code",
      "execution_count": 29,
      "metadata": {},
      "outputs": [
        {
          "data": {
            "text/html": [
              "<style>#sk-container-id-1 {color: black;}#sk-container-id-1 pre{padding: 0;}#sk-container-id-1 div.sk-toggleable {background-color: white;}#sk-container-id-1 label.sk-toggleable__label {cursor: pointer;display: block;width: 100%;margin-bottom: 0;padding: 0.3em;box-sizing: border-box;text-align: center;}#sk-container-id-1 label.sk-toggleable__label-arrow:before {content: \"▸\";float: left;margin-right: 0.25em;color: #696969;}#sk-container-id-1 label.sk-toggleable__label-arrow:hover:before {color: black;}#sk-container-id-1 div.sk-estimator:hover label.sk-toggleable__label-arrow:before {color: black;}#sk-container-id-1 div.sk-toggleable__content {max-height: 0;max-width: 0;overflow: hidden;text-align: left;background-color: #f0f8ff;}#sk-container-id-1 div.sk-toggleable__content pre {margin: 0.2em;color: black;border-radius: 0.25em;background-color: #f0f8ff;}#sk-container-id-1 input.sk-toggleable__control:checked~div.sk-toggleable__content {max-height: 200px;max-width: 100%;overflow: auto;}#sk-container-id-1 input.sk-toggleable__control:checked~label.sk-toggleable__label-arrow:before {content: \"▾\";}#sk-container-id-1 div.sk-estimator input.sk-toggleable__control:checked~label.sk-toggleable__label {background-color: #d4ebff;}#sk-container-id-1 div.sk-label input.sk-toggleable__control:checked~label.sk-toggleable__label {background-color: #d4ebff;}#sk-container-id-1 input.sk-hidden--visually {border: 0;clip: rect(1px 1px 1px 1px);clip: rect(1px, 1px, 1px, 1px);height: 1px;margin: -1px;overflow: hidden;padding: 0;position: absolute;width: 1px;}#sk-container-id-1 div.sk-estimator {font-family: monospace;background-color: #f0f8ff;border: 1px dotted black;border-radius: 0.25em;box-sizing: border-box;margin-bottom: 0.5em;}#sk-container-id-1 div.sk-estimator:hover {background-color: #d4ebff;}#sk-container-id-1 div.sk-parallel-item::after {content: \"\";width: 100%;border-bottom: 1px solid gray;flex-grow: 1;}#sk-container-id-1 div.sk-label:hover label.sk-toggleable__label {background-color: #d4ebff;}#sk-container-id-1 div.sk-serial::before {content: \"\";position: absolute;border-left: 1px solid gray;box-sizing: border-box;top: 0;bottom: 0;left: 50%;z-index: 0;}#sk-container-id-1 div.sk-serial {display: flex;flex-direction: column;align-items: center;background-color: white;padding-right: 0.2em;padding-left: 0.2em;position: relative;}#sk-container-id-1 div.sk-item {position: relative;z-index: 1;}#sk-container-id-1 div.sk-parallel {display: flex;align-items: stretch;justify-content: center;background-color: white;position: relative;}#sk-container-id-1 div.sk-item::before, #sk-container-id-1 div.sk-parallel-item::before {content: \"\";position: absolute;border-left: 1px solid gray;box-sizing: border-box;top: 0;bottom: 0;left: 50%;z-index: -1;}#sk-container-id-1 div.sk-parallel-item {display: flex;flex-direction: column;z-index: 1;position: relative;background-color: white;}#sk-container-id-1 div.sk-parallel-item:first-child::after {align-self: flex-end;width: 50%;}#sk-container-id-1 div.sk-parallel-item:last-child::after {align-self: flex-start;width: 50%;}#sk-container-id-1 div.sk-parallel-item:only-child::after {width: 0;}#sk-container-id-1 div.sk-dashed-wrapped {border: 1px dashed gray;margin: 0 0.4em 0.5em 0.4em;box-sizing: border-box;padding-bottom: 0.4em;background-color: white;}#sk-container-id-1 div.sk-label label {font-family: monospace;font-weight: bold;display: inline-block;line-height: 1.2em;}#sk-container-id-1 div.sk-label-container {text-align: center;}#sk-container-id-1 div.sk-container {/* jupyter's `normalize.less` sets `[hidden] { display: none; }` but bootstrap.min.css set `[hidden] { display: none !important; }` so we also need the `!important` here to be able to override the default hidden behavior on the sphinx rendered scikit-learn.org. See: https://github.com/scikit-learn/scikit-learn/issues/21755 */display: inline-block !important;position: relative;}#sk-container-id-1 div.sk-text-repr-fallback {display: none;}</style><div id=\"sk-container-id-1\" class=\"sk-top-container\"><div class=\"sk-text-repr-fallback\"><pre>LinearRegression()</pre><b>In a Jupyter environment, please rerun this cell to show the HTML representation or trust the notebook. <br />On GitHub, the HTML representation is unable to render, please try loading this page with nbviewer.org.</b></div><div class=\"sk-container\" hidden><div class=\"sk-item\"><div class=\"sk-estimator sk-toggleable\"><input class=\"sk-toggleable__control sk-hidden--visually\" id=\"sk-estimator-id-1\" type=\"checkbox\" checked><label for=\"sk-estimator-id-1\" class=\"sk-toggleable__label sk-toggleable__label-arrow\">LinearRegression</label><div class=\"sk-toggleable__content\"><pre>LinearRegression()</pre></div></div></div></div></div>"
            ],
            "text/plain": [
              "LinearRegression()"
            ]
          },
          "execution_count": 29,
          "metadata": {},
          "output_type": "execute_result"
        }
      ],
      "source": [
        "# proses training model dengan fit terhadap train set\n",
        "model.fit(X_train_final, y_train)"
      ]
    },
    {
      "cell_type": "markdown",
      "metadata": {
        "id": "6x60pyPA_2G5"
      },
      "source": [
        "## 8. Model Evaluation\n",
        "\n",
        ">Pada bagian ini, dilakukan evaluasi model yang harus menunjukkan bagaimana performa model berdasarkan metrics yang dipilih. Hal ini harus dibuktikan dengan visualisasi tren performa dan/atau tingkat kesalahan model. Lakukan analisis terkait dengan hasil pada model dan tuliskan hasil analisisnya.\n",
        "\n"
      ]
    },
    {
      "cell_type": "code",
      "execution_count": 30,
      "metadata": {},
      "outputs": [],
      "source": [
        "# predict terhadap train set\n",
        "y_pred_train = model.predict(X_train_final)\n",
        "# predict terhadap test set\n",
        "y_pred_test = model.predict(X_test_final)\n"
      ]
    },
    {
      "cell_type": "code",
      "execution_count": 31,
      "metadata": {},
      "outputs": [
        {
          "data": {
            "text/html": [
              "<div>\n",
              "<style scoped>\n",
              "    .dataframe tbody tr th:only-of-type {\n",
              "        vertical-align: middle;\n",
              "    }\n",
              "\n",
              "    .dataframe tbody tr th {\n",
              "        vertical-align: top;\n",
              "    }\n",
              "\n",
              "    .dataframe thead th {\n",
              "        text-align: right;\n",
              "    }\n",
              "</style>\n",
              "<table border=\"1\" class=\"dataframe\">\n",
              "  <thead>\n",
              "    <tr style=\"text-align: right;\">\n",
              "      <th></th>\n",
              "      <th>Age</th>\n",
              "      <th>Height</th>\n",
              "      <th>Weight</th>\n",
              "      <th>Price</th>\n",
              "      <th>AttackingWorkRate</th>\n",
              "      <th>DefensiveWorkRate</th>\n",
              "      <th>PaceTotal</th>\n",
              "      <th>ShootingTotal</th>\n",
              "      <th>PassingTotal</th>\n",
              "      <th>DribblingTotal</th>\n",
              "      <th>DefendingTotal</th>\n",
              "      <th>PhysicalityTotal</th>\n",
              "      <th>actual</th>\n",
              "      <th>prediction</th>\n",
              "    </tr>\n",
              "  </thead>\n",
              "  <tbody>\n",
              "    <tr>\n",
              "      <th>6041</th>\n",
              "      <td>23</td>\n",
              "      <td>177</td>\n",
              "      <td>72</td>\n",
              "      <td>3100000</td>\n",
              "      <td>High</td>\n",
              "      <td>Medium</td>\n",
              "      <td>93</td>\n",
              "      <td>60</td>\n",
              "      <td>60</td>\n",
              "      <td>69</td>\n",
              "      <td>39</td>\n",
              "      <td>61</td>\n",
              "      <td>69</td>\n",
              "      <td>66.322686</td>\n",
              "    </tr>\n",
              "    <tr>\n",
              "      <th>366</th>\n",
              "      <td>23</td>\n",
              "      <td>179</td>\n",
              "      <td>72</td>\n",
              "      <td>39000000</td>\n",
              "      <td>Medium</td>\n",
              "      <td>Medium</td>\n",
              "      <td>79</td>\n",
              "      <td>74</td>\n",
              "      <td>81</td>\n",
              "      <td>85</td>\n",
              "      <td>69</td>\n",
              "      <td>65</td>\n",
              "      <td>81</td>\n",
              "      <td>83.768438</td>\n",
              "    </tr>\n",
              "    <tr>\n",
              "      <th>10029</th>\n",
              "      <td>31</td>\n",
              "      <td>175</td>\n",
              "      <td>71</td>\n",
              "      <td>600000</td>\n",
              "      <td>Medium</td>\n",
              "      <td>Medium</td>\n",
              "      <td>80</td>\n",
              "      <td>61</td>\n",
              "      <td>57</td>\n",
              "      <td>65</td>\n",
              "      <td>42</td>\n",
              "      <td>63</td>\n",
              "      <td>65</td>\n",
              "      <td>66.505871</td>\n",
              "    </tr>\n",
              "    <tr>\n",
              "      <th>12532</th>\n",
              "      <td>27</td>\n",
              "      <td>182</td>\n",
              "      <td>73</td>\n",
              "      <td>500000</td>\n",
              "      <td>High</td>\n",
              "      <td>High</td>\n",
              "      <td>79</td>\n",
              "      <td>53</td>\n",
              "      <td>58</td>\n",
              "      <td>64</td>\n",
              "      <td>52</td>\n",
              "      <td>66</td>\n",
              "      <td>63</td>\n",
              "      <td>66.161654</td>\n",
              "    </tr>\n",
              "    <tr>\n",
              "      <th>2303</th>\n",
              "      <td>27</td>\n",
              "      <td>179</td>\n",
              "      <td>75</td>\n",
              "      <td>4900000</td>\n",
              "      <td>High</td>\n",
              "      <td>High</td>\n",
              "      <td>78</td>\n",
              "      <td>69</td>\n",
              "      <td>72</td>\n",
              "      <td>75</td>\n",
              "      <td>53</td>\n",
              "      <td>68</td>\n",
              "      <td>74</td>\n",
              "      <td>71.954081</td>\n",
              "    </tr>\n",
              "    <tr>\n",
              "      <th>...</th>\n",
              "      <td>...</td>\n",
              "      <td>...</td>\n",
              "      <td>...</td>\n",
              "      <td>...</td>\n",
              "      <td>...</td>\n",
              "      <td>...</td>\n",
              "      <td>...</td>\n",
              "      <td>...</td>\n",
              "      <td>...</td>\n",
              "      <td>...</td>\n",
              "      <td>...</td>\n",
              "      <td>...</td>\n",
              "      <td>...</td>\n",
              "      <td>...</td>\n",
              "    </tr>\n",
              "    <tr>\n",
              "      <th>11388</th>\n",
              "      <td>29</td>\n",
              "      <td>183</td>\n",
              "      <td>80</td>\n",
              "      <td>500000</td>\n",
              "      <td>Medium</td>\n",
              "      <td>High</td>\n",
              "      <td>57</td>\n",
              "      <td>51</td>\n",
              "      <td>59</td>\n",
              "      <td>59</td>\n",
              "      <td>61</td>\n",
              "      <td>75</td>\n",
              "      <td>64</td>\n",
              "      <td>67.274776</td>\n",
              "    </tr>\n",
              "    <tr>\n",
              "      <th>12068</th>\n",
              "      <td>30</td>\n",
              "      <td>176</td>\n",
              "      <td>74</td>\n",
              "      <td>500000</td>\n",
              "      <td>Medium</td>\n",
              "      <td>High</td>\n",
              "      <td>63</td>\n",
              "      <td>50</td>\n",
              "      <td>59</td>\n",
              "      <td>64</td>\n",
              "      <td>63</td>\n",
              "      <td>67</td>\n",
              "      <td>64</td>\n",
              "      <td>67.497034</td>\n",
              "    </tr>\n",
              "    <tr>\n",
              "      <th>5494</th>\n",
              "      <td>29</td>\n",
              "      <td>181</td>\n",
              "      <td>76</td>\n",
              "      <td>1400000</td>\n",
              "      <td>High</td>\n",
              "      <td>Low</td>\n",
              "      <td>83</td>\n",
              "      <td>69</td>\n",
              "      <td>62</td>\n",
              "      <td>69</td>\n",
              "      <td>39</td>\n",
              "      <td>64</td>\n",
              "      <td>69</td>\n",
              "      <td>68.480346</td>\n",
              "    </tr>\n",
              "    <tr>\n",
              "      <th>860</th>\n",
              "      <td>23</td>\n",
              "      <td>178</td>\n",
              "      <td>67</td>\n",
              "      <td>16500000</td>\n",
              "      <td>Medium</td>\n",
              "      <td>Medium</td>\n",
              "      <td>77</td>\n",
              "      <td>69</td>\n",
              "      <td>73</td>\n",
              "      <td>81</td>\n",
              "      <td>47</td>\n",
              "      <td>68</td>\n",
              "      <td>77</td>\n",
              "      <td>75.438296</td>\n",
              "    </tr>\n",
              "    <tr>\n",
              "      <th>15899</th>\n",
              "      <td>23</td>\n",
              "      <td>161</td>\n",
              "      <td>59</td>\n",
              "      <td>375000</td>\n",
              "      <td>Medium</td>\n",
              "      <td>Medium</td>\n",
              "      <td>75</td>\n",
              "      <td>52</td>\n",
              "      <td>56</td>\n",
              "      <td>67</td>\n",
              "      <td>28</td>\n",
              "      <td>44</td>\n",
              "      <td>60</td>\n",
              "      <td>58.975355</td>\n",
              "    </tr>\n",
              "  </tbody>\n",
              "</table>\n",
              "<p>15324 rows × 14 columns</p>\n",
              "</div>"
            ],
            "text/plain": [
              "       Age  Height  Weight     Price AttackingWorkRate DefensiveWorkRate  \\\n",
              "6041    23     177      72   3100000              High            Medium   \n",
              "366     23     179      72  39000000            Medium            Medium   \n",
              "10029   31     175      71    600000            Medium            Medium   \n",
              "12532   27     182      73    500000              High              High   \n",
              "2303    27     179      75   4900000              High              High   \n",
              "...    ...     ...     ...       ...               ...               ...   \n",
              "11388   29     183      80    500000            Medium              High   \n",
              "12068   30     176      74    500000            Medium              High   \n",
              "5494    29     181      76   1400000              High               Low   \n",
              "860     23     178      67  16500000            Medium            Medium   \n",
              "15899   23     161      59    375000            Medium            Medium   \n",
              "\n",
              "       PaceTotal  ShootingTotal  PassingTotal  DribblingTotal  DefendingTotal  \\\n",
              "6041          93             60            60              69              39   \n",
              "366           79             74            81              85              69   \n",
              "10029         80             61            57              65              42   \n",
              "12532         79             53            58              64              52   \n",
              "2303          78             69            72              75              53   \n",
              "...          ...            ...           ...             ...             ...   \n",
              "11388         57             51            59              59              61   \n",
              "12068         63             50            59              64              63   \n",
              "5494          83             69            62              69              39   \n",
              "860           77             69            73              81              47   \n",
              "15899         75             52            56              67              28   \n",
              "\n",
              "       PhysicalityTotal  actual  prediction  \n",
              "6041                 61      69   66.322686  \n",
              "366                  65      81   83.768438  \n",
              "10029                63      65   66.505871  \n",
              "12532                66      63   66.161654  \n",
              "2303                 68      74   71.954081  \n",
              "...                 ...     ...         ...  \n",
              "11388                75      64   67.274776  \n",
              "12068                67      64   67.497034  \n",
              "5494                 64      69   68.480346  \n",
              "860                  68      77   75.438296  \n",
              "15899                44      60   58.975355  \n",
              "\n",
              "[15324 rows x 14 columns]"
            ]
          },
          "execution_count": 31,
          "metadata": {},
          "output_type": "execute_result"
        }
      ],
      "source": [
        "comparison = X_train\n",
        "comparison['actual'] = y_train\n",
        "comparison['prediction'] = y_pred_train\n",
        "comparison"
      ]
    },
    {
      "cell_type": "code",
      "execution_count": 32,
      "metadata": {},
      "outputs": [],
      "source": [
        "from sklearn.metrics import mean_absolute_error"
      ]
    },
    {
      "cell_type": "code",
      "execution_count": 33,
      "metadata": {},
      "outputs": [
        {
          "name": "stdout",
          "output_type": "stream",
          "text": [
            "Error - Train set :  2.337699147192551\n",
            "Error - Test set :  2.3642429318595743\n"
          ]
        }
      ],
      "source": [
        "#Model evaluation using MAE\n",
        "\n",
        "print('Error - Train set : ', mean_absolute_error(y_train, y_pred_train))\n",
        "print('Error - Test set : ', mean_absolute_error(y_test, y_pred_test))"
      ]
    },
    {
      "cell_type": "markdown",
      "metadata": {
        "id": "oDSzdX2vBy8o"
      },
      "source": [
        "Statement??\n",
        "\n",
        "1. nyatakan apakah model tergolong goodfit, overfit, underfit\n",
        "2. narasikan hasl bisnis\n",
        "- jika messi mempunyai ratning 93 maka model akan memprediksi kisaran 91.5 - 95.5, menurut bisnis kira2\n",
        "3. eksplorasi data aktual dengan data prediksi"
      ]
    },
    {
      "cell_type": "code",
      "execution_count": 34,
      "metadata": {},
      "outputs": [
        {
          "name": "stdout",
          "output_type": "stream",
          "text": [
            "intercept:  37.00784086628377\n",
            "Slope:  [ 7.68044023  1.72453058  1.01859775 28.85580904  2.8353306   2.74509497\n",
            "  2.66981168 19.79606748  8.01559382 12.10847438 -0.3078671  -0.51753196]\n"
          ]
        }
      ],
      "source": [
        "print('intercept: ', model.intercept_)\n",
        "print('Slope: ', model.coef_)"
      ]
    },
    {
      "cell_type": "markdown",
      "metadata": {
        "id": "7cg7FCoUCZ2P"
      },
      "source": [
        "## 9. Model Saving\n",
        "\n",
        ">Pada bagian ini, dilakukan proses penyimpanan model dan file-file lain yang terkait dengan hasil proses pembuatan model.\n",
        "\n"
      ]
    },
    {
      "cell_type": "code",
      "execution_count": 35,
      "metadata": {},
      "outputs": [],
      "source": [
        "import pickle\n",
        "import json"
      ]
    },
    {
      "cell_type": "code",
      "execution_count": 36,
      "metadata": {},
      "outputs": [],
      "source": [
        "# save model yang udah dibuat\n",
        "with open('model_linear_regression.pkl', 'wb') as file_1:\n",
        "    pickle.dump(model, file_1)\n",
        "\n",
        "# save scaler yang sudah di fit\n",
        "with open('scaler.pkl', 'wb') as file_2:\n",
        "    pickle.dump(scaler, file_2)\n",
        "\n",
        "#  save encoder yang sudah di fit\n",
        "with open('encoder.pkl', 'wb') as file_3:\n",
        "    pickle.dump(encoder, file_3)\n",
        "\n",
        "# save nama kolom\n",
        "with open('numerical_columns.txt', 'w') as file_4:\n",
        "    json.dump(numerical_columns, file_4)\n",
        "\n",
        "with open('categorical_columns.txt', 'w') as file_5:\n",
        "    json.dump(categorical_columns, file_5)\n"
      ]
    },
    {
      "cell_type": "markdown",
      "metadata": {
        "id": "S2AAynH5EUMC"
      },
      "source": [
        "## 10. kesimpulan\n",
        ">Pada bagian terakhir ini, harus berisi kesimpulan yang mencerminkan hasil yang didapat dengan objective yang sudah ditulis di bagian pengenalan.\n",
        "\n",
        "EDA, model evaluation, model analysis, further improvement\n",
        "\n",
        "buat kesimpulan dalam paragraf yang concise dan compact"
      ]
    }
  ],
  "metadata": {
    "colab": {
      "provenance": []
    },
    "kernelspec": {
      "display_name": "Python 3",
      "name": "python3"
    },
    "language_info": {
      "codemirror_mode": {
        "name": "ipython",
        "version": 3
      },
      "file_extension": ".py",
      "mimetype": "text/x-python",
      "name": "python",
      "nbconvert_exporter": "python",
      "pygments_lexer": "ipython3",
      "version": "3.9.18"
    }
  },
  "nbformat": 4,
  "nbformat_minor": 0
}
