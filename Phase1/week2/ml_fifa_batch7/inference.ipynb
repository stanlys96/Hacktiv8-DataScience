{
 "cells": [
  {
   "cell_type": "code",
   "execution_count": 1,
   "metadata": {},
   "outputs": [],
   "source": [
    "import pandas as pd\n",
    "import numpy as np\n",
    "\n",
    "import pickle\n",
    "import json"
   ]
  },
  {
   "cell_type": "code",
   "execution_count": 2,
   "metadata": {},
   "outputs": [],
   "source": [
    "# load model\n",
    "\n",
    "# load model yang udah dibuat\n",
    "with open('model_linear_regression.pkl', 'rb') as file_1:\n",
    "    model = pickle.load(file_1)\n",
    "\n",
    "# load scaler yang sudah di fit\n",
    "with open('scaler.pkl', 'rb') as file_2:\n",
    "    scaler = pickle.load(file_2)\n",
    "\n",
    "#  load encoder yang sudah di fit\n",
    "with open('encoder.pkl', 'rb') as file_3:\n",
    "    encoder = pickle.load(file_3)\n",
    "\n",
    "# load nama kolom\n",
    "with open('numerical_columns.txt', 'r') as file_4:\n",
    "    num_cols = json.load(file_4)\n",
    "\n",
    "with open('categorical_columns.txt', 'r') as file_5:\n",
    "    cat_cols = json.load(file_5)"
   ]
  },
  {
   "cell_type": "code",
   "execution_count": 6,
   "metadata": {},
   "outputs": [],
   "source": [
    "danis = {\n",
    " 'Name': 'danis',\n",
    " 'Age': 48,\n",
    " 'Height': 173,\n",
    " 'Weight': 48,\n",
    " 'Price': 50000,\n",
    " 'AttackingWorkRate': 'High',\n",
    " 'DefensiveWorkRate': 'Low',\n",
    " 'PaceTotal': 99,\n",
    " 'ShootingTotal': 99,\n",
    " 'PassingTotal': 99,\n",
    " 'DribblingTotal': 99,\n",
    " 'DefendingTotal': 99,\n",
    " 'PhysicalityTotal': 99}\n",
    "\n",
    "df = pd.DataFrame([danis])\n"
   ]
  },
  {
   "cell_type": "code",
   "execution_count": 7,
   "metadata": {},
   "outputs": [
    {
     "data": {
      "text/html": [
       "<div>\n",
       "<style scoped>\n",
       "    .dataframe tbody tr th:only-of-type {\n",
       "        vertical-align: middle;\n",
       "    }\n",
       "\n",
       "    .dataframe tbody tr th {\n",
       "        vertical-align: top;\n",
       "    }\n",
       "\n",
       "    .dataframe thead th {\n",
       "        text-align: right;\n",
       "    }\n",
       "</style>\n",
       "<table border=\"1\" class=\"dataframe\">\n",
       "  <thead>\n",
       "    <tr style=\"text-align: right;\">\n",
       "      <th></th>\n",
       "      <th>Name</th>\n",
       "      <th>Age</th>\n",
       "      <th>Height</th>\n",
       "      <th>Weight</th>\n",
       "      <th>Price</th>\n",
       "      <th>AttackingWorkRate</th>\n",
       "      <th>DefensiveWorkRate</th>\n",
       "      <th>PaceTotal</th>\n",
       "      <th>ShootingTotal</th>\n",
       "      <th>PassingTotal</th>\n",
       "      <th>DribblingTotal</th>\n",
       "      <th>DefendingTotal</th>\n",
       "      <th>PhysicalityTotal</th>\n",
       "    </tr>\n",
       "  </thead>\n",
       "  <tbody>\n",
       "    <tr>\n",
       "      <th>0</th>\n",
       "      <td>danis</td>\n",
       "      <td>48</td>\n",
       "      <td>173</td>\n",
       "      <td>48</td>\n",
       "      <td>50000</td>\n",
       "      <td>High</td>\n",
       "      <td>Low</td>\n",
       "      <td>99</td>\n",
       "      <td>99</td>\n",
       "      <td>99</td>\n",
       "      <td>99</td>\n",
       "      <td>99</td>\n",
       "      <td>99</td>\n",
       "    </tr>\n",
       "  </tbody>\n",
       "</table>\n",
       "</div>"
      ],
      "text/plain": [
       "    Name  Age  Height  Weight  Price AttackingWorkRate DefensiveWorkRate  \\\n",
       "0  danis   48     173      48  50000              High               Low   \n",
       "\n",
       "   PaceTotal  ShootingTotal  PassingTotal  DribblingTotal  DefendingTotal  \\\n",
       "0         99             99            99              99              99   \n",
       "\n",
       "   PhysicalityTotal  \n",
       "0                99  "
      ]
     },
     "execution_count": 7,
     "metadata": {},
     "output_type": "execute_result"
    }
   ],
   "source": [
    "df"
   ]
  },
  {
   "cell_type": "code",
   "execution_count": 8,
   "metadata": {},
   "outputs": [],
   "source": [
    "# scaling\n",
    "df_scaled = scaler.transform(df[num_cols])"
   ]
  },
  {
   "cell_type": "code",
   "execution_count": 9,
   "metadata": {},
   "outputs": [],
   "source": [
    "# encoding\n",
    "df_encoded = encoder.transform(df[cat_cols])"
   ]
  },
  {
   "cell_type": "code",
   "execution_count": 10,
   "metadata": {},
   "outputs": [
    {
     "data": {
      "text/plain": [
       "array([[ 8.42105263e-01,  3.52941176e-01, -1.63934426e-02,\n",
       "         3.63636364e-04,  1.04411765e+00,  1.06578947e+00,\n",
       "         1.08823529e+00,  1.12307692e+00,  1.10389610e+00,\n",
       "         1.11475410e+00,  2.00000000e+00,  0.00000000e+00]])"
      ]
     },
     "execution_count": 10,
     "metadata": {},
     "output_type": "execute_result"
    }
   ],
   "source": [
    "df_final = np.concatenate([df_scaled, df_encoded], axis =1)\n",
    "df_final"
   ]
  },
  {
   "cell_type": "code",
   "execution_count": 11,
   "metadata": {},
   "outputs": [],
   "source": [
    "# menyimpan hasil prediksi\n",
    "prediction = model.predict(df_final)"
   ]
  },
  {
   "cell_type": "code",
   "execution_count": 19,
   "metadata": {},
   "outputs": [
    {
     "name": "stdout",
     "output_type": "stream",
     "text": [
      "Rating dari player danis adalah 96\n"
     ]
    }
   ],
   "source": [
    "print(f'Rating dari player {df[\"Name\"][0]} adalah {int(prediction[0])}')"
   ]
  }
 ],
 "metadata": {
  "kernelspec": {
   "display_name": "data_science",
   "language": "python",
   "name": "python3"
  },
  "language_info": {
   "codemirror_mode": {
    "name": "ipython",
    "version": 3
   },
   "file_extension": ".py",
   "mimetype": "text/x-python",
   "name": "python",
   "nbconvert_exporter": "python",
   "pygments_lexer": "ipython3",
   "version": "3.9.18"
  }
 },
 "nbformat": 4,
 "nbformat_minor": 2
}
