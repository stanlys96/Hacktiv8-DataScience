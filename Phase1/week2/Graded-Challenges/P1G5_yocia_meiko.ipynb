{
 "cells": [
  {
   "cell_type": "markdown",
   "metadata": {},
   "source": [
    "# **i. Introduction**\n",
    "\n",
    "Name: Yocia Meiko Oke\n",
    "\n",
    "Batch: RMT-036\n",
    "\n",
    "Dataset: [ecommerce-web_analytics](https://console.cloud.google.com/bigquery?p=data-to-insights&d=ecommerce&t=web_analytics&page=table)\n",
    "\n",
    "Dataset Description: This dataset contains information about visitors behaviour on a website, this also include where the traffic came from, the device visitors used, etc.([reference](https://github.com/FTDS-assignment-bay/p1-ftds036-rmt-g4-ymo98?tab=readme-ov-file#dataset-description))."
   ]
  },
  {
   "cell_type": "markdown",
   "metadata": {},
   "source": [
    "# **ii.Query SQL**"
   ]
  },
  {
   "cell_type": "markdown",
   "metadata": {},
   "source": [
    "**Query dataset_1**\n",
    "```\n",
    "SELECT * EXCEPT(fullVisitorId)\n",
    "\n",
    "FROM\n",
    "  (SELECT\n",
    "    fullVisitorId,\n",
    "    IFNULL(totals.bounces, 0) AS bounces,\n",
    "    IFNULL(totals.timeOnSite, 0) AS time_on_site\n",
    "  FROM\n",
    "    `data-to-insights.ecommerce.web_analytics`\n",
    "  WHERE\n",
    "    totals.newVisits = 1\n",
    "    AND date BETWEEN '20160801' AND '20170531')\n",
    "  JOIN\n",
    "  (SELECT\n",
    "    fullvisitorid,\n",
    "    IF(COUNTIF(totals.transactions > 0 AND totals.newVisits IS NULL) > 0, 1, 0) AS will_buy_on_return_visit\n",
    "  FROM\n",
    "      `data-to-insights.ecommerce.web_analytics`\n",
    "  GROUP BY fullvisitorid)\n",
    "  USING (fullVisitorId)\n",
    "  ;\n",
    "```\n",
    "\n",
    "**Query dataset_2**\n",
    "```\n",
    "WITH all_visitor_stats AS (\n",
    "  SELECT\n",
    "    fullvisitorid,\n",
    "    IF(COUNTIF(totals.transactions > 0 AND totals.newVisits IS NULL) > 0, 1, 0) AS will_buy_on_return_visit\n",
    "  FROM `data-to-insights.ecommerce.web_analytics`\n",
    "  GROUP BY fullvisitorid\n",
    ")\n",
    "\n",
    "SELECT * EXCEPT(unique_session_id) FROM (\n",
    "\n",
    "  SELECT\n",
    "    CONCAT(fullvisitorid, CAST(visitId AS STRING)) AS unique_session_id,\n",
    "    will_buy_on_return_visit,\n",
    "    MAX(CAST(h.eCommerceAction.action_type AS INT64)) AS latest_ecommerce_progress,\n",
    "\n",
    "    IFNULL(totals.bounces, 0) AS bounces,\n",
    "    IFNULL(totals.timeOnSite, 0) AS time_on_site,\n",
    "    totals.pageviews,\n",
    "    trafficSource.source,\n",
    "    trafficSource.medium,\n",
    "    channelGrouping,\n",
    "    device.deviceCategory,\n",
    "\n",
    "    IFNULL(geoNetwork.country, \"Unknown\") AS country\n",
    "\n",
    "  FROM `data-to-insights.ecommerce.web_analytics`,\n",
    "    UNNEST(hits) AS h\n",
    "\n",
    "  JOIN all_visitor_stats USING(fullvisitorid)\n",
    "\n",
    "  WHERE\n",
    "    totals.newVisits = 1\n",
    "    AND date BETWEEN '20160801' AND '20170531'\n",
    "\n",
    "  GROUP BY\n",
    "    unique_session_id,\n",
    "    will_buy_on_return_visit,\n",
    "    bounces,\n",
    "    time_on_site,\n",
    "    totals.pageviews,\n",
    "    trafficSource.source,\n",
    "    trafficSource.medium,\n",
    "    channelGrouping,\n",
    "    device.deviceCategory,\n",
    "    country\n",
    ")\n",
    "```"
   ]
  },
  {
   "cell_type": "markdown",
   "metadata": {},
   "source": [
    "# **iii. Preliminary**\n",
    "\n",
    "**Background**  \n",
    "\n",
    "Our team is analyzing data from Google Analytics that contains information about the user behavior of an e-commerce website. \n",
    "\n",
    "We will analyze and create a Machine Learning model to predict whether a new user is likely to make a purchase in the future or not. \n",
    "\n",
    "The prediction results can later help the marketing team to provide promotions and product offers, especially for users who have the potential to make purchases ([reference](https://github.com/FTDS-assignment-bay/p1-ftds036-rmt-g5-ymo98#:~:text=Tim%20Anda%20sedang,berpotensi%20melakukan%20pembelian)). \n",
    "\n",
    "**Problem Statement**  \n",
    "\n",
    "The goal is to increase sales by 25% by the end of 2024 by improving the ui/ux on website that can lead to conversions. Improving the customer journey on the site can also help increasing the collaboration with other business such as paid ads, etc.\n",
    "\n",
    "**Objective**\n",
    "\n",
    "To develop a predictive model that can predict whether a vistor will make a purchase by considering the visitors behavior on the site.\n",
    "\n",
    "**Problem Breakdown**\n",
    "\n",
    "1. Do bounces, time_on_site, and pageviews have a high enough influence to predict the will_buy_on_return_visit target?\n",
    "\n",
    "2. What type of device is most commonly used by users in the Canada region who are likely to make a purchase when revisiting the website?"
   ]
  },
  {
   "cell_type": "markdown",
   "metadata": {},
   "source": [
    "# **iv. Import Libraries**\n",
    "\n",
    "First we will import all libraries and modules that we are going to use in this project."
   ]
  },
  {
   "cell_type": "code",
   "execution_count": 212,
   "metadata": {},
   "outputs": [],
   "source": [
    "# Import libraries\n",
    "import pandas as pd # for data manipulation & analysis\n",
    "import numpy as np # for numerical computations\n",
    "import matplotlib.pyplot as plt # for visualizations\n",
    "import seaborn as sns # for advanced visualizations\n",
    "from scipy import stats # for relation analysis (chi-squared)\n",
    "from scipy.stats import ttest_ind\n",
    "from sklearn.model_selection import train_test_split # to split the dataset to train and test\n",
    "from scipy.stats import kendalltau # analysis\n",
    "\n",
    "# Preprocessing\n",
    "from sklearn.impute import SimpleImputer # to impute missing values\n",
    "from sklearn.preprocessing import MinMaxScaler # numerical feature scaler\n",
    "from sklearn.preprocessing import OneHotEncoder # categorical feature encoder\n",
    "from imblearn.over_sampling import SMOTE # data imbalanced\n",
    "from feature_engine.outliers import Winsorizer # handling outliers\n",
    "\n",
    "# Model\n",
    "from sklearn.linear_model import LogisticRegression # model\n",
    "from sklearn.compose import ColumnTransformer # Pipeline\n",
    "from imblearn.pipeline import Pipeline # Pipeline\n",
    "from sklearn.model_selection import GridSearchCV # hyper parameter tuning\n",
    "\n",
    "# Evaluation\n",
    "from sklearn.metrics import roc_auc_score, r2_score, accuracy_score, classification_report, confusion_matrix, ConfusionMatrixDisplay, f1_score, accuracy_score, precision_score, recall_score\n",
    "\n",
    "# Model Inference\n",
    "import pickle # save model\n",
    "import json # save cols\n"
   ]
  },
  {
   "cell_type": "markdown",
   "metadata": {},
   "source": [
    "# **v. Data Loading**\n",
    "\n",
    "In this section, we will load the data for further data exploration and modelling.\n",
    "\n",
    "We have 2 dataset that actually can predict the same target `will_buy_on_return_visit`. \n",
    "\n",
    "First we will analyze `dataset_1` and then make a model, and if the performance is not good, that we will do the same for `dataset_2` to see if it would have a better performance."
   ]
  },
  {
   "cell_type": "markdown",
   "metadata": {},
   "source": [
    "**dataset_1**"
   ]
  },
  {
   "cell_type": "code",
   "execution_count": 213,
   "metadata": {},
   "outputs": [
    {
     "data": {
      "text/html": [
       "<div>\n",
       "<style scoped>\n",
       "    .dataframe tbody tr th:only-of-type {\n",
       "        vertical-align: middle;\n",
       "    }\n",
       "\n",
       "    .dataframe tbody tr th {\n",
       "        vertical-align: top;\n",
       "    }\n",
       "\n",
       "    .dataframe thead th {\n",
       "        text-align: right;\n",
       "    }\n",
       "</style>\n",
       "<table border=\"1\" class=\"dataframe\">\n",
       "  <thead>\n",
       "    <tr style=\"text-align: right;\">\n",
       "      <th></th>\n",
       "      <th>bounces</th>\n",
       "      <th>time_on_site</th>\n",
       "      <th>will_buy_on_return_visit</th>\n",
       "    </tr>\n",
       "  </thead>\n",
       "  <tbody>\n",
       "    <tr>\n",
       "      <th>0</th>\n",
       "      <td>0</td>\n",
       "      <td>733</td>\n",
       "      <td>0</td>\n",
       "    </tr>\n",
       "    <tr>\n",
       "      <th>1</th>\n",
       "      <td>1</td>\n",
       "      <td>0</td>\n",
       "      <td>0</td>\n",
       "    </tr>\n",
       "    <tr>\n",
       "      <th>2</th>\n",
       "      <td>0</td>\n",
       "      <td>45</td>\n",
       "      <td>0</td>\n",
       "    </tr>\n",
       "    <tr>\n",
       "      <th>3</th>\n",
       "      <td>0</td>\n",
       "      <td>951</td>\n",
       "      <td>0</td>\n",
       "    </tr>\n",
       "    <tr>\n",
       "      <th>4</th>\n",
       "      <td>0</td>\n",
       "      <td>389</td>\n",
       "      <td>0</td>\n",
       "    </tr>\n",
       "    <tr>\n",
       "      <th>...</th>\n",
       "      <td>...</td>\n",
       "      <td>...</td>\n",
       "      <td>...</td>\n",
       "    </tr>\n",
       "    <tr>\n",
       "      <th>623996</th>\n",
       "      <td>0</td>\n",
       "      <td>49</td>\n",
       "      <td>0</td>\n",
       "    </tr>\n",
       "    <tr>\n",
       "      <th>623997</th>\n",
       "      <td>0</td>\n",
       "      <td>165</td>\n",
       "      <td>0</td>\n",
       "    </tr>\n",
       "    <tr>\n",
       "      <th>623998</th>\n",
       "      <td>0</td>\n",
       "      <td>54</td>\n",
       "      <td>0</td>\n",
       "    </tr>\n",
       "    <tr>\n",
       "      <th>623999</th>\n",
       "      <td>0</td>\n",
       "      <td>24</td>\n",
       "      <td>0</td>\n",
       "    </tr>\n",
       "    <tr>\n",
       "      <th>624000</th>\n",
       "      <td>0</td>\n",
       "      <td>52</td>\n",
       "      <td>0</td>\n",
       "    </tr>\n",
       "  </tbody>\n",
       "</table>\n",
       "<p>624001 rows × 3 columns</p>\n",
       "</div>"
      ],
      "text/plain": [
       "        bounces  time_on_site  will_buy_on_return_visit\n",
       "0             0           733                         0\n",
       "1             1             0                         0\n",
       "2             0            45                         0\n",
       "3             0           951                         0\n",
       "4             0           389                         0\n",
       "...         ...           ...                       ...\n",
       "623996        0            49                         0\n",
       "623997        0           165                         0\n",
       "623998        0            54                         0\n",
       "623999        0            24                         0\n",
       "624000        0            52                         0\n",
       "\n",
       "[624001 rows x 3 columns]"
      ]
     },
     "execution_count": 213,
     "metadata": {},
     "output_type": "execute_result"
    }
   ],
   "source": [
    "# Load dataset_1\n",
    "df_1_ori = pd.read_csv(\"dataset_1.csv\")\n",
    "\n",
    "# Duplicate dataset_1\n",
    "df_1 = df_1_ori.copy()\n",
    "\n",
    "# Show dataset_1\n",
    "df_1"
   ]
  },
  {
   "cell_type": "code",
   "execution_count": 214,
   "metadata": {},
   "outputs": [
    {
     "name": "stdout",
     "output_type": "stream",
     "text": [
      "<class 'pandas.core.frame.DataFrame'>\n",
      "RangeIndex: 624001 entries, 0 to 624000\n",
      "Data columns (total 3 columns):\n",
      " #   Column                    Non-Null Count   Dtype\n",
      "---  ------                    --------------   -----\n",
      " 0   bounces                   624001 non-null  int64\n",
      " 1   time_on_site              624001 non-null  int64\n",
      " 2   will_buy_on_return_visit  624001 non-null  int64\n",
      "dtypes: int64(3)\n",
      "memory usage: 14.3 MB\n"
     ]
    }
   ],
   "source": [
    "# Check dataset_1 using .info()\n",
    "df_1.info()"
   ]
  },
  {
   "cell_type": "markdown",
   "metadata": {},
   "source": [
    "There are 3 columns of `int64` type:\n",
    "- `bounces`: The number of visitors who leave the website immediately without taking any action\n",
    "- `time_on_site`: The length of time visitors spend on the website\n",
    "- `will_buy_on_return_visit`: Indicates whether the visitor will make a purchase when revisiting the website (1 = Yes, 0 = No)"
   ]
  },
  {
   "cell_type": "markdown",
   "metadata": {},
   "source": [
    "**Check duplicates in dataset_1**\n",
    "\n",
    "Now, we will check if the dataset has any duplicates, if it does, we will drop all the duplicated data since it doesn't hold any insightful values as they are all redudant."
   ]
  },
  {
   "cell_type": "code",
   "execution_count": 215,
   "metadata": {},
   "outputs": [
    {
     "data": {
      "text/plain": [
       "618597"
      ]
     },
     "execution_count": 215,
     "metadata": {},
     "output_type": "execute_result"
    }
   ],
   "source": [
    "# Check duplicates\n",
    "df_1.duplicated().sum()"
   ]
  },
  {
   "cell_type": "code",
   "execution_count": 216,
   "metadata": {},
   "outputs": [],
   "source": [
    "# Drop duplicates\n",
    "df_1.drop_duplicates(inplace=True)"
   ]
  },
  {
   "cell_type": "code",
   "execution_count": 217,
   "metadata": {},
   "outputs": [
    {
     "data": {
      "text/plain": [
       "0"
      ]
     },
     "execution_count": 217,
     "metadata": {},
     "output_type": "execute_result"
    }
   ],
   "source": [
    "# Re-check after dropping duplicates\n",
    "df_1.duplicated().sum()"
   ]
  },
  {
   "cell_type": "code",
   "execution_count": 218,
   "metadata": {},
   "outputs": [
    {
     "data": {
      "text/html": [
       "<div>\n",
       "<style scoped>\n",
       "    .dataframe tbody tr th:only-of-type {\n",
       "        vertical-align: middle;\n",
       "    }\n",
       "\n",
       "    .dataframe tbody tr th {\n",
       "        vertical-align: top;\n",
       "    }\n",
       "\n",
       "    .dataframe thead th {\n",
       "        text-align: right;\n",
       "    }\n",
       "</style>\n",
       "<table border=\"1\" class=\"dataframe\">\n",
       "  <thead>\n",
       "    <tr style=\"text-align: right;\">\n",
       "      <th></th>\n",
       "      <th>bounces</th>\n",
       "      <th>time_on_site</th>\n",
       "      <th>will_buy_on_return_visit</th>\n",
       "    </tr>\n",
       "  </thead>\n",
       "  <tbody>\n",
       "    <tr>\n",
       "      <th>0</th>\n",
       "      <td>0</td>\n",
       "      <td>733</td>\n",
       "      <td>0</td>\n",
       "    </tr>\n",
       "    <tr>\n",
       "      <th>1</th>\n",
       "      <td>1</td>\n",
       "      <td>0</td>\n",
       "      <td>0</td>\n",
       "    </tr>\n",
       "    <tr>\n",
       "      <th>2</th>\n",
       "      <td>0</td>\n",
       "      <td>45</td>\n",
       "      <td>0</td>\n",
       "    </tr>\n",
       "    <tr>\n",
       "      <th>3</th>\n",
       "      <td>0</td>\n",
       "      <td>951</td>\n",
       "      <td>0</td>\n",
       "    </tr>\n",
       "    <tr>\n",
       "      <th>4</th>\n",
       "      <td>0</td>\n",
       "      <td>389</td>\n",
       "      <td>0</td>\n",
       "    </tr>\n",
       "    <tr>\n",
       "      <th>...</th>\n",
       "      <td>...</td>\n",
       "      <td>...</td>\n",
       "      <td>...</td>\n",
       "    </tr>\n",
       "    <tr>\n",
       "      <th>571266</th>\n",
       "      <td>0</td>\n",
       "      <td>3772</td>\n",
       "      <td>0</td>\n",
       "    </tr>\n",
       "    <tr>\n",
       "      <th>571267</th>\n",
       "      <td>0</td>\n",
       "      <td>4219</td>\n",
       "      <td>0</td>\n",
       "    </tr>\n",
       "    <tr>\n",
       "      <th>571273</th>\n",
       "      <td>0</td>\n",
       "      <td>6427</td>\n",
       "      <td>0</td>\n",
       "    </tr>\n",
       "    <tr>\n",
       "      <th>606105</th>\n",
       "      <td>0</td>\n",
       "      <td>1782</td>\n",
       "      <td>0</td>\n",
       "    </tr>\n",
       "    <tr>\n",
       "      <th>613278</th>\n",
       "      <td>0</td>\n",
       "      <td>2573</td>\n",
       "      <td>0</td>\n",
       "    </tr>\n",
       "  </tbody>\n",
       "</table>\n",
       "<p>5404 rows × 3 columns</p>\n",
       "</div>"
      ],
      "text/plain": [
       "        bounces  time_on_site  will_buy_on_return_visit\n",
       "0             0           733                         0\n",
       "1             1             0                         0\n",
       "2             0            45                         0\n",
       "3             0           951                         0\n",
       "4             0           389                         0\n",
       "...         ...           ...                       ...\n",
       "571266        0          3772                         0\n",
       "571267        0          4219                         0\n",
       "571273        0          6427                         0\n",
       "606105        0          1782                         0\n",
       "613278        0          2573                         0\n",
       "\n",
       "[5404 rows x 3 columns]"
      ]
     },
     "execution_count": 218,
     "metadata": {},
     "output_type": "execute_result"
    }
   ],
   "source": [
    "# Re-check dataset_1\n",
    "df_1"
   ]
  },
  {
   "cell_type": "markdown",
   "metadata": {},
   "source": [
    "**The summary of dataset_1**:\n",
    "- There are 3 integer columns\n",
    "- The final shape after dropping the duplicated rows are: 5404 rows × 3 columns\n",
    "\n",
    "- Numerical column = ['time_on_site']\n",
    "- Categorical column= ['bounces']\n",
    "- Our target = ['will_buy_on_return_visit']"
   ]
  },
  {
   "cell_type": "markdown",
   "metadata": {},
   "source": [
    "**dataset_2**"
   ]
  },
  {
   "cell_type": "code",
   "execution_count": 219,
   "metadata": {},
   "outputs": [
    {
     "data": {
      "text/html": [
       "<div>\n",
       "<style scoped>\n",
       "    .dataframe tbody tr th:only-of-type {\n",
       "        vertical-align: middle;\n",
       "    }\n",
       "\n",
       "    .dataframe tbody tr th {\n",
       "        vertical-align: top;\n",
       "    }\n",
       "\n",
       "    .dataframe thead th {\n",
       "        text-align: right;\n",
       "    }\n",
       "</style>\n",
       "<table border=\"1\" class=\"dataframe\">\n",
       "  <thead>\n",
       "    <tr style=\"text-align: right;\">\n",
       "      <th></th>\n",
       "      <th>will_buy_on_return_visit</th>\n",
       "      <th>latest_ecommerce_progress</th>\n",
       "      <th>bounces</th>\n",
       "      <th>time_on_site</th>\n",
       "      <th>pageviews</th>\n",
       "      <th>source</th>\n",
       "      <th>medium</th>\n",
       "      <th>channelGrouping</th>\n",
       "      <th>deviceCategory</th>\n",
       "      <th>country</th>\n",
       "    </tr>\n",
       "  </thead>\n",
       "  <tbody>\n",
       "    <tr>\n",
       "      <th>0</th>\n",
       "      <td>0</td>\n",
       "      <td>0</td>\n",
       "      <td>0</td>\n",
       "      <td>54</td>\n",
       "      <td>5.0</td>\n",
       "      <td>(direct)</td>\n",
       "      <td>(none)</td>\n",
       "      <td>Direct</td>\n",
       "      <td>desktop</td>\n",
       "      <td>Argentina</td>\n",
       "    </tr>\n",
       "    <tr>\n",
       "      <th>1</th>\n",
       "      <td>0</td>\n",
       "      <td>0</td>\n",
       "      <td>0</td>\n",
       "      <td>167</td>\n",
       "      <td>5.0</td>\n",
       "      <td>(direct)</td>\n",
       "      <td>(none)</td>\n",
       "      <td>Direct</td>\n",
       "      <td>mobile</td>\n",
       "      <td>India</td>\n",
       "    </tr>\n",
       "    <tr>\n",
       "      <th>2</th>\n",
       "      <td>0</td>\n",
       "      <td>0</td>\n",
       "      <td>0</td>\n",
       "      <td>184</td>\n",
       "      <td>5.0</td>\n",
       "      <td>google</td>\n",
       "      <td>organic</td>\n",
       "      <td>Organic Search</td>\n",
       "      <td>desktop</td>\n",
       "      <td>Ireland</td>\n",
       "    </tr>\n",
       "    <tr>\n",
       "      <th>3</th>\n",
       "      <td>0</td>\n",
       "      <td>0</td>\n",
       "      <td>0</td>\n",
       "      <td>141</td>\n",
       "      <td>5.0</td>\n",
       "      <td>google</td>\n",
       "      <td>organic</td>\n",
       "      <td>Organic Search</td>\n",
       "      <td>desktop</td>\n",
       "      <td>Belarus</td>\n",
       "    </tr>\n",
       "    <tr>\n",
       "      <th>4</th>\n",
       "      <td>0</td>\n",
       "      <td>0</td>\n",
       "      <td>0</td>\n",
       "      <td>715</td>\n",
       "      <td>5.0</td>\n",
       "      <td>google</td>\n",
       "      <td>organic</td>\n",
       "      <td>Organic Search</td>\n",
       "      <td>desktop</td>\n",
       "      <td>Israel</td>\n",
       "    </tr>\n",
       "    <tr>\n",
       "      <th>...</th>\n",
       "      <td>...</td>\n",
       "      <td>...</td>\n",
       "      <td>...</td>\n",
       "      <td>...</td>\n",
       "      <td>...</td>\n",
       "      <td>...</td>\n",
       "      <td>...</td>\n",
       "      <td>...</td>\n",
       "      <td>...</td>\n",
       "      <td>...</td>\n",
       "    </tr>\n",
       "    <tr>\n",
       "      <th>623935</th>\n",
       "      <td>0</td>\n",
       "      <td>0</td>\n",
       "      <td>0</td>\n",
       "      <td>41</td>\n",
       "      <td>3.0</td>\n",
       "      <td>plus.google.com</td>\n",
       "      <td>referral</td>\n",
       "      <td>Social</td>\n",
       "      <td>desktop</td>\n",
       "      <td>United States</td>\n",
       "    </tr>\n",
       "    <tr>\n",
       "      <th>623936</th>\n",
       "      <td>0</td>\n",
       "      <td>0</td>\n",
       "      <td>0</td>\n",
       "      <td>27</td>\n",
       "      <td>3.0</td>\n",
       "      <td>t.co</td>\n",
       "      <td>referral</td>\n",
       "      <td>Social</td>\n",
       "      <td>mobile</td>\n",
       "      <td>United States</td>\n",
       "    </tr>\n",
       "    <tr>\n",
       "      <th>623937</th>\n",
       "      <td>0</td>\n",
       "      <td>0</td>\n",
       "      <td>0</td>\n",
       "      <td>50</td>\n",
       "      <td>3.0</td>\n",
       "      <td>m.facebook.com</td>\n",
       "      <td>referral</td>\n",
       "      <td>Social</td>\n",
       "      <td>mobile</td>\n",
       "      <td>United States</td>\n",
       "    </tr>\n",
       "    <tr>\n",
       "      <th>623938</th>\n",
       "      <td>0</td>\n",
       "      <td>0</td>\n",
       "      <td>0</td>\n",
       "      <td>188</td>\n",
       "      <td>3.0</td>\n",
       "      <td>youtube.com</td>\n",
       "      <td>referral</td>\n",
       "      <td>Social</td>\n",
       "      <td>desktop</td>\n",
       "      <td>India</td>\n",
       "    </tr>\n",
       "    <tr>\n",
       "      <th>623939</th>\n",
       "      <td>0</td>\n",
       "      <td>0</td>\n",
       "      <td>0</td>\n",
       "      <td>134</td>\n",
       "      <td>3.0</td>\n",
       "      <td>youtube.com</td>\n",
       "      <td>referral</td>\n",
       "      <td>Social</td>\n",
       "      <td>desktop</td>\n",
       "      <td>India</td>\n",
       "    </tr>\n",
       "  </tbody>\n",
       "</table>\n",
       "<p>623940 rows × 10 columns</p>\n",
       "</div>"
      ],
      "text/plain": [
       "        will_buy_on_return_visit  latest_ecommerce_progress  bounces  \\\n",
       "0                              0                          0        0   \n",
       "1                              0                          0        0   \n",
       "2                              0                          0        0   \n",
       "3                              0                          0        0   \n",
       "4                              0                          0        0   \n",
       "...                          ...                        ...      ...   \n",
       "623935                         0                          0        0   \n",
       "623936                         0                          0        0   \n",
       "623937                         0                          0        0   \n",
       "623938                         0                          0        0   \n",
       "623939                         0                          0        0   \n",
       "\n",
       "        time_on_site  pageviews           source    medium channelGrouping  \\\n",
       "0                 54        5.0         (direct)    (none)          Direct   \n",
       "1                167        5.0         (direct)    (none)          Direct   \n",
       "2                184        5.0           google   organic  Organic Search   \n",
       "3                141        5.0           google   organic  Organic Search   \n",
       "4                715        5.0           google   organic  Organic Search   \n",
       "...              ...        ...              ...       ...             ...   \n",
       "623935            41        3.0  plus.google.com  referral          Social   \n",
       "623936            27        3.0             t.co  referral          Social   \n",
       "623937            50        3.0   m.facebook.com  referral          Social   \n",
       "623938           188        3.0      youtube.com  referral          Social   \n",
       "623939           134        3.0      youtube.com  referral          Social   \n",
       "\n",
       "       deviceCategory        country  \n",
       "0             desktop      Argentina  \n",
       "1              mobile          India  \n",
       "2             desktop        Ireland  \n",
       "3             desktop        Belarus  \n",
       "4             desktop         Israel  \n",
       "...               ...            ...  \n",
       "623935        desktop  United States  \n",
       "623936         mobile  United States  \n",
       "623937         mobile  United States  \n",
       "623938        desktop          India  \n",
       "623939        desktop          India  \n",
       "\n",
       "[623940 rows x 10 columns]"
      ]
     },
     "execution_count": 219,
     "metadata": {},
     "output_type": "execute_result"
    }
   ],
   "source": [
    "# Load dataset_2\n",
    "df_2_ori = pd.read_csv(\"dataset_2.csv\")\n",
    "\n",
    "# Duplicate dataset_2\n",
    "df_2 = df_2_ori.copy()\n",
    "\n",
    "# Show dataset_2\n",
    "df_2"
   ]
  },
  {
   "cell_type": "code",
   "execution_count": 220,
   "metadata": {},
   "outputs": [
    {
     "name": "stdout",
     "output_type": "stream",
     "text": [
      "<class 'pandas.core.frame.DataFrame'>\n",
      "RangeIndex: 623940 entries, 0 to 623939\n",
      "Data columns (total 10 columns):\n",
      " #   Column                     Non-Null Count   Dtype  \n",
      "---  ------                     --------------   -----  \n",
      " 0   will_buy_on_return_visit   623940 non-null  int64  \n",
      " 1   latest_ecommerce_progress  623940 non-null  int64  \n",
      " 2   bounces                    623940 non-null  int64  \n",
      " 3   time_on_site               623940 non-null  int64  \n",
      " 4   pageviews                  623926 non-null  float64\n",
      " 5   source                     623940 non-null  object \n",
      " 6   medium                     623940 non-null  object \n",
      " 7   channelGrouping            623940 non-null  object \n",
      " 8   deviceCategory             623940 non-null  object \n",
      " 9   country                    623940 non-null  object \n",
      "dtypes: float64(1), int64(4), object(5)\n",
      "memory usage: 47.6+ MB\n"
     ]
    }
   ],
   "source": [
    "# Check dataset_2 using .info()\n",
    "df_2.info()"
   ]
  },
  {
   "cell_type": "markdown",
   "metadata": {},
   "source": [
    "There are 4 columns of `int64` type:\n",
    "- `bounces`: Indicates whether the visitor leaves the website immediately without taking any action (1 = Yes, 0 = No)\n",
    "- `time_on_site`: The length of time visitors spend on the website\n",
    "- `will_buy_on_return_visit`: Indicates whether the visitor will make a purchase when revisiting the website (1 = Yes, 0 = No)\n",
    "- `latest_ecommerce_progress`: the latest action that visitors did, the number ranges from 0 to 8: \n",
    "    - Click through of product lists = 1\n",
    "    - Product detail views = 2\n",
    "    - Add product(s) to cart = 3\n",
    "    - Remove product(s) from cart = 4\n",
    "    - Check out = 5\n",
    "    - Completed purchase = 6\n",
    "    - Refund of purchase = 7\n",
    "    - Checkout options = 8\n",
    "    - Unknown = 0\n",
    "\n",
    "1 columns of `float64` type:\n",
    "- `pageviews`: The number of pages visitors viewed\n",
    "\n",
    "5 columns of `object` type:\n",
    "- `source`: The source of the traffic source (the search engine, the referring hostname, or a value of the utm_source URL parameter)\n",
    "- `medium`: The medium of the traffic source. (\"organic\", \"cpc\", \"referral\", or the value of the utm_medium URL parameter)\n",
    "- `channelGrouping`: The Default Channel Group associated with an end user's session for this View.\n",
    "- `deviceCategory`: The type of device (Mobile, Tablet, Desktop).\n",
    "- `country`: The country from which sessions originated, based on IP address."
   ]
  },
  {
   "cell_type": "markdown",
   "metadata": {},
   "source": [
    "**Check duplicates in dataset_2**\n",
    "\n",
    "We will also check if dataset_2 has any duplicates, if it does, we will drop all the duplicated data as well."
   ]
  },
  {
   "cell_type": "code",
   "execution_count": 221,
   "metadata": {},
   "outputs": [
    {
     "data": {
      "text/plain": [
       "438629"
      ]
     },
     "execution_count": 221,
     "metadata": {},
     "output_type": "execute_result"
    }
   ],
   "source": [
    "# Check duplicates\n",
    "df_2.duplicated().sum()"
   ]
  },
  {
   "cell_type": "code",
   "execution_count": 222,
   "metadata": {},
   "outputs": [],
   "source": [
    "# Drop duplicates\n",
    "df_2.drop_duplicates(inplace=True)"
   ]
  },
  {
   "cell_type": "code",
   "execution_count": 223,
   "metadata": {},
   "outputs": [
    {
     "data": {
      "text/plain": [
       "0"
      ]
     },
     "execution_count": 223,
     "metadata": {},
     "output_type": "execute_result"
    }
   ],
   "source": [
    "# Re-check duplicates\n",
    "df_2.duplicated().sum()"
   ]
  },
  {
   "cell_type": "code",
   "execution_count": 224,
   "metadata": {},
   "outputs": [
    {
     "data": {
      "text/html": [
       "<div>\n",
       "<style scoped>\n",
       "    .dataframe tbody tr th:only-of-type {\n",
       "        vertical-align: middle;\n",
       "    }\n",
       "\n",
       "    .dataframe tbody tr th {\n",
       "        vertical-align: top;\n",
       "    }\n",
       "\n",
       "    .dataframe thead th {\n",
       "        text-align: right;\n",
       "    }\n",
       "</style>\n",
       "<table border=\"1\" class=\"dataframe\">\n",
       "  <thead>\n",
       "    <tr style=\"text-align: right;\">\n",
       "      <th></th>\n",
       "      <th>will_buy_on_return_visit</th>\n",
       "      <th>latest_ecommerce_progress</th>\n",
       "      <th>bounces</th>\n",
       "      <th>time_on_site</th>\n",
       "      <th>pageviews</th>\n",
       "      <th>source</th>\n",
       "      <th>medium</th>\n",
       "      <th>channelGrouping</th>\n",
       "      <th>deviceCategory</th>\n",
       "      <th>country</th>\n",
       "    </tr>\n",
       "  </thead>\n",
       "  <tbody>\n",
       "    <tr>\n",
       "      <th>0</th>\n",
       "      <td>0</td>\n",
       "      <td>0</td>\n",
       "      <td>0</td>\n",
       "      <td>54</td>\n",
       "      <td>5.0</td>\n",
       "      <td>(direct)</td>\n",
       "      <td>(none)</td>\n",
       "      <td>Direct</td>\n",
       "      <td>desktop</td>\n",
       "      <td>Argentina</td>\n",
       "    </tr>\n",
       "    <tr>\n",
       "      <th>1</th>\n",
       "      <td>0</td>\n",
       "      <td>0</td>\n",
       "      <td>0</td>\n",
       "      <td>167</td>\n",
       "      <td>5.0</td>\n",
       "      <td>(direct)</td>\n",
       "      <td>(none)</td>\n",
       "      <td>Direct</td>\n",
       "      <td>mobile</td>\n",
       "      <td>India</td>\n",
       "    </tr>\n",
       "    <tr>\n",
       "      <th>2</th>\n",
       "      <td>0</td>\n",
       "      <td>0</td>\n",
       "      <td>0</td>\n",
       "      <td>184</td>\n",
       "      <td>5.0</td>\n",
       "      <td>google</td>\n",
       "      <td>organic</td>\n",
       "      <td>Organic Search</td>\n",
       "      <td>desktop</td>\n",
       "      <td>Ireland</td>\n",
       "    </tr>\n",
       "    <tr>\n",
       "      <th>3</th>\n",
       "      <td>0</td>\n",
       "      <td>0</td>\n",
       "      <td>0</td>\n",
       "      <td>141</td>\n",
       "      <td>5.0</td>\n",
       "      <td>google</td>\n",
       "      <td>organic</td>\n",
       "      <td>Organic Search</td>\n",
       "      <td>desktop</td>\n",
       "      <td>Belarus</td>\n",
       "    </tr>\n",
       "    <tr>\n",
       "      <th>4</th>\n",
       "      <td>0</td>\n",
       "      <td>0</td>\n",
       "      <td>0</td>\n",
       "      <td>715</td>\n",
       "      <td>5.0</td>\n",
       "      <td>google</td>\n",
       "      <td>organic</td>\n",
       "      <td>Organic Search</td>\n",
       "      <td>desktop</td>\n",
       "      <td>Israel</td>\n",
       "    </tr>\n",
       "    <tr>\n",
       "      <th>...</th>\n",
       "      <td>...</td>\n",
       "      <td>...</td>\n",
       "      <td>...</td>\n",
       "      <td>...</td>\n",
       "      <td>...</td>\n",
       "      <td>...</td>\n",
       "      <td>...</td>\n",
       "      <td>...</td>\n",
       "      <td>...</td>\n",
       "      <td>...</td>\n",
       "    </tr>\n",
       "    <tr>\n",
       "      <th>623932</th>\n",
       "      <td>0</td>\n",
       "      <td>0</td>\n",
       "      <td>0</td>\n",
       "      <td>103</td>\n",
       "      <td>3.0</td>\n",
       "      <td>m.facebook.com</td>\n",
       "      <td>referral</td>\n",
       "      <td>Social</td>\n",
       "      <td>mobile</td>\n",
       "      <td>France</td>\n",
       "    </tr>\n",
       "    <tr>\n",
       "      <th>623934</th>\n",
       "      <td>0</td>\n",
       "      <td>0</td>\n",
       "      <td>0</td>\n",
       "      <td>49</td>\n",
       "      <td>3.0</td>\n",
       "      <td>youtube.com</td>\n",
       "      <td>referral</td>\n",
       "      <td>Social</td>\n",
       "      <td>desktop</td>\n",
       "      <td>Denmark</td>\n",
       "    </tr>\n",
       "    <tr>\n",
       "      <th>623935</th>\n",
       "      <td>0</td>\n",
       "      <td>0</td>\n",
       "      <td>0</td>\n",
       "      <td>41</td>\n",
       "      <td>3.0</td>\n",
       "      <td>plus.google.com</td>\n",
       "      <td>referral</td>\n",
       "      <td>Social</td>\n",
       "      <td>desktop</td>\n",
       "      <td>United States</td>\n",
       "    </tr>\n",
       "    <tr>\n",
       "      <th>623936</th>\n",
       "      <td>0</td>\n",
       "      <td>0</td>\n",
       "      <td>0</td>\n",
       "      <td>27</td>\n",
       "      <td>3.0</td>\n",
       "      <td>t.co</td>\n",
       "      <td>referral</td>\n",
       "      <td>Social</td>\n",
       "      <td>mobile</td>\n",
       "      <td>United States</td>\n",
       "    </tr>\n",
       "    <tr>\n",
       "      <th>623937</th>\n",
       "      <td>0</td>\n",
       "      <td>0</td>\n",
       "      <td>0</td>\n",
       "      <td>50</td>\n",
       "      <td>3.0</td>\n",
       "      <td>m.facebook.com</td>\n",
       "      <td>referral</td>\n",
       "      <td>Social</td>\n",
       "      <td>mobile</td>\n",
       "      <td>United States</td>\n",
       "    </tr>\n",
       "  </tbody>\n",
       "</table>\n",
       "<p>185311 rows × 10 columns</p>\n",
       "</div>"
      ],
      "text/plain": [
       "        will_buy_on_return_visit  latest_ecommerce_progress  bounces  \\\n",
       "0                              0                          0        0   \n",
       "1                              0                          0        0   \n",
       "2                              0                          0        0   \n",
       "3                              0                          0        0   \n",
       "4                              0                          0        0   \n",
       "...                          ...                        ...      ...   \n",
       "623932                         0                          0        0   \n",
       "623934                         0                          0        0   \n",
       "623935                         0                          0        0   \n",
       "623936                         0                          0        0   \n",
       "623937                         0                          0        0   \n",
       "\n",
       "        time_on_site  pageviews           source    medium channelGrouping  \\\n",
       "0                 54        5.0         (direct)    (none)          Direct   \n",
       "1                167        5.0         (direct)    (none)          Direct   \n",
       "2                184        5.0           google   organic  Organic Search   \n",
       "3                141        5.0           google   organic  Organic Search   \n",
       "4                715        5.0           google   organic  Organic Search   \n",
       "...              ...        ...              ...       ...             ...   \n",
       "623932           103        3.0   m.facebook.com  referral          Social   \n",
       "623934            49        3.0      youtube.com  referral          Social   \n",
       "623935            41        3.0  plus.google.com  referral          Social   \n",
       "623936            27        3.0             t.co  referral          Social   \n",
       "623937            50        3.0   m.facebook.com  referral          Social   \n",
       "\n",
       "       deviceCategory        country  \n",
       "0             desktop      Argentina  \n",
       "1              mobile          India  \n",
       "2             desktop        Ireland  \n",
       "3             desktop        Belarus  \n",
       "4             desktop         Israel  \n",
       "...               ...            ...  \n",
       "623932         mobile         France  \n",
       "623934        desktop        Denmark  \n",
       "623935        desktop  United States  \n",
       "623936         mobile  United States  \n",
       "623937         mobile  United States  \n",
       "\n",
       "[185311 rows x 10 columns]"
      ]
     },
     "execution_count": 224,
     "metadata": {},
     "output_type": "execute_result"
    }
   ],
   "source": [
    "# Re-check dataset_2\n",
    "df_2"
   ]
  },
  {
   "cell_type": "markdown",
   "metadata": {},
   "source": [
    "**The final summary of dataset_2**:\n",
    "- There are 4 integer columns, 1 float, and 5 object\n",
    "- The final shape after dropping the duplicated rows are: 185311 rows × 10 columns\n",
    "\n",
    "- Numerical column = ['time_on_site', 'pageviews']\n",
    "- Categorical nominal = ['bounces', 'source', 'medium', 'channelGrouping', 'deviceCategory', 'country']\n",
    "- Categorical ordinal = ['latest_ecommerce_progress']\n",
    "- Our target = ['will_buy_on_return_visit']"
   ]
  },
  {
   "cell_type": "markdown",
   "metadata": {},
   "source": [
    "# **vi. Exploratory Data Analysis (EDA)**\n",
    "\n",
    "Here, we will do exploratory data analysis to understand the data better, what can we get from the data, and lastly to see if we need to do extra step to extract more information in the Feature Engineering step."
   ]
  },
  {
   "cell_type": "markdown",
   "metadata": {},
   "source": [
    "## **dataset_1 EDA**"
   ]
  },
  {
   "cell_type": "code",
   "execution_count": 225,
   "metadata": {},
   "outputs": [
    {
     "name": "stdout",
     "output_type": "stream",
     "text": [
      "Unique value counts of 'bounces': 2\n",
      "Unique value counts of 'time_on_site': 3619\n",
      "Unique value counts of 'will_buy_on_return_visit': 2\n",
      "Wide numerical column: ['time_on_site']\n",
      "Small numerical column: ['bounces', 'will_buy_on_return_visit']\n"
     ]
    }
   ],
   "source": [
    "# Check unique values of numerical columns to decide what visualization to use for each column\n",
    "\n",
    "num_wide_1 = [] # for numerical columns with wide range\n",
    "num_small_1 = [] # for numerical columns with small range\n",
    "\n",
    "for col in df_1.columns:\n",
    "    if df_1[col].dtype != 'object':\n",
    "        unique = df_1[col].value_counts().count()\n",
    "        print(f\"Unique value counts of '{col}': {unique}\")\n",
    "        if unique > 10:\n",
    "            num_wide_1.append(col)\n",
    "        else:\n",
    "            num_small_1.append(col)\n",
    "\n",
    "print(f'Wide numerical column: {num_wide_1}')\n",
    "print(f'Small numerical column: {num_small_1}')"
   ]
  },
  {
   "cell_type": "markdown",
   "metadata": {},
   "source": [
    "**Visualization for wide numerical column**"
   ]
  },
  {
   "cell_type": "code",
   "execution_count": 226,
   "metadata": {},
   "outputs": [
    {
     "data": {
      "image/png": "[encoded data removed]",
      "text/plain": [
       "<Figure size 1500x500 with 2 Axes>"
      ]
     },
     "metadata": {},
     "output_type": "display_data"
    }
   ],
   "source": [
    "# Create canvas\n",
    "plt.figure(figsize=(15,5))\n",
    "\n",
    "# Plot histogram for the column\n",
    "plt.subplot(1,2,1)\n",
    "sns.histplot(df_1.time_on_site, kde=True,bins=20)\n",
    "plt.title(f'Distribution of dataset_1: time_on_site')\n",
    "plt.xlabel('time_on_site')\n",
    "\n",
    "# Plot boxplot for the column\n",
    "plt.subplot(1,2,2)\n",
    "df_1.time_on_site.plot(kind='box')\n",
    "plt.title(f'Boxplot of dataset_1: time_on_site')\n",
    "\n",
    "# Show\n",
    "plt.show()"
   ]
  },
  {
   "cell_type": "markdown",
   "metadata": {},
   "source": [
    "**Insights**\n",
    "\n",
    "- `time_on_site` has right-skewed distribution\n",
    "- `time_on_site` has outliers, we will need to handle the outliers depending on further analysis (percentage of the outliers)"
   ]
  },
  {
   "cell_type": "markdown",
   "metadata": {},
   "source": [
    "**Visualization for small numerical column**"
   ]
  },
  {
   "cell_type": "code",
   "execution_count": 227,
   "metadata": {},
   "outputs": [
    {
     "name": "stdout",
     "output_type": "stream",
     "text": [
      "Unique value of: bounces\n",
      "0    5401\n",
      "1       3\n",
      "Name: count, dtype: int64\n",
      "Unique value of: will_buy_on_return_visit\n",
      "0    3519\n",
      "1    1885\n",
      "Name: count, dtype: int64\n"
     ]
    }
   ],
   "source": [
    "# Small range numerical column\n",
    "for col in num_small_1:\n",
    "    unique_val = df_1[col].value_counts()\n",
    "    print(f\"Unique value of: {unique_val}\")"
   ]
  },
  {
   "cell_type": "code",
   "execution_count": 228,
   "metadata": {},
   "outputs": [
    {
     "data": {
      "image/png": "[encoded data removed]",
      "text/plain": [
       "<Figure size 800x500 with 1 Axes>"
      ]
     },
     "metadata": {},
     "output_type": "display_data"
    },
    {
     "data": {
      "image/png": "[encoded data removed]",
      "text/plain": [
       "<Figure size 800x500 with 1 Axes>"
      ]
     },
     "metadata": {},
     "output_type": "display_data"
    }
   ],
   "source": [
    "# Small range numerical column\n",
    "for col in num_small_1:\n",
    "\n",
    "    # Create a canvas\n",
    "    plt.figure(figsize=(8,5))\n",
    "\n",
    "    # Plot histogram for the column\n",
    "    sns.histplot(df_1[col], bins=df_1[col].nunique())\n",
    "    plt.title(f'Distribution of {col}')\n",
    "    plt.xlabel(f'{col}')\n",
    "    \n",
    "    # Show\n",
    "    plt.show()"
   ]
  },
  {
   "cell_type": "markdown",
   "metadata": {},
   "source": [
    "**Insights**\n",
    "\n",
    "- `bounces` is imbalanced, as the majority of the value is 0 (5401 rows), an the rest is 1 (3 rows)\n",
    "- `will_buy_on_return_visit` is also imbalanced, however we will not balance the data for dataset_1, since it seems that the ratio is roughly 60:40 (0 to 1)"
   ]
  },
  {
   "cell_type": "markdown",
   "metadata": {},
   "source": [
    "**Correlation Matrix for dataset_1**"
   ]
  },
  {
   "cell_type": "code",
   "execution_count": 229,
   "metadata": {},
   "outputs": [
    {
     "data": {
      "image/png": "[encoded data removed]",
      "text/plain": [
       "<Figure size 640x480 with 2 Axes>"
      ]
     },
     "metadata": {},
     "output_type": "display_data"
    }
   ],
   "source": [
    "# Correlation matrix\n",
    "corr_matrix = df_1[['bounces', 'time_on_site', 'will_buy_on_return_visit']].corr()\n",
    "sns.heatmap(corr_matrix, annot=True)\n",
    "plt.title(\"Correlation Matrix of dataset_1\")\n",
    "plt.show()"
   ]
  },
  {
   "cell_type": "markdown",
   "metadata": {},
   "source": [
    "**Insights**\n",
    "\n",
    "`time_on_site` has a stronger correlation with the target feature compared to `bounces`, the gap is quite big.\n",
    "\n",
    "However, we will not drop `bounces` as the number could be caused by the imbalanced data."
   ]
  },
  {
   "cell_type": "markdown",
   "metadata": {},
   "source": [
    "## **dataset_2 EDA**"
   ]
  },
  {
   "cell_type": "code",
   "execution_count": 230,
   "metadata": {},
   "outputs": [
    {
     "name": "stdout",
     "output_type": "stream",
     "text": [
      "Unique value counts of 'source': 294\n",
      "Unique value counts of 'medium': 7\n",
      "Unique value counts of 'channelGrouping': 8\n",
      "Unique value counts of 'deviceCategory': 3\n",
      "Unique value counts of 'country': 218\n"
     ]
    }
   ],
   "source": [
    "# Check unique values of object columns\n",
    "for col in df_2.columns:\n",
    "    if df_2[col].dtype == 'object':\n",
    "        unique = df_2[col].value_counts().count()\n",
    "        print(f\"Unique value counts of '{col}': {unique}\")"
   ]
  },
  {
   "cell_type": "code",
   "execution_count": 231,
   "metadata": {},
   "outputs": [
    {
     "name": "stdout",
     "output_type": "stream",
     "text": [
      "Unique value counts of 'will_buy_on_return_visit': 2\n",
      "Unique value counts of 'latest_ecommerce_progress': 7\n",
      "Unique value counts of 'bounces': 2\n",
      "Unique value counts of 'time_on_site': 3619\n",
      "Unique value counts of 'pageviews': 180\n"
     ]
    }
   ],
   "source": [
    "# Check unique values of numerical columns\n",
    "\n",
    "numerical_columns = [] \n",
    "encoded_columns = []\n",
    "\n",
    "for col in df_2.columns:\n",
    "    if df_2[col].dtype != 'object':\n",
    "        unique = df_2[col].value_counts().count()\n",
    "        print(f\"Unique value counts of '{col}': {unique}\")\n",
    "        if unique > 10:\n",
    "            numerical_columns.append(col)\n",
    "        else:\n",
    "            encoded_columns.append(col)"
   ]
  },
  {
   "cell_type": "code",
   "execution_count": 232,
   "metadata": {},
   "outputs": [
    {
     "name": "stdout",
     "output_type": "stream",
     "text": [
      "Numerical columns: ['time_on_site', 'pageviews']\n",
      "Encoded columns: ['will_buy_on_return_visit', 'latest_ecommerce_progress', 'bounces']\n"
     ]
    }
   ],
   "source": [
    "print(f'Numerical columns: {numerical_columns}')\n",
    "print(f'Encoded columns: {encoded_columns}')"
   ]
  },
  {
   "cell_type": "markdown",
   "metadata": {},
   "source": [
    "Based on the count of the unique value of each columnm, we will categorize the data into these categories, and then make a visualization loop for each category.\n",
    "\n",
    "- Numerical Columns: ['time_on_site', 'pageviews']\n",
    "- Encoded Columns: ['will_buy_on_return_visit', 'latest_ecommerce_progress', 'bounces']"
   ]
  },
  {
   "cell_type": "markdown",
   "metadata": {},
   "source": [
    "**Numerical columns visualizations**"
   ]
  },
  {
   "cell_type": "code",
   "execution_count": 233,
   "metadata": {},
   "outputs": [
    {
     "data": {
      "image/png": "[encoded data removed]",
      "text/plain": [
       "<Figure size 1500x500 with 2 Axes>"
      ]
     },
     "metadata": {},
     "output_type": "display_data"
    },
    {
     "data": {
      "image/png": "[encoded data removed]",
      "text/plain": [
       "<Figure size 1500x500 with 2 Axes>"
      ]
     },
     "metadata": {},
     "output_type": "display_data"
    }
   ],
   "source": [
    "# Wide range numerical column\n",
    "for col in numerical_columns:\n",
    "    # Create canvas\n",
    "    plt.figure(figsize=(15,5))\n",
    "\n",
    "    # Plot histogram for the column\n",
    "    plt.subplot(1,2,1)\n",
    "    sns.histplot(df_2[col], kde=True,bins=20)\n",
    "    plt.title(f'Distribution of {col}')\n",
    "    plt.xlabel(f'{col}')\n",
    "\n",
    "    # Plot boxplot for the column\n",
    "    plt.subplot(1,2,2)\n",
    "    df_2[col].plot(kind='box')\n",
    "    plt.title(f'Boxplot of {col}')\n",
    "        \n",
    "    # Show\n",
    "    plt.show()"
   ]
  },
  {
   "cell_type": "markdown",
   "metadata": {},
   "source": [
    "**Insights**\n",
    "\n",
    "From the visualizations, we can see that:  \n",
    "- Right-skewed columns: `time_on_site`, `pageviews`\n",
    "- All has outliers, we will be handling them with Winsorizer with the proper parameters for right-skewed distributions."
   ]
  },
  {
   "cell_type": "markdown",
   "metadata": {},
   "source": [
    "**Encoded columns visualization**\n",
    "\n",
    "Here we will create a visualization for each column with Histogram (to see the distribution of the data)"
   ]
  },
  {
   "cell_type": "code",
   "execution_count": 234,
   "metadata": {},
   "outputs": [
    {
     "data": {
      "image/png": "[encoded data removed]",
      "text/plain": [
       "<Figure size 800x500 with 1 Axes>"
      ]
     },
     "metadata": {},
     "output_type": "display_data"
    },
    {
     "data": {
      "image/png": "[encoded data removed]",
      "text/plain": [
       "<Figure size 800x500 with 1 Axes>"
      ]
     },
     "metadata": {},
     "output_type": "display_data"
    },
    {
     "data": {
      "image/png": "[encoded data removed]",
      "text/plain": [
       "<Figure size 800x500 with 1 Axes>"
      ]
     },
     "metadata": {},
     "output_type": "display_data"
    }
   ],
   "source": [
    "# Encoded columns visualizations\n",
    "for col in encoded_columns:\n",
    "\n",
    "    # Create a canvas\n",
    "    plt.figure(figsize=(8,5))\n",
    "\n",
    "    # Plot\n",
    "    ax = sns.countplot(x=df_2[col], palette='pastel', hue = df_2[col])\n",
    "    \n",
    "    # Percentages\n",
    "    total = len(df_2[col])\n",
    "    for p in ax.patches:\n",
    "        height = p.get_height()\n",
    "        percentage = f'{100 * height / total:.1f}%'  # Calculate percentage\n",
    "        if height > 0:\n",
    "            ax.annotate(percentage, \n",
    "                        (p.get_x() + p.get_width() / 2., height), \n",
    "                        ha='center', va='center', \n",
    "                        xytext=(0, 5), textcoords='offset points')\n",
    "            \n",
    "    # Title and labels\n",
    "    plt.title(f'Distribution of {col}')\n",
    "    plt.xlabel(f'{col}')\n",
    "    plt.ylabel('Count')\n",
    "    \n",
    "    # Show\n",
    "    plt.show()\n"
   ]
  },
  {
   "cell_type": "markdown",
   "metadata": {},
   "source": [
    "**Insights**\n",
    "\n",
    "From the visualizations, we can see that:  \n",
    "- The target `will_buy_on_return_visit` is very imbalanced with the percentage of value `0` **95.8%**, hence we will need to do data balancing (with SMOTE)\n",
    "- `latest_ecommerce_progress`: the visualization indicated that the latest action visitors did were mostly **0 (Unknown)**, however second highest latest step visitors did was **2 (viewing product details)**\n",
    "- `bounces`: the visualization indicates that most people stay the site at least until they make an action"
   ]
  },
  {
   "cell_type": "markdown",
   "metadata": {},
   "source": [
    "**Categorical columns**\n",
    "\n",
    "Here we will create 2 visualization for each column:\n",
    "\n",
    "- Countplot > to see the distribution of the data\n",
    "- Pie chart > to see the percentage of groups in a column"
   ]
  },
  {
   "cell_type": "code",
   "execution_count": 235,
   "metadata": {},
   "outputs": [
    {
     "data": {
      "image/png": "[encoded data removed]",
      "text/plain": [
       "<Figure size 1500x500 with 2 Axes>"
      ]
     },
     "metadata": {},
     "output_type": "display_data"
    },
    {
     "data": {
      "image/png": "[encoded data removed]",
      "text/plain": [
       "<Figure size 1500x500 with 2 Axes>"
      ]
     },
     "metadata": {},
     "output_type": "display_data"
    },
    {
     "data": {
      "image/png": "[encoded data removed]",
      "text/plain": [
       "<Figure size 1500x500 with 2 Axes>"
      ]
     },
     "metadata": {},
     "output_type": "display_data"
    },
    {
     "data": {
      "image/png": "[encoded data removed]",
      "text/plain": [
       "<Figure size 1500x500 with 2 Axes>"
      ]
     },
     "metadata": {},
     "output_type": "display_data"
    },
    {
     "data": {
      "image/png": "[encoded data removed]",
      "text/plain": [
       "<Figure size 1500x500 with 2 Axes>"
      ]
     },
     "metadata": {},
     "output_type": "display_data"
    }
   ],
   "source": [
    "# Function to group small percentage values into \"Other\"\n",
    "def group_other(series, threshold=0.03):\n",
    "    total = len(series)\n",
    "    value_counts = series.value_counts()\n",
    "    small_categories = value_counts[value_counts / total < threshold].index\n",
    "    return series.apply(lambda x: 'Other' if x in small_categories else x)\n",
    "\n",
    "# Categorical column\n",
    "for col in df_2.columns:\n",
    "    if df_2[col].dtype == 'object':\n",
    "        # Group into \"Other\"\n",
    "        grouped_col = group_other(df_2[col])\n",
    "\n",
    "        # Create canvas\n",
    "        plt.figure(figsize=(15, 5))\n",
    "\n",
    "        # Countplot\n",
    "        plt.subplot(1, 2, 1)\n",
    "        sns.countplot(x=grouped_col, palette='pastel', hue=grouped_col)\n",
    "        plt.title(f'Distribution of {col}')\n",
    "\n",
    "        # Pie Chart\n",
    "        plt.subplot(1, 2, 2)\n",
    "        counts = grouped_col.value_counts()\n",
    "        pastel_colors = sns.color_palette('pastel')\n",
    "        counts.plot.pie(autopct='%1.2f%%', colors=pastel_colors)\n",
    "        plt.title(f'Pie Chart of {col}')\n",
    "        plt.ylabel(\"\")\n",
    "\n",
    "        # Show\n",
    "        plt.show()"
   ]
  },
  {
   "cell_type": "markdown",
   "metadata": {},
   "source": [
    "**Insights**\n",
    "\n",
    "From the visualizations, we can see that:  \n",
    "- `source` : The top source is Google\n",
    "- `medium` : The top medium is organic, means that most of the traffic came naturally (not through paid services)\n",
    "- `channelGrouping`: The top channel is also Organic Search\n",
    "- `deviceCategory` : Most visitors accessed the site using desktop\n",
    "- `country`: The US is the second top visitors"
   ]
  },
  {
   "cell_type": "markdown",
   "metadata": {},
   "source": [
    "**Checking unique values to see if the values are proper**"
   ]
  },
  {
   "cell_type": "code",
   "execution_count": 236,
   "metadata": {},
   "outputs": [
    {
     "name": "stdout",
     "output_type": "stream",
     "text": [
      "will_buy_on_return_visit: [0 1]\n",
      "latest_ecommerce_progress: [0 3 2 1 6 5 4]\n",
      "bounces: [0 1]\n",
      "time_on_site: [  54  167  184 ... 3529 9275 4424]\n",
      "pageviews: [  5.   3.   1.   6.   7.   8.   9.  28.  13.  18.  24.   4.  10.  11.\n",
      "  12.  36.  14.  17.  16.  20.  27.  23.  26. 132.   2.  15.  34.  19.\n",
      "  25.  22.  21.  29.  33.  35.  37.  30.  32.  40.  47.  31.  48.  50.\n",
      "  51.  42. 117.  65.  41. 219.  43.  55.  46.  98.  57.  39.  38.  54.\n",
      "  44.  45.  52.  58.  49.  56.  61.  73.  53.  63.  60.  80.  68.  71.\n",
      "  66.  64.  70.  67.  72.  82.  75.  78.  88.  83. 102. 110.  90. 104.\n",
      " 121. 169. 142. 340. 431.  62.  59.  69.  81.  77.  85.  79.  76.  84.\n",
      "  86. 100.  89. 103.  92. 111. 113.  94. 126. 147. 213. 158. 205. 333.\n",
      "  nan 133. 148.  99.  74.  87. 185.  93. 114. 105. 146. 156. 341. 107.\n",
      " 115. 119. 116. 108. 122. 124. 138. 118. 176. 130. 179. 171. 358. 128.\n",
      " 125.  96. 109. 151. 183. 150. 191.  95. 123. 136. 154. 131. 165. 224.\n",
      " 202. 270. 139. 400.  91. 106. 137. 134. 141. 343.  97. 101. 127. 145.\n",
      " 189. 129. 174. 144. 195. 190. 193. 466. 112. 197. 249. 173. 149.]\n",
      "source: ['(direct)' 'google' 'youtube.com' 'dealspotr.com' 'baidu'\n",
      " 'siliconvalley.about.com' 'yahoo' 'dfa' 'docs.google.com' 'bing' 't.co'\n",
      " 'sites.google.com' 'googleux.perksplus.com' 'm.facebook.com'\n",
      " 'newclasses.nyu.edu' 'm.baidu.com' 'groups.google.com'\n",
      " 'search.tb.ask.com' 'wap.sogou.com' 'duckduckgo.com' 'ask'\n",
      " 'hangouts.google.com' 'facebook.com' 'mail.google.com' 'phandroid.com'\n",
      " 'aol' 'arstechnica.com' 'outlook.live.com' 'cases.corp.google.com'\n",
      " 'productforums.google.com' 'myactivity.google.com' 'businessinsider.com'\n",
      " 'analytics.google.com' 'reddit.com' 'mall.googleplex.com' 'Partners'\n",
      " 'moma.corp.google.com' 'int.search.tb.ask.com' 'google.com' 'qiita.com'\n",
      " 'google.nl' 'seroundtable.com' 'feedly.com' 'gdeals.googleplex.com'\n",
      " 'sashihara.jp' 'brewmaster.corp.google.com' 'quora.com' 'plus.google.com'\n",
      " 'blog.golang.org' 'tpc.googlesyndication.com' 'lunametrics.com'\n",
      " 'google.co.uk' 'google.co.jp' 'web.mail.comcast.net'\n",
      " 'uk.businessinsider.com' 'gophergala.com' 'drawnames.com' 'startpage.com'\n",
      " 'good.barkpost.com' 'google.com.br' 'cn.bing.com' 'images.google'\n",
      " 'l.facebook.com' 'fr.search.yahoo.com' 'google.co.th'\n",
      " 'dynamite.sandbox.google.com' 'support.google.com' 'keep.google.com'\n",
      " 'googleweblight.com' 'plus.url.google.com' 'google.com.sg'\n",
      " 'mg.mail.yahoo.com' 'google.es' 'connect.googleforwork.com' 'google.it'\n",
      " 'plus.sandbox.google.com' 'google.com.ph' 'google.ca'\n",
      " '0.shared.bow.cat2.ads-bow.yw.borg.google.com:9862' 'chat.google.com'\n",
      " 'nordic.businessinsider.com' 'google.com.au' 's0.2mdn.net'\n",
      " 'search.xfinity.com' 'm.reddit.com' 'google.be' 'messenger.com' 'vk.com'\n",
      " 'blognone.com' 'pinterest.com' 'm.sogou.com' 'br.search.yahoo.com'\n",
      " 'us.search.yahoo.com' 'it.search.yahoo.com' 'se.search.yahoo.com'\n",
      " 'au.search.yahoo.com' 'ca.search.yahoo.com' 'google.pl' 'ausdroid.net'\n",
      " 'uk.search.yahoo.com' 'baidu.com' 'so.com' 'go.mail.ru'\n",
      " 'search.myway.com' 'linkedin.com' 'lm.facebook.com' 'm.vk.com'\n",
      " 'googleads.g.doubleclick.net' 'squishable.com' 'new.vk.com'\n",
      " 'google.co.in' 'cv.il3.ub.edu' 'luyaochen.mtv.corp.google.com:8080'\n",
      " 'search.mysearch.com' 'getiriver.com' 'google.co.id'\n",
      " 'crowdcompute.googleplex.com' 'adwords-displayads.googleusercontent.com'\n",
      " 'online-metrics.com' '0.shared.bow.cat2.ads-bow.yw.borg.google.com:9813'\n",
      " 'cl-cards.googleplex.com' 'github.com' 'uweoconnect.extn.washington.edu'\n",
      " 'course.fso.fullsail.edu' 'learn.temple.edu' 'mail.verizon.com'\n",
      " 'kristiyan.users.x20web.corp.google.com'\n",
      " 'ics-devel-west.qa.adz.google.com'\n",
      " '0.shared.bow.cat2.ads-bow.qk.borg.google.com:9859' 'away.vk.com'\n",
      " '0.muppet1.frontend.gws.muppet-exp.ij-q.borg.google.com:14634'\n",
      " 'searchlock.com' '0.shared.bow.cat2.ads-bow.vu.borg.google.com:9883'\n",
      " 'members.s7.exacttarget.com' 'dena-design.qiita.com' 'evernote.com'\n",
      " 'google.com.hk' 'learn.colorado.edu' 'google.ch' 'flipboard.com'\n",
      " 'notifications.sandbox.google.com' 'kidrex.org' 'h.yandex-team.ru'\n",
      " 'google.gr' 'images.google.lk' 'markets.businessinsider.com'\n",
      " 'm.youtube.com' 'google.com.co' 'l.messenger.com'\n",
      " 'csfirst.withgoogle.com' 'marketingland.com' 'google.de'\n",
      " 'apis.mail.yahoo.com' 'adwords.google.com' 'yahoo.com'\n",
      " 'tw.search.yahoo.com' '0.shared.bow.cat2.ads-bow.qk.borg.google.com:9830'\n",
      " 'wheretoget.it' 'images.google.de' 'analytics.corp.google.com'\n",
      " 'cse.google.com' 'trainup.withgoogle.com' 'google.ru' 'images.google.fr'\n",
      " 'basecamp.com' 'bing.com' 'search.incredibar.com' 'in.search.yahoo.com'\n",
      " 'suche.t-online.de' 'google.com.ng' 'nl.yhs4.search.yahoo.com'\n",
      " '9to5google.com' '0.shared.bow.cat2.ads-bow.qk.borg.google.com:9801'\n",
      " 'optimize.google.com' 'x20web.corp.google.com'\n",
      " '0.shared.bow.cat2.ads-bow.yw.borg.google.com:9820'\n",
      " 'blackboard.towson.edu' 'awics.corp.google.com' 'google.fr'\n",
      " 'google.com.mx' 's7-eu4.ixquick.com' 'google.co.il'\n",
      " 'maktoob.search.yahoo.com' 'images.google.co.in' 'finance.yahoo.com'\n",
      " 'en.wikipedia.org' 'kik.com' 'getpocket.com' 'twitter.com' 'mysearch.com'\n",
      " 'web.telegram.org' 'google.com.ua' 'prod.facebook.com'\n",
      " 'newsstand.google.com' 'google.no' 'us-mg5.mail.yahoo.com' 'google.se'\n",
      " 'tweetdeck.twitter.com' 'login.corp.google.com' 'web.whatsapp.com'\n",
      " 'goto.google.com' 'redbull.corp.google.com' 'ph.search.yahoo.com'\n",
      " 'google.ro' 'chatwork.com' 'adwords-displayads-nightly.corp.google.com'\n",
      " 'google.com.tw' 'google.com.pk' 'adwords-next-nightly.qa.adz.google.com'\n",
      " 'google.rs' 'amazon.com' 'us.wow.com'\n",
      " '0.shared.bow.cat2.ads-bow.yw.borg.google.com:9885'\n",
      " 'search.earthlink.net' 'search.1and1.com' '(not set)' 'images.google.at'\n",
      " 'inbox.google.com' 'us.reddit.com' 'images.google.pt' 'ex.fit.edu'\n",
      " 'plusapp.sandbox.google.com' 'web.facebook.com' 'de.pinterest.com'\n",
      " 'desktop.google.com.ua' 'ixquick.com' 'web.skype.com' 'search.snapdo.com'\n",
      " 'sg.search.yahoo.com' 'google.co.za' 'google.co.kr' 'google.com.ar'\n",
      " 'xbidprodmirror.corp.google.com'\n",
      " '0.shared.bow.cat2.ads-bow.yw.borg.google.com:9895'\n",
      " 'business.facebook.com' 'us.yhs4.search.yahoo.com' 'google.cz'\n",
      " 'calendar.google.com' 'm.mg.mail.yahoo.com'\n",
      " '0.shared.bow.cat2.ads-bow.yw.borg.google.com:9865' 'm.yz.sm.cn'\n",
      " 'watchword.googleplex.com' 'myaccount.google.com' 'takeout.google.com'\n",
      " 'google.at' 'msn' '0.shared.bow.cat2.ads-bow.qk.borg.google.com:9848'\n",
      " '0.shared.bow.cat2.ads-bow.lf.borg.google.com:9860' 'google.co.nz'\n",
      " 'images.google.lt' 'google.com.vn' 'google.com.sa'\n",
      " '0.shared.bow.cat2.ads-bow.vk.borg.google.com:9878' 'mail.aol.com'\n",
      " 'aulagrado.esic.edu' 'pinpoint.corp.google.com' 'computerworld.com'\n",
      " 'wanelo.com' 'm.sp.sm.cn' 'lmgtfy.com' 'oscar.corp.google.com'\n",
      " 'g3doc.corp.google.com'\n",
      " '0.shared.bow.cat2.ads-bow.yw.borg.google.com:9856' 'blackboard.neu.edu'\n",
      " 'images.google.co.id' 'businessinsider.in' 'datastudio.google.com'\n",
      " 'ps-dm.reddit.com' 'cases2.corp.google.com' 'lnkd.in' 'kr.pinterest.com'\n",
      " '0.shared.bow.cat2.ads-bow.yw.borg.google.com:9850' 'hk.search.yahoo.com'\n",
      " 'oct-obscura.sandbox.google.com' 'google.cl'\n",
      " '0.shared.bow.cat2.ads-bow.yw.borg.google.com:9898'\n",
      " '0.shared.bow.cat2.ads-bow.vu.borg.google.com:9856'\n",
      " 'invincible.mtv.corp.google.com:8080' 'biztools.corp.google.com'\n",
      " 'images.google.ie' 'id.search.yahoo.com' 'spaces.google.com'\n",
      " 'dailydot.com' 'digg.com' 'se.yhs4.search.yahoo.com'\n",
      " '0.shared.bow.cat2.ads-bow.lf.borg.google.com:9898' 'google.lk'\n",
      " 'online.fullsail.edu' '0.shared.bow.cat2.ads-bow.yw.borg.google.com:9849'\n",
      " 'gdeals-stg.googleplex.com' 'start.wow.com'\n",
      " 'collaborate.northwestern.edu' 'grow.googleplex.com' 'google.sk']\n",
      "medium: ['(none)' 'organic' 'referral' 'cpm' 'cpc' 'affiliate' '(not set)']\n",
      "channelGrouping: ['Direct' 'Organic Search' 'Social' 'Referral' 'Display' 'Paid Search'\n",
      " 'Affiliates' '(Other)']\n",
      "deviceCategory: ['desktop' 'mobile' 'tablet']\n",
      "country: ['Argentina' 'India' 'Ireland' 'Belarus' 'Israel' 'United States'\n",
      " 'Australia' 'Italy' 'Switzerland' 'Brazil' 'Mexico' 'United Kingdom'\n",
      " 'Serbia' 'Kazakhstan' 'Sweden' 'Hong Kong' 'Bulgaria' 'Belgium'\n",
      " 'Indonesia' 'Russia' 'Germany' 'Ecuador' 'Japan' 'South Korea'\n",
      " 'Saudi Arabia' 'Colombia' 'Spain' 'Taiwan' 'Jordan' 'Hungary'\n",
      " 'Netherlands' 'China' 'Poland' 'Greece' 'Romania' 'Estonia' 'Sri Lanka'\n",
      " 'Venezuela' 'El Salvador' 'Slovenia' 'Guinea' 'Peru' 'Czechia' 'Turkey'\n",
      " 'Norway' 'Portugal' 'Egypt' 'Chile' 'Canada' 'France' 'Austria'\n",
      " 'Singapore' 'Croatia' 'Congo - Kinshasa' 'Thailand' 'Ukraine' 'Cyprus'\n",
      " 'Tunisia' 'Morocco' 'Vietnam' 'Algeria' 'United Arab Emirates'\n",
      " 'Philippines' 'Costa Rica' 'Malaysia' 'Denmark' 'Bosnia & Herzegovina'\n",
      " '(not set)' 'South Africa' 'Pakistan' 'New Zealand' 'Puerto Rico'\n",
      " 'Bangladesh' 'Bermuda' 'Dominican Republic' 'Equatorial Guinea'\n",
      " 'Côte d’Ivoire' 'Oman' 'Kenya' 'Guatemala' 'Armenia' 'Uruguay' 'Iraq'\n",
      " 'Nigeria' 'Luxembourg' 'Panama' 'Lithuania' 'Cameroon' 'Slovakia'\n",
      " 'Macedonia (FYROM)' 'Latvia' 'Bahrain' 'Georgia' 'Gibraltar' 'Finland'\n",
      " 'New Caledonia' 'Réunion' 'Trinidad & Tobago' 'Cambodia' 'Moldova' 'Laos'\n",
      " 'Myanmar (Burma)' 'Tanzania' 'Somalia' 'Albania' 'Ghana' 'St. Lucia'\n",
      " 'Malta' 'Kuwait' 'Brunei' 'Jersey' 'Qatar' 'Guyana' 'Sudan' 'Nicaragua'\n",
      " 'Kosovo' 'Grenada' 'Palestine' 'Jamaica' 'Honduras' 'Benin' 'Guam'\n",
      " 'Lebanon' 'Azerbaijan' 'Maldives' 'Lesotho' 'Paraguay' 'Sint Maarten'\n",
      " 'Macau' 'Sierra Leone' 'Angola' 'Guernsey' 'Haiti' 'Iceland' 'Zimbabwe'\n",
      " 'Nepal' 'Bolivia' 'Bahamas' 'Fiji' 'Zambia' 'Malawi' 'Libya' 'Mauritius'\n",
      " 'Barbados' 'Uzbekistan' 'Uganda' 'Mali' 'Aruba' 'Mozambique' 'Kyrgyzstan'\n",
      " 'Yemen' 'Curaçao' 'Suriname' 'Ethiopia' 'Gabon' 'Tajikistan' 'Mauritania'\n",
      " 'Swaziland' 'Iran' 'French Guiana' 'Burkina Faso' 'Mayotte' 'Guadeloupe'\n",
      " 'Martinique' 'Senegal' 'French Polynesia' 'Rwanda' 'Montenegro'\n",
      " 'Madagascar' 'Togo' 'Liberia' 'Turkmenistan' 'Mongolia' 'Namibia' 'Niger'\n",
      " 'Syria' 'Cape Verde' 'Andorra' 'Chad' 'Papua New Guinea'\n",
      " 'St. Kitts & Nevis' 'Antigua & Barbuda' 'Afghanistan' 'Belize' 'Monaco'\n",
      " 'Cayman Islands' 'Marshall Islands' 'Caribbean Netherlands'\n",
      " 'U.S. Virgin Islands' 'Burundi' 'St. Vincent & Grenadines' 'Timor-Leste'\n",
      " 'Guinea-Bissau' 'Comoros' 'Djibouti' 'Botswana' 'Turks & Caicos Islands'\n",
      " 'American Samoa' 'Gambia' 'Northern Mariana Islands' 'Dominica'\n",
      " 'Central African Republic' 'Cook Islands' 'Liechtenstein'\n",
      " 'British Virgin Islands' 'Faroe Islands' 'São Tomé & Príncipe'\n",
      " 'St. Pierre & Miquelon' 'Isle of Man' 'Seychelles' 'Bhutan' 'Vanuatu'\n",
      " 'Anguilla' 'Greenland' 'San Marino' 'St. Martin' 'Norfolk Island'\n",
      " 'Congo - Brazzaville']\n"
     ]
    }
   ],
   "source": [
    "for col in df_2.columns:\n",
    "    print(f'{col}: {df_2[col].unique()}')"
   ]
  },
  {
   "cell_type": "markdown",
   "metadata": {},
   "source": [
    "Since in `medium` there are 2 unproper values `(none)` and `(not set)`, we will transform them into `Unknown`"
   ]
  },
  {
   "cell_type": "code",
   "execution_count": 237,
   "metadata": {},
   "outputs": [
    {
     "data": {
      "text/plain": [
       "medium\n",
       "organic      79584\n",
       "referral     54989\n",
       "Unknown      38864\n",
       "cpc           6059\n",
       "affiliate     4880\n",
       "cpm            935\n",
       "Name: count, dtype: int64"
      ]
     },
     "execution_count": 237,
     "metadata": {},
     "output_type": "execute_result"
    }
   ],
   "source": [
    "df_2['medium'] = df_2['medium'].replace(['(none)', '(not set)'], 'Unknown')\n",
    "df_2['medium'].value_counts()"
   ]
  },
  {
   "cell_type": "markdown",
   "metadata": {},
   "source": [
    "**Answering Specific Objectives (Problem Breakdwown)**"
   ]
  },
  {
   "cell_type": "markdown",
   "metadata": {},
   "source": [
    "1. Do bounces, time_on_site, and pageviews have a high enough influence to predict the will_buy_on_return_visit target?"
   ]
  },
  {
   "cell_type": "code",
   "execution_count": 238,
   "metadata": {},
   "outputs": [
    {
     "data": {
      "image/png": "[encoded data removed]",
      "text/plain": [
       "<Figure size 640x480 with 2 Axes>"
      ]
     },
     "metadata": {},
     "output_type": "display_data"
    }
   ],
   "source": [
    "# Correlation matrix\n",
    "corr_matrix = df_2[['bounces', 'time_on_site', 'pageviews', 'will_buy_on_return_visit']].corr()\n",
    "sns.heatmap(corr_matrix, annot=True, cmap='coolwarm')\n",
    "plt.title(\"Correlation Matrix\")\n",
    "plt.show()"
   ]
  },
  {
   "cell_type": "markdown",
   "metadata": {},
   "source": [
    "**Insights**\n",
    "\n",
    "- Highest correlation: `pageviews` (positive)\n",
    "- Weekest correlation: `bounces` (negative)\n",
    "\n",
    "Since correlation only is not enough, we will also do a Chi-Squared Analysis."
   ]
  },
  {
   "cell_type": "markdown",
   "metadata": {},
   "source": [
    "**Chi2 for `bounces`**"
   ]
  },
  {
   "cell_type": "code",
   "execution_count": 239,
   "metadata": {},
   "outputs": [
    {
     "name": "stdout",
     "output_type": "stream",
     "text": [
      "P-value: 1.2506744845685154e-17\n",
      "There is a significant relationship between bounces and will_buy_on_return_visit.\n"
     ]
    }
   ],
   "source": [
    "# Create a contingency table\n",
    "contingency_table = pd.crosstab(df_2['bounces'], df_2['will_buy_on_return_visit'])\n",
    "\n",
    "# Chiq-squared Test\n",
    "result = stats.chi2_contingency(contingency_table)\n",
    "print(\"P-value:\", result.pvalue)\n",
    "\n",
    "if result.pvalue < 0.05:\n",
    "    print(\"There is a significant relationship between bounces and will_buy_on_return_visit.\")\n",
    "else:\n",
    "    print(\"No significant relationship between bounces and will_buy_on_return_visit.\")"
   ]
  },
  {
   "cell_type": "markdown",
   "metadata": {},
   "source": [
    "The p-value is extremely small, which means that there is a statistically significant relationship between the variables bounces and will_buy_on_return_visit.\n",
    "\n",
    "A bounce could be negatively correlated with a return visit purchase, meaning if users bounce, they are less likely to return and buy something."
   ]
  },
  {
   "cell_type": "markdown",
   "metadata": {},
   "source": [
    "**Chi2 for `pageviews`**"
   ]
  },
  {
   "cell_type": "code",
   "execution_count": 240,
   "metadata": {},
   "outputs": [
    {
     "name": "stdout",
     "output_type": "stream",
     "text": [
      "T-Statistic: 47.00195520468825\n",
      "P-value: 0.0\n",
      "There is a significant difference in pageviews between the two groups.\n"
     ]
    }
   ],
   "source": [
    "# Fill missing values with the median\n",
    "check_pv = df_2.copy()\n",
    "check_pv['pageviews'] = check_pv['pageviews'].fillna(check_pv['pageviews'].median())\n",
    "\n",
    "# Split the data into two groups\n",
    "group1 = check_pv[check_pv['will_buy_on_return_visit'] == 1]['pageviews']\n",
    "group2 = check_pv[check_pv['will_buy_on_return_visit'] == 0]['pageviews']\n",
    "\n",
    "# T-test\n",
    "t_stat, p_val = ttest_ind(group1, group2)\n",
    "print('T-Statistic:',t_stat)\n",
    "print('P-value:',p_val)\n",
    "\n",
    "if p_val < 0.05:\n",
    "    print(\"There is a significant difference in pageviews between the two groups.\")"
   ]
  },
  {
   "cell_type": "markdown",
   "metadata": {},
   "source": [
    "The provided results of the t-test, with a t-statistic of 47.00195520468825 and a p-value of 0.0, indicate that there is a statistically significant difference in pageviews between the two groups being compared.\n",
    "\n",
    "The t-statistic of 47.00 is extremely high, indicating a great difference in pageviews between the two groups (`will_buy_on_return_visit == 1` & `will_buy_on_return_visit == 0`).\n",
    "The observed difference is statistically significant."
   ]
  },
  {
   "cell_type": "markdown",
   "metadata": {},
   "source": [
    "**Chi2 for `time_on_site`**"
   ]
  },
  {
   "cell_type": "code",
   "execution_count": 241,
   "metadata": {},
   "outputs": [
    {
     "name": "stdout",
     "output_type": "stream",
     "text": [
      "T-Statistic: 29.516897840562407\n",
      "P-value: 4.861915832243661e-191\n",
      "There is a significant difference in time_on_site between the two groups.\n"
     ]
    }
   ],
   "source": [
    "# T-test\n",
    "group1_time = df_2[df_2['will_buy_on_return_visit'] == 1]['time_on_site']\n",
    "group2_time = df_2[df_2['will_buy_on_return_visit'] == 0]['time_on_site']\n",
    "\n",
    "t_stat_time, p_val_time = ttest_ind(group1_time, group2_time)\n",
    "print('T-Statistic:',t_stat_time)\n",
    "print('P-value:',p_val_time)\n",
    "\n",
    "if p_val_time < 0.05:\n",
    "    print(\"There is a significant difference in time_on_site between the two groups.\")"
   ]
  },
  {
   "cell_type": "markdown",
   "metadata": {},
   "source": [
    "The t-test results show a t-statistic of 29.52 and a p-value of 4.86e-191, indicating a statistically significant difference in time on site between the two groups. \n",
    "This means the groups differ in how long they stay on the site, and the difference is statistically significant."
   ]
  },
  {
   "cell_type": "markdown",
   "metadata": {},
   "source": [
    "**Conclusion**\n",
    "\n",
    "All features (`bounces`, `pageviews`, `time_on_site`) have important influence on the target."
   ]
  },
  {
   "cell_type": "markdown",
   "metadata": {},
   "source": [
    "2. What type of device is most commonly used by users in the Canada region who are likely to make a purchase when revisiting the website?\n",
    "\n",
    "    The most commont device by users in Canada who are likely to make a purchase is **desktop**."
   ]
  },
  {
   "cell_type": "code",
   "execution_count": 242,
   "metadata": {},
   "outputs": [
    {
     "data": {
      "text/html": [
       "<div>\n",
       "<style scoped>\n",
       "    .dataframe tbody tr th:only-of-type {\n",
       "        vertical-align: middle;\n",
       "    }\n",
       "\n",
       "    .dataframe tbody tr th {\n",
       "        vertical-align: top;\n",
       "    }\n",
       "\n",
       "    .dataframe thead th {\n",
       "        text-align: right;\n",
       "    }\n",
       "</style>\n",
       "<table border=\"1\" class=\"dataframe\">\n",
       "  <thead>\n",
       "    <tr style=\"text-align: right;\">\n",
       "      <th></th>\n",
       "      <th>device_count</th>\n",
       "    </tr>\n",
       "    <tr>\n",
       "      <th>deviceCategory</th>\n",
       "      <th></th>\n",
       "    </tr>\n",
       "  </thead>\n",
       "  <tbody>\n",
       "    <tr>\n",
       "      <th>desktop</th>\n",
       "      <td>165</td>\n",
       "    </tr>\n",
       "    <tr>\n",
       "      <th>mobile</th>\n",
       "      <td>11</td>\n",
       "    </tr>\n",
       "    <tr>\n",
       "      <th>tablet</th>\n",
       "      <td>1</td>\n",
       "    </tr>\n",
       "  </tbody>\n",
       "</table>\n",
       "</div>"
      ],
      "text/plain": [
       "                device_count\n",
       "deviceCategory              \n",
       "desktop                  165\n",
       "mobile                    11\n",
       "tablet                     1"
      ]
     },
     "execution_count": 242,
     "metadata": {},
     "output_type": "execute_result"
    }
   ],
   "source": [
    "df_2[(df_2['will_buy_on_return_visit'] == 1) & (df_2['country'] == 'Canada')].groupby('deviceCategory').agg({'deviceCategory': 'count'}).rename(columns={'deviceCategory': 'device_count'}).sort_values(by='device_count', ascending=False)"
   ]
  },
  {
   "cell_type": "markdown",
   "metadata": {},
   "source": [
    "# **vii. Modeling 1 - dataset_1**"
   ]
  },
  {
   "cell_type": "markdown",
   "metadata": {},
   "source": [
    "## **vii.i. Modeling 1 - Feature Engineering**\n",
    "\n",
    "> This section contains the data preparation process for model training, such as splitting the data into training and testing sets, data transformations (normalization, encoding, etc.), and other necessary processes."
   ]
  },
  {
   "cell_type": "markdown",
   "metadata": {},
   "source": [
    "### a. Cardinality Check\n",
    "\n",
    "> We will not be doing cardinality check since it is not needed (all columns are numerical)"
   ]
  },
  {
   "cell_type": "markdown",
   "metadata": {},
   "source": [
    "### b. Feature Extraction\n",
    "\n",
    "> We will not be doing feature extraction since it is not needed"
   ]
  },
  {
   "cell_type": "markdown",
   "metadata": {},
   "source": [
    "### c. Split X (features) dan y (target)"
   ]
  },
  {
   "cell_type": "code",
   "execution_count": 243,
   "metadata": {},
   "outputs": [],
   "source": [
    "# Split between x and y\n",
    "X_1 = df_1.drop(['will_buy_on_return_visit'], axis=1)\n",
    "y_1 = df_1.will_buy_on_return_visit"
   ]
  },
  {
   "cell_type": "markdown",
   "metadata": {},
   "source": [
    "### d. Split between Train and Test"
   ]
  },
  {
   "cell_type": "code",
   "execution_count": 244,
   "metadata": {},
   "outputs": [
    {
     "name": "stdout",
     "output_type": "stream",
     "text": [
      "train size: (4323, 2)\n",
      "test size: (1081, 2)\n",
      "        bounces  time_on_site\n",
      "237           0           219\n",
      "117131        0          3155\n",
      "2585          0          2043\n",
      "276631        0          1790\n",
      "5667          0           121\n",
      "...         ...           ...\n",
      "38791         0          5045\n",
      "26761         0          2644\n",
      "187173        0          2822\n",
      "187520        0          5366\n",
      "12557         0          1303\n",
      "\n",
      "[4323 rows x 2 columns]\n"
     ]
    }
   ],
   "source": [
    "# Splitting between train and test\n",
    "X_train_1, X_test_1, y_train_1, y_test_1 = train_test_split(X_1, y_1, test_size=0.2, random_state=107)\n",
    "\n",
    "print('train size:', X_train_1.shape)\n",
    "print('test size:', X_test_1.shape)\n",
    "print(X_train_1)"
   ]
  },
  {
   "cell_type": "markdown",
   "metadata": {},
   "source": [
    "### e. Feature Transformation: Handling Outlier"
   ]
  },
  {
   "cell_type": "markdown",
   "metadata": {},
   "source": [
    "Checking skewness of numerical columns"
   ]
  },
  {
   "cell_type": "code",
   "execution_count": 245,
   "metadata": {},
   "outputs": [
    {
     "name": "stdout",
     "output_type": "stream",
     "text": [
      "Measurement of Central Tendency of time_on_site\n",
      "The average of time_on_site: 1671.58\n",
      "The median of time_on_site: 1424.50\n",
      "The mode of time_on_site: 0    0\n",
      "Name: time_on_site, dtype: int64\n",
      "\n",
      "\n",
      "Measurement of Dispersion of time_on_site\n",
      "Variance of time_on_site: 1683680.81\n",
      "Standard Deviation of time_on_site: 1297.57\n",
      "Nilai minimum data time_on_site: 0\n",
      "Nilai maksimum data time_on_site: 15047\n",
      "Nilai range data time_on_site: 15047\n",
      "\n",
      "\n",
      "Measurement of Skewness and Kurtosis of time_on_site\n",
      "Skewness: 1.54\n",
      "Kurtosis: 5.68\n"
     ]
    }
   ],
   "source": [
    "# Measurement of Central Tendency of time_on_site\n",
    "print(\"Measurement of Central Tendency of time_on_site\")\n",
    "print(f\"The average of time_on_site: {df_1['time_on_site'].mean():.2f}\")\n",
    "print(f\"The median of time_on_site: {df_1['time_on_site'].median():.2f}\")\n",
    "print(f\"The mode of time_on_site: {df_1['time_on_site'].mode()}\")\n",
    "print(\"\\n\")\n",
    "# Measurement of Dispersion of time_on_site\n",
    "print(\"Measurement of Dispersion of time_on_site\")\n",
    "variance = df_1['time_on_site'].var()\n",
    "std = df_1['time_on_site'].std()\n",
    "range = max(df_1['time_on_site']) - min(df_1['time_on_site'])\n",
    "print(f'Variance of time_on_site: {variance:.2f}')\n",
    "print(f'Standard Deviation of time_on_site: {std:.2f}')\n",
    "print(f\"Nilai minimum data time_on_site: {min(df_1['time_on_site'])}\")\n",
    "print(f\"Nilai maksimum data time_on_site: {max(df_1['time_on_site'])}\")\n",
    "print(f\"Nilai range data time_on_site: {range}\")\n",
    "print(\"\\n\")\n",
    "# Measurement of Skewness and Kurtosis of time_on_site\n",
    "print(\"Measurement of Skewness and Kurtosis of time_on_site\")\n",
    "print(f\"Skewness: {df_1['time_on_site'].skew():.2f}\")\n",
    "print(f\"Kurtosis: {df_1['time_on_site'].kurtosis():.2f}\")"
   ]
  },
  {
   "cell_type": "markdown",
   "metadata": {},
   "source": [
    "Based on the calculation results, it is concluded that:\n",
    "- ```Skewness > 1```, means the data distribution is **highly skewed to the right**.\n",
    "- ```Kurtosis > 0```, means the data distribution is **Leptokurtic**, indicating that the data has more outliers compared to a normal distribution."
   ]
  },
  {
   "cell_type": "markdown",
   "metadata": {},
   "source": [
    "Since the analysis shows that the data distribution is not normal, we will perform **Extreme Value Analysis (EVA)** using **Tukey's Rule**, based on the following formula:\n",
    "```\n",
    "up_bound = q3 + 1.5*iqr\n",
    "low_bound = q1 - 1.5*iqr\n",
    "```"
   ]
  },
  {
   "cell_type": "code",
   "execution_count": 246,
   "metadata": {},
   "outputs": [
    {
     "name": "stdout",
     "output_type": "stream",
     "text": [
      "Q1: 677.0\n",
      "Q3: 2382.25\n",
      "Upper Boundary: 4940.12\n",
      "Lower Boundary: -1880.88\n",
      "Max. value: 15047\n",
      "Min. value: 0\n"
     ]
    }
   ],
   "source": [
    "# Menghitung kuartil data dan IQR\n",
    "q1 = df_1['time_on_site'].quantile(0.25)\n",
    "q3 = df_1['time_on_site'].quantile(0.75)\n",
    "iqr = q3 -q1\n",
    "\n",
    "# Menghitung up_bound dan low_bound data\n",
    "up_bound = q3 + 1.5*iqr\n",
    "low_bound = q1 - 1.5*iqr\n",
    "\n",
    "# Print hasil perhitungan\n",
    "print('Q1:',q1)\n",
    "print('Q3:',q3)\n",
    "print(f\"Upper Boundary: {up_bound:.2f}\")\n",
    "print(f\"Lower Boundary: {low_bound:.2f}\")\n",
    "\n",
    "# Print juga min dan max data\n",
    "print(\"Max. value:\", df_1['time_on_site'].max())\n",
    "print(\"Min. value:\", df_1['time_on_site'].min())"
   ]
  },
  {
   "cell_type": "code",
   "execution_count": 247,
   "metadata": {},
   "outputs": [],
   "source": [
    "# Memisahkan data outlier dari data\n",
    "outlier = df_1['time_on_site'][(df_1['time_on_site']<low_bound) | (df_1['time_on_site']>up_bound)]\n",
    "no_outlier = df_1['time_on_site'][(df_1['time_on_site']>=low_bound) & (df_1['time_on_site']<=up_bound)]"
   ]
  },
  {
   "cell_type": "code",
   "execution_count": 248,
   "metadata": {},
   "outputs": [
    {
     "name": "stdout",
     "output_type": "stream",
     "text": [
      "Percentage of outliers in the price data: 1.92%\n"
     ]
    }
   ],
   "source": [
    "percentage = len(outlier)/len(df_1['time_on_site'])*100\n",
    "print(f\"Percentage of outliers in the price data: {percentage:.2f}%\")"
   ]
  },
  {
   "cell_type": "markdown",
   "metadata": {},
   "source": [
    "Although the outliers percentage is quite small, we will still handle the outliers, as for dataset_1 there are not many features and based on previous analysis, `time_on_site` has inlfuence on the target."
   ]
  },
  {
   "cell_type": "markdown",
   "metadata": {},
   "source": [
    "### f. Feature Transformation: Split between numerical and categorical columns\n",
    "\n",
    "> We will not be doing this since it is not needed"
   ]
  },
  {
   "cell_type": "markdown",
   "metadata": {},
   "source": [
    "### g. Feature Transformation: Handling Missing Values"
   ]
  },
  {
   "cell_type": "code",
   "execution_count": 249,
   "metadata": {},
   "outputs": [
    {
     "data": {
      "text/plain": [
       "bounces         0\n",
       "time_on_site    0\n",
       "dtype: int64"
      ]
     },
     "execution_count": 249,
     "metadata": {},
     "output_type": "execute_result"
    }
   ],
   "source": [
    "# X_train check\n",
    "X_train_1.isnull().sum()"
   ]
  },
  {
   "cell_type": "markdown",
   "metadata": {},
   "source": [
    "There is no null values."
   ]
  },
  {
   "cell_type": "markdown",
   "metadata": {},
   "source": [
    "### h. Feature Selection\n",
    "\n",
    "> We will use all features"
   ]
  },
  {
   "cell_type": "markdown",
   "metadata": {},
   "source": [
    "### i. Feature Transformation: Feature Scaling"
   ]
  },
  {
   "cell_type": "markdown",
   "metadata": {},
   "source": [
    "Since the data is skewed, we will use MinMaxScaler.\n",
    "\n",
    "Reference [https://www.geeksforgeeks.org/standardscaler-minmaxscaler-and-robustscaler-techniques-ml/]\n"
   ]
  },
  {
   "cell_type": "markdown",
   "metadata": {},
   "source": [
    "### j. Feature Transformation: Feature Encoding\n",
    "\n",
    "> We will not be doing this since it is not needed"
   ]
  },
  {
   "cell_type": "markdown",
   "metadata": {},
   "source": [
    "### k. Concat Final Data"
   ]
  },
  {
   "cell_type": "code",
   "execution_count": 250,
   "metadata": {},
   "outputs": [],
   "source": [
    "X_train_final_1 = X_train_1\n",
    "X_test_final_1 = X_test_1"
   ]
  },
  {
   "cell_type": "markdown",
   "metadata": {},
   "source": [
    "## **vii.ii. Modeling 1 - Model Definition**"
   ]
  },
  {
   "cell_type": "code",
   "execution_count": 251,
   "metadata": {},
   "outputs": [],
   "source": [
    "# Define the Pipeline\n",
    "pipe = Pipeline([\n",
    "    ('winsoriser', Winsorizer(capping_method='quantiles',\n",
    "                              tail='right',\n",
    "                              variables = ['time_on_site'],\n",
    "                              fold=0.05,\n",
    "                              missing_values='ignore')),\n",
    "    ('scaler', MinMaxScaler()), \n",
    "    ('logreg', LogisticRegression(class_weight='balanced',random_state=42))\n",
    "])\n"
   ]
  },
  {
   "cell_type": "markdown",
   "metadata": {},
   "source": [
    "## **vii.iii. Modeling 1 - Model Training**"
   ]
  },
  {
   "cell_type": "code",
   "execution_count": 252,
   "metadata": {},
   "outputs": [
    {
     "data": {
      "text/html": [
       "<style>#sk-container-id-3 {\n",
       "  /* Definition of color scheme common for light and dark mode */\n",
       "  --sklearn-color-text: black;\n",
       "  --sklearn-color-line: gray;\n",
       "  /* Definition of color scheme for unfitted estimators */\n",
       "  --sklearn-color-unfitted-level-0: #fff5e6;\n",
       "  --sklearn-color-unfitted-level-1: #f6e4d2;\n",
       "  --sklearn-color-unfitted-level-2: #ffe0b3;\n",
       "  --sklearn-color-unfitted-level-3: chocolate;\n",
       "  /* Definition of color scheme for fitted estimators */\n",
       "  --sklearn-color-fitted-level-0: #f0f8ff;\n",
       "  --sklearn-color-fitted-level-1: #d4ebff;\n",
       "  --sklearn-color-fitted-level-2: #b3dbfd;\n",
       "  --sklearn-color-fitted-level-3: cornflowerblue;\n",
       "\n",
       "  /* Specific color for light theme */\n",
       "  --sklearn-color-text-on-default-background: var(--sg-text-color, var(--theme-code-foreground, var(--jp-content-font-color1, black)));\n",
       "  --sklearn-color-background: var(--sg-background-color, var(--theme-background, var(--jp-layout-color0, white)));\n",
       "  --sklearn-color-border-box: var(--sg-text-color, var(--theme-code-foreground, var(--jp-content-font-color1, black)));\n",
       "  --sklearn-color-icon: #696969;\n",
       "\n",
       "  @media (prefers-color-scheme: dark) {\n",
       "    /* Redefinition of color scheme for dark theme */\n",
       "    --sklearn-color-text-on-default-background: var(--sg-text-color, var(--theme-code-foreground, var(--jp-content-font-color1, white)));\n",
       "    --sklearn-color-background: var(--sg-background-color, var(--theme-background, var(--jp-layout-color0, #111)));\n",
       "    --sklearn-color-border-box: var(--sg-text-color, var(--theme-code-foreground, var(--jp-content-font-color1, white)));\n",
       "    --sklearn-color-icon: #878787;\n",
       "  }\n",
       "}\n",
       "\n",
       "#sk-container-id-3 {\n",
       "  color: var(--sklearn-color-text);\n",
       "}\n",
       "\n",
       "#sk-container-id-3 pre {\n",
       "  padding: 0;\n",
       "}\n",
       "\n",
       "#sk-container-id-3 input.sk-hidden--visually {\n",
       "  border: 0;\n",
       "  clip: rect(1px 1px 1px 1px);\n",
       "  clip: rect(1px, 1px, 1px, 1px);\n",
       "  height: 1px;\n",
       "  margin: -1px;\n",
       "  overflow: hidden;\n",
       "  padding: 0;\n",
       "  position: absolute;\n",
       "  width: 1px;\n",
       "}\n",
       "\n",
       "#sk-container-id-3 div.sk-dashed-wrapped {\n",
       "  border: 1px dashed var(--sklearn-color-line);\n",
       "  margin: 0 0.4em 0.5em 0.4em;\n",
       "  box-sizing: border-box;\n",
       "  padding-bottom: 0.4em;\n",
       "  background-color: var(--sklearn-color-background);\n",
       "}\n",
       "\n",
       "#sk-container-id-3 div.sk-container {\n",
       "  /* jupyter's `normalize.less` sets `[hidden] { display: none; }`\n",
       "     but bootstrap.min.css set `[hidden] { display: none !important; }`\n",
       "     so we also need the `!important` here to be able to override the\n",
       "     default hidden behavior on the sphinx rendered scikit-learn.org.\n",
       "     See: https://github.com/scikit-learn/scikit-learn/issues/21755 */\n",
       "  display: inline-block !important;\n",
       "  position: relative;\n",
       "}\n",
       "\n",
       "#sk-container-id-3 div.sk-text-repr-fallback {\n",
       "  display: none;\n",
       "}\n",
       "\n",
       "div.sk-parallel-item,\n",
       "div.sk-serial,\n",
       "div.sk-item {\n",
       "  /* draw centered vertical line to link estimators */\n",
       "  background-image: linear-gradient(var(--sklearn-color-text-on-default-background), var(--sklearn-color-text-on-default-background));\n",
       "  background-size: 2px 100%;\n",
       "  background-repeat: no-repeat;\n",
       "  background-position: center center;\n",
       "}\n",
       "\n",
       "/* Parallel-specific style estimator block */\n",
       "\n",
       "#sk-container-id-3 div.sk-parallel-item::after {\n",
       "  content: \"\";\n",
       "  width: 100%;\n",
       "  border-bottom: 2px solid var(--sklearn-color-text-on-default-background);\n",
       "  flex-grow: 1;\n",
       "}\n",
       "\n",
       "#sk-container-id-3 div.sk-parallel {\n",
       "  display: flex;\n",
       "  align-items: stretch;\n",
       "  justify-content: center;\n",
       "  background-color: var(--sklearn-color-background);\n",
       "  position: relative;\n",
       "}\n",
       "\n",
       "#sk-container-id-3 div.sk-parallel-item {\n",
       "  display: flex;\n",
       "  flex-direction: column;\n",
       "}\n",
       "\n",
       "#sk-container-id-3 div.sk-parallel-item:first-child::after {\n",
       "  align-self: flex-end;\n",
       "  width: 50%;\n",
       "}\n",
       "\n",
       "#sk-container-id-3 div.sk-parallel-item:last-child::after {\n",
       "  align-self: flex-start;\n",
       "  width: 50%;\n",
       "}\n",
       "\n",
       "#sk-container-id-3 div.sk-parallel-item:only-child::after {\n",
       "  width: 0;\n",
       "}\n",
       "\n",
       "/* Serial-specific style estimator block */\n",
       "\n",
       "#sk-container-id-3 div.sk-serial {\n",
       "  display: flex;\n",
       "  flex-direction: column;\n",
       "  align-items: center;\n",
       "  background-color: var(--sklearn-color-background);\n",
       "  padding-right: 1em;\n",
       "  padding-left: 1em;\n",
       "}\n",
       "\n",
       "\n",
       "/* Toggleable style: style used for estimator/Pipeline/ColumnTransformer box that is\n",
       "clickable and can be expanded/collapsed.\n",
       "- Pipeline and ColumnTransformer use this feature and define the default style\n",
       "- Estimators will overwrite some part of the style using the `sk-estimator` class\n",
       "*/\n",
       "\n",
       "/* Pipeline and ColumnTransformer style (default) */\n",
       "\n",
       "#sk-container-id-3 div.sk-toggleable {\n",
       "  /* Default theme specific background. It is overwritten whether we have a\n",
       "  specific estimator or a Pipeline/ColumnTransformer */\n",
       "  background-color: var(--sklearn-color-background);\n",
       "}\n",
       "\n",
       "/* Toggleable label */\n",
       "#sk-container-id-3 label.sk-toggleable__label {\n",
       "  cursor: pointer;\n",
       "  display: block;\n",
       "  width: 100%;\n",
       "  margin-bottom: 0;\n",
       "  padding: 0.5em;\n",
       "  box-sizing: border-box;\n",
       "  text-align: center;\n",
       "}\n",
       "\n",
       "#sk-container-id-3 label.sk-toggleable__label-arrow:before {\n",
       "  /* Arrow on the left of the label */\n",
       "  content: \"▸\";\n",
       "  float: left;\n",
       "  margin-right: 0.25em;\n",
       "  color: var(--sklearn-color-icon);\n",
       "}\n",
       "\n",
       "#sk-container-id-3 label.sk-toggleable__label-arrow:hover:before {\n",
       "  color: var(--sklearn-color-text);\n",
       "}\n",
       "\n",
       "/* Toggleable content - dropdown */\n",
       "\n",
       "#sk-container-id-3 div.sk-toggleable__content {\n",
       "  max-height: 0;\n",
       "  max-width: 0;\n",
       "  overflow: hidden;\n",
       "  text-align: left;\n",
       "  /* unfitted */\n",
       "  background-color: var(--sklearn-color-unfitted-level-0);\n",
       "}\n",
       "\n",
       "#sk-container-id-3 div.sk-toggleable__content.fitted {\n",
       "  /* fitted */\n",
       "  background-color: var(--sklearn-color-fitted-level-0);\n",
       "}\n",
       "\n",
       "#sk-container-id-3 div.sk-toggleable__content pre {\n",
       "  margin: 0.2em;\n",
       "  border-radius: 0.25em;\n",
       "  color: var(--sklearn-color-text);\n",
       "  /* unfitted */\n",
       "  background-color: var(--sklearn-color-unfitted-level-0);\n",
       "}\n",
       "\n",
       "#sk-container-id-3 div.sk-toggleable__content.fitted pre {\n",
       "  /* unfitted */\n",
       "  background-color: var(--sklearn-color-fitted-level-0);\n",
       "}\n",
       "\n",
       "#sk-container-id-3 input.sk-toggleable__control:checked~div.sk-toggleable__content {\n",
       "  /* Expand drop-down */\n",
       "  max-height: 200px;\n",
       "  max-width: 100%;\n",
       "  overflow: auto;\n",
       "}\n",
       "\n",
       "#sk-container-id-3 input.sk-toggleable__control:checked~label.sk-toggleable__label-arrow:before {\n",
       "  content: \"▾\";\n",
       "}\n",
       "\n",
       "/* Pipeline/ColumnTransformer-specific style */\n",
       "\n",
       "#sk-container-id-3 div.sk-label input.sk-toggleable__control:checked~label.sk-toggleable__label {\n",
       "  color: var(--sklearn-color-text);\n",
       "  background-color: var(--sklearn-color-unfitted-level-2);\n",
       "}\n",
       "\n",
       "#sk-container-id-3 div.sk-label.fitted input.sk-toggleable__control:checked~label.sk-toggleable__label {\n",
       "  background-color: var(--sklearn-color-fitted-level-2);\n",
       "}\n",
       "\n",
       "/* Estimator-specific style */\n",
       "\n",
       "/* Colorize estimator box */\n",
       "#sk-container-id-3 div.sk-estimator input.sk-toggleable__control:checked~label.sk-toggleable__label {\n",
       "  /* unfitted */\n",
       "  background-color: var(--sklearn-color-unfitted-level-2);\n",
       "}\n",
       "\n",
       "#sk-container-id-3 div.sk-estimator.fitted input.sk-toggleable__control:checked~label.sk-toggleable__label {\n",
       "  /* fitted */\n",
       "  background-color: var(--sklearn-color-fitted-level-2);\n",
       "}\n",
       "\n",
       "#sk-container-id-3 div.sk-label label.sk-toggleable__label,\n",
       "#sk-container-id-3 div.sk-label label {\n",
       "  /* The background is the default theme color */\n",
       "  color: var(--sklearn-color-text-on-default-background);\n",
       "}\n",
       "\n",
       "/* On hover, darken the color of the background */\n",
       "#sk-container-id-3 div.sk-label:hover label.sk-toggleable__label {\n",
       "  color: var(--sklearn-color-text);\n",
       "  background-color: var(--sklearn-color-unfitted-level-2);\n",
       "}\n",
       "\n",
       "/* Label box, darken color on hover, fitted */\n",
       "#sk-container-id-3 div.sk-label.fitted:hover label.sk-toggleable__label.fitted {\n",
       "  color: var(--sklearn-color-text);\n",
       "  background-color: var(--sklearn-color-fitted-level-2);\n",
       "}\n",
       "\n",
       "/* Estimator label */\n",
       "\n",
       "#sk-container-id-3 div.sk-label label {\n",
       "  font-family: monospace;\n",
       "  font-weight: bold;\n",
       "  display: inline-block;\n",
       "  line-height: 1.2em;\n",
       "}\n",
       "\n",
       "#sk-container-id-3 div.sk-label-container {\n",
       "  text-align: center;\n",
       "}\n",
       "\n",
       "/* Estimator-specific */\n",
       "#sk-container-id-3 div.sk-estimator {\n",
       "  font-family: monospace;\n",
       "  border: 1px dotted var(--sklearn-color-border-box);\n",
       "  border-radius: 0.25em;\n",
       "  box-sizing: border-box;\n",
       "  margin-bottom: 0.5em;\n",
       "  /* unfitted */\n",
       "  background-color: var(--sklearn-color-unfitted-level-0);\n",
       "}\n",
       "\n",
       "#sk-container-id-3 div.sk-estimator.fitted {\n",
       "  /* fitted */\n",
       "  background-color: var(--sklearn-color-fitted-level-0);\n",
       "}\n",
       "\n",
       "/* on hover */\n",
       "#sk-container-id-3 div.sk-estimator:hover {\n",
       "  /* unfitted */\n",
       "  background-color: var(--sklearn-color-unfitted-level-2);\n",
       "}\n",
       "\n",
       "#sk-container-id-3 div.sk-estimator.fitted:hover {\n",
       "  /* fitted */\n",
       "  background-color: var(--sklearn-color-fitted-level-2);\n",
       "}\n",
       "\n",
       "/* Specification for estimator info (e.g. \"i\" and \"?\") */\n",
       "\n",
       "/* Common style for \"i\" and \"?\" */\n",
       "\n",
       ".sk-estimator-doc-link,\n",
       "a:link.sk-estimator-doc-link,\n",
       "a:visited.sk-estimator-doc-link {\n",
       "  float: right;\n",
       "  font-size: smaller;\n",
       "  line-height: 1em;\n",
       "  font-family: monospace;\n",
       "  background-color: var(--sklearn-color-background);\n",
       "  border-radius: 1em;\n",
       "  height: 1em;\n",
       "  width: 1em;\n",
       "  text-decoration: none !important;\n",
       "  margin-left: 1ex;\n",
       "  /* unfitted */\n",
       "  border: var(--sklearn-color-unfitted-level-1) 1pt solid;\n",
       "  color: var(--sklearn-color-unfitted-level-1);\n",
       "}\n",
       "\n",
       ".sk-estimator-doc-link.fitted,\n",
       "a:link.sk-estimator-doc-link.fitted,\n",
       "a:visited.sk-estimator-doc-link.fitted {\n",
       "  /* fitted */\n",
       "  border: var(--sklearn-color-fitted-level-1) 1pt solid;\n",
       "  color: var(--sklearn-color-fitted-level-1);\n",
       "}\n",
       "\n",
       "/* On hover */\n",
       "div.sk-estimator:hover .sk-estimator-doc-link:hover,\n",
       ".sk-estimator-doc-link:hover,\n",
       "div.sk-label-container:hover .sk-estimator-doc-link:hover,\n",
       ".sk-estimator-doc-link:hover {\n",
       "  /* unfitted */\n",
       "  background-color: var(--sklearn-color-unfitted-level-3);\n",
       "  color: var(--sklearn-color-background);\n",
       "  text-decoration: none;\n",
       "}\n",
       "\n",
       "div.sk-estimator.fitted:hover .sk-estimator-doc-link.fitted:hover,\n",
       ".sk-estimator-doc-link.fitted:hover,\n",
       "div.sk-label-container:hover .sk-estimator-doc-link.fitted:hover,\n",
       ".sk-estimator-doc-link.fitted:hover {\n",
       "  /* fitted */\n",
       "  background-color: var(--sklearn-color-fitted-level-3);\n",
       "  color: var(--sklearn-color-background);\n",
       "  text-decoration: none;\n",
       "}\n",
       "\n",
       "/* Span, style for the box shown on hovering the info icon */\n",
       ".sk-estimator-doc-link span {\n",
       "  display: none;\n",
       "  z-index: 9999;\n",
       "  position: relative;\n",
       "  font-weight: normal;\n",
       "  right: .2ex;\n",
       "  padding: .5ex;\n",
       "  margin: .5ex;\n",
       "  width: min-content;\n",
       "  min-width: 20ex;\n",
       "  max-width: 50ex;\n",
       "  color: var(--sklearn-color-text);\n",
       "  box-shadow: 2pt 2pt 4pt #999;\n",
       "  /* unfitted */\n",
       "  background: var(--sklearn-color-unfitted-level-0);\n",
       "  border: .5pt solid var(--sklearn-color-unfitted-level-3);\n",
       "}\n",
       "\n",
       ".sk-estimator-doc-link.fitted span {\n",
       "  /* fitted */\n",
       "  background: var(--sklearn-color-fitted-level-0);\n",
       "  border: var(--sklearn-color-fitted-level-3);\n",
       "}\n",
       "\n",
       ".sk-estimator-doc-link:hover span {\n",
       "  display: block;\n",
       "}\n",
       "\n",
       "/* \"?\"-specific style due to the `<a>` HTML tag */\n",
       "\n",
       "#sk-container-id-3 a.estimator_doc_link {\n",
       "  float: right;\n",
       "  font-size: 1rem;\n",
       "  line-height: 1em;\n",
       "  font-family: monospace;\n",
       "  background-color: var(--sklearn-color-background);\n",
       "  border-radius: 1rem;\n",
       "  height: 1rem;\n",
       "  width: 1rem;\n",
       "  text-decoration: none;\n",
       "  /* unfitted */\n",
       "  color: var(--sklearn-color-unfitted-level-1);\n",
       "  border: var(--sklearn-color-unfitted-level-1) 1pt solid;\n",
       "}\n",
       "\n",
       "#sk-container-id-3 a.estimator_doc_link.fitted {\n",
       "  /* fitted */\n",
       "  border: var(--sklearn-color-fitted-level-1) 1pt solid;\n",
       "  color: var(--sklearn-color-fitted-level-1);\n",
       "}\n",
       "\n",
       "/* On hover */\n",
       "#sk-container-id-3 a.estimator_doc_link:hover {\n",
       "  /* unfitted */\n",
       "  background-color: var(--sklearn-color-unfitted-level-3);\n",
       "  color: var(--sklearn-color-background);\n",
       "  text-decoration: none;\n",
       "}\n",
       "\n",
       "#sk-container-id-3 a.estimator_doc_link.fitted:hover {\n",
       "  /* fitted */\n",
       "  background-color: var(--sklearn-color-fitted-level-3);\n",
       "}\n",
       "</style><div id=\"sk-container-id-3\" class=\"sk-top-container\"><div class=\"sk-text-repr-fallback\"><pre>Pipeline(steps=[(&#x27;winsoriser&#x27;,\n",
       "                 Winsorizer(capping_method=&#x27;quantiles&#x27;, fold=0.05,\n",
       "                            missing_values=&#x27;ignore&#x27;,\n",
       "                            variables=[&#x27;time_on_site&#x27;])),\n",
       "                (&#x27;scaler&#x27;, MinMaxScaler()),\n",
       "                (&#x27;logreg&#x27;,\n",
       "                 LogisticRegression(class_weight=&#x27;balanced&#x27;, random_state=42))])</pre><b>In a Jupyter environment, please rerun this cell to show the HTML representation or trust the notebook. <br />On GitHub, the HTML representation is unable to render, please try loading this page with nbviewer.org.</b></div><div class=\"sk-container\" hidden><div class=\"sk-item sk-dashed-wrapped\"><div class=\"sk-label-container\"><div class=\"sk-label fitted sk-toggleable\"><input class=\"sk-toggleable__control sk-hidden--visually\" id=\"sk-estimator-id-15\" type=\"checkbox\" ><label for=\"sk-estimator-id-15\" class=\"sk-toggleable__label fitted sk-toggleable__label-arrow fitted\">&nbsp;Pipeline<span class=\"sk-estimator-doc-link fitted\">i<span>Fitted</span></span></label><div class=\"sk-toggleable__content fitted\"><pre>Pipeline(steps=[(&#x27;winsoriser&#x27;,\n",
       "                 Winsorizer(capping_method=&#x27;quantiles&#x27;, fold=0.05,\n",
       "                            missing_values=&#x27;ignore&#x27;,\n",
       "                            variables=[&#x27;time_on_site&#x27;])),\n",
       "                (&#x27;scaler&#x27;, MinMaxScaler()),\n",
       "                (&#x27;logreg&#x27;,\n",
       "                 LogisticRegression(class_weight=&#x27;balanced&#x27;, random_state=42))])</pre></div> </div></div><div class=\"sk-serial\"><div class=\"sk-item\"><div class=\"sk-estimator fitted sk-toggleable\"><input class=\"sk-toggleable__control sk-hidden--visually\" id=\"sk-estimator-id-16\" type=\"checkbox\" ><label for=\"sk-estimator-id-16\" class=\"sk-toggleable__label fitted sk-toggleable__label-arrow fitted\">Winsorizer</label><div class=\"sk-toggleable__content fitted\"><pre>Winsorizer(capping_method=&#x27;quantiles&#x27;, fold=0.05, missing_values=&#x27;ignore&#x27;,\n",
       "           variables=[&#x27;time_on_site&#x27;])</pre></div> </div></div><div class=\"sk-item\"><div class=\"sk-estimator fitted sk-toggleable\"><input class=\"sk-toggleable__control sk-hidden--visually\" id=\"sk-estimator-id-17\" type=\"checkbox\" ><label for=\"sk-estimator-id-17\" class=\"sk-toggleable__label fitted sk-toggleable__label-arrow fitted\">&nbsp;MinMaxScaler<a class=\"sk-estimator-doc-link fitted\" rel=\"noreferrer\" target=\"_blank\" href=\"https://scikit-learn.org/1.4/modules/generated/sklearn.preprocessing.MinMaxScaler.html\">?<span>Documentation for MinMaxScaler</span></a></label><div class=\"sk-toggleable__content fitted\"><pre>MinMaxScaler()</pre></div> </div></div><div class=\"sk-item\"><div class=\"sk-estimator fitted sk-toggleable\"><input class=\"sk-toggleable__control sk-hidden--visually\" id=\"sk-estimator-id-18\" type=\"checkbox\" ><label for=\"sk-estimator-id-18\" class=\"sk-toggleable__label fitted sk-toggleable__label-arrow fitted\">&nbsp;LogisticRegression<a class=\"sk-estimator-doc-link fitted\" rel=\"noreferrer\" target=\"_blank\" href=\"https://scikit-learn.org/1.4/modules/generated/sklearn.linear_model.LogisticRegression.html\">?<span>Documentation for LogisticRegression</span></a></label><div class=\"sk-toggleable__content fitted\"><pre>LogisticRegression(class_weight=&#x27;balanced&#x27;, random_state=42)</pre></div> </div></div></div></div></div></div>"
      ],
      "text/plain": [
       "Pipeline(steps=[('winsoriser',\n",
       "                 Winsorizer(capping_method='quantiles', fold=0.05,\n",
       "                            missing_values='ignore',\n",
       "                            variables=['time_on_site'])),\n",
       "                ('scaler', MinMaxScaler()),\n",
       "                ('logreg',\n",
       "                 LogisticRegression(class_weight='balanced', random_state=42))])"
      ]
     },
     "execution_count": 252,
     "metadata": {},
     "output_type": "execute_result"
    }
   ],
   "source": [
    "# Train the model\n",
    "pipe.fit(X_train_final_1, y_train_1)"
   ]
  },
  {
   "cell_type": "markdown",
   "metadata": {},
   "source": [
    "## **vii.iv. Model 1 Evaluation**"
   ]
  },
  {
   "cell_type": "code",
   "execution_count": 253,
   "metadata": {},
   "outputs": [
    {
     "name": "stdout",
     "output_type": "stream",
     "text": [
      "[1 0 0 ... 0 0 1]\n"
     ]
    }
   ],
   "source": [
    "# Predict Train and test\n",
    "\n",
    "y_pred_train = pipe.predict(X_train_final_1)\n",
    "y_pred_test = pipe.predict(X_test_final_1)\n",
    "\n",
    "print(y_pred_train)"
   ]
  },
  {
   "cell_type": "code",
   "execution_count": 254,
   "metadata": {},
   "outputs": [
    {
     "name": "stdout",
     "output_type": "stream",
     "text": [
      "ROC AUC Score: 0.66\n",
      "Evaluation: Not Great\n"
     ]
    }
   ],
   "source": [
    "# Classify roc_auc_score\n",
    "def evaluate_roc_auc(roc_auc):\n",
    "    if roc_auc > 0.9:\n",
    "        return 'Good'\n",
    "    elif 0.8 <= roc_auc <= 0.9:\n",
    "        return 'Fair'\n",
    "    elif 0.7 <= roc_auc < 0.8:\n",
    "        return 'Decent'\n",
    "    elif 0.6 <= roc_auc < 0.7:\n",
    "        return 'Not Great'\n",
    "    else:\n",
    "        return 'Poor'\n",
    "\n",
    "# Binarize the predictions\n",
    "y_pred_proba = np.where(y_pred_test >= 0.5, 1, 0)  \n",
    "\n",
    "# Calculate roc_auc_score\n",
    "roc_auc = roc_auc_score(y_test_1, y_pred_proba)\n",
    "\n",
    "# Print the roc_auc_score and evaluation\n",
    "print(f\"ROC AUC Score: {roc_auc:.2f}\")\n",
    "print(f\"Evaluation: {evaluate_roc_auc(roc_auc)}\")"
   ]
  },
  {
   "cell_type": "markdown",
   "metadata": {},
   "source": [
    "ROC AUC (0.56) means poor classification performance.\n",
    "The model **needs improvement**."
   ]
  },
  {
   "cell_type": "code",
   "execution_count": 255,
   "metadata": {},
   "outputs": [
    {
     "name": "stdout",
     "output_type": "stream",
     "text": [
      "F1 Score - Test Set   :  0.5864661654135338 \n",
      "\n",
      "Classification Report : \n",
      "               precision    recall  f1-score   support\n",
      "\n",
      "           0       0.80      0.61      0.69       699\n",
      "           1       0.50      0.71      0.59       382\n",
      "\n",
      "    accuracy                           0.64      1081\n",
      "   macro avg       0.65      0.66      0.64      1081\n",
      "weighted avg       0.69      0.64      0.65      1081\n",
      " \n",
      "\n"
     ]
    },
    {
     "name": "stdout",
     "output_type": "stream",
     "text": [
      "Confusion Matrix      : \n",
      " <sklearn.metrics._plot.confusion_matrix.ConfusionMatrixDisplay object at 0x2971154f0>\n"
     ]
    },
    {
     "data": {
      "image/png": "[encoded data removed]",
      "text/plain": [
       "<Figure size 640x480 with 2 Axes>"
      ]
     },
     "metadata": {},
     "output_type": "display_data"
    }
   ],
   "source": [
    "# Check Performance Model against Test-Set\n",
    "print('F1 Score - Test Set   : ', f1_score(y_test_1, y_pred_test), '\\n')\n",
    "print('Classification Report : \\n', classification_report(y_test_1, y_pred_test), '\\n')\n",
    "print('Confusion Matrix      : \\n', ConfusionMatrixDisplay.from_estimator(pipe, X_test_final_1, y_test_1, cmap='Reds'))"
   ]
  },
  {
   "cell_type": "markdown",
   "metadata": {},
   "source": [
    "**Conclusion**\n",
    "\n",
    "- The model performs well on class 0 but struggles on class 1 (low recall for class 1 (0.24), only 24% of actual class 1 labels are correctly classified).\n",
    "- This imbalance in class performance means that the model is biased toward the majority class.\n",
    "- Improvement: class weighting, smote, or algorithm tuning"
   ]
  },
  {
   "cell_type": "markdown",
   "metadata": {},
   "source": [
    "# **viii. Modeling 2 - dataset_2**"
   ]
  },
  {
   "cell_type": "markdown",
   "metadata": {},
   "source": [
    "## **viii.i. Modeling 2 - Feature Engineering**"
   ]
  },
  {
   "cell_type": "markdown",
   "metadata": {},
   "source": [
    "### a. Feature Creation: Cardinality Check"
   ]
  },
  {
   "cell_type": "code",
   "execution_count": 256,
   "metadata": {},
   "outputs": [
    {
     "name": "stdout",
     "output_type": "stream",
     "text": [
      "Number of categories in the variable source: 294\n",
      "Number of categories in the variable medium: 6\n",
      "Number of categories in the variable channelGrouping: 8\n",
      "Number of categories in the variable deviceCategory: 3\n",
      "Number of categories in the variable country: 218\n"
     ]
    }
   ],
   "source": [
    "# Checking the number of unique values in categorcial columns\n",
    "for col in df_2.columns:\n",
    "    if df_2[col].dtype == 'object':\n",
    "      print(f'Number of categories in the variable {col}: {len(df_2[col].unique())}')"
   ]
  },
  {
   "cell_type": "markdown",
   "metadata": {},
   "source": [
    "From the data above, we can see that there is no column with a high cardinality."
   ]
  },
  {
   "cell_type": "markdown",
   "metadata": {},
   "source": [
    "### b. Feature Extraction\n",
    "\n",
    "> We will not be doing feature extraction since it is not needed"
   ]
  },
  {
   "cell_type": "markdown",
   "metadata": {},
   "source": [
    "### c. Split X (features) dan y (target)"
   ]
  },
  {
   "cell_type": "code",
   "execution_count": 257,
   "metadata": {},
   "outputs": [],
   "source": [
    "# Split between x and y\n",
    "X_2 = df_2.drop(['will_buy_on_return_visit'], axis=1)\n",
    "y_2 = df_2.will_buy_on_return_visit"
   ]
  },
  {
   "cell_type": "markdown",
   "metadata": {},
   "source": [
    "### d. Split between Train and Test"
   ]
  },
  {
   "cell_type": "code",
   "execution_count": 258,
   "metadata": {},
   "outputs": [
    {
     "name": "stdout",
     "output_type": "stream",
     "text": [
      "train size: (148248, 9)\n",
      "test size: (37063, 9)\n",
      "        latest_ecommerce_progress  bounces  time_on_site  pageviews  \\\n",
      "525599                          0        0           203        3.0   \n",
      "442189                          0        0           145        2.0   \n",
      "238244                          2        0           251       11.0   \n",
      "132556                          0        0           103        2.0   \n",
      "477903                          2        0            83        4.0   \n",
      "...                           ...      ...           ...        ...   \n",
      "138680                          0        0             5        2.0   \n",
      "331414                          3        0           720       44.0   \n",
      "172446                          6        0           182       15.0   \n",
      "242281                          0        0            63        5.0   \n",
      "398480                          3        0           447        4.0   \n",
      "\n",
      "                      source    medium channelGrouping deviceCategory  \\\n",
      "525599           youtube.com  referral          Social        desktop   \n",
      "442189                 baidu   organic  Organic Search        desktop   \n",
      "238244                google   organic  Organic Search        desktop   \n",
      "132556           youtube.com  referral          Social        desktop   \n",
      "477903           youtube.com  referral          Social         mobile   \n",
      "...                      ...       ...             ...            ...   \n",
      "138680   mall.googleplex.com  referral        Referral        desktop   \n",
      "331414   mall.googleplex.com  referral        Referral        desktop   \n",
      "172446              (direct)   Unknown          Direct         mobile   \n",
      "242281  analytics.google.com  referral        Referral        desktop   \n",
      "398480              (direct)   Unknown          Direct        desktop   \n",
      "\n",
      "               country  \n",
      "525599         Vietnam  \n",
      "442189           China  \n",
      "238244   United States  \n",
      "132556         Ukraine  \n",
      "477903        Thailand  \n",
      "...                ...  \n",
      "138680          Canada  \n",
      "331414   United States  \n",
      "172446   United States  \n",
      "242281  United Kingdom  \n",
      "398480      Azerbaijan  \n",
      "\n",
      "[148248 rows x 9 columns]\n"
     ]
    }
   ],
   "source": [
    "# Splitting between train and test\n",
    "X_train_2, X_test_2, y_train_2, y_test_2 = train_test_split(X_2, y_2, test_size=0.2, random_state=107)\n",
    "\n",
    "print('train size:', X_train_2.shape)\n",
    "print('test size:', X_test_2.shape)\n",
    "print(X_train_2)"
   ]
  },
  {
   "cell_type": "markdown",
   "metadata": {},
   "source": [
    "### e. Feature Selection\n",
    "\n",
    "We will select the features by **analyzing the correlation of the features to the target feature**."
   ]
  },
  {
   "cell_type": "code",
   "execution_count": 259,
   "metadata": {},
   "outputs": [],
   "source": [
    "# Manually splitting between categories for correlation only\n",
    "num_col = ['time_on_site', 'pageviews']\n",
    "cat_nominal_col = ['source', 'medium', 'channelGrouping', 'deviceCategory', 'country'] # nominal categorical column\n",
    "encoded_col = ['latest_ecommerce_progress', 'bounces']\n",
    "\n",
    "X_train_num = X_train_2[num_col]\n",
    "X_test_num = X_test_2[num_col]\n",
    "\n",
    "X_train_cat_nom = X_train_2[cat_nominal_col]\n",
    "X_test_cat_nom = X_test_2[cat_nominal_col]\n",
    "\n",
    "X_train_encoded = X_train_2[encoded_col]\n",
    "X_test_encoded = X_test_2[encoded_col]"
   ]
  },
  {
   "cell_type": "code",
   "execution_count": 260,
   "metadata": {},
   "outputs": [
    {
     "data": {
      "text/html": [
       "<div>\n",
       "<style scoped>\n",
       "    .dataframe tbody tr th:only-of-type {\n",
       "        vertical-align: middle;\n",
       "    }\n",
       "\n",
       "    .dataframe tbody tr th {\n",
       "        vertical-align: top;\n",
       "    }\n",
       "\n",
       "    .dataframe thead th {\n",
       "        text-align: right;\n",
       "    }\n",
       "</style>\n",
       "<table border=\"1\" class=\"dataframe\">\n",
       "  <thead>\n",
       "    <tr style=\"text-align: right;\">\n",
       "      <th></th>\n",
       "      <th>Column name</th>\n",
       "      <th>Result</th>\n",
       "    </tr>\n",
       "  </thead>\n",
       "  <tbody>\n",
       "    <tr>\n",
       "      <th>0</th>\n",
       "      <td>time_on_site</td>\n",
       "      <td>Correlated</td>\n",
       "    </tr>\n",
       "    <tr>\n",
       "      <th>1</th>\n",
       "      <td>pageviews</td>\n",
       "      <td>Correlated</td>\n",
       "    </tr>\n",
       "  </tbody>\n",
       "</table>\n",
       "</div>"
      ],
      "text/plain": [
       "    Column name      Result\n",
       "0  time_on_site  Correlated\n",
       "1     pageviews  Correlated"
      ]
     },
     "execution_count": 260,
     "metadata": {},
     "output_type": "execute_result"
    }
   ],
   "source": [
    "# Feature selection Numerical columns\n",
    "p_values = []\n",
    "interpretation = []\n",
    "cols = []\n",
    "\n",
    "for col in X_train_num.columns:\n",
    "  clean_data = X_train_num[[col]].join(y_train_2).dropna()\n",
    "  corr_coef, p_value = kendalltau(clean_data[col], clean_data[y_train_2.name])\n",
    "\n",
    "  p_values.append(p_value)\n",
    "  cols.append(col)\n",
    "\n",
    "  if p_value < 0.05:\n",
    "    interpretation .append('Correlated')\n",
    "  else :\n",
    "    interpretation .append('Not correlated')\n",
    "\n",
    "pd.DataFrame({'Column name':cols,\n",
    "              'Result': interpretation})\n"
   ]
  },
  {
   "cell_type": "code",
   "execution_count": 261,
   "metadata": {},
   "outputs": [
    {
     "data": {
      "text/html": [
       "<div>\n",
       "<style scoped>\n",
       "    .dataframe tbody tr th:only-of-type {\n",
       "        vertical-align: middle;\n",
       "    }\n",
       "\n",
       "    .dataframe tbody tr th {\n",
       "        vertical-align: top;\n",
       "    }\n",
       "\n",
       "    .dataframe thead th {\n",
       "        text-align: right;\n",
       "    }\n",
       "</style>\n",
       "<table border=\"1\" class=\"dataframe\">\n",
       "  <thead>\n",
       "    <tr style=\"text-align: right;\">\n",
       "      <th></th>\n",
       "      <th>Column name</th>\n",
       "      <th>Result</th>\n",
       "    </tr>\n",
       "  </thead>\n",
       "  <tbody>\n",
       "    <tr>\n",
       "      <th>0</th>\n",
       "      <td>latest_ecommerce_progress</td>\n",
       "      <td>Correlated</td>\n",
       "    </tr>\n",
       "    <tr>\n",
       "      <th>1</th>\n",
       "      <td>bounces</td>\n",
       "      <td>Correlated</td>\n",
       "    </tr>\n",
       "  </tbody>\n",
       "</table>\n",
       "</div>"
      ],
      "text/plain": [
       "                 Column name      Result\n",
       "0  latest_ecommerce_progress  Correlated\n",
       "1                    bounces  Correlated"
      ]
     },
     "execution_count": 261,
     "metadata": {},
     "output_type": "execute_result"
    }
   ],
   "source": [
    "# Feature selection Numerical columns\n",
    "p_values = []\n",
    "interpretation = []\n",
    "cols = []\n",
    "\n",
    "for col in X_train_encoded.columns:\n",
    "  clean_data = X_train_encoded[[col]].join(y_train_2).dropna()\n",
    "  corr_coef, p_value = kendalltau(clean_data[col], clean_data[y_train_2.name])\n",
    "\n",
    "  p_values.append(p_value)\n",
    "  cols.append(col)\n",
    "\n",
    "  if p_value < 0.05:\n",
    "    interpretation .append('Correlated')\n",
    "  else :\n",
    "    interpretation .append('Not correlated')\n",
    "\n",
    "pd.DataFrame({'Column name':cols,\n",
    "              'Result': interpretation})\n"
   ]
  },
  {
   "cell_type": "code",
   "execution_count": 262,
   "metadata": {},
   "outputs": [
    {
     "data": {
      "text/html": [
       "<div>\n",
       "<style scoped>\n",
       "    .dataframe tbody tr th:only-of-type {\n",
       "        vertical-align: middle;\n",
       "    }\n",
       "\n",
       "    .dataframe tbody tr th {\n",
       "        vertical-align: top;\n",
       "    }\n",
       "\n",
       "    .dataframe thead th {\n",
       "        text-align: right;\n",
       "    }\n",
       "</style>\n",
       "<table border=\"1\" class=\"dataframe\">\n",
       "  <thead>\n",
       "    <tr style=\"text-align: right;\">\n",
       "      <th></th>\n",
       "      <th>Column name</th>\n",
       "      <th>Result</th>\n",
       "    </tr>\n",
       "  </thead>\n",
       "  <tbody>\n",
       "    <tr>\n",
       "      <th>0</th>\n",
       "      <td>source</td>\n",
       "      <td>Correlated</td>\n",
       "    </tr>\n",
       "    <tr>\n",
       "      <th>1</th>\n",
       "      <td>medium</td>\n",
       "      <td>Not correlated</td>\n",
       "    </tr>\n",
       "    <tr>\n",
       "      <th>2</th>\n",
       "      <td>channelGrouping</td>\n",
       "      <td>Correlated</td>\n",
       "    </tr>\n",
       "    <tr>\n",
       "      <th>3</th>\n",
       "      <td>deviceCategory</td>\n",
       "      <td>Correlated</td>\n",
       "    </tr>\n",
       "    <tr>\n",
       "      <th>4</th>\n",
       "      <td>country</td>\n",
       "      <td>Correlated</td>\n",
       "    </tr>\n",
       "  </tbody>\n",
       "</table>\n",
       "</div>"
      ],
      "text/plain": [
       "       Column name          Result\n",
       "0           source      Correlated\n",
       "1           medium  Not correlated\n",
       "2  channelGrouping      Correlated\n",
       "3   deviceCategory      Correlated\n",
       "4          country      Correlated"
      ]
     },
     "execution_count": 262,
     "metadata": {},
     "output_type": "execute_result"
    }
   ],
   "source": [
    "# Feature selection Categorical columns\n",
    "p_values = []\n",
    "interpretation = []\n",
    "cols = []\n",
    "\n",
    "for col in X_train_cat_nom.columns:\n",
    "  clean_data = X_train_cat_nom[[col]].join(y_train_2).dropna()\n",
    "  corr_coef, p_value = kendalltau(clean_data[col], clean_data[y_train_2.name])\n",
    "\n",
    "  p_values.append(p_value)\n",
    "  cols.append(col)\n",
    "\n",
    "  if p_value < 0.05:\n",
    "    interpretation.append('Correlated')\n",
    "  else :\n",
    "    interpretation.append('Not correlated')\n",
    "\n",
    "pd.DataFrame({'Column name':cols,\n",
    "              'Result': interpretation})"
   ]
  },
  {
   "cell_type": "markdown",
   "metadata": {},
   "source": [
    "The only column that is not correlated is `medium`, so we will drop it."
   ]
  },
  {
   "cell_type": "code",
   "execution_count": 263,
   "metadata": {},
   "outputs": [],
   "source": [
    "X_train_2.drop(columns=['medium'],inplace=True)\n",
    "X_test_2.drop(columns=['medium'],inplace=True)"
   ]
  },
  {
   "cell_type": "code",
   "execution_count": 264,
   "metadata": {},
   "outputs": [
    {
     "data": {
      "text/html": [
       "<div>\n",
       "<style scoped>\n",
       "    .dataframe tbody tr th:only-of-type {\n",
       "        vertical-align: middle;\n",
       "    }\n",
       "\n",
       "    .dataframe tbody tr th {\n",
       "        vertical-align: top;\n",
       "    }\n",
       "\n",
       "    .dataframe thead th {\n",
       "        text-align: right;\n",
       "    }\n",
       "</style>\n",
       "<table border=\"1\" class=\"dataframe\">\n",
       "  <thead>\n",
       "    <tr style=\"text-align: right;\">\n",
       "      <th></th>\n",
       "      <th>latest_ecommerce_progress</th>\n",
       "      <th>bounces</th>\n",
       "      <th>time_on_site</th>\n",
       "      <th>pageviews</th>\n",
       "      <th>source</th>\n",
       "      <th>channelGrouping</th>\n",
       "      <th>deviceCategory</th>\n",
       "      <th>country</th>\n",
       "    </tr>\n",
       "  </thead>\n",
       "  <tbody>\n",
       "    <tr>\n",
       "      <th>525599</th>\n",
       "      <td>0</td>\n",
       "      <td>0</td>\n",
       "      <td>203</td>\n",
       "      <td>3.0</td>\n",
       "      <td>youtube.com</td>\n",
       "      <td>Social</td>\n",
       "      <td>desktop</td>\n",
       "      <td>Vietnam</td>\n",
       "    </tr>\n",
       "    <tr>\n",
       "      <th>442189</th>\n",
       "      <td>0</td>\n",
       "      <td>0</td>\n",
       "      <td>145</td>\n",
       "      <td>2.0</td>\n",
       "      <td>baidu</td>\n",
       "      <td>Organic Search</td>\n",
       "      <td>desktop</td>\n",
       "      <td>China</td>\n",
       "    </tr>\n",
       "    <tr>\n",
       "      <th>238244</th>\n",
       "      <td>2</td>\n",
       "      <td>0</td>\n",
       "      <td>251</td>\n",
       "      <td>11.0</td>\n",
       "      <td>google</td>\n",
       "      <td>Organic Search</td>\n",
       "      <td>desktop</td>\n",
       "      <td>United States</td>\n",
       "    </tr>\n",
       "    <tr>\n",
       "      <th>132556</th>\n",
       "      <td>0</td>\n",
       "      <td>0</td>\n",
       "      <td>103</td>\n",
       "      <td>2.0</td>\n",
       "      <td>youtube.com</td>\n",
       "      <td>Social</td>\n",
       "      <td>desktop</td>\n",
       "      <td>Ukraine</td>\n",
       "    </tr>\n",
       "    <tr>\n",
       "      <th>477903</th>\n",
       "      <td>2</td>\n",
       "      <td>0</td>\n",
       "      <td>83</td>\n",
       "      <td>4.0</td>\n",
       "      <td>youtube.com</td>\n",
       "      <td>Social</td>\n",
       "      <td>mobile</td>\n",
       "      <td>Thailand</td>\n",
       "    </tr>\n",
       "    <tr>\n",
       "      <th>...</th>\n",
       "      <td>...</td>\n",
       "      <td>...</td>\n",
       "      <td>...</td>\n",
       "      <td>...</td>\n",
       "      <td>...</td>\n",
       "      <td>...</td>\n",
       "      <td>...</td>\n",
       "      <td>...</td>\n",
       "    </tr>\n",
       "    <tr>\n",
       "      <th>138680</th>\n",
       "      <td>0</td>\n",
       "      <td>0</td>\n",
       "      <td>5</td>\n",
       "      <td>2.0</td>\n",
       "      <td>mall.googleplex.com</td>\n",
       "      <td>Referral</td>\n",
       "      <td>desktop</td>\n",
       "      <td>Canada</td>\n",
       "    </tr>\n",
       "    <tr>\n",
       "      <th>331414</th>\n",
       "      <td>3</td>\n",
       "      <td>0</td>\n",
       "      <td>720</td>\n",
       "      <td>44.0</td>\n",
       "      <td>mall.googleplex.com</td>\n",
       "      <td>Referral</td>\n",
       "      <td>desktop</td>\n",
       "      <td>United States</td>\n",
       "    </tr>\n",
       "    <tr>\n",
       "      <th>172446</th>\n",
       "      <td>6</td>\n",
       "      <td>0</td>\n",
       "      <td>182</td>\n",
       "      <td>15.0</td>\n",
       "      <td>(direct)</td>\n",
       "      <td>Direct</td>\n",
       "      <td>mobile</td>\n",
       "      <td>United States</td>\n",
       "    </tr>\n",
       "    <tr>\n",
       "      <th>242281</th>\n",
       "      <td>0</td>\n",
       "      <td>0</td>\n",
       "      <td>63</td>\n",
       "      <td>5.0</td>\n",
       "      <td>analytics.google.com</td>\n",
       "      <td>Referral</td>\n",
       "      <td>desktop</td>\n",
       "      <td>United Kingdom</td>\n",
       "    </tr>\n",
       "    <tr>\n",
       "      <th>398480</th>\n",
       "      <td>3</td>\n",
       "      <td>0</td>\n",
       "      <td>447</td>\n",
       "      <td>4.0</td>\n",
       "      <td>(direct)</td>\n",
       "      <td>Direct</td>\n",
       "      <td>desktop</td>\n",
       "      <td>Azerbaijan</td>\n",
       "    </tr>\n",
       "  </tbody>\n",
       "</table>\n",
       "<p>148248 rows × 8 columns</p>\n",
       "</div>"
      ],
      "text/plain": [
       "        latest_ecommerce_progress  bounces  time_on_site  pageviews  \\\n",
       "525599                          0        0           203        3.0   \n",
       "442189                          0        0           145        2.0   \n",
       "238244                          2        0           251       11.0   \n",
       "132556                          0        0           103        2.0   \n",
       "477903                          2        0            83        4.0   \n",
       "...                           ...      ...           ...        ...   \n",
       "138680                          0        0             5        2.0   \n",
       "331414                          3        0           720       44.0   \n",
       "172446                          6        0           182       15.0   \n",
       "242281                          0        0            63        5.0   \n",
       "398480                          3        0           447        4.0   \n",
       "\n",
       "                      source channelGrouping deviceCategory         country  \n",
       "525599           youtube.com          Social        desktop         Vietnam  \n",
       "442189                 baidu  Organic Search        desktop           China  \n",
       "238244                google  Organic Search        desktop   United States  \n",
       "132556           youtube.com          Social        desktop         Ukraine  \n",
       "477903           youtube.com          Social         mobile        Thailand  \n",
       "...                      ...             ...            ...             ...  \n",
       "138680   mall.googleplex.com        Referral        desktop          Canada  \n",
       "331414   mall.googleplex.com        Referral        desktop   United States  \n",
       "172446              (direct)          Direct         mobile   United States  \n",
       "242281  analytics.google.com        Referral        desktop  United Kingdom  \n",
       "398480              (direct)          Direct        desktop      Azerbaijan  \n",
       "\n",
       "[148248 rows x 8 columns]"
      ]
     },
     "execution_count": 264,
     "metadata": {},
     "output_type": "execute_result"
    }
   ],
   "source": [
    "# medium is now dropped \n",
    "X_train_2"
   ]
  },
  {
   "cell_type": "code",
   "execution_count": 265,
   "metadata": {},
   "outputs": [
    {
     "data": {
      "text/html": [
       "<div>\n",
       "<style scoped>\n",
       "    .dataframe tbody tr th:only-of-type {\n",
       "        vertical-align: middle;\n",
       "    }\n",
       "\n",
       "    .dataframe tbody tr th {\n",
       "        vertical-align: top;\n",
       "    }\n",
       "\n",
       "    .dataframe thead th {\n",
       "        text-align: right;\n",
       "    }\n",
       "</style>\n",
       "<table border=\"1\" class=\"dataframe\">\n",
       "  <thead>\n",
       "    <tr style=\"text-align: right;\">\n",
       "      <th></th>\n",
       "      <th>latest_ecommerce_progress</th>\n",
       "      <th>bounces</th>\n",
       "      <th>time_on_site</th>\n",
       "      <th>pageviews</th>\n",
       "      <th>source</th>\n",
       "      <th>channelGrouping</th>\n",
       "      <th>deviceCategory</th>\n",
       "      <th>country</th>\n",
       "    </tr>\n",
       "  </thead>\n",
       "  <tbody>\n",
       "    <tr>\n",
       "      <th>525599</th>\n",
       "      <td>0</td>\n",
       "      <td>0</td>\n",
       "      <td>203</td>\n",
       "      <td>3.0</td>\n",
       "      <td>youtube.com</td>\n",
       "      <td>Social</td>\n",
       "      <td>desktop</td>\n",
       "      <td>Vietnam</td>\n",
       "    </tr>\n",
       "    <tr>\n",
       "      <th>442189</th>\n",
       "      <td>0</td>\n",
       "      <td>0</td>\n",
       "      <td>145</td>\n",
       "      <td>2.0</td>\n",
       "      <td>baidu</td>\n",
       "      <td>Organic Search</td>\n",
       "      <td>desktop</td>\n",
       "      <td>China</td>\n",
       "    </tr>\n",
       "    <tr>\n",
       "      <th>238244</th>\n",
       "      <td>2</td>\n",
       "      <td>0</td>\n",
       "      <td>251</td>\n",
       "      <td>11.0</td>\n",
       "      <td>google</td>\n",
       "      <td>Organic Search</td>\n",
       "      <td>desktop</td>\n",
       "      <td>United States</td>\n",
       "    </tr>\n",
       "    <tr>\n",
       "      <th>132556</th>\n",
       "      <td>0</td>\n",
       "      <td>0</td>\n",
       "      <td>103</td>\n",
       "      <td>2.0</td>\n",
       "      <td>youtube.com</td>\n",
       "      <td>Social</td>\n",
       "      <td>desktop</td>\n",
       "      <td>Ukraine</td>\n",
       "    </tr>\n",
       "    <tr>\n",
       "      <th>477903</th>\n",
       "      <td>2</td>\n",
       "      <td>0</td>\n",
       "      <td>83</td>\n",
       "      <td>4.0</td>\n",
       "      <td>youtube.com</td>\n",
       "      <td>Social</td>\n",
       "      <td>mobile</td>\n",
       "      <td>Thailand</td>\n",
       "    </tr>\n",
       "    <tr>\n",
       "      <th>...</th>\n",
       "      <td>...</td>\n",
       "      <td>...</td>\n",
       "      <td>...</td>\n",
       "      <td>...</td>\n",
       "      <td>...</td>\n",
       "      <td>...</td>\n",
       "      <td>...</td>\n",
       "      <td>...</td>\n",
       "    </tr>\n",
       "    <tr>\n",
       "      <th>138680</th>\n",
       "      <td>0</td>\n",
       "      <td>0</td>\n",
       "      <td>5</td>\n",
       "      <td>2.0</td>\n",
       "      <td>mall.googleplex.com</td>\n",
       "      <td>Referral</td>\n",
       "      <td>desktop</td>\n",
       "      <td>Canada</td>\n",
       "    </tr>\n",
       "    <tr>\n",
       "      <th>331414</th>\n",
       "      <td>3</td>\n",
       "      <td>0</td>\n",
       "      <td>720</td>\n",
       "      <td>44.0</td>\n",
       "      <td>mall.googleplex.com</td>\n",
       "      <td>Referral</td>\n",
       "      <td>desktop</td>\n",
       "      <td>United States</td>\n",
       "    </tr>\n",
       "    <tr>\n",
       "      <th>172446</th>\n",
       "      <td>6</td>\n",
       "      <td>0</td>\n",
       "      <td>182</td>\n",
       "      <td>15.0</td>\n",
       "      <td>(direct)</td>\n",
       "      <td>Direct</td>\n",
       "      <td>mobile</td>\n",
       "      <td>United States</td>\n",
       "    </tr>\n",
       "    <tr>\n",
       "      <th>242281</th>\n",
       "      <td>0</td>\n",
       "      <td>0</td>\n",
       "      <td>63</td>\n",
       "      <td>5.0</td>\n",
       "      <td>analytics.google.com</td>\n",
       "      <td>Referral</td>\n",
       "      <td>desktop</td>\n",
       "      <td>United Kingdom</td>\n",
       "    </tr>\n",
       "    <tr>\n",
       "      <th>398480</th>\n",
       "      <td>3</td>\n",
       "      <td>0</td>\n",
       "      <td>447</td>\n",
       "      <td>4.0</td>\n",
       "      <td>(direct)</td>\n",
       "      <td>Direct</td>\n",
       "      <td>desktop</td>\n",
       "      <td>Azerbaijan</td>\n",
       "    </tr>\n",
       "  </tbody>\n",
       "</table>\n",
       "<p>148248 rows × 8 columns</p>\n",
       "</div>"
      ],
      "text/plain": [
       "        latest_ecommerce_progress  bounces  time_on_site  pageviews  \\\n",
       "525599                          0        0           203        3.0   \n",
       "442189                          0        0           145        2.0   \n",
       "238244                          2        0           251       11.0   \n",
       "132556                          0        0           103        2.0   \n",
       "477903                          2        0            83        4.0   \n",
       "...                           ...      ...           ...        ...   \n",
       "138680                          0        0             5        2.0   \n",
       "331414                          3        0           720       44.0   \n",
       "172446                          6        0           182       15.0   \n",
       "242281                          0        0            63        5.0   \n",
       "398480                          3        0           447        4.0   \n",
       "\n",
       "                      source channelGrouping deviceCategory         country  \n",
       "525599           youtube.com          Social        desktop         Vietnam  \n",
       "442189                 baidu  Organic Search        desktop           China  \n",
       "238244                google  Organic Search        desktop   United States  \n",
       "132556           youtube.com          Social        desktop         Ukraine  \n",
       "477903           youtube.com          Social         mobile        Thailand  \n",
       "...                      ...             ...            ...             ...  \n",
       "138680   mall.googleplex.com        Referral        desktop          Canada  \n",
       "331414   mall.googleplex.com        Referral        desktop   United States  \n",
       "172446              (direct)          Direct         mobile   United States  \n",
       "242281  analytics.google.com        Referral        desktop  United Kingdom  \n",
       "398480              (direct)          Direct        desktop      Azerbaijan  \n",
       "\n",
       "[148248 rows x 8 columns]"
      ]
     },
     "execution_count": 265,
     "metadata": {},
     "output_type": "execute_result"
    }
   ],
   "source": [
    "X_train_2"
   ]
  },
  {
   "cell_type": "markdown",
   "metadata": {},
   "source": [
    "### f. Feature Transformation: Split between numerical and categorical columns"
   ]
  },
  {
   "cell_type": "code",
   "execution_count": 266,
   "metadata": {},
   "outputs": [],
   "source": [
    "# Re-assign the categories of the columns\n",
    "num_col = ['time_on_site', 'pageviews']\n",
    "cat_nominal_col = ['source', 'channelGrouping', 'deviceCategory', 'country'] # nominal categorical column\n",
    "encoded_col = ['latest_ecommerce_progress', 'bounces']"
   ]
  },
  {
   "cell_type": "markdown",
   "metadata": {},
   "source": [
    "### g. Feature Transformation: Encoding"
   ]
  },
  {
   "cell_type": "code",
   "execution_count": 267,
   "metadata": {},
   "outputs": [
    {
     "data": {
      "text/plain": [
       "['source', 'channelGrouping', 'deviceCategory', 'country']"
      ]
     },
     "execution_count": 267,
     "metadata": {},
     "output_type": "execute_result"
    }
   ],
   "source": [
    "cat_nominal_col"
   ]
  },
  {
   "cell_type": "markdown",
   "metadata": {},
   "source": [
    "Above are the columns needed to be encoded, every column is nominal, so we will only use **OneHotEncoder**\n",
    "\n",
    "As for the ordinal ones, they have been encoded, so no encoding is needed for `latest_ecommerce_progress` and `bounces`.\n",
    "\n",
    "We will add the encoding process in pipeline later."
   ]
  },
  {
   "cell_type": "markdown",
   "metadata": {},
   "source": [
    "### h. Feature Transformation: Handling Outlier"
   ]
  },
  {
   "cell_type": "markdown",
   "metadata": {},
   "source": [
    "**Analysis for `skewness`**"
   ]
  },
  {
   "cell_type": "code",
   "execution_count": 268,
   "metadata": {},
   "outputs": [
    {
     "data": {
      "text/html": [
       "<div>\n",
       "<style scoped>\n",
       "    .dataframe tbody tr th:only-of-type {\n",
       "        vertical-align: middle;\n",
       "    }\n",
       "\n",
       "    .dataframe tbody tr th {\n",
       "        vertical-align: top;\n",
       "    }\n",
       "\n",
       "    .dataframe thead th {\n",
       "        text-align: right;\n",
       "    }\n",
       "</style>\n",
       "<table border=\"1\" class=\"dataframe\">\n",
       "  <thead>\n",
       "    <tr style=\"text-align: right;\">\n",
       "      <th></th>\n",
       "      <th>Column Name</th>\n",
       "      <th>Skewness Score</th>\n",
       "      <th>Distribution</th>\n",
       "    </tr>\n",
       "  </thead>\n",
       "  <tbody>\n",
       "    <tr>\n",
       "      <th>0</th>\n",
       "      <td>time_on_site</td>\n",
       "      <td>3.5</td>\n",
       "      <td>skewed</td>\n",
       "    </tr>\n",
       "    <tr>\n",
       "      <th>1</th>\n",
       "      <td>pageviews</td>\n",
       "      <td>5.8</td>\n",
       "      <td>skewed</td>\n",
       "    </tr>\n",
       "  </tbody>\n",
       "</table>\n",
       "</div>"
      ],
      "text/plain": [
       "    Column Name  Skewness Score Distribution\n",
       "0  time_on_site             3.5       skewed\n",
       "1     pageviews             5.8       skewed"
      ]
     },
     "execution_count": 268,
     "metadata": {},
     "output_type": "execute_result"
    }
   ],
   "source": [
    "# Check Skewness\n",
    "\n",
    "# Numerical columns\n",
    "num_cols = list(X_train_2.select_dtypes(exclude='object').columns)\n",
    "\n",
    "# List of encoded columns to exclude\n",
    "encoded_col = ['bounces', 'latest_ecommerce_progress']\n",
    "num_cols = [col for col in num_cols if col not in encoded_col]\n",
    "\n",
    "listItem= []\n",
    "\n",
    "for col in num_cols:\n",
    "  listItem.append([col, round(X_train_2[col].skew(),1), np.where(\n",
    "    (round(X_train_2[col].skew(),1) <= 0.5) & (round(X_train_2[col].skew(),1) >= -0.5),\n",
    "    'normal',\n",
    "    'skewed')])\n",
    "\n",
    "skewness = pd.DataFrame(columns=['Column Name', 'Skewness Score', 'Distribution'], data= listItem)\n",
    "skewness"
   ]
  },
  {
   "cell_type": "markdown",
   "metadata": {},
   "source": [
    "**Analysis for `time_on_site` outliers**"
   ]
  },
  {
   "cell_type": "code",
   "execution_count": 269,
   "metadata": {},
   "outputs": [
    {
     "name": "stdout",
     "output_type": "stream",
     "text": [
      "995.0\n",
      "-493.0\n"
     ]
    }
   ],
   "source": [
    "IQR_time = X_train_2['time_on_site'].quantile(0.75) - X_train_2['time_on_site'].quantile(0.25)\n",
    "lower_boundary_time = X_train_2['time_on_site'].quantile(0.25) - (IQR_time * 1.5)\n",
    "upper_boundary_time = X_train_2['time_on_site'].quantile(0.75) + (IQR_time * 1.5)\n",
    "\n",
    "print(upper_boundary_time)\n",
    "print(lower_boundary_time)"
   ]
  },
  {
   "cell_type": "code",
   "execution_count": 270,
   "metadata": {},
   "outputs": [],
   "source": [
    "# Memisahkan data outlier dari data\n",
    "outlier_time = X_train_2['time_on_site'][(X_train_2['time_on_site']<lower_boundary_time) | (X_train_2['time_on_site']>upper_boundary_time)]\n",
    "no_outlier_time = X_train_2['time_on_site'][(X_train_2['time_on_site']>=lower_boundary_time) & (X_train_2['time_on_site']<=upper_boundary_time)]"
   ]
  },
  {
   "cell_type": "code",
   "execution_count": 271,
   "metadata": {},
   "outputs": [
    {
     "name": "stdout",
     "output_type": "stream",
     "text": [
      "Percentage of outliers in the price data: 9.53%\n"
     ]
    }
   ],
   "source": [
    "percentage_time = len(outlier_time)/len(X_train_2['time_on_site'])*100\n",
    "print(f\"Percentage of outliers in the price data: {percentage_time:.2f}%\")"
   ]
  },
  {
   "cell_type": "markdown",
   "metadata": {},
   "source": [
    "**Analysis for `pageviews` outliers**"
   ]
  },
  {
   "cell_type": "code",
   "execution_count": 272,
   "metadata": {},
   "outputs": [
    {
     "name": "stdout",
     "output_type": "stream",
     "text": [
      "23.0\n",
      "-9.0\n"
     ]
    }
   ],
   "source": [
    "IQR_pv = X_train_2['pageviews'].quantile(0.75) - X_train_2['pageviews'].quantile(0.25)\n",
    "lower_boundary_pv = X_train_2['pageviews'].quantile(0.25) - (IQR_pv * 1.5)\n",
    "upper_boundary_pv = X_train_2['pageviews'].quantile(0.75) + (IQR_pv * 1.5)\n",
    "\n",
    "print(upper_boundary_pv)\n",
    "print(lower_boundary_pv)"
   ]
  },
  {
   "cell_type": "code",
   "execution_count": 273,
   "metadata": {},
   "outputs": [],
   "source": [
    "# Memisahkan data outlier dari data\n",
    "outlier_pv = X_train_2['pageviews'][(X_train_2['pageviews']<lower_boundary_pv) | (X_train_2['pageviews']>upper_boundary_pv)]\n",
    "no_outlier_pv = X_train_2['pageviews'][(X_train_2['pageviews']>=lower_boundary_pv) & (X_train_2['pageviews']<=upper_boundary_pv)]"
   ]
  },
  {
   "cell_type": "code",
   "execution_count": 274,
   "metadata": {},
   "outputs": [
    {
     "name": "stdout",
     "output_type": "stream",
     "text": [
      "Percentage of outliers in the price data: 6.61%\n"
     ]
    }
   ],
   "source": [
    "percentage_pv = len(outlier_pv)/len(X_train_2['pageviews'])*100\n",
    "print(f\"Percentage of outliers in the price data: {percentage_pv:.2f}%\")"
   ]
  },
  {
   "cell_type": "markdown",
   "metadata": {},
   "source": [
    "We will do outlier handling for both numerical columns, since the percentages are all above 5%.\n",
    "\n",
    "We will use **Winsorizer** for this, and add it to pipeline."
   ]
  },
  {
   "cell_type": "markdown",
   "metadata": {},
   "source": [
    "### i. Feature Transformation: Handling Missing Values"
   ]
  },
  {
   "cell_type": "code",
   "execution_count": 275,
   "metadata": {},
   "outputs": [
    {
     "data": {
      "text/plain": [
       "latest_ecommerce_progress    0\n",
       "bounces                      0\n",
       "time_on_site                 0\n",
       "pageviews                    9\n",
       "source                       0\n",
       "channelGrouping              0\n",
       "deviceCategory               0\n",
       "country                      0\n",
       "dtype: int64"
      ]
     },
     "execution_count": 275,
     "metadata": {},
     "output_type": "execute_result"
    }
   ],
   "source": [
    "# X_train check\n",
    "X_train_2.isnull().sum()"
   ]
  },
  {
   "cell_type": "code",
   "execution_count": 276,
   "metadata": {},
   "outputs": [
    {
     "name": "stdout",
     "output_type": "stream",
     "text": [
      "        latest_ecommerce_progress  bounces  time_on_site  pageviews  \\\n",
      "526369                          0        0             1        NaN   \n",
      "47893                           0        0             0        NaN   \n",
      "118320                          0        0             0        NaN   \n",
      "556448                          0        0            18        NaN   \n",
      "46331                           0        0             0        NaN   \n",
      "201661                          0        0             0        NaN   \n",
      "41968                           0        0             0        NaN   \n",
      "615349                          0        0             0        NaN   \n",
      "40529                           0        0             0        NaN   \n",
      "\n",
      "             source channelGrouping deviceCategory        country  \n",
      "526369  youtube.com          Social         mobile    Philippines  \n",
      "47893   youtube.com          Social        desktop      (not set)  \n",
      "118320     (direct)          Direct        desktop  United States  \n",
      "556448  youtube.com          Social        desktop      Indonesia  \n",
      "46331   youtube.com          Social        desktop        Nigeria  \n",
      "201661  youtube.com          Social         mobile      Singapore  \n",
      "41968      (direct)          Direct         mobile          India  \n",
      "615349     (direct)          Direct        desktop         Poland  \n",
      "40529    google.com        Referral         mobile          Haiti  \n"
     ]
    }
   ],
   "source": [
    "# Rows with any null values\n",
    "null_rows = X_train_2[X_train_2[num_col].isnull().any(axis=1)]\n",
    "print(null_rows)"
   ]
  },
  {
   "cell_type": "markdown",
   "metadata": {},
   "source": [
    "Based on the null_rows, it seems that the null values in pageviews were due to page not loading properly, based on domain knowledge we will impute the null values with 0, assuming that the visitors didn't have the chance to properly see the content of the page.\n",
    "\n",
    "We will use **SimpleImputer with a constant of 0** and add it to the pipeline."
   ]
  },
  {
   "cell_type": "markdown",
   "metadata": {},
   "source": [
    "### j. Feature Transformation: Feature Scaling"
   ]
  },
  {
   "cell_type": "markdown",
   "metadata": {},
   "source": [
    "Since the data is skewed, we will use MinMaxScaler.\n",
    "\n",
    "Reference [https://www.geeksforgeeks.org/standardscaler-minmaxscaler-and-robustscaler-techniques-ml/]"
   ]
  },
  {
   "cell_type": "markdown",
   "metadata": {},
   "source": [
    "## **viii.ii. Modeling 2 - Model Definition**"
   ]
  },
  {
   "cell_type": "code",
   "execution_count": 277,
   "metadata": {},
   "outputs": [],
   "source": [
    "# Numerical pipeline\n",
    "num_pipeline = Pipeline([\n",
    "    ('winsoriser', Winsorizer(capping_method='quantiles',\n",
    "                              tail='right',\n",
    "                              fold=0.05,\n",
    "                              missing_values='ignore')),\n",
    "    ('imputer', SimpleImputer(strategy='constant', fill_value=1)),                          \n",
    "    ('skewed_scaler', MinMaxScaler())\n",
    "])\n",
    "\n",
    "# Cat pipeline\n",
    "cat_pipeline = Pipeline([\n",
    "    ('encoder', OneHotEncoder(handle_unknown='ignore', sparse_output=False))\n",
    "])\n",
    "\n",
    "preprocessing_pipeline = ColumnTransformer(\n",
    "    transformers=[\n",
    "    ('pipe_num', num_pipeline, num_col),\n",
    "    ('pipe_cat', cat_pipeline, cat_nominal_col)\n",
    "])"
   ]
  },
  {
   "cell_type": "code",
   "execution_count": 278,
   "metadata": {},
   "outputs": [],
   "source": [
    "# The model pipeline\n",
    "model_pipeline = Pipeline(steps=[\n",
    "    ('preprocessor', preprocessing_pipeline), \n",
    "    ('smote', SMOTE(sampling_strategy='minority', k_neighbors=5, random_state=42)), \n",
    "    ('model', LogisticRegression(class_weight='balanced',random_state=42)) \n",
    "])"
   ]
  },
  {
   "cell_type": "markdown",
   "metadata": {},
   "source": [
    "## **viii.iii. Modeling 2 - Model Training**"
   ]
  },
  {
   "cell_type": "code",
   "execution_count": 279,
   "metadata": {},
   "outputs": [
    {
     "name": "stdout",
     "output_type": "stream",
     "text": [
      "CPU times: user 1min 13s, sys: 6.55 s, total: 1min 19s\n",
      "Wall time: 10.6 s\n"
     ]
    },
    {
     "name": "stderr",
     "output_type": "stream",
     "text": [
      "/opt/anaconda3/lib/python3.12/site-packages/sklearn/linear_model/_logistic.py:469: ConvergenceWarning: lbfgs failed to converge (status=1):\n",
      "STOP: TOTAL NO. of ITERATIONS REACHED LIMIT.\n",
      "\n",
      "Increase the number of iterations (max_iter) or scale the data as shown in:\n",
      "    https://scikit-learn.org/stable/modules/preprocessing.html\n",
      "Please also refer to the documentation for alternative solver options:\n",
      "    https://scikit-learn.org/stable/modules/linear_model.html#logistic-regression\n",
      "  n_iter_i = _check_optimize_result(\n"
     ]
    },
    {
     "data": {
      "text/html": [
       "<style>#sk-container-id-4 {\n",
       "  /* Definition of color scheme common for light and dark mode */\n",
       "  --sklearn-color-text: black;\n",
       "  --sklearn-color-line: gray;\n",
       "  /* Definition of color scheme for unfitted estimators */\n",
       "  --sklearn-color-unfitted-level-0: #fff5e6;\n",
       "  --sklearn-color-unfitted-level-1: #f6e4d2;\n",
       "  --sklearn-color-unfitted-level-2: #ffe0b3;\n",
       "  --sklearn-color-unfitted-level-3: chocolate;\n",
       "  /* Definition of color scheme for fitted estimators */\n",
       "  --sklearn-color-fitted-level-0: #f0f8ff;\n",
       "  --sklearn-color-fitted-level-1: #d4ebff;\n",
       "  --sklearn-color-fitted-level-2: #b3dbfd;\n",
       "  --sklearn-color-fitted-level-3: cornflowerblue;\n",
       "\n",
       "  /* Specific color for light theme */\n",
       "  --sklearn-color-text-on-default-background: var(--sg-text-color, var(--theme-code-foreground, var(--jp-content-font-color1, black)));\n",
       "  --sklearn-color-background: var(--sg-background-color, var(--theme-background, var(--jp-layout-color0, white)));\n",
       "  --sklearn-color-border-box: var(--sg-text-color, var(--theme-code-foreground, var(--jp-content-font-color1, black)));\n",
       "  --sklearn-color-icon: #696969;\n",
       "\n",
       "  @media (prefers-color-scheme: dark) {\n",
       "    /* Redefinition of color scheme for dark theme */\n",
       "    --sklearn-color-text-on-default-background: var(--sg-text-color, var(--theme-code-foreground, var(--jp-content-font-color1, white)));\n",
       "    --sklearn-color-background: var(--sg-background-color, var(--theme-background, var(--jp-layout-color0, #111)));\n",
       "    --sklearn-color-border-box: var(--sg-text-color, var(--theme-code-foreground, var(--jp-content-font-color1, white)));\n",
       "    --sklearn-color-icon: #878787;\n",
       "  }\n",
       "}\n",
       "\n",
       "#sk-container-id-4 {\n",
       "  color: var(--sklearn-color-text);\n",
       "}\n",
       "\n",
       "#sk-container-id-4 pre {\n",
       "  padding: 0;\n",
       "}\n",
       "\n",
       "#sk-container-id-4 input.sk-hidden--visually {\n",
       "  border: 0;\n",
       "  clip: rect(1px 1px 1px 1px);\n",
       "  clip: rect(1px, 1px, 1px, 1px);\n",
       "  height: 1px;\n",
       "  margin: -1px;\n",
       "  overflow: hidden;\n",
       "  padding: 0;\n",
       "  position: absolute;\n",
       "  width: 1px;\n",
       "}\n",
       "\n",
       "#sk-container-id-4 div.sk-dashed-wrapped {\n",
       "  border: 1px dashed var(--sklearn-color-line);\n",
       "  margin: 0 0.4em 0.5em 0.4em;\n",
       "  box-sizing: border-box;\n",
       "  padding-bottom: 0.4em;\n",
       "  background-color: var(--sklearn-color-background);\n",
       "}\n",
       "\n",
       "#sk-container-id-4 div.sk-container {\n",
       "  /* jupyter's `normalize.less` sets `[hidden] { display: none; }`\n",
       "     but bootstrap.min.css set `[hidden] { display: none !important; }`\n",
       "     so we also need the `!important` here to be able to override the\n",
       "     default hidden behavior on the sphinx rendered scikit-learn.org.\n",
       "     See: https://github.com/scikit-learn/scikit-learn/issues/21755 */\n",
       "  display: inline-block !important;\n",
       "  position: relative;\n",
       "}\n",
       "\n",
       "#sk-container-id-4 div.sk-text-repr-fallback {\n",
       "  display: none;\n",
       "}\n",
       "\n",
       "div.sk-parallel-item,\n",
       "div.sk-serial,\n",
       "div.sk-item {\n",
       "  /* draw centered vertical line to link estimators */\n",
       "  background-image: linear-gradient(var(--sklearn-color-text-on-default-background), var(--sklearn-color-text-on-default-background));\n",
       "  background-size: 2px 100%;\n",
       "  background-repeat: no-repeat;\n",
       "  background-position: center center;\n",
       "}\n",
       "\n",
       "/* Parallel-specific style estimator block */\n",
       "\n",
       "#sk-container-id-4 div.sk-parallel-item::after {\n",
       "  content: \"\";\n",
       "  width: 100%;\n",
       "  border-bottom: 2px solid var(--sklearn-color-text-on-default-background);\n",
       "  flex-grow: 1;\n",
       "}\n",
       "\n",
       "#sk-container-id-4 div.sk-parallel {\n",
       "  display: flex;\n",
       "  align-items: stretch;\n",
       "  justify-content: center;\n",
       "  background-color: var(--sklearn-color-background);\n",
       "  position: relative;\n",
       "}\n",
       "\n",
       "#sk-container-id-4 div.sk-parallel-item {\n",
       "  display: flex;\n",
       "  flex-direction: column;\n",
       "}\n",
       "\n",
       "#sk-container-id-4 div.sk-parallel-item:first-child::after {\n",
       "  align-self: flex-end;\n",
       "  width: 50%;\n",
       "}\n",
       "\n",
       "#sk-container-id-4 div.sk-parallel-item:last-child::after {\n",
       "  align-self: flex-start;\n",
       "  width: 50%;\n",
       "}\n",
       "\n",
       "#sk-container-id-4 div.sk-parallel-item:only-child::after {\n",
       "  width: 0;\n",
       "}\n",
       "\n",
       "/* Serial-specific style estimator block */\n",
       "\n",
       "#sk-container-id-4 div.sk-serial {\n",
       "  display: flex;\n",
       "  flex-direction: column;\n",
       "  align-items: center;\n",
       "  background-color: var(--sklearn-color-background);\n",
       "  padding-right: 1em;\n",
       "  padding-left: 1em;\n",
       "}\n",
       "\n",
       "\n",
       "/* Toggleable style: style used for estimator/Pipeline/ColumnTransformer box that is\n",
       "clickable and can be expanded/collapsed.\n",
       "- Pipeline and ColumnTransformer use this feature and define the default style\n",
       "- Estimators will overwrite some part of the style using the `sk-estimator` class\n",
       "*/\n",
       "\n",
       "/* Pipeline and ColumnTransformer style (default) */\n",
       "\n",
       "#sk-container-id-4 div.sk-toggleable {\n",
       "  /* Default theme specific background. It is overwritten whether we have a\n",
       "  specific estimator or a Pipeline/ColumnTransformer */\n",
       "  background-color: var(--sklearn-color-background);\n",
       "}\n",
       "\n",
       "/* Toggleable label */\n",
       "#sk-container-id-4 label.sk-toggleable__label {\n",
       "  cursor: pointer;\n",
       "  display: block;\n",
       "  width: 100%;\n",
       "  margin-bottom: 0;\n",
       "  padding: 0.5em;\n",
       "  box-sizing: border-box;\n",
       "  text-align: center;\n",
       "}\n",
       "\n",
       "#sk-container-id-4 label.sk-toggleable__label-arrow:before {\n",
       "  /* Arrow on the left of the label */\n",
       "  content: \"▸\";\n",
       "  float: left;\n",
       "  margin-right: 0.25em;\n",
       "  color: var(--sklearn-color-icon);\n",
       "}\n",
       "\n",
       "#sk-container-id-4 label.sk-toggleable__label-arrow:hover:before {\n",
       "  color: var(--sklearn-color-text);\n",
       "}\n",
       "\n",
       "/* Toggleable content - dropdown */\n",
       "\n",
       "#sk-container-id-4 div.sk-toggleable__content {\n",
       "  max-height: 0;\n",
       "  max-width: 0;\n",
       "  overflow: hidden;\n",
       "  text-align: left;\n",
       "  /* unfitted */\n",
       "  background-color: var(--sklearn-color-unfitted-level-0);\n",
       "}\n",
       "\n",
       "#sk-container-id-4 div.sk-toggleable__content.fitted {\n",
       "  /* fitted */\n",
       "  background-color: var(--sklearn-color-fitted-level-0);\n",
       "}\n",
       "\n",
       "#sk-container-id-4 div.sk-toggleable__content pre {\n",
       "  margin: 0.2em;\n",
       "  border-radius: 0.25em;\n",
       "  color: var(--sklearn-color-text);\n",
       "  /* unfitted */\n",
       "  background-color: var(--sklearn-color-unfitted-level-0);\n",
       "}\n",
       "\n",
       "#sk-container-id-4 div.sk-toggleable__content.fitted pre {\n",
       "  /* unfitted */\n",
       "  background-color: var(--sklearn-color-fitted-level-0);\n",
       "}\n",
       "\n",
       "#sk-container-id-4 input.sk-toggleable__control:checked~div.sk-toggleable__content {\n",
       "  /* Expand drop-down */\n",
       "  max-height: 200px;\n",
       "  max-width: 100%;\n",
       "  overflow: auto;\n",
       "}\n",
       "\n",
       "#sk-container-id-4 input.sk-toggleable__control:checked~label.sk-toggleable__label-arrow:before {\n",
       "  content: \"▾\";\n",
       "}\n",
       "\n",
       "/* Pipeline/ColumnTransformer-specific style */\n",
       "\n",
       "#sk-container-id-4 div.sk-label input.sk-toggleable__control:checked~label.sk-toggleable__label {\n",
       "  color: var(--sklearn-color-text);\n",
       "  background-color: var(--sklearn-color-unfitted-level-2);\n",
       "}\n",
       "\n",
       "#sk-container-id-4 div.sk-label.fitted input.sk-toggleable__control:checked~label.sk-toggleable__label {\n",
       "  background-color: var(--sklearn-color-fitted-level-2);\n",
       "}\n",
       "\n",
       "/* Estimator-specific style */\n",
       "\n",
       "/* Colorize estimator box */\n",
       "#sk-container-id-4 div.sk-estimator input.sk-toggleable__control:checked~label.sk-toggleable__label {\n",
       "  /* unfitted */\n",
       "  background-color: var(--sklearn-color-unfitted-level-2);\n",
       "}\n",
       "\n",
       "#sk-container-id-4 div.sk-estimator.fitted input.sk-toggleable__control:checked~label.sk-toggleable__label {\n",
       "  /* fitted */\n",
       "  background-color: var(--sklearn-color-fitted-level-2);\n",
       "}\n",
       "\n",
       "#sk-container-id-4 div.sk-label label.sk-toggleable__label,\n",
       "#sk-container-id-4 div.sk-label label {\n",
       "  /* The background is the default theme color */\n",
       "  color: var(--sklearn-color-text-on-default-background);\n",
       "}\n",
       "\n",
       "/* On hover, darken the color of the background */\n",
       "#sk-container-id-4 div.sk-label:hover label.sk-toggleable__label {\n",
       "  color: var(--sklearn-color-text);\n",
       "  background-color: var(--sklearn-color-unfitted-level-2);\n",
       "}\n",
       "\n",
       "/* Label box, darken color on hover, fitted */\n",
       "#sk-container-id-4 div.sk-label.fitted:hover label.sk-toggleable__label.fitted {\n",
       "  color: var(--sklearn-color-text);\n",
       "  background-color: var(--sklearn-color-fitted-level-2);\n",
       "}\n",
       "\n",
       "/* Estimator label */\n",
       "\n",
       "#sk-container-id-4 div.sk-label label {\n",
       "  font-family: monospace;\n",
       "  font-weight: bold;\n",
       "  display: inline-block;\n",
       "  line-height: 1.2em;\n",
       "}\n",
       "\n",
       "#sk-container-id-4 div.sk-label-container {\n",
       "  text-align: center;\n",
       "}\n",
       "\n",
       "/* Estimator-specific */\n",
       "#sk-container-id-4 div.sk-estimator {\n",
       "  font-family: monospace;\n",
       "  border: 1px dotted var(--sklearn-color-border-box);\n",
       "  border-radius: 0.25em;\n",
       "  box-sizing: border-box;\n",
       "  margin-bottom: 0.5em;\n",
       "  /* unfitted */\n",
       "  background-color: var(--sklearn-color-unfitted-level-0);\n",
       "}\n",
       "\n",
       "#sk-container-id-4 div.sk-estimator.fitted {\n",
       "  /* fitted */\n",
       "  background-color: var(--sklearn-color-fitted-level-0);\n",
       "}\n",
       "\n",
       "/* on hover */\n",
       "#sk-container-id-4 div.sk-estimator:hover {\n",
       "  /* unfitted */\n",
       "  background-color: var(--sklearn-color-unfitted-level-2);\n",
       "}\n",
       "\n",
       "#sk-container-id-4 div.sk-estimator.fitted:hover {\n",
       "  /* fitted */\n",
       "  background-color: var(--sklearn-color-fitted-level-2);\n",
       "}\n",
       "\n",
       "/* Specification for estimator info (e.g. \"i\" and \"?\") */\n",
       "\n",
       "/* Common style for \"i\" and \"?\" */\n",
       "\n",
       ".sk-estimator-doc-link,\n",
       "a:link.sk-estimator-doc-link,\n",
       "a:visited.sk-estimator-doc-link {\n",
       "  float: right;\n",
       "  font-size: smaller;\n",
       "  line-height: 1em;\n",
       "  font-family: monospace;\n",
       "  background-color: var(--sklearn-color-background);\n",
       "  border-radius: 1em;\n",
       "  height: 1em;\n",
       "  width: 1em;\n",
       "  text-decoration: none !important;\n",
       "  margin-left: 1ex;\n",
       "  /* unfitted */\n",
       "  border: var(--sklearn-color-unfitted-level-1) 1pt solid;\n",
       "  color: var(--sklearn-color-unfitted-level-1);\n",
       "}\n",
       "\n",
       ".sk-estimator-doc-link.fitted,\n",
       "a:link.sk-estimator-doc-link.fitted,\n",
       "a:visited.sk-estimator-doc-link.fitted {\n",
       "  /* fitted */\n",
       "  border: var(--sklearn-color-fitted-level-1) 1pt solid;\n",
       "  color: var(--sklearn-color-fitted-level-1);\n",
       "}\n",
       "\n",
       "/* On hover */\n",
       "div.sk-estimator:hover .sk-estimator-doc-link:hover,\n",
       ".sk-estimator-doc-link:hover,\n",
       "div.sk-label-container:hover .sk-estimator-doc-link:hover,\n",
       ".sk-estimator-doc-link:hover {\n",
       "  /* unfitted */\n",
       "  background-color: var(--sklearn-color-unfitted-level-3);\n",
       "  color: var(--sklearn-color-background);\n",
       "  text-decoration: none;\n",
       "}\n",
       "\n",
       "div.sk-estimator.fitted:hover .sk-estimator-doc-link.fitted:hover,\n",
       ".sk-estimator-doc-link.fitted:hover,\n",
       "div.sk-label-container:hover .sk-estimator-doc-link.fitted:hover,\n",
       ".sk-estimator-doc-link.fitted:hover {\n",
       "  /* fitted */\n",
       "  background-color: var(--sklearn-color-fitted-level-3);\n",
       "  color: var(--sklearn-color-background);\n",
       "  text-decoration: none;\n",
       "}\n",
       "\n",
       "/* Span, style for the box shown on hovering the info icon */\n",
       ".sk-estimator-doc-link span {\n",
       "  display: none;\n",
       "  z-index: 9999;\n",
       "  position: relative;\n",
       "  font-weight: normal;\n",
       "  right: .2ex;\n",
       "  padding: .5ex;\n",
       "  margin: .5ex;\n",
       "  width: min-content;\n",
       "  min-width: 20ex;\n",
       "  max-width: 50ex;\n",
       "  color: var(--sklearn-color-text);\n",
       "  box-shadow: 2pt 2pt 4pt #999;\n",
       "  /* unfitted */\n",
       "  background: var(--sklearn-color-unfitted-level-0);\n",
       "  border: .5pt solid var(--sklearn-color-unfitted-level-3);\n",
       "}\n",
       "\n",
       ".sk-estimator-doc-link.fitted span {\n",
       "  /* fitted */\n",
       "  background: var(--sklearn-color-fitted-level-0);\n",
       "  border: var(--sklearn-color-fitted-level-3);\n",
       "}\n",
       "\n",
       ".sk-estimator-doc-link:hover span {\n",
       "  display: block;\n",
       "}\n",
       "\n",
       "/* \"?\"-specific style due to the `<a>` HTML tag */\n",
       "\n",
       "#sk-container-id-4 a.estimator_doc_link {\n",
       "  float: right;\n",
       "  font-size: 1rem;\n",
       "  line-height: 1em;\n",
       "  font-family: monospace;\n",
       "  background-color: var(--sklearn-color-background);\n",
       "  border-radius: 1rem;\n",
       "  height: 1rem;\n",
       "  width: 1rem;\n",
       "  text-decoration: none;\n",
       "  /* unfitted */\n",
       "  color: var(--sklearn-color-unfitted-level-1);\n",
       "  border: var(--sklearn-color-unfitted-level-1) 1pt solid;\n",
       "}\n",
       "\n",
       "#sk-container-id-4 a.estimator_doc_link.fitted {\n",
       "  /* fitted */\n",
       "  border: var(--sklearn-color-fitted-level-1) 1pt solid;\n",
       "  color: var(--sklearn-color-fitted-level-1);\n",
       "}\n",
       "\n",
       "/* On hover */\n",
       "#sk-container-id-4 a.estimator_doc_link:hover {\n",
       "  /* unfitted */\n",
       "  background-color: var(--sklearn-color-unfitted-level-3);\n",
       "  color: var(--sklearn-color-background);\n",
       "  text-decoration: none;\n",
       "}\n",
       "\n",
       "#sk-container-id-4 a.estimator_doc_link.fitted:hover {\n",
       "  /* fitted */\n",
       "  background-color: var(--sklearn-color-fitted-level-3);\n",
       "}\n",
       "</style><div id=\"sk-container-id-4\" class=\"sk-top-container\"><div class=\"sk-text-repr-fallback\"><pre>Pipeline(steps=[(&#x27;preprocessor&#x27;,\n",
       "                 ColumnTransformer(transformers=[(&#x27;pipe_num&#x27;,\n",
       "                                                  Pipeline(steps=[(&#x27;winsoriser&#x27;,\n",
       "                                                                   Winsorizer(capping_method=&#x27;quantiles&#x27;,\n",
       "                                                                              fold=0.05,\n",
       "                                                                              missing_values=&#x27;ignore&#x27;)),\n",
       "                                                                  (&#x27;imputer&#x27;,\n",
       "                                                                   SimpleImputer(fill_value=1,\n",
       "                                                                                 strategy=&#x27;constant&#x27;)),\n",
       "                                                                  (&#x27;skewed_scaler&#x27;,\n",
       "                                                                   MinMaxScaler())]),\n",
       "                                                  [&#x27;time_on_site&#x27;,\n",
       "                                                   &#x27;pageviews&#x27;]),\n",
       "                                                 (&#x27;pipe_cat&#x27;,\n",
       "                                                  Pipeline(steps=[(&#x27;encoder&#x27;,\n",
       "                                                                   OneHotEncoder(handle_unknown=&#x27;ignore&#x27;,\n",
       "                                                                                 sparse_output=False))]),\n",
       "                                                  [&#x27;source&#x27;, &#x27;channelGrouping&#x27;,\n",
       "                                                   &#x27;deviceCategory&#x27;,\n",
       "                                                   &#x27;country&#x27;])])),\n",
       "                (&#x27;smote&#x27;, SMOTE(random_state=42, sampling_strategy=&#x27;minority&#x27;)),\n",
       "                (&#x27;model&#x27;,\n",
       "                 LogisticRegression(class_weight=&#x27;balanced&#x27;, random_state=42))])</pre><b>In a Jupyter environment, please rerun this cell to show the HTML representation or trust the notebook. <br />On GitHub, the HTML representation is unable to render, please try loading this page with nbviewer.org.</b></div><div class=\"sk-container\" hidden><div class=\"sk-item sk-dashed-wrapped\"><div class=\"sk-label-container\"><div class=\"sk-label fitted sk-toggleable\"><input class=\"sk-toggleable__control sk-hidden--visually\" id=\"sk-estimator-id-19\" type=\"checkbox\" ><label for=\"sk-estimator-id-19\" class=\"sk-toggleable__label fitted sk-toggleable__label-arrow fitted\">&nbsp;Pipeline<span class=\"sk-estimator-doc-link fitted\">i<span>Fitted</span></span></label><div class=\"sk-toggleable__content fitted\"><pre>Pipeline(steps=[(&#x27;preprocessor&#x27;,\n",
       "                 ColumnTransformer(transformers=[(&#x27;pipe_num&#x27;,\n",
       "                                                  Pipeline(steps=[(&#x27;winsoriser&#x27;,\n",
       "                                                                   Winsorizer(capping_method=&#x27;quantiles&#x27;,\n",
       "                                                                              fold=0.05,\n",
       "                                                                              missing_values=&#x27;ignore&#x27;)),\n",
       "                                                                  (&#x27;imputer&#x27;,\n",
       "                                                                   SimpleImputer(fill_value=1,\n",
       "                                                                                 strategy=&#x27;constant&#x27;)),\n",
       "                                                                  (&#x27;skewed_scaler&#x27;,\n",
       "                                                                   MinMaxScaler())]),\n",
       "                                                  [&#x27;time_on_site&#x27;,\n",
       "                                                   &#x27;pageviews&#x27;]),\n",
       "                                                 (&#x27;pipe_cat&#x27;,\n",
       "                                                  Pipeline(steps=[(&#x27;encoder&#x27;,\n",
       "                                                                   OneHotEncoder(handle_unknown=&#x27;ignore&#x27;,\n",
       "                                                                                 sparse_output=False))]),\n",
       "                                                  [&#x27;source&#x27;, &#x27;channelGrouping&#x27;,\n",
       "                                                   &#x27;deviceCategory&#x27;,\n",
       "                                                   &#x27;country&#x27;])])),\n",
       "                (&#x27;smote&#x27;, SMOTE(random_state=42, sampling_strategy=&#x27;minority&#x27;)),\n",
       "                (&#x27;model&#x27;,\n",
       "                 LogisticRegression(class_weight=&#x27;balanced&#x27;, random_state=42))])</pre></div> </div></div><div class=\"sk-serial\"><div class=\"sk-item sk-dashed-wrapped\"><div class=\"sk-label-container\"><div class=\"sk-label fitted sk-toggleable\"><input class=\"sk-toggleable__control sk-hidden--visually\" id=\"sk-estimator-id-20\" type=\"checkbox\" ><label for=\"sk-estimator-id-20\" class=\"sk-toggleable__label fitted sk-toggleable__label-arrow fitted\">&nbsp;preprocessor: ColumnTransformer<a class=\"sk-estimator-doc-link fitted\" rel=\"noreferrer\" target=\"_blank\" href=\"https://scikit-learn.org/1.4/modules/generated/sklearn.compose.ColumnTransformer.html\">?<span>Documentation for preprocessor: ColumnTransformer</span></a></label><div class=\"sk-toggleable__content fitted\"><pre>ColumnTransformer(transformers=[(&#x27;pipe_num&#x27;,\n",
       "                                 Pipeline(steps=[(&#x27;winsoriser&#x27;,\n",
       "                                                  Winsorizer(capping_method=&#x27;quantiles&#x27;,\n",
       "                                                             fold=0.05,\n",
       "                                                             missing_values=&#x27;ignore&#x27;)),\n",
       "                                                 (&#x27;imputer&#x27;,\n",
       "                                                  SimpleImputer(fill_value=1,\n",
       "                                                                strategy=&#x27;constant&#x27;)),\n",
       "                                                 (&#x27;skewed_scaler&#x27;,\n",
       "                                                  MinMaxScaler())]),\n",
       "                                 [&#x27;time_on_site&#x27;, &#x27;pageviews&#x27;]),\n",
       "                                (&#x27;pipe_cat&#x27;,\n",
       "                                 Pipeline(steps=[(&#x27;encoder&#x27;,\n",
       "                                                  OneHotEncoder(handle_unknown=&#x27;ignore&#x27;,\n",
       "                                                                sparse_output=False))]),\n",
       "                                 [&#x27;source&#x27;, &#x27;channelGrouping&#x27;, &#x27;deviceCategory&#x27;,\n",
       "                                  &#x27;country&#x27;])])</pre></div> </div></div><div class=\"sk-parallel\"><div class=\"sk-parallel-item\"><div class=\"sk-item\"><div class=\"sk-label-container\"><div class=\"sk-label fitted sk-toggleable\"><input class=\"sk-toggleable__control sk-hidden--visually\" id=\"sk-estimator-id-21\" type=\"checkbox\" ><label for=\"sk-estimator-id-21\" class=\"sk-toggleable__label fitted sk-toggleable__label-arrow fitted\">pipe_num</label><div class=\"sk-toggleable__content fitted\"><pre>[&#x27;time_on_site&#x27;, &#x27;pageviews&#x27;]</pre></div> </div></div><div class=\"sk-serial\"><div class=\"sk-item\"><div class=\"sk-serial\"><div class=\"sk-item\"><div class=\"sk-estimator fitted sk-toggleable\"><input class=\"sk-toggleable__control sk-hidden--visually\" id=\"sk-estimator-id-22\" type=\"checkbox\" ><label for=\"sk-estimator-id-22\" class=\"sk-toggleable__label fitted sk-toggleable__label-arrow fitted\">Winsorizer</label><div class=\"sk-toggleable__content fitted\"><pre>Winsorizer(capping_method=&#x27;quantiles&#x27;, fold=0.05, missing_values=&#x27;ignore&#x27;)</pre></div> </div></div><div class=\"sk-item\"><div class=\"sk-estimator fitted sk-toggleable\"><input class=\"sk-toggleable__control sk-hidden--visually\" id=\"sk-estimator-id-23\" type=\"checkbox\" ><label for=\"sk-estimator-id-23\" class=\"sk-toggleable__label fitted sk-toggleable__label-arrow fitted\">&nbsp;SimpleImputer<a class=\"sk-estimator-doc-link fitted\" rel=\"noreferrer\" target=\"_blank\" href=\"https://scikit-learn.org/1.4/modules/generated/sklearn.impute.SimpleImputer.html\">?<span>Documentation for SimpleImputer</span></a></label><div class=\"sk-toggleable__content fitted\"><pre>SimpleImputer(fill_value=1, strategy=&#x27;constant&#x27;)</pre></div> </div></div><div class=\"sk-item\"><div class=\"sk-estimator fitted sk-toggleable\"><input class=\"sk-toggleable__control sk-hidden--visually\" id=\"sk-estimator-id-24\" type=\"checkbox\" ><label for=\"sk-estimator-id-24\" class=\"sk-toggleable__label fitted sk-toggleable__label-arrow fitted\">&nbsp;MinMaxScaler<a class=\"sk-estimator-doc-link fitted\" rel=\"noreferrer\" target=\"_blank\" href=\"https://scikit-learn.org/1.4/modules/generated/sklearn.preprocessing.MinMaxScaler.html\">?<span>Documentation for MinMaxScaler</span></a></label><div class=\"sk-toggleable__content fitted\"><pre>MinMaxScaler()</pre></div> </div></div></div></div></div></div></div><div class=\"sk-parallel-item\"><div class=\"sk-item\"><div class=\"sk-label-container\"><div class=\"sk-label fitted sk-toggleable\"><input class=\"sk-toggleable__control sk-hidden--visually\" id=\"sk-estimator-id-25\" type=\"checkbox\" ><label for=\"sk-estimator-id-25\" class=\"sk-toggleable__label fitted sk-toggleable__label-arrow fitted\">pipe_cat</label><div class=\"sk-toggleable__content fitted\"><pre>[&#x27;source&#x27;, &#x27;channelGrouping&#x27;, &#x27;deviceCategory&#x27;, &#x27;country&#x27;]</pre></div> </div></div><div class=\"sk-serial\"><div class=\"sk-item\"><div class=\"sk-serial\"><div class=\"sk-item\"><div class=\"sk-estimator fitted sk-toggleable\"><input class=\"sk-toggleable__control sk-hidden--visually\" id=\"sk-estimator-id-26\" type=\"checkbox\" ><label for=\"sk-estimator-id-26\" class=\"sk-toggleable__label fitted sk-toggleable__label-arrow fitted\">&nbsp;OneHotEncoder<a class=\"sk-estimator-doc-link fitted\" rel=\"noreferrer\" target=\"_blank\" href=\"https://scikit-learn.org/1.4/modules/generated/sklearn.preprocessing.OneHotEncoder.html\">?<span>Documentation for OneHotEncoder</span></a></label><div class=\"sk-toggleable__content fitted\"><pre>OneHotEncoder(handle_unknown=&#x27;ignore&#x27;, sparse_output=False)</pre></div> </div></div></div></div></div></div></div></div></div><div class=\"sk-item\"><div class=\"sk-estimator fitted sk-toggleable\"><input class=\"sk-toggleable__control sk-hidden--visually\" id=\"sk-estimator-id-27\" type=\"checkbox\" ><label for=\"sk-estimator-id-27\" class=\"sk-toggleable__label fitted sk-toggleable__label-arrow fitted\">SMOTE</label><div class=\"sk-toggleable__content fitted\"><pre>SMOTE(random_state=42, sampling_strategy=&#x27;minority&#x27;)</pre></div> </div></div><div class=\"sk-item\"><div class=\"sk-estimator fitted sk-toggleable\"><input class=\"sk-toggleable__control sk-hidden--visually\" id=\"sk-estimator-id-28\" type=\"checkbox\" ><label for=\"sk-estimator-id-28\" class=\"sk-toggleable__label fitted sk-toggleable__label-arrow fitted\">&nbsp;LogisticRegression<a class=\"sk-estimator-doc-link fitted\" rel=\"noreferrer\" target=\"_blank\" href=\"https://scikit-learn.org/1.4/modules/generated/sklearn.linear_model.LogisticRegression.html\">?<span>Documentation for LogisticRegression</span></a></label><div class=\"sk-toggleable__content fitted\"><pre>LogisticRegression(class_weight=&#x27;balanced&#x27;, random_state=42)</pre></div> </div></div></div></div></div></div>"
      ],
      "text/plain": [
       "Pipeline(steps=[('preprocessor',\n",
       "                 ColumnTransformer(transformers=[('pipe_num',\n",
       "                                                  Pipeline(steps=[('winsoriser',\n",
       "                                                                   Winsorizer(capping_method='quantiles',\n",
       "                                                                              fold=0.05,\n",
       "                                                                              missing_values='ignore')),\n",
       "                                                                  ('imputer',\n",
       "                                                                   SimpleImputer(fill_value=1,\n",
       "                                                                                 strategy='constant')),\n",
       "                                                                  ('skewed_scaler',\n",
       "                                                                   MinMaxScaler())]),\n",
       "                                                  ['time_on_site',\n",
       "                                                   'pageviews']),\n",
       "                                                 ('pipe_cat',\n",
       "                                                  Pipeline(steps=[('encoder',\n",
       "                                                                   OneHotEncoder(handle_unknown='ignore',\n",
       "                                                                                 sparse_output=False))]),\n",
       "                                                  ['source', 'channelGrouping',\n",
       "                                                   'deviceCategory',\n",
       "                                                   'country'])])),\n",
       "                ('smote', SMOTE(random_state=42, sampling_strategy='minority')),\n",
       "                ('model',\n",
       "                 LogisticRegression(class_weight='balanced', random_state=42))])"
      ]
     },
     "execution_count": 279,
     "metadata": {},
     "output_type": "execute_result"
    }
   ],
   "source": [
    "%%time\n",
    "\n",
    "model_pipeline.fit(X_train_2, y_train_2)"
   ]
  },
  {
   "cell_type": "markdown",
   "metadata": {},
   "source": [
    "## **viii.iv. Model 2 Evaluation**"
   ]
  },
  {
   "cell_type": "code",
   "execution_count": 280,
   "metadata": {},
   "outputs": [
    {
     "name": "stdout",
     "output_type": "stream",
     "text": [
      "[0 0 1 ... 0 0 0]\n"
     ]
    }
   ],
   "source": [
    "# Predict Train and test\n",
    "\n",
    "y_pred_train_2 = model_pipeline.predict(X_train_2)\n",
    "y_pred_test_2 = model_pipeline.predict(X_test_2)\n",
    "\n",
    "print(y_pred_train_2)"
   ]
  },
  {
   "cell_type": "code",
   "execution_count": 281,
   "metadata": {},
   "outputs": [
    {
     "name": "stdout",
     "output_type": "stream",
     "text": [
      "ROC AUC Score: 0.83\n",
      "Evaluation: Fair\n"
     ]
    }
   ],
   "source": [
    "# Binarize the predictions\n",
    "y_pred_proba_2 = np.where(y_pred_test_2 >= 0.5, 1, 0)  \n",
    "\n",
    "# Calculate roc_auc_score\n",
    "roc_auc_2 = roc_auc_score(y_test_2, y_pred_proba_2)\n",
    "\n",
    "# Print the roc_auc_score and evaluation\n",
    "print(f\"ROC AUC Score: {roc_auc_2:.2f}\")\n",
    "print(f\"Evaluation: {evaluate_roc_auc(roc_auc_2)}\")"
   ]
  },
  {
   "cell_type": "markdown",
   "metadata": {},
   "source": [
    "ROC AUC (0.83) means fair classification performance.\n",
    "The model is **good enough, but still can be improved**."
   ]
  },
  {
   "cell_type": "code",
   "execution_count": 282,
   "metadata": {},
   "outputs": [
    {
     "name": "stdout",
     "output_type": "stream",
     "text": [
      "F1 Score - Test Set   :  0.24122442189319582 \n",
      "\n",
      "Classification Report : \n",
      "               precision    recall  f1-score   support\n",
      "\n",
      "           0       0.99      0.75      0.85     35471\n",
      "           1       0.14      0.91      0.24      1592\n",
      "\n",
      "    accuracy                           0.75     37063\n",
      "   macro avg       0.57      0.83      0.55     37063\n",
      "weighted avg       0.96      0.75      0.83     37063\n",
      " \n",
      "\n",
      "Confusion Matrix      : \n",
      " <sklearn.metrics._plot.confusion_matrix.ConfusionMatrixDisplay object at 0x32face450>\n"
     ]
    },
    {
     "data": {
      "image/png": "[encoded data removed]",
      "text/plain": [
       "<Figure size 640x480 with 2 Axes>"
      ]
     },
     "metadata": {},
     "output_type": "display_data"
    }
   ],
   "source": [
    "# Check Performance Model against Test-Set\n",
    "print('F1 Score - Test Set   : ', f1_score(y_test_2, y_pred_test_2), '\\n')\n",
    "print('Classification Report : \\n', classification_report(y_test_2, y_pred_test_2), '\\n')\n",
    "print('Confusion Matrix      : \\n', ConfusionMatrixDisplay.from_estimator(model_pipeline, X_test_2, y_test_2, cmap='Reds'))"
   ]
  },
  {
   "cell_type": "markdown",
   "metadata": {},
   "source": [
    "**Conclusion**\n",
    "\n",
    "- The model has high recall but low precision for class 1 (minority class). It predicts many class 1 instances correctly but makes many incorrect predictions, leading to poor precision.\n",
    "- Class 0 is very well, with high precision and a decent recall.\n",
    "- The model is biased toward the majority class (class 0), which is normal with imbalanced data. So it's impacting the performance, especially for class 1.\n",
    "- Improvement: class weighting, other smote techniques, cross validation, hyper parameter tunning, etc."
   ]
  },
  {
   "cell_type": "markdown",
   "metadata": {},
   "source": [
    "### **viii.iv.i Model 2 Hyperparameter Tuning**"
   ]
  },
  {
   "cell_type": "markdown",
   "metadata": {},
   "source": [
    "**Hyperparameter Tuning**\n",
    "\n",
    "We will do Hyperparameter Tuning for the model we made, to see the best hyperparameter settings.\n",
    "\n",
    "The `grid_search_params` will refer to this [reference](https://www.geeksforgeeks.org/how-to-optimize-logistic-regression-performance/#:~:text=are%20implemented%20below%3A-,Step%201%3A%20Creating%20a%20Parameter%20Grid%20for%20Hyperparameter%20Tuning%20in%20Logistic%20Regression,-In%20the%20first)."
   ]
  },
  {
   "cell_type": "code",
   "execution_count": 283,
   "metadata": {},
   "outputs": [
    {
     "name": "stdout",
     "output_type": "stream",
     "text": [
      "Best parameters: {'model__C': 0.0001, 'model__max_iter': 1000, 'model__solver': 'lbfgs'}\n",
      "Best estimator: Pipeline(steps=[('preprocessor',\n",
      "                 ColumnTransformer(transformers=[('pipe_num',\n",
      "                                                  Pipeline(steps=[('winsoriser',\n",
      "                                                                   Winsorizer(capping_method='quantiles',\n",
      "                                                                              fold=0.05,\n",
      "                                                                              missing_values='ignore')),\n",
      "                                                                  ('imputer',\n",
      "                                                                   SimpleImputer(fill_value=1,\n",
      "                                                                                 strategy='constant')),\n",
      "                                                                  ('skewed_scaler',\n",
      "                                                                   MinMaxScaler())]),\n",
      "                                                  ['time_on_site',\n",
      "                                                   'pageviews']),\n",
      "                                                 ('pipe_cat',\n",
      "                                                  Pipeline(steps=[('encoder',\n",
      "                                                                   OneHotEncoder(handle_unknown='ignore',\n",
      "                                                                                 sparse_output=False))]),\n",
      "                                                  ['source', 'channelGrouping',\n",
      "                                                   'deviceCategory',\n",
      "                                                   'country'])])),\n",
      "                ('smote', SMOTE(random_state=42, sampling_strategy='minority')),\n",
      "                ('model',\n",
      "                 LogisticRegression(C=0.0001, class_weight='balanced',\n",
      "                                    max_iter=1000, random_state=42))])\n",
      "CPU times: user 24min 19s, sys: 3min 54s, total: 28min 13s\n",
      "Wall time: 3min 51s\n"
     ]
    }
   ],
   "source": [
    "%%time\n",
    "\n",
    "# Define the parameter\n",
    "grid_search_params = {\n",
    "    'model__C': np.logspace(-4, 4, 5),\n",
    "    'model__solver': ['lbfgs', 'liblinear'],\n",
    "    'model__max_iter': [1000, 2500]\n",
    "}\n",
    "\n",
    "# GridSearchCV\n",
    "clf_grid = GridSearchCV(model_pipeline, param_grid=grid_search_params, cv=3)\n",
    "\n",
    "# Fit\n",
    "clf_grid.fit(X_train_2, y_train_2)\n",
    "\n",
    "# Get the best parameters and estimator\n",
    "print(f\"Best parameters: {clf_grid.best_params_}\")\n",
    "print(f\"Best estimator: {clf_grid.best_estimator_}\")"
   ]
  },
  {
   "cell_type": "code",
   "execution_count": 284,
   "metadata": {},
   "outputs": [
    {
     "name": "stdout",
     "output_type": "stream",
     "text": [
      "[0 0 0 ... 0 0 0]\n"
     ]
    }
   ],
   "source": [
    "# Predict\n",
    "\n",
    "y_pred_train_tune = clf_grid.predict(X_train_2)\n",
    "y_pred_test_tune= clf_grid.predict(X_test_2)\n",
    "\n",
    "print(y_pred_train_tune)"
   ]
  },
  {
   "cell_type": "code",
   "execution_count": 288,
   "metadata": {},
   "outputs": [
    {
     "name": "stdout",
     "output_type": "stream",
     "text": [
      "ROC AUC Score: 0.80\n",
      "Evaluation: Fair\n"
     ]
    }
   ],
   "source": [
    "# Binarize the predictions\n",
    "y_pred_proba_tune = np.where(y_pred_test_tune >= 0.5, 1, 0)  \n",
    "\n",
    "# Calculate roc_auc_score\n",
    "roc_auc_tune = roc_auc_score(y_test_2, y_pred_proba_tune)\n",
    "\n",
    "# Print evaluation\n",
    "print(f\"ROC AUC Score: {roc_auc_tune:.2f}\")\n",
    "print(f\"Evaluation: {evaluate_roc_auc(roc_auc_tune)}\")"
   ]
  },
  {
   "cell_type": "markdown",
   "metadata": {},
   "source": [
    "ROC AUC (0.83) means fair classification performance.\n",
    "The model is **good enough, but still can be improved**. \n",
    "However, it was slighly lower than when not doing tuning."
   ]
  },
  {
   "cell_type": "code",
   "execution_count": 289,
   "metadata": {},
   "outputs": [
    {
     "name": "stdout",
     "output_type": "stream",
     "text": [
      "F1 Score - Test Set   :  0.24689048910502198 \n",
      "\n",
      "Classification Report : \n",
      "               precision    recall  f1-score   support\n",
      "\n",
      "           0       0.99      0.78      0.87     35471\n",
      "           1       0.15      0.83      0.25      1592\n",
      "\n",
      "    accuracy                           0.78     37063\n",
      "   macro avg       0.57      0.80      0.56     37063\n",
      "weighted avg       0.95      0.78      0.85     37063\n",
      " \n",
      "\n",
      "Confusion Matrix      : \n",
      " <sklearn.metrics._plot.confusion_matrix.ConfusionMatrixDisplay object at 0x29711a0c0>\n"
     ]
    },
    {
     "data": {
      "image/png": "[encoded data removed]",
      "text/plain": [
       "<Figure size 640x480 with 2 Axes>"
      ]
     },
     "metadata": {},
     "output_type": "display_data"
    }
   ],
   "source": [
    "# Check Performance Model against Test-Set\n",
    "print('F1 Score - Test Set   : ', f1_score(y_test_2, y_pred_test_tune), '\\n')\n",
    "print('Classification Report : \\n', classification_report(y_test_2, y_pred_test_tune), '\\n')\n",
    "print('Confusion Matrix      : \\n', ConfusionMatrixDisplay.from_estimator(clf_grid, X_test_2, y_test_2, cmap='Reds'))"
   ]
  },
  {
   "cell_type": "markdown",
   "metadata": {},
   "source": [
    "The overall result of the confusion matrix is also slightly worse than without doing tuning."
   ]
  },
  {
   "cell_type": "markdown",
   "metadata": {},
   "source": [
    "# **ix. Model Saving**\n",
    "\n",
    "Since **the result without hyperparameter tuning is better**, we will save and use the one without it **for model inference**."
   ]
  },
  {
   "cell_type": "code",
   "execution_count": 290,
   "metadata": {},
   "outputs": [],
   "source": [
    "# Save model\n",
    "with open('model_pipeline.pkl','wb') as file_1: #wb = write binary\n",
    "    pickle.dump(model_pipeline,file_1)\n",
    "\n",
    "with open('preprocessing_pipeline.pkl','wb') as file_2: #wb = write binary\n",
    "    pickle.dump(preprocessing_pipeline,file_2)\n",
    "\n",
    "with open('cat_pipeline.pkl','wb') as file_3: #wb = write binary\n",
    "    pickle.dump(cat_pipeline,file_3)\n",
    "\n",
    "with open('num_pipeline.pkl','wb') as file_4: #wb = write binary\n",
    "    pickle.dump(num_pipeline,file_4)\n",
    "\n",
    "# Save cols\n",
    "with open('num_col.txt','w') as file_5: #w = write\n",
    "    json.dump(num_col,file_5)\n",
    "\n",
    "with open('cat_nominal_col.txt','w') as file_6: #w = write\n",
    "    json.dump(cat_nominal_col,file_6)"
   ]
  },
  {
   "cell_type": "markdown",
   "metadata": {},
   "source": [
    "# **x. Model Inference**\n",
    "\n",
    "> File: P1G5_yocia_meiko_inf.ipynb"
   ]
  },
  {
   "cell_type": "markdown",
   "metadata": {},
   "source": [
    "# **xi. Conclusion**"
   ]
  },
  {
   "cell_type": "markdown",
   "metadata": {},
   "source": [
    "Final conclusion of this project is that:\n",
    "\n",
    "- The model has a way better performance using more features in `dataset_2`.\n",
    "\n",
    "- We can say the final model is good-fit, looking at the ROC AUC score of 0.83, this is considered as **Fair**. \n",
    "\n",
    "- ROC AUC is a good metric since it shows the overall performance of the model, however, we can specifically focus on recall if we want to tackle a speicfic goal.\n",
    "\n",
    "- Since we want to predict if a visitor will make a purchase in the next visit or not, we will focus on the recall, as missing potential buyers will be a disadvantage more. (In marketing, we want to get as many potential buyers as possible, even if some turn out not purchasing).\n",
    "\n",
    "- After doing Hyperparamter Tuning, the overall result was lower than without doing it, with ROC AUC of 0.80. Hence, the model without tuning is used for model inference.\n",
    "\n",
    "Further Prediction Recommendation:\n",
    "\n",
    "- Handle the imbalance data better by tuning SMOTE, since it's result seemed to be really impacted by the data imbalance.\n",
    "\n",
    "Further Business Recommendation:\n",
    "\n",
    "- Focus on visitors from Google\n",
    "\n",
    "- Enhance SEO by writing blogs that are relevant to the target visitors, this can increase Organic Search if we target it correctly.\n",
    "\n",
    "- Enhance the UI/UX of desktop view, since desktop is the most common device used by our visitors."
   ]
  }
 ],
 "metadata": {
  "kernelspec": {
   "display_name": "base",
   "language": "python",
   "name": "python3"
  },
  "language_info": {
   "codemirror_mode": {
    "name": "ipython",
    "version": 3
   },
   "file_extension": ".py",
   "mimetype": "text/x-python",
   "name": "python",
   "nbconvert_exporter": "python",
   "pygments_lexer": "ipython3",
   "version": "3.12.4"
  }
 },
 "nbformat": 4,
 "nbformat_minor": 2
}
