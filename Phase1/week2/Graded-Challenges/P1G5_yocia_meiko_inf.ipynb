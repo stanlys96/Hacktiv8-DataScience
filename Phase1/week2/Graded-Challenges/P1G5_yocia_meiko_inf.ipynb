{
 "cells": [
  {
   "cell_type": "markdown",
   "metadata": {},
   "source": [
    "# Model Inference Website\n",
    "\n",
    "Nama: Yocia Meiko Oke  \n",
    "\n",
    "Batch: RMT-036  "
   ]
  },
  {
   "cell_type": "code",
   "execution_count": 1,
   "metadata": {},
   "outputs": [],
   "source": [
    "# Import libraries\n",
    "import pickle\n",
    "import json\n",
    "import pandas as pd \n",
    "import numpy as np"
   ]
  },
  {
   "cell_type": "code",
   "execution_count": 2,
   "metadata": {},
   "outputs": [],
   "source": [
    "# Load model\n",
    "with open('model_pipeline.pkl','rb') as file_1: #rb = read binary\n",
    "    model_pipeline = pickle.load(file_1)\n",
    "\n",
    "with open('preprocessing_pipeline.pkl','rb') as file_2: #rb = read binary\n",
    "    preprocessing_pipeline = pickle.load(file_2)\n",
    "\n",
    "with open('cat_pipeline.pkl','rb') as file_3: #rb = read binary\n",
    "    cat_pipeline = pickle.load(file_3)\n",
    "\n",
    "with open('num_pipeline.pkl','rb') as file_4: #rb = read binary\n",
    "    num_pipeline = pickle.load(file_4)\n",
    "\n",
    "# Load cols\n",
    "with open('num_col.txt','r') as file_5: #r = read\n",
    "    num_col = json.load(file_5)\n",
    "\n",
    "with open('cat_nominal_col.txt','r') as file_6: #r = read\n",
    "    cat_nominal_col = json.load(file_6)"
   ]
  },
  {
   "cell_type": "code",
   "execution_count": 3,
   "metadata": {},
   "outputs": [],
   "source": [
    "# Create data inference\n",
    "df_inf = { \n",
    "       'latest_ecommerce_progress': [5,4], \n",
    "       'bounces': [0,0], \n",
    "       'time_on_site': [2489, 436], \n",
    "       'pageviews': [30, 50], \n",
    "       'source': ['google','google'],\n",
    "       'medium': ['organic', 'referral'],\n",
    "       'channelGrouping': ['Organic Search','Organic Search'],\n",
    "       'deviceCategory': ['desktop', 'desktop'],\n",
    "       'country': ['Canada',np.nan]\n",
    "       }\n",
    "\n",
    "df_inf = pd.DataFrame(df_inf)"
   ]
  },
  {
   "cell_type": "code",
   "execution_count": 4,
   "metadata": {},
   "outputs": [],
   "source": [
    "df_inf.drop(['medium'], axis=1, inplace=True)"
   ]
  },
  {
   "cell_type": "code",
   "execution_count": 5,
   "metadata": {},
   "outputs": [],
   "source": [
    "df_inf['pageviews'] = df_inf['pageviews'].astype(float)"
   ]
  },
  {
   "cell_type": "code",
   "execution_count": 6,
   "metadata": {},
   "outputs": [
    {
     "data": {
      "text/html": [
       "<div>\n",
       "<style scoped>\n",
       "    .dataframe tbody tr th:only-of-type {\n",
       "        vertical-align: middle;\n",
       "    }\n",
       "\n",
       "    .dataframe tbody tr th {\n",
       "        vertical-align: top;\n",
       "    }\n",
       "\n",
       "    .dataframe thead th {\n",
       "        text-align: right;\n",
       "    }\n",
       "</style>\n",
       "<table border=\"1\" class=\"dataframe\">\n",
       "  <thead>\n",
       "    <tr style=\"text-align: right;\">\n",
       "      <th></th>\n",
       "      <th>latest_ecommerce_progress</th>\n",
       "      <th>bounces</th>\n",
       "      <th>time_on_site</th>\n",
       "      <th>pageviews</th>\n",
       "      <th>source</th>\n",
       "      <th>channelGrouping</th>\n",
       "      <th>deviceCategory</th>\n",
       "      <th>country</th>\n",
       "    </tr>\n",
       "  </thead>\n",
       "  <tbody>\n",
       "    <tr>\n",
       "      <th>0</th>\n",
       "      <td>5</td>\n",
       "      <td>0</td>\n",
       "      <td>2489</td>\n",
       "      <td>30.0</td>\n",
       "      <td>google</td>\n",
       "      <td>Organic Search</td>\n",
       "      <td>desktop</td>\n",
       "      <td>Canada</td>\n",
       "    </tr>\n",
       "    <tr>\n",
       "      <th>1</th>\n",
       "      <td>4</td>\n",
       "      <td>0</td>\n",
       "      <td>436</td>\n",
       "      <td>50.0</td>\n",
       "      <td>google</td>\n",
       "      <td>Organic Search</td>\n",
       "      <td>desktop</td>\n",
       "      <td>NaN</td>\n",
       "    </tr>\n",
       "  </tbody>\n",
       "</table>\n",
       "</div>"
      ],
      "text/plain": [
       "   latest_ecommerce_progress  bounces  time_on_site  pageviews  source  \\\n",
       "0                          5        0          2489       30.0  google   \n",
       "1                          4        0           436       50.0  google   \n",
       "\n",
       "  channelGrouping deviceCategory country  \n",
       "0  Organic Search        desktop  Canada  \n",
       "1  Organic Search        desktop     NaN  "
      ]
     },
     "execution_count": 6,
     "metadata": {},
     "output_type": "execute_result"
    }
   ],
   "source": [
    "df_inf"
   ]
  },
  {
   "cell_type": "code",
   "execution_count": 7,
   "metadata": {},
   "outputs": [
    {
     "name": "stdout",
     "output_type": "stream",
     "text": [
      "[0 0]\n"
     ]
    }
   ],
   "source": [
    "# predict\n",
    "result = model_pipeline.predict(df_inf)\n",
    "print(result)"
   ]
  },
  {
   "cell_type": "markdown",
   "metadata": {},
   "source": [
    "Prediction for both data point is 0, meaning that **they both will not turn into a conversion (will not buy in the return visit)**."
   ]
  }
 ],
 "metadata": {
  "kernelspec": {
   "display_name": "base",
   "language": "python",
   "name": "python3"
  },
  "language_info": {
   "codemirror_mode": {
    "name": "ipython",
    "version": 3
   },
   "file_extension": ".py",
   "mimetype": "text/x-python",
   "name": "python",
   "nbconvert_exporter": "python",
   "pygments_lexer": "ipython3",
   "version": "3.12.4"
  }
 },
 "nbformat": 4,
 "nbformat_minor": 2
}
