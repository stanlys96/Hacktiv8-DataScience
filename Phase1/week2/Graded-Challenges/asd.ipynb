{
 "cells": [
  {
   "cell_type": "code",
   "execution_count": 1,
   "metadata": {},
   "outputs": [
    {
     "name": "stdout",
     "output_type": "stream",
     "text": [
      "Missing weeks: [datetime.datetime(2022, 3, 27, 0, 0), datetime.datetime(2022, 4, 3, 0, 0), datetime.datetime(2022, 4, 10, 0, 0), datetime.datetime(2022, 4, 17, 0, 0), datetime.datetime(2022, 4, 24, 0, 0), datetime.datetime(2022, 5, 1, 0, 0), datetime.datetime(2022, 5, 8, 0, 0), datetime.datetime(2022, 5, 15, 0, 0), datetime.datetime(2022, 5, 22, 0, 0), datetime.datetime(2022, 5, 29, 0, 0), datetime.datetime(2022, 6, 5, 0, 0), datetime.datetime(2022, 6, 12, 0, 0), datetime.datetime(2022, 6, 19, 0, 0), datetime.datetime(2022, 6, 26, 0, 0), datetime.datetime(2022, 7, 3, 0, 0), datetime.datetime(2022, 7, 10, 0, 0), datetime.datetime(2022, 7, 17, 0, 0), datetime.datetime(2022, 7, 24, 0, 0), datetime.datetime(2022, 7, 31, 0, 0), datetime.datetime(2022, 8, 7, 0, 0), datetime.datetime(2022, 8, 14, 0, 0), datetime.datetime(2022, 8, 21, 0, 0), datetime.datetime(2022, 8, 28, 0, 0), datetime.datetime(2022, 9, 4, 0, 0), datetime.datetime(2022, 9, 11, 0, 0), datetime.datetime(2022, 9, 18, 0, 0), datetime.datetime(2022, 9, 25, 0, 0), datetime.datetime(2022, 10, 2, 0, 0), datetime.datetime(2022, 10, 9, 0, 0), datetime.datetime(2022, 10, 16, 0, 0), datetime.datetime(2022, 10, 23, 0, 0), datetime.datetime(2022, 10, 30, 0, 0), datetime.datetime(2022, 11, 6, 0, 0), datetime.datetime(2022, 11, 13, 0, 0), datetime.datetime(2022, 11, 20, 0, 0), datetime.datetime(2022, 11, 27, 0, 0), datetime.datetime(2022, 12, 4, 0, 0), datetime.datetime(2022, 12, 11, 0, 0), datetime.datetime(2022, 12, 18, 0, 0), datetime.datetime(2022, 12, 25, 0, 0), datetime.datetime(2023, 1, 1, 0, 0), datetime.datetime(2023, 1, 8, 0, 0), datetime.datetime(2023, 1, 15, 0, 0), datetime.datetime(2023, 1, 22, 0, 0), datetime.datetime(2023, 1, 29, 0, 0), datetime.datetime(2023, 2, 5, 0, 0), datetime.datetime(2023, 2, 12, 0, 0), datetime.datetime(2023, 2, 19, 0, 0), datetime.datetime(2023, 2, 26, 0, 0), datetime.datetime(2023, 3, 5, 0, 0), datetime.datetime(2023, 3, 12, 0, 0), datetime.datetime(2023, 3, 19, 0, 0), datetime.datetime(2023, 3, 26, 0, 0), datetime.datetime(2023, 4, 2, 0, 0), datetime.datetime(2023, 4, 9, 0, 0), datetime.datetime(2023, 4, 16, 0, 0), datetime.datetime(2023, 4, 23, 0, 0), datetime.datetime(2023, 4, 30, 0, 0), datetime.datetime(2023, 5, 7, 0, 0), datetime.datetime(2023, 5, 14, 0, 0), datetime.datetime(2023, 5, 21, 0, 0), datetime.datetime(2023, 5, 28, 0, 0), datetime.datetime(2023, 6, 4, 0, 0), datetime.datetime(2023, 6, 11, 0, 0), datetime.datetime(2023, 6, 18, 0, 0), datetime.datetime(2023, 6, 25, 0, 0), datetime.datetime(2023, 7, 2, 0, 0), datetime.datetime(2023, 7, 9, 0, 0), datetime.datetime(2023, 7, 16, 0, 0), datetime.datetime(2023, 7, 23, 0, 0), datetime.datetime(2023, 7, 30, 0, 0), datetime.datetime(2023, 8, 6, 0, 0), datetime.datetime(2023, 8, 13, 0, 0), datetime.datetime(2023, 8, 20, 0, 0), datetime.datetime(2023, 8, 27, 0, 0), datetime.datetime(2023, 9, 3, 0, 0), datetime.datetime(2023, 9, 10, 0, 0), datetime.datetime(2023, 9, 17, 0, 0), datetime.datetime(2023, 9, 24, 0, 0), datetime.datetime(2023, 10, 1, 0, 0), datetime.datetime(2023, 10, 8, 0, 0), datetime.datetime(2023, 10, 15, 0, 0), datetime.datetime(2023, 10, 22, 0, 0), datetime.datetime(2023, 10, 29, 0, 0), datetime.datetime(2023, 11, 5, 0, 0), datetime.datetime(2023, 11, 12, 0, 0), datetime.datetime(2023, 11, 19, 0, 0), datetime.datetime(2023, 11, 26, 0, 0), datetime.datetime(2023, 12, 3, 0, 0), datetime.datetime(2023, 12, 10, 0, 0), datetime.datetime(2023, 12, 17, 0, 0), datetime.datetime(2023, 12, 24, 0, 0), datetime.datetime(2023, 12, 31, 0, 0), datetime.datetime(2024, 1, 7, 0, 0), datetime.datetime(2024, 1, 14, 0, 0), datetime.datetime(2024, 1, 21, 0, 0), datetime.datetime(2024, 1, 28, 0, 0), datetime.datetime(2024, 2, 4, 0, 0), datetime.datetime(2024, 2, 11, 0, 0), datetime.datetime(2024, 2, 18, 0, 0), datetime.datetime(2024, 2, 25, 0, 0), datetime.datetime(2024, 3, 3, 0, 0), datetime.datetime(2024, 3, 10, 0, 0), datetime.datetime(2024, 3, 17, 0, 0), datetime.datetime(2024, 3, 24, 0, 0), datetime.datetime(2024, 3, 31, 0, 0), datetime.datetime(2024, 4, 7, 0, 0), datetime.datetime(2024, 4, 14, 0, 0), datetime.datetime(2024, 4, 21, 0, 0), datetime.datetime(2024, 4, 28, 0, 0), datetime.datetime(2024, 5, 5, 0, 0), datetime.datetime(2024, 5, 12, 0, 0), datetime.datetime(2024, 5, 19, 0, 0), datetime.datetime(2024, 5, 26, 0, 0), datetime.datetime(2024, 6, 2, 0, 0), datetime.datetime(2024, 6, 9, 0, 0), datetime.datetime(2024, 6, 16, 0, 0), datetime.datetime(2024, 6, 23, 0, 0), datetime.datetime(2024, 6, 30, 0, 0), datetime.datetime(2024, 7, 7, 0, 0), datetime.datetime(2024, 7, 14, 0, 0), datetime.datetime(2024, 7, 21, 0, 0), datetime.datetime(2024, 7, 28, 0, 0), datetime.datetime(2024, 8, 4, 0, 0), datetime.datetime(2024, 8, 11, 0, 0), datetime.datetime(2024, 8, 18, 0, 0)]\n"
     ]
    }
   ],
   "source": [
    "from datetime import timedelta, datetime\n",
    "\n",
    "# Define the start and end dates\n",
    "start_date = datetime(2022, 3, 27)\n",
    "end_date = datetime(2024, 8, 18)\n",
    "\n",
    "# Generate a list of all expected weekly dates\n",
    "expected_weeks = []\n",
    "current_date = start_date\n",
    "while current_date <= end_date:\n",
    "    expected_weeks.append(current_date)\n",
    "    current_date += timedelta(weeks=1)\n",
    "\n",
    "# Actual list of dates from the dataset (example)\n",
    "actual_weeks = [\n",
    "    # List of actual dates from your dataset\n",
    "    # datetime(2022, 3, 27), datetime(2022, 4, 3), ... up to your actual data points\n",
    "]\n",
    "\n",
    "# Find the missing weeks\n",
    "missing_weeks = [date for date in expected_weeks if date not in actual_weeks]\n",
    "\n",
    "# Print the missing weeks\n",
    "print(\"Missing weeks:\", missing_weeks)"
   ]
  }
 ],
 "metadata": {
  "kernelspec": {
   "display_name": ".venv",
   "language": "python",
   "name": "python3"
  },
  "language_info": {
   "codemirror_mode": {
    "name": "ipython",
    "version": 3
   },
   "file_extension": ".py",
   "mimetype": "text/x-python",
   "name": "python",
   "nbconvert_exporter": "python",
   "pygments_lexer": "ipython3",
   "version": "3.9.6"
  }
 },
 "nbformat": 4,
 "nbformat_minor": 2
}
