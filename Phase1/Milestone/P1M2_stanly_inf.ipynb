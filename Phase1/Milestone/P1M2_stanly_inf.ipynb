{
 "cells": [
  {
   "cell_type": "markdown",
   "metadata": {},
   "source": [
    "# Model Inference\n",
    "\n",
    "Nama: Stanly Sukmajaya\n",
    "\n",
    "Batch: RMT-036  "
   ]
  },
  {
   "cell_type": "code",
   "execution_count": 10,
   "metadata": {},
   "outputs": [],
   "source": [
    "# Import libraries\n",
    "import pickle\n",
    "import json\n",
    "import pandas as pd \n",
    "import warnings\n",
    "warnings.filterwarnings('ignore') # turn off warning"
   ]
  },
  {
   "cell_type": "code",
   "execution_count": 11,
   "metadata": {},
   "outputs": [],
   "source": [
    "# Save model\n",
    "with open('model_pipeline.pkl','rb') as file_1: #rb = read binary\n",
    "    model_pipeline = pickle.load(file_1)\n",
    "\n",
    "with open('preprocessing_pipeline.pkl','rb') as file_2: #rb = read binary\n",
    "    preprocessing_pipeline = pickle.load(file_2)\n",
    "\n",
    "with open('cat_nominal_pipeline.pkl','rb') as file_3: #rb = read binary\n",
    "    cat_nominal_pipeline = pickle.load(file_3)\n",
    "\n",
    "with open('cat_ordinal_pipeline.pkl','rb') as file_4: #rb = read binary\n",
    "    cat_ordinal_pipeline = pickle.load(file_4)\n",
    "\n",
    "with open('num_pipeline.pkl','rb') as file_5: #rb = read binary\n",
    "    num_pipeline = pickle.load(file_5)\n",
    "\n",
    "# Save cols\n",
    "with open('numerical_col.txt','r') as file_6: #r = read\n",
    "    numerical_columns = json.load(file_6)\n",
    "\n",
    "with open('cat_nominal_col.txt','r') as file_7: #r = read\n",
    "    cat_nominal_columns = json.load(file_7)\n",
    "\n",
    "with open('cat_ordinal_col.txt','r') as file_8: #r = read\n",
    "    cat_ordinal_columns = json.load(file_8)"
   ]
  },
  {
   "cell_type": "code",
   "execution_count": 12,
   "metadata": {},
   "outputs": [],
   "source": [
    "df_inf = {\n",
    "    'Employee_ID': ['EMP1293', 'EMP3546'],\n",
    "    'Age': [27, 38],\n",
    "    'Gender': ['Non-binary', 'Male'],\n",
    "    'Job_Role': ['HR', 'Data Scientist'],\n",
    "    'Industry': ['Consulting', 'IT'],\n",
    "    'Years_of_Experience': [16, 10],\n",
    "    'Work_Location': ['Onsite', 'Remote'],\n",
    "    'Hours_Worked_Per_Week': [39, 70],\n",
    "    'Number_of_Virtual_Meetings': [3, 10],\n",
    "    'Work_Life_Balance_Rating': [1, 1],\n",
    "    'Mental_Health_Condition': ['Depression', 'Burnout'],\n",
    "    'Access_to_Mental_Health_Resources': ['No', 'No'],\n",
    "    'Productivity_Change': ['Increase', 'Increase'],\n",
    "    'Social_Isolation_Rating': [1, 5],\n",
    "    'Satisfaction_with_Remote_Work': ['Satisfied', 'Satisfied'],\n",
    "    'Company_Support_for_Remote_Work': [2, 4],\n",
    "    'Physical_Activity': ['Daily', 'Weekly'],\n",
    "    'Sleep_Quality': ['Good', 'Poor'],\n",
    "    'Region': ['Europe', 'Asia']\n",
    "}\n",
    "\n",
    "df_inf = pd.DataFrame(df_inf)\n",
    "df_inf.drop(['Employee_ID'], axis=1, inplace=True)"
   ]
  },
  {
   "cell_type": "code",
   "execution_count": 13,
   "metadata": {},
   "outputs": [
    {
     "data": {
      "text/html": [
       "<div>\n",
       "<style scoped>\n",
       "    .dataframe tbody tr th:only-of-type {\n",
       "        vertical-align: middle;\n",
       "    }\n",
       "\n",
       "    .dataframe tbody tr th {\n",
       "        vertical-align: top;\n",
       "    }\n",
       "\n",
       "    .dataframe thead th {\n",
       "        text-align: right;\n",
       "    }\n",
       "</style>\n",
       "<table border=\"1\" class=\"dataframe\">\n",
       "  <thead>\n",
       "    <tr style=\"text-align: right;\">\n",
       "      <th></th>\n",
       "      <th>Age</th>\n",
       "      <th>Gender</th>\n",
       "      <th>Job_Role</th>\n",
       "      <th>Industry</th>\n",
       "      <th>Years_of_Experience</th>\n",
       "      <th>Work_Location</th>\n",
       "      <th>Hours_Worked_Per_Week</th>\n",
       "      <th>Number_of_Virtual_Meetings</th>\n",
       "      <th>Work_Life_Balance_Rating</th>\n",
       "      <th>Mental_Health_Condition</th>\n",
       "      <th>Access_to_Mental_Health_Resources</th>\n",
       "      <th>Productivity_Change</th>\n",
       "      <th>Social_Isolation_Rating</th>\n",
       "      <th>Satisfaction_with_Remote_Work</th>\n",
       "      <th>Company_Support_for_Remote_Work</th>\n",
       "      <th>Physical_Activity</th>\n",
       "      <th>Sleep_Quality</th>\n",
       "      <th>Region</th>\n",
       "    </tr>\n",
       "  </thead>\n",
       "  <tbody>\n",
       "    <tr>\n",
       "      <th>0</th>\n",
       "      <td>27</td>\n",
       "      <td>Non-binary</td>\n",
       "      <td>HR</td>\n",
       "      <td>Consulting</td>\n",
       "      <td>16</td>\n",
       "      <td>Onsite</td>\n",
       "      <td>39</td>\n",
       "      <td>3</td>\n",
       "      <td>1</td>\n",
       "      <td>Depression</td>\n",
       "      <td>No</td>\n",
       "      <td>Increase</td>\n",
       "      <td>1</td>\n",
       "      <td>Satisfied</td>\n",
       "      <td>2</td>\n",
       "      <td>Daily</td>\n",
       "      <td>Good</td>\n",
       "      <td>Europe</td>\n",
       "    </tr>\n",
       "    <tr>\n",
       "      <th>1</th>\n",
       "      <td>38</td>\n",
       "      <td>Male</td>\n",
       "      <td>Data Scientist</td>\n",
       "      <td>IT</td>\n",
       "      <td>10</td>\n",
       "      <td>Remote</td>\n",
       "      <td>70</td>\n",
       "      <td>10</td>\n",
       "      <td>1</td>\n",
       "      <td>Burnout</td>\n",
       "      <td>No</td>\n",
       "      <td>Increase</td>\n",
       "      <td>5</td>\n",
       "      <td>Satisfied</td>\n",
       "      <td>4</td>\n",
       "      <td>Weekly</td>\n",
       "      <td>Poor</td>\n",
       "      <td>Asia</td>\n",
       "    </tr>\n",
       "  </tbody>\n",
       "</table>\n",
       "</div>"
      ],
      "text/plain": [
       "   Age      Gender        Job_Role    Industry  Years_of_Experience  \\\n",
       "0   27  Non-binary              HR  Consulting                   16   \n",
       "1   38        Male  Data Scientist          IT                   10   \n",
       "\n",
       "  Work_Location  Hours_Worked_Per_Week  Number_of_Virtual_Meetings  \\\n",
       "0        Onsite                     39                           3   \n",
       "1        Remote                     70                          10   \n",
       "\n",
       "   Work_Life_Balance_Rating Mental_Health_Condition  \\\n",
       "0                         1              Depression   \n",
       "1                         1                 Burnout   \n",
       "\n",
       "  Access_to_Mental_Health_Resources Productivity_Change  \\\n",
       "0                                No            Increase   \n",
       "1                                No            Increase   \n",
       "\n",
       "   Social_Isolation_Rating Satisfaction_with_Remote_Work  \\\n",
       "0                        1                     Satisfied   \n",
       "1                        5                     Satisfied   \n",
       "\n",
       "   Company_Support_for_Remote_Work Physical_Activity Sleep_Quality  Region  \n",
       "0                                2             Daily          Good  Europe  \n",
       "1                                4            Weekly          Poor    Asia  "
      ]
     },
     "execution_count": 13,
     "metadata": {},
     "output_type": "execute_result"
    }
   ],
   "source": [
    "df_inf"
   ]
  },
  {
   "cell_type": "code",
   "execution_count": 14,
   "metadata": {},
   "outputs": [
    {
     "name": "stdout",
     "output_type": "stream",
     "text": [
      "[0, 2]\n"
     ]
    }
   ],
   "source": [
    "# predict\n",
    "result = model_pipeline.predict(df_inf)\n",
    "print(result.tolist())"
   ]
  },
  {
   "cell_type": "markdown",
   "metadata": {},
   "source": [
    "The prediction for the first employee is 0, which means that the employee EMP1293 has `low` stress level, while the second employee is predicted to be 2, which means that the employee EMP3546 has `high` stress level."
   ]
  }
 ],
 "metadata": {
  "kernelspec": {
   "display_name": ".venv",
   "language": "python",
   "name": "python3"
  },
  "language_info": {
   "codemirror_mode": {
    "name": "ipython",
    "version": 3
   },
   "file_extension": ".py",
   "mimetype": "text/x-python",
   "name": "python",
   "nbconvert_exporter": "python",
   "pygments_lexer": "ipython3",
   "version": "3.12.2"
  }
 },
 "nbformat": 4,
 "nbformat_minor": 2
}
